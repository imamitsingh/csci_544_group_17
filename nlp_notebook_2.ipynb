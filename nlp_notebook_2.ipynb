{
  "cells": [
    {
      "cell_type": "code",
      "execution_count": null,
      "metadata": {
        "colab": {
          "base_uri": "https://localhost:8080/"
        },
        "id": "zpebXD70TcFC",
        "outputId": "aeaecde8-4e1f-47a3-896b-305ef4544134"
      },
      "outputs": [
        {
          "output_type": "stream",
          "name": "stdout",
          "text": [
            "Looking in indexes: https://pypi.org/simple, https://us-python.pkg.dev/colab-wheels/public/simple/\n",
            "Collecting contractions\n",
            "  Downloading contractions-0.1.73-py2.py3-none-any.whl (8.7 kB)\n",
            "Collecting textsearch>=0.0.21\n",
            "  Downloading textsearch-0.0.24-py2.py3-none-any.whl (7.6 kB)\n",
            "Collecting anyascii\n",
            "  Downloading anyascii-0.3.1-py3-none-any.whl (287 kB)\n",
            "\u001b[K     |████████████████████████████████| 287 kB 19.3 MB/s \n",
            "\u001b[?25hCollecting pyahocorasick\n",
            "  Downloading pyahocorasick-1.4.4-cp37-cp37m-manylinux_2_17_x86_64.manylinux2014_x86_64.whl (106 kB)\n",
            "\u001b[K     |████████████████████████████████| 106 kB 64.7 MB/s \n",
            "\u001b[?25hInstalling collected packages: pyahocorasick, anyascii, textsearch, contractions\n",
            "Successfully installed anyascii-0.3.1 contractions-0.1.73 pyahocorasick-1.4.4 textsearch-0.0.24\n"
          ]
        },
        {
          "output_type": "stream",
          "name": "stderr",
          "text": [
            "[nltk_data] Downloading package wordnet to /root/nltk_data...\n"
          ]
        },
        {
          "output_type": "execute_result",
          "data": {
            "text/plain": [
              "True"
            ]
          },
          "metadata": {},
          "execution_count": 2
        }
      ],
      "source": [
        "!pip install contractions\n",
        "import pandas as pd\n",
        "import os\n",
        "import warnings\n",
        "import re\n",
        "import contractions\n",
        "import nltk\n",
        "warnings.filterwarnings(\"ignore\", category=FutureWarning)\n",
        "import re\n",
        "from bs4 import BeautifulSoup\n",
        "nltk.download('wordnet')"
      ]
    },
    {
      "cell_type": "code",
      "execution_count": null,
      "metadata": {
        "colab": {
          "base_uri": "https://localhost:8080/"
        },
        "id": "z-j3OqlmVWG_",
        "outputId": "0f6aaeff-bbef-48a6-db13-17396f782dde"
      },
      "outputs": [
        {
          "output_type": "stream",
          "name": "stdout",
          "text": [
            "Mounted at /content/gdrive\n"
          ]
        }
      ],
      "source": [
        "from google.colab import drive\n",
        "drive.mount('/content/gdrive')"
      ]
    },
    {
      "cell_type": "code",
      "execution_count": null,
      "metadata": {
        "id": "JQlDCnmFVCUv"
      },
      "outputs": [],
      "source": [
        "# amazon_reviews_data=pd.read_csv('/content/gdrive/MyDrive/Colab Notebooks/amazon_reviews_us_Jewelry_v1_00.tsv',sep='\\t',on_bad_lines='skip')\n",
        "# amazon_reviews_data.head()\n",
        "path = \"/content/gdrive/MyDrive/Colab Notebooks/data/data/\"\n",
        "#path = \"/content/gdrive/MyDrive/group_17/data\"\n",
        "dir_list = os.listdir(path)\n",
        "pd.set_option('display.max_colwidth', None)"
      ]
    },
    {
      "cell_type": "code",
      "execution_count": null,
      "metadata": {
        "id": "2pKI1CVgYI0C"
      },
      "outputs": [],
      "source": [
        "all_lines_list=list()\n",
        "labels_list=list()\n",
        "for filename in dir_list:\n",
        "    file_extension_val=filename.split('.')\n",
        "    file_extension=file_extension_val[1]\n",
        "    if(file_extension=='txt'):\n",
        "        label=filename.split('_')\n",
        "        label=label[2]\n",
        "        label=label.split('.')\n",
        "        label=label[0]\n",
        "        labels_list.append(label)\n",
        "        # with open(\"/content/gdrive/MyDrive/Colab Notebooks/data/data/\"+filename, encoding='unicode_escape') as file_ptr:\n",
        "        with open(path + \"/\" + filename, encoding='utf-8') as file_ptr:\n",
        "            lines_temp = list()\n",
        "            for line in file_ptr:\n",
        "                if(line.strip()!=\"-----------------------------\"):\n",
        "                    lines_temp.append(line)\n",
        "            all_lines_list.append(lines_temp)"
      ]
    },
    {
      "cell_type": "code",
      "execution_count": null,
      "metadata": {
        "id": "j3qe0M-QZuz6"
      },
      "outputs": [],
      "source": [
        "df_posts=pd.DataFrame()\n",
        "labels_global_list=list()\n",
        "label_index=0\n",
        "for lst in all_lines_list:\n",
        "    df_temp = pd.DataFrame(lst)\n",
        "    df_posts=df_posts.append(df_temp,ignore_index=True,)\n",
        "#     label_length=len(lst)\n",
        "    for i in range(len(lst)):\n",
        "        labels_global_list.append(labels_list[label_index])\n",
        "    label_index=label_index+1\n",
        "    \n",
        "df_labels = pd.DataFrame(labels_global_list)"
      ]
    },
    {
      "cell_type": "code",
      "execution_count": null,
      "metadata": {
        "colab": {
          "base_uri": "https://localhost:8080/",
          "height": 849
        },
        "id": "fNWkCeKvZx5Z",
        "outputId": "6b19cfc7-405c-4688-a0d0-ccdee3ae25df"
      },
      "outputs": [
        {
          "output_type": "execute_result",
          "data": {
            "text/plain": [
              "                                                                                                                                                                                                                                                                                                                                                                                                                                                                                                                                                                                                                                                                                                                                                                                                                                                                                                                                                                                                                                                                                                                                                                                                                                                                                                                                                                                                                                                           0\n",
              "0                                                                                                                                                                                                                                                                                                                                                                                                                                                                                                                                                                                                                                                                                                                                                                                                                                                                                                                                                                                                                                                                                                                                                          Let our Experienced Techno-Functional Teams Support your existing #Applications while you focus on your New initiatives and #Innovations.  Globally based #Offshore, Hybrid or Onsite.  #applicationdevelopment #technicalsupport #apolis #nearshore #itmanangedservice #managedserviceprovider\\n\n",
              "1                                                                                                                                                                                                                                                                                                                                                                                                                                                                                                                                                                                                                                                                                                                                                                                              Personally, I strongly support activists and I even admire their activities (send petitions to the government & Parliament, or peacefully protest outside Westminster). However, I do not support blocking roads to demand changes, as this action does not convince people. Instead, it makes people feel absurd and annoying, especially when someone is in emergency and they want to go to hospital for treatment immediately. In case they could not get treatment on time, their life will be at risk and protesters who blocks roads will have to take responsibility for their actions. #protests Just Stop Oil: What is it and what are its goals?\\n\n",
              "2                                                                                                                                                                                                                                                                                                                                                                                                                                                                                                                                                                                                                                                                                                                                                                                                                                                                            Let’s not be hoodwinked by Just StopOil’s ill-considered ‘Remembrance’ comment They stopped because they’ve alienated the very people they need to support them, and a grown up in the group has realised thatIt’s a perfect example of not thinking through the consequences of actions - a total lack of risk management or awareness Maybe they’ll think through their approaches in future and make them more targeted?What do people think would be an effective way for them to protest?#juststopoil #riskmanagement #protests Just Stop Oil: M25 protests to be halted\\n\n",
              "3                                                                                                                                                                                                                                                                                                                                                                                                                                                                                                                                                                                                                                                                                                                                                                                                                                                                                                                                                                                      What is the fallout from another morning of protests on the M25? Massive disruption across North West Kent - it's not just the motorway affected. This is the traffic through the usually sleepy Hamlet of Bean; just off the Bluewater junction from the A2. Do 'Just Stop Oil' have a justifiable right to cause this mayhem? Or are their methods alienating people that could help them influence MPs?#juststopoil #protests #traffic #m25 #northwestkent #kent\\n\n",
              "4                                                                                                                                                                                                                                                                                                                                                                                                                                                                                                                                                                                                                                                                                                                                                                                                                                                                                                                                                                                                                                                                                                                                                                                            Given the forthcoming general election in Nigeria, how much youth participation are you witnessing, especially with the lingering emotions from the EndSars protest.Do you think Nigerian youths are ready to make 2023 count? #nigeria #governance #protests\\n\n",
              "...                                                                                                                                                                                                                                                                                                                                                                                                                                                                                                                                                                                                                                                                                                                                                                                                                                                                                                                                                                                                                                                                                                                                                                                                                                                                                                                                                                                                                                                      ...\n",
              "16742                                                                                                                                                                                                                                                                                                                                                                                                                                                                                                                                                                                                                                                                                                                                                                                                                                                                                                                                                                                                              🤔 Le bilan de compétence est-il suffisant pour créer un nouveau projet professionnel?Quelques éléments de réponse dans ma video:  L'aspect mental et émotionnel de l'individu est au cœur d'un changement de carrière réussi!Amandine#wellbeing #coaching #developpementpersonnel #transition #impactpositif #pnl #nlp #travail #healthymindset #carrière #reconversionprofessionnelle #bilandecompetences #entreprise #motivation #job\\n\n",
              "16743                                                                                                                                                                                                                                                                                                                                                                                                                                                                                                                                                                                                                                                                                                                                                                                                                                                                                                                                                           Monday Motivation Healthy food for Energy boosting. * Bananas * Avocados * Eggs * Yogurt * Nuts * Berries * Apples * Oatmeal * BeansLearn about my Health Makeover Program and schedule a Free 20 minute consultation …https://lnkd.in/emtdmMQD.#eatcleanbevital #putyourselffirst #healthcoach #healthylifestyle #healthyfood #healthy #wellnesscoach #hardworkingwomen#nutritioncoach #lifestylechange #nutureyourself #holistichealth #healthymindset #healthyhabits #womensempowerment\\n\n",
              "16744  It’s Day #28 of our 2nd Annual “Can We Laugh at Cancer?” Comedy Challenge. Rating Warning: Language and Concept. This is a very atypical joke for us. I was asked to write 4 more intense cancer-centric jokes (of 31 posts) for people who like more raw humor.My Story Behind The Joke: This is my most risque joke but it is true… My husband does not care.Next Steps: DM your email if you want to be notified of our upcoming ComedyCures research study and my Fall podcast launch.⁠⁠Please LIKE and SHARE this comedy post. Please also consider a donation to The ComedyCures Foundation to support our free, live and digital, award-winning therapeutic ComedyCures programming for patients, caregivers, and healthcare workers.⁠⁠Tell everyone to follow @comedycures and @sarannelive⁠⁠To learn more about my stage IV cancer story, ComedyCures programs or to donate: visit www.ComedyCures.org or click the link in our bio!⁠⁠#ComedyCures #HealthyMindset #ComicRelief⁠ #HumorHeals #DailyFunny #FindingTheFunny #CancerHumor⁠⁠ #CancerComedian #CancerComedy #Oncology #CancerSupport #CancerSurvivor #MetastaticCancer #CancerWarrior #BreastCancer #CancerAwareness #CancerProgram #womenshealthcoach #stage4cancer #womenshealthcare #womenshealthmagazine #CancerSupportCommunity #womenwithcancer #momswithcancer #1888HaHaHaHa #ComedyCuresLaughLine #Psychoneuroimmunology #CancerResearch #ResearchStudy #HealthCareHero\\n\n",
              "16745                                                                                                                                                                                                                                                                                                                                                                                                                                                                                                                                                                                                                                                                                                                                                                                                                                                                                                                                                                                                                                                                                   Check your Lung Capacity in 1 min#FitnessFight#FatLossFun #GetFitAtHome #FitnessAtHome #LoseWeightAtHome #LosingWeightAtHome #Gethealthy #WeightLossChallenge #FatLossChallenge #InchLossChallenge #WajanGhatao #PetKamKaro #FitRaho #6PackAbs #WorkoutFromHome #IntentionalLiving #HealthyYou #FatFreeLife #FitnessMindset #HealthyMindset #LooseWeightGainHealth\\n\n",
              "16746                                                                                                                                                                                                                                                                                                                                                                                                                                                                                                                                                                                                                                                                                                                                                                                                                                                                                                                                                                                           Many people find it difficult to start doing workouts. Tell me your reason behind it & I'll tell you how to overcome it 😀#FitnessFight#FatLossFun #GetFitAtHome #FitnessAtHome #LoseWeightAtHome #LosingWeightAtHome #Gethealthy #WeightLossChallenge #FatLossChallenge #InchLossChallenge #WajanGhatao #PetKamKaro #FitRaho #6PackAbs #WorkoutFromHome #IntentionalLiving #HealthyYou #FatFreeLife #FitnessMindset #HealthyMindset #LooseWeightGainHealth\\n\n",
              "\n",
              "[16747 rows x 1 columns]"
            ],
            "text/html": [
              "\n",
              "  <div id=\"df-ce9413c2-5765-4d55-a790-7d40dfdf1e3c\">\n",
              "    <div class=\"colab-df-container\">\n",
              "      <div>\n",
              "<style scoped>\n",
              "    .dataframe tbody tr th:only-of-type {\n",
              "        vertical-align: middle;\n",
              "    }\n",
              "\n",
              "    .dataframe tbody tr th {\n",
              "        vertical-align: top;\n",
              "    }\n",
              "\n",
              "    .dataframe thead th {\n",
              "        text-align: right;\n",
              "    }\n",
              "</style>\n",
              "<table border=\"1\" class=\"dataframe\">\n",
              "  <thead>\n",
              "    <tr style=\"text-align: right;\">\n",
              "      <th></th>\n",
              "      <th>0</th>\n",
              "    </tr>\n",
              "  </thead>\n",
              "  <tbody>\n",
              "    <tr>\n",
              "      <th>0</th>\n",
              "      <td>Let our Experienced Techno-Functional Teams Support your existing #Applications while you focus on your New initiatives and #Innovations.  Globally based #Offshore, Hybrid or Onsite.  #applicationdevelopment #technicalsupport #apolis #nearshore #itmanangedservice #managedserviceprovider\\n</td>\n",
              "    </tr>\n",
              "    <tr>\n",
              "      <th>1</th>\n",
              "      <td>Personally, I strongly support activists and I even admire their activities (send petitions to the government &amp; Parliament, or peacefully protest outside Westminster). However, I do not support blocking roads to demand changes, as this action does not convince people. Instead, it makes people feel absurd and annoying, especially when someone is in emergency and they want to go to hospital for treatment immediately. In case they could not get treatment on time, their life will be at risk and protesters who blocks roads will have to take responsibility for their actions. #protests Just Stop Oil: What is it and what are its goals?\\n</td>\n",
              "    </tr>\n",
              "    <tr>\n",
              "      <th>2</th>\n",
              "      <td>Let’s not be hoodwinked by Just StopOil’s ill-considered ‘Remembrance’ comment They stopped because they’ve alienated the very people they need to support them, and a grown up in the group has realised thatIt’s a perfect example of not thinking through the consequences of actions - a total lack of risk management or awareness Maybe they’ll think through their approaches in future and make them more targeted?What do people think would be an effective way for them to protest?#juststopoil #riskmanagement #protests Just Stop Oil: M25 protests to be halted\\n</td>\n",
              "    </tr>\n",
              "    <tr>\n",
              "      <th>3</th>\n",
              "      <td>What is the fallout from another morning of protests on the M25? Massive disruption across North West Kent - it's not just the motorway affected. This is the traffic through the usually sleepy Hamlet of Bean; just off the Bluewater junction from the A2. Do 'Just Stop Oil' have a justifiable right to cause this mayhem? Or are their methods alienating people that could help them influence MPs?#juststopoil #protests #traffic #m25 #northwestkent #kent\\n</td>\n",
              "    </tr>\n",
              "    <tr>\n",
              "      <th>4</th>\n",
              "      <td>Given the forthcoming general election in Nigeria, how much youth participation are you witnessing, especially with the lingering emotions from the EndSars protest.Do you think Nigerian youths are ready to make 2023 count? #nigeria #governance #protests\\n</td>\n",
              "    </tr>\n",
              "    <tr>\n",
              "      <th>...</th>\n",
              "      <td>...</td>\n",
              "    </tr>\n",
              "    <tr>\n",
              "      <th>16742</th>\n",
              "      <td>🤔 Le bilan de compétence est-il suffisant pour créer un nouveau projet professionnel?Quelques éléments de réponse dans ma video:  L'aspect mental et émotionnel de l'individu est au cœur d'un changement de carrière réussi!Amandine#wellbeing #coaching #developpementpersonnel #transition #impactpositif #pnl #nlp #travail #healthymindset #carrière #reconversionprofessionnelle #bilandecompetences #entreprise #motivation #job\\n</td>\n",
              "    </tr>\n",
              "    <tr>\n",
              "      <th>16743</th>\n",
              "      <td>Monday Motivation Healthy food for Energy boosting. * Bananas * Avocados * Eggs * Yogurt * Nuts * Berries * Apples * Oatmeal * BeansLearn about my Health Makeover Program and schedule a Free 20 minute consultation …https://lnkd.in/emtdmMQD.#eatcleanbevital #putyourselffirst #healthcoach #healthylifestyle #healthyfood #healthy #wellnesscoach #hardworkingwomen#nutritioncoach #lifestylechange #nutureyourself #holistichealth #healthymindset #healthyhabits #womensempowerment\\n</td>\n",
              "    </tr>\n",
              "    <tr>\n",
              "      <th>16744</th>\n",
              "      <td>It’s Day #28 of our 2nd Annual “Can We Laugh at Cancer?” Comedy Challenge. Rating Warning: Language and Concept. This is a very atypical joke for us. I was asked to write 4 more intense cancer-centric jokes (of 31 posts) for people who like more raw humor.My Story Behind The Joke: This is my most risque joke but it is true… My husband does not care.Next Steps: DM your email if you want to be notified of our upcoming ComedyCures research study and my Fall podcast launch.⁠⁠Please LIKE and SHARE this comedy post. Please also consider a donation to The ComedyCures Foundation to support our free, live and digital, award-winning therapeutic ComedyCures programming for patients, caregivers, and healthcare workers.⁠⁠Tell everyone to follow @comedycures and @sarannelive⁠⁠To learn more about my stage IV cancer story, ComedyCures programs or to donate: visit www.ComedyCures.org or click the link in our bio!⁠⁠#ComedyCures #HealthyMindset #ComicRelief⁠ #HumorHeals #DailyFunny #FindingTheFunny #CancerHumor⁠⁠ #CancerComedian #CancerComedy #Oncology #CancerSupport #CancerSurvivor #MetastaticCancer #CancerWarrior #BreastCancer #CancerAwareness #CancerProgram #womenshealthcoach #stage4cancer #womenshealthcare #womenshealthmagazine #CancerSupportCommunity #womenwithcancer #momswithcancer #1888HaHaHaHa #ComedyCuresLaughLine #Psychoneuroimmunology #CancerResearch #ResearchStudy #HealthCareHero\\n</td>\n",
              "    </tr>\n",
              "    <tr>\n",
              "      <th>16745</th>\n",
              "      <td>Check your Lung Capacity in 1 min#FitnessFight#FatLossFun #GetFitAtHome #FitnessAtHome #LoseWeightAtHome #LosingWeightAtHome #Gethealthy #WeightLossChallenge #FatLossChallenge #InchLossChallenge #WajanGhatao #PetKamKaro #FitRaho #6PackAbs #WorkoutFromHome #IntentionalLiving #HealthyYou #FatFreeLife #FitnessMindset #HealthyMindset #LooseWeightGainHealth\\n</td>\n",
              "    </tr>\n",
              "    <tr>\n",
              "      <th>16746</th>\n",
              "      <td>Many people find it difficult to start doing workouts. Tell me your reason behind it &amp; I'll tell you how to overcome it 😀#FitnessFight#FatLossFun #GetFitAtHome #FitnessAtHome #LoseWeightAtHome #LosingWeightAtHome #Gethealthy #WeightLossChallenge #FatLossChallenge #InchLossChallenge #WajanGhatao #PetKamKaro #FitRaho #6PackAbs #WorkoutFromHome #IntentionalLiving #HealthyYou #FatFreeLife #FitnessMindset #HealthyMindset #LooseWeightGainHealth\\n</td>\n",
              "    </tr>\n",
              "  </tbody>\n",
              "</table>\n",
              "<p>16747 rows × 1 columns</p>\n",
              "</div>\n",
              "      <button class=\"colab-df-convert\" onclick=\"convertToInteractive('df-ce9413c2-5765-4d55-a790-7d40dfdf1e3c')\"\n",
              "              title=\"Convert this dataframe to an interactive table.\"\n",
              "              style=\"display:none;\">\n",
              "        \n",
              "  <svg xmlns=\"http://www.w3.org/2000/svg\" height=\"24px\"viewBox=\"0 0 24 24\"\n",
              "       width=\"24px\">\n",
              "    <path d=\"M0 0h24v24H0V0z\" fill=\"none\"/>\n",
              "    <path d=\"M18.56 5.44l.94 2.06.94-2.06 2.06-.94-2.06-.94-.94-2.06-.94 2.06-2.06.94zm-11 1L8.5 8.5l.94-2.06 2.06-.94-2.06-.94L8.5 2.5l-.94 2.06-2.06.94zm10 10l.94 2.06.94-2.06 2.06-.94-2.06-.94-.94-2.06-.94 2.06-2.06.94z\"/><path d=\"M17.41 7.96l-1.37-1.37c-.4-.4-.92-.59-1.43-.59-.52 0-1.04.2-1.43.59L10.3 9.45l-7.72 7.72c-.78.78-.78 2.05 0 2.83L4 21.41c.39.39.9.59 1.41.59.51 0 1.02-.2 1.41-.59l7.78-7.78 2.81-2.81c.8-.78.8-2.07 0-2.86zM5.41 20L4 18.59l7.72-7.72 1.47 1.35L5.41 20z\"/>\n",
              "  </svg>\n",
              "      </button>\n",
              "      \n",
              "  <style>\n",
              "    .colab-df-container {\n",
              "      display:flex;\n",
              "      flex-wrap:wrap;\n",
              "      gap: 12px;\n",
              "    }\n",
              "\n",
              "    .colab-df-convert {\n",
              "      background-color: #E8F0FE;\n",
              "      border: none;\n",
              "      border-radius: 50%;\n",
              "      cursor: pointer;\n",
              "      display: none;\n",
              "      fill: #1967D2;\n",
              "      height: 32px;\n",
              "      padding: 0 0 0 0;\n",
              "      width: 32px;\n",
              "    }\n",
              "\n",
              "    .colab-df-convert:hover {\n",
              "      background-color: #E2EBFA;\n",
              "      box-shadow: 0px 1px 2px rgba(60, 64, 67, 0.3), 0px 1px 3px 1px rgba(60, 64, 67, 0.15);\n",
              "      fill: #174EA6;\n",
              "    }\n",
              "\n",
              "    [theme=dark] .colab-df-convert {\n",
              "      background-color: #3B4455;\n",
              "      fill: #D2E3FC;\n",
              "    }\n",
              "\n",
              "    [theme=dark] .colab-df-convert:hover {\n",
              "      background-color: #434B5C;\n",
              "      box-shadow: 0px 1px 3px 1px rgba(0, 0, 0, 0.15);\n",
              "      filter: drop-shadow(0px 1px 2px rgba(0, 0, 0, 0.3));\n",
              "      fill: #FFFFFF;\n",
              "    }\n",
              "  </style>\n",
              "\n",
              "      <script>\n",
              "        const buttonEl =\n",
              "          document.querySelector('#df-ce9413c2-5765-4d55-a790-7d40dfdf1e3c button.colab-df-convert');\n",
              "        buttonEl.style.display =\n",
              "          google.colab.kernel.accessAllowed ? 'block' : 'none';\n",
              "\n",
              "        async function convertToInteractive(key) {\n",
              "          const element = document.querySelector('#df-ce9413c2-5765-4d55-a790-7d40dfdf1e3c');\n",
              "          const dataTable =\n",
              "            await google.colab.kernel.invokeFunction('convertToInteractive',\n",
              "                                                     [key], {});\n",
              "          if (!dataTable) return;\n",
              "\n",
              "          const docLinkHtml = 'Like what you see? Visit the ' +\n",
              "            '<a target=\"_blank\" href=https://colab.research.google.com/notebooks/data_table.ipynb>data table notebook</a>'\n",
              "            + ' to learn more about interactive tables.';\n",
              "          element.innerHTML = '';\n",
              "          dataTable['output_type'] = 'display_data';\n",
              "          await google.colab.output.renderOutput(dataTable, element);\n",
              "          const docLink = document.createElement('div');\n",
              "          docLink.innerHTML = docLinkHtml;\n",
              "          element.appendChild(docLink);\n",
              "        }\n",
              "      </script>\n",
              "    </div>\n",
              "  </div>\n",
              "  "
            ]
          },
          "metadata": {},
          "execution_count": 8
        }
      ],
      "source": [
        "df_posts"
      ]
    },
    {
      "cell_type": "code",
      "execution_count": null,
      "metadata": {
        "colab": {
          "base_uri": "https://localhost:8080/",
          "height": 884
        },
        "id": "k40HrY-jZ5iR",
        "outputId": "4a42382f-c746-4f0e-b622-18bdda6fbd96"
      },
      "outputs": [
        {
          "output_type": "execute_result",
          "data": {
            "text/plain": [
              "                                                                                                                                                                                                                                                                                                                                                                                                                                                                                                                                                                                                                                                                                                                                                                                                                                                                                                                                                                                                                                                                                                                                                                                                                                                                                                                                                                                                                                                       POSTS  \\\n",
              "0                                                                                                                                                                                                                                                                                                                                                                                                                                                                                                                                                                                                                                                                                                                                                                                                                                                                                                                                                                                                                                                                                                                                                          Let our Experienced Techno-Functional Teams Support your existing #Applications while you focus on your New initiatives and #Innovations.  Globally based #Offshore, Hybrid or Onsite.  #applicationdevelopment #technicalsupport #apolis #nearshore #itmanangedservice #managedserviceprovider\\n   \n",
              "1                                                                                                                                                                                                                                                                                                                                                                                                                                                                                                                                                                                                                                                                                                                                                                                              Personally, I strongly support activists and I even admire their activities (send petitions to the government & Parliament, or peacefully protest outside Westminster). However, I do not support blocking roads to demand changes, as this action does not convince people. Instead, it makes people feel absurd and annoying, especially when someone is in emergency and they want to go to hospital for treatment immediately. In case they could not get treatment on time, their life will be at risk and protesters who blocks roads will have to take responsibility for their actions. #protests Just Stop Oil: What is it and what are its goals?\\n   \n",
              "2                                                                                                                                                                                                                                                                                                                                                                                                                                                                                                                                                                                                                                                                                                                                                                                                                                                                            Let’s not be hoodwinked by Just StopOil’s ill-considered ‘Remembrance’ comment They stopped because they’ve alienated the very people they need to support them, and a grown up in the group has realised thatIt’s a perfect example of not thinking through the consequences of actions - a total lack of risk management or awareness Maybe they’ll think through their approaches in future and make them more targeted?What do people think would be an effective way for them to protest?#juststopoil #riskmanagement #protests Just Stop Oil: M25 protests to be halted\\n   \n",
              "3                                                                                                                                                                                                                                                                                                                                                                                                                                                                                                                                                                                                                                                                                                                                                                                                                                                                                                                                                                                      What is the fallout from another morning of protests on the M25? Massive disruption across North West Kent - it's not just the motorway affected. This is the traffic through the usually sleepy Hamlet of Bean; just off the Bluewater junction from the A2. Do 'Just Stop Oil' have a justifiable right to cause this mayhem? Or are their methods alienating people that could help them influence MPs?#juststopoil #protests #traffic #m25 #northwestkent #kent\\n   \n",
              "4                                                                                                                                                                                                                                                                                                                                                                                                                                                                                                                                                                                                                                                                                                                                                                                                                                                                                                                                                                                                                                                                                                                                                                                            Given the forthcoming general election in Nigeria, how much youth participation are you witnessing, especially with the lingering emotions from the EndSars protest.Do you think Nigerian youths are ready to make 2023 count? #nigeria #governance #protests\\n   \n",
              "...                                                                                                                                                                                                                                                                                                                                                                                                                                                                                                                                                                                                                                                                                                                                                                                                                                                                                                                                                                                                                                                                                                                                                                                                                                                                                                                                                                                                                                                      ...   \n",
              "16742                                                                                                                                                                                                                                                                                                                                                                                                                                                                                                                                                                                                                                                                                                                                                                                                                                                                                                                                                                                                              🤔 Le bilan de compétence est-il suffisant pour créer un nouveau projet professionnel?Quelques éléments de réponse dans ma video:  L'aspect mental et émotionnel de l'individu est au cœur d'un changement de carrière réussi!Amandine#wellbeing #coaching #developpementpersonnel #transition #impactpositif #pnl #nlp #travail #healthymindset #carrière #reconversionprofessionnelle #bilandecompetences #entreprise #motivation #job\\n   \n",
              "16743                                                                                                                                                                                                                                                                                                                                                                                                                                                                                                                                                                                                                                                                                                                                                                                                                                                                                                                                                           Monday Motivation Healthy food for Energy boosting. * Bananas * Avocados * Eggs * Yogurt * Nuts * Berries * Apples * Oatmeal * BeansLearn about my Health Makeover Program and schedule a Free 20 minute consultation …https://lnkd.in/emtdmMQD.#eatcleanbevital #putyourselffirst #healthcoach #healthylifestyle #healthyfood #healthy #wellnesscoach #hardworkingwomen#nutritioncoach #lifestylechange #nutureyourself #holistichealth #healthymindset #healthyhabits #womensempowerment\\n   \n",
              "16744  It’s Day #28 of our 2nd Annual “Can We Laugh at Cancer?” Comedy Challenge. Rating Warning: Language and Concept. This is a very atypical joke for us. I was asked to write 4 more intense cancer-centric jokes (of 31 posts) for people who like more raw humor.My Story Behind The Joke: This is my most risque joke but it is true… My husband does not care.Next Steps: DM your email if you want to be notified of our upcoming ComedyCures research study and my Fall podcast launch.⁠⁠Please LIKE and SHARE this comedy post. Please also consider a donation to The ComedyCures Foundation to support our free, live and digital, award-winning therapeutic ComedyCures programming for patients, caregivers, and healthcare workers.⁠⁠Tell everyone to follow @comedycures and @sarannelive⁠⁠To learn more about my stage IV cancer story, ComedyCures programs or to donate: visit www.ComedyCures.org or click the link in our bio!⁠⁠#ComedyCures #HealthyMindset #ComicRelief⁠ #HumorHeals #DailyFunny #FindingTheFunny #CancerHumor⁠⁠ #CancerComedian #CancerComedy #Oncology #CancerSupport #CancerSurvivor #MetastaticCancer #CancerWarrior #BreastCancer #CancerAwareness #CancerProgram #womenshealthcoach #stage4cancer #womenshealthcare #womenshealthmagazine #CancerSupportCommunity #womenwithcancer #momswithcancer #1888HaHaHaHa #ComedyCuresLaughLine #Psychoneuroimmunology #CancerResearch #ResearchStudy #HealthCareHero\\n   \n",
              "16745                                                                                                                                                                                                                                                                                                                                                                                                                                                                                                                                                                                                                                                                                                                                                                                                                                                                                                                                                                                                                                                                                   Check your Lung Capacity in 1 min#FitnessFight#FatLossFun #GetFitAtHome #FitnessAtHome #LoseWeightAtHome #LosingWeightAtHome #Gethealthy #WeightLossChallenge #FatLossChallenge #InchLossChallenge #WajanGhatao #PetKamKaro #FitRaho #6PackAbs #WorkoutFromHome #IntentionalLiving #HealthyYou #FatFreeLife #FitnessMindset #HealthyMindset #LooseWeightGainHealth\\n   \n",
              "16746                                                                                                                                                                                                                                                                                                                                                                                                                                                                                                                                                                                                                                                                                                                                                                                                                                                                                                                                                                                           Many people find it difficult to start doing workouts. Tell me your reason behind it & I'll tell you how to overcome it 😀#FitnessFight#FatLossFun #GetFitAtHome #FitnessAtHome #LoseWeightAtHome #LosingWeightAtHome #Gethealthy #WeightLossChallenge #FatLossChallenge #InchLossChallenge #WajanGhatao #PetKamKaro #FitRaho #6PackAbs #WorkoutFromHome #IntentionalLiving #HealthyYou #FatFreeLife #FitnessMindset #HealthyMindset #LooseWeightGainHealth\\n   \n",
              "\n",
              "                LABEL  \n",
              "0            protests  \n",
              "1            protests  \n",
              "2            protests  \n",
              "3            protests  \n",
              "4            protests  \n",
              "...               ...  \n",
              "16742  healthymindset  \n",
              "16743  healthymindset  \n",
              "16744  healthymindset  \n",
              "16745  healthymindset  \n",
              "16746  healthymindset  \n",
              "\n",
              "[16747 rows x 2 columns]"
            ],
            "text/html": [
              "\n",
              "  <div id=\"df-a06f99f1-9af0-4b7d-b7c5-9ec133f402d5\">\n",
              "    <div class=\"colab-df-container\">\n",
              "      <div>\n",
              "<style scoped>\n",
              "    .dataframe tbody tr th:only-of-type {\n",
              "        vertical-align: middle;\n",
              "    }\n",
              "\n",
              "    .dataframe tbody tr th {\n",
              "        vertical-align: top;\n",
              "    }\n",
              "\n",
              "    .dataframe thead th {\n",
              "        text-align: right;\n",
              "    }\n",
              "</style>\n",
              "<table border=\"1\" class=\"dataframe\">\n",
              "  <thead>\n",
              "    <tr style=\"text-align: right;\">\n",
              "      <th></th>\n",
              "      <th>POSTS</th>\n",
              "      <th>LABEL</th>\n",
              "    </tr>\n",
              "  </thead>\n",
              "  <tbody>\n",
              "    <tr>\n",
              "      <th>0</th>\n",
              "      <td>Let our Experienced Techno-Functional Teams Support your existing #Applications while you focus on your New initiatives and #Innovations.  Globally based #Offshore, Hybrid or Onsite.  #applicationdevelopment #technicalsupport #apolis #nearshore #itmanangedservice #managedserviceprovider\\n</td>\n",
              "      <td>protests</td>\n",
              "    </tr>\n",
              "    <tr>\n",
              "      <th>1</th>\n",
              "      <td>Personally, I strongly support activists and I even admire their activities (send petitions to the government &amp; Parliament, or peacefully protest outside Westminster). However, I do not support blocking roads to demand changes, as this action does not convince people. Instead, it makes people feel absurd and annoying, especially when someone is in emergency and they want to go to hospital for treatment immediately. In case they could not get treatment on time, their life will be at risk and protesters who blocks roads will have to take responsibility for their actions. #protests Just Stop Oil: What is it and what are its goals?\\n</td>\n",
              "      <td>protests</td>\n",
              "    </tr>\n",
              "    <tr>\n",
              "      <th>2</th>\n",
              "      <td>Let’s not be hoodwinked by Just StopOil’s ill-considered ‘Remembrance’ comment They stopped because they’ve alienated the very people they need to support them, and a grown up in the group has realised thatIt’s a perfect example of not thinking through the consequences of actions - a total lack of risk management or awareness Maybe they’ll think through their approaches in future and make them more targeted?What do people think would be an effective way for them to protest?#juststopoil #riskmanagement #protests Just Stop Oil: M25 protests to be halted\\n</td>\n",
              "      <td>protests</td>\n",
              "    </tr>\n",
              "    <tr>\n",
              "      <th>3</th>\n",
              "      <td>What is the fallout from another morning of protests on the M25? Massive disruption across North West Kent - it's not just the motorway affected. This is the traffic through the usually sleepy Hamlet of Bean; just off the Bluewater junction from the A2. Do 'Just Stop Oil' have a justifiable right to cause this mayhem? Or are their methods alienating people that could help them influence MPs?#juststopoil #protests #traffic #m25 #northwestkent #kent\\n</td>\n",
              "      <td>protests</td>\n",
              "    </tr>\n",
              "    <tr>\n",
              "      <th>4</th>\n",
              "      <td>Given the forthcoming general election in Nigeria, how much youth participation are you witnessing, especially with the lingering emotions from the EndSars protest.Do you think Nigerian youths are ready to make 2023 count? #nigeria #governance #protests\\n</td>\n",
              "      <td>protests</td>\n",
              "    </tr>\n",
              "    <tr>\n",
              "      <th>...</th>\n",
              "      <td>...</td>\n",
              "      <td>...</td>\n",
              "    </tr>\n",
              "    <tr>\n",
              "      <th>16742</th>\n",
              "      <td>🤔 Le bilan de compétence est-il suffisant pour créer un nouveau projet professionnel?Quelques éléments de réponse dans ma video:  L'aspect mental et émotionnel de l'individu est au cœur d'un changement de carrière réussi!Amandine#wellbeing #coaching #developpementpersonnel #transition #impactpositif #pnl #nlp #travail #healthymindset #carrière #reconversionprofessionnelle #bilandecompetences #entreprise #motivation #job\\n</td>\n",
              "      <td>healthymindset</td>\n",
              "    </tr>\n",
              "    <tr>\n",
              "      <th>16743</th>\n",
              "      <td>Monday Motivation Healthy food for Energy boosting. * Bananas * Avocados * Eggs * Yogurt * Nuts * Berries * Apples * Oatmeal * BeansLearn about my Health Makeover Program and schedule a Free 20 minute consultation …https://lnkd.in/emtdmMQD.#eatcleanbevital #putyourselffirst #healthcoach #healthylifestyle #healthyfood #healthy #wellnesscoach #hardworkingwomen#nutritioncoach #lifestylechange #nutureyourself #holistichealth #healthymindset #healthyhabits #womensempowerment\\n</td>\n",
              "      <td>healthymindset</td>\n",
              "    </tr>\n",
              "    <tr>\n",
              "      <th>16744</th>\n",
              "      <td>It’s Day #28 of our 2nd Annual “Can We Laugh at Cancer?” Comedy Challenge. Rating Warning: Language and Concept. This is a very atypical joke for us. I was asked to write 4 more intense cancer-centric jokes (of 31 posts) for people who like more raw humor.My Story Behind The Joke: This is my most risque joke but it is true… My husband does not care.Next Steps: DM your email if you want to be notified of our upcoming ComedyCures research study and my Fall podcast launch.⁠⁠Please LIKE and SHARE this comedy post. Please also consider a donation to The ComedyCures Foundation to support our free, live and digital, award-winning therapeutic ComedyCures programming for patients, caregivers, and healthcare workers.⁠⁠Tell everyone to follow @comedycures and @sarannelive⁠⁠To learn more about my stage IV cancer story, ComedyCures programs or to donate: visit www.ComedyCures.org or click the link in our bio!⁠⁠#ComedyCures #HealthyMindset #ComicRelief⁠ #HumorHeals #DailyFunny #FindingTheFunny #CancerHumor⁠⁠ #CancerComedian #CancerComedy #Oncology #CancerSupport #CancerSurvivor #MetastaticCancer #CancerWarrior #BreastCancer #CancerAwareness #CancerProgram #womenshealthcoach #stage4cancer #womenshealthcare #womenshealthmagazine #CancerSupportCommunity #womenwithcancer #momswithcancer #1888HaHaHaHa #ComedyCuresLaughLine #Psychoneuroimmunology #CancerResearch #ResearchStudy #HealthCareHero\\n</td>\n",
              "      <td>healthymindset</td>\n",
              "    </tr>\n",
              "    <tr>\n",
              "      <th>16745</th>\n",
              "      <td>Check your Lung Capacity in 1 min#FitnessFight#FatLossFun #GetFitAtHome #FitnessAtHome #LoseWeightAtHome #LosingWeightAtHome #Gethealthy #WeightLossChallenge #FatLossChallenge #InchLossChallenge #WajanGhatao #PetKamKaro #FitRaho #6PackAbs #WorkoutFromHome #IntentionalLiving #HealthyYou #FatFreeLife #FitnessMindset #HealthyMindset #LooseWeightGainHealth\\n</td>\n",
              "      <td>healthymindset</td>\n",
              "    </tr>\n",
              "    <tr>\n",
              "      <th>16746</th>\n",
              "      <td>Many people find it difficult to start doing workouts. Tell me your reason behind it &amp; I'll tell you how to overcome it 😀#FitnessFight#FatLossFun #GetFitAtHome #FitnessAtHome #LoseWeightAtHome #LosingWeightAtHome #Gethealthy #WeightLossChallenge #FatLossChallenge #InchLossChallenge #WajanGhatao #PetKamKaro #FitRaho #6PackAbs #WorkoutFromHome #IntentionalLiving #HealthyYou #FatFreeLife #FitnessMindset #HealthyMindset #LooseWeightGainHealth\\n</td>\n",
              "      <td>healthymindset</td>\n",
              "    </tr>\n",
              "  </tbody>\n",
              "</table>\n",
              "<p>16747 rows × 2 columns</p>\n",
              "</div>\n",
              "      <button class=\"colab-df-convert\" onclick=\"convertToInteractive('df-a06f99f1-9af0-4b7d-b7c5-9ec133f402d5')\"\n",
              "              title=\"Convert this dataframe to an interactive table.\"\n",
              "              style=\"display:none;\">\n",
              "        \n",
              "  <svg xmlns=\"http://www.w3.org/2000/svg\" height=\"24px\"viewBox=\"0 0 24 24\"\n",
              "       width=\"24px\">\n",
              "    <path d=\"M0 0h24v24H0V0z\" fill=\"none\"/>\n",
              "    <path d=\"M18.56 5.44l.94 2.06.94-2.06 2.06-.94-2.06-.94-.94-2.06-.94 2.06-2.06.94zm-11 1L8.5 8.5l.94-2.06 2.06-.94-2.06-.94L8.5 2.5l-.94 2.06-2.06.94zm10 10l.94 2.06.94-2.06 2.06-.94-2.06-.94-.94-2.06-.94 2.06-2.06.94z\"/><path d=\"M17.41 7.96l-1.37-1.37c-.4-.4-.92-.59-1.43-.59-.52 0-1.04.2-1.43.59L10.3 9.45l-7.72 7.72c-.78.78-.78 2.05 0 2.83L4 21.41c.39.39.9.59 1.41.59.51 0 1.02-.2 1.41-.59l7.78-7.78 2.81-2.81c.8-.78.8-2.07 0-2.86zM5.41 20L4 18.59l7.72-7.72 1.47 1.35L5.41 20z\"/>\n",
              "  </svg>\n",
              "      </button>\n",
              "      \n",
              "  <style>\n",
              "    .colab-df-container {\n",
              "      display:flex;\n",
              "      flex-wrap:wrap;\n",
              "      gap: 12px;\n",
              "    }\n",
              "\n",
              "    .colab-df-convert {\n",
              "      background-color: #E8F0FE;\n",
              "      border: none;\n",
              "      border-radius: 50%;\n",
              "      cursor: pointer;\n",
              "      display: none;\n",
              "      fill: #1967D2;\n",
              "      height: 32px;\n",
              "      padding: 0 0 0 0;\n",
              "      width: 32px;\n",
              "    }\n",
              "\n",
              "    .colab-df-convert:hover {\n",
              "      background-color: #E2EBFA;\n",
              "      box-shadow: 0px 1px 2px rgba(60, 64, 67, 0.3), 0px 1px 3px 1px rgba(60, 64, 67, 0.15);\n",
              "      fill: #174EA6;\n",
              "    }\n",
              "\n",
              "    [theme=dark] .colab-df-convert {\n",
              "      background-color: #3B4455;\n",
              "      fill: #D2E3FC;\n",
              "    }\n",
              "\n",
              "    [theme=dark] .colab-df-convert:hover {\n",
              "      background-color: #434B5C;\n",
              "      box-shadow: 0px 1px 3px 1px rgba(0, 0, 0, 0.15);\n",
              "      filter: drop-shadow(0px 1px 2px rgba(0, 0, 0, 0.3));\n",
              "      fill: #FFFFFF;\n",
              "    }\n",
              "  </style>\n",
              "\n",
              "      <script>\n",
              "        const buttonEl =\n",
              "          document.querySelector('#df-a06f99f1-9af0-4b7d-b7c5-9ec133f402d5 button.colab-df-convert');\n",
              "        buttonEl.style.display =\n",
              "          google.colab.kernel.accessAllowed ? 'block' : 'none';\n",
              "\n",
              "        async function convertToInteractive(key) {\n",
              "          const element = document.querySelector('#df-a06f99f1-9af0-4b7d-b7c5-9ec133f402d5');\n",
              "          const dataTable =\n",
              "            await google.colab.kernel.invokeFunction('convertToInteractive',\n",
              "                                                     [key], {});\n",
              "          if (!dataTable) return;\n",
              "\n",
              "          const docLinkHtml = 'Like what you see? Visit the ' +\n",
              "            '<a target=\"_blank\" href=https://colab.research.google.com/notebooks/data_table.ipynb>data table notebook</a>'\n",
              "            + ' to learn more about interactive tables.';\n",
              "          element.innerHTML = '';\n",
              "          dataTable['output_type'] = 'display_data';\n",
              "          await google.colab.output.renderOutput(dataTable, element);\n",
              "          const docLink = document.createElement('div');\n",
              "          docLink.innerHTML = docLinkHtml;\n",
              "          element.appendChild(docLink);\n",
              "        }\n",
              "      </script>\n",
              "    </div>\n",
              "  </div>\n",
              "  "
            ]
          },
          "metadata": {},
          "execution_count": 9
        }
      ],
      "source": [
        "complete_data = pd.concat([df_posts, df_labels], axis=1)\n",
        "complete_data.columns = ['POSTS', 'LABEL']\n",
        "complete_data"
      ]
    },
    {
      "cell_type": "code",
      "execution_count": null,
      "metadata": {
        "id": "HuTNTfJnretF"
      },
      "outputs": [],
      "source": [
        "complete_data.to_csv(\"/content/gdrive/MyDrive/Colab Notebooks/output2.csv\",encoding='utf-8') "
      ]
    },
    {
      "cell_type": "code",
      "execution_count": null,
      "metadata": {
        "id": "qNzhiDOsaEjY"
      },
      "outputs": [],
      "source": [
        "#convert to lowercase\n",
        "complete_data['POSTS']=complete_data['POSTS'].str.lower()"
      ]
    },
    {
      "cell_type": "code",
      "execution_count": null,
      "metadata": {
        "id": "L79MBX4MaEtX"
      },
      "outputs": [],
      "source": [
        "#remove html content\n",
        "complete_data['POSTS'] = complete_data['POSTS'].apply(lambda x: re.split('<[^<>]*>', str(x))[0])"
      ]
    },
    {
      "cell_type": "code",
      "execution_count": null,
      "metadata": {
        "id": "7lGCW80RaExP"
      },
      "outputs": [],
      "source": [
        "def contr(post_text):\n",
        "     posts_body_list=[]\n",
        "     for r in post_text:\n",
        "         decontract_posts_body = contractions.fix(r)\n",
        "         r = ''.join(decontract_posts_body)\n",
        "         r = re.sub(\"\\s\\s+\", \" \", r) # remove extra spaces\n",
        "         posts_body_list.append(r)\n",
        "     return posts_body_list"
      ]
    },
    {
      "cell_type": "code",
      "execution_count": null,
      "metadata": {
        "id": "l8y4uTtpaEz4"
      },
      "outputs": [],
      "source": [
        "complete_data['POSTS']=contr(complete_data['POSTS'].values)"
      ]
    },
    {
      "cell_type": "code",
      "execution_count": null,
      "metadata": {
        "id": "ohWnC6mIbkqM"
      },
      "outputs": [],
      "source": [
        "# remove posts w/o hastags"
      ]
    },
    {
      "cell_type": "code",
      "execution_count": null,
      "metadata": {
        "id": "_d1V_32AaE2u"
      },
      "outputs": [],
      "source": [
        "#remove non-alphabetical values\n",
        "complete_data['POSTS'] = complete_data['POSTS'].replace('[^a-zA-Z ]', '', regex=True)"
      ]
    },
    {
      "cell_type": "code",
      "execution_count": null,
      "metadata": {
        "colab": {
          "base_uri": "https://localhost:8080/",
          "height": 867
        },
        "id": "JgCmltefaE5R",
        "outputId": "dbdb4a57-e91f-4a46-d61d-120f12b7de70"
      },
      "outputs": [
        {
          "output_type": "execute_result",
          "data": {
            "text/plain": [
              "                                                                                                                                                                                                                                                                                                                                                                                                                                                                                                                                                                                                                                                                                                                                                                                                                                                                                                                                                                                                                                                                                                                                                                                                                                                                                                                                                                   POSTS  \\\n",
              "0                                                                                                                                                                                                                                                                                                                                                                                                                                                                                                                                                                                                                                                                                                                                                                                                                                                                                                                                                                                                                                                                                       let our experienced technofunctional teams support your existing applications while you focus on your new initiatives and innovations globally based offshore hybrid or onsite applicationdevelopment technicalsupport apolis nearshore itmanangedservice managedserviceprovider   \n",
              "1                                                                                                                                                                                                                                                                                                                                                                                                                                                                                                                                                                                                                                                                                                                             personally i strongly support activists and i even admire their activities send petitions to the government  parliament or peacefully protest outside westminster however i do not support blocking roads to demand changes as this action does not convince people instead it makes people feel absurd and annoying especially when someone is in emergency and they want to go to hospital for treatment immediately in case they could not get treatment on time their life will be at risk and protesters who blocks roads will have to take responsibility for their actions protests just stop oil what is it and what are its goals   \n",
              "2                                                                                                                                                                                                                                                                                                                                                                                                                                                                                                                                                                                                                                                                                                                                                                                                    let us not be hoodwinked by just stopoils illconsidered remembrance comment they stopped because they have alienated the very people they need to support them and a grown up in the group has realised thatits a perfect example of not thinking through the consequences of actions  a total lack of risk management or awareness maybe they will think through their approaches in future and make them more targetedwhat do people think would be an effective way for them to protestjuststopoil riskmanagement protests just stop oil m protests to be halted   \n",
              "3                                                                                                                                                                                                                                                                                                                                                                                                                                                                                                                                                                                                                                                                                                                                                                                                                                                                                                                       what is the fallout from another morning of protests on the m massive disruption across north west kent  it is not just the motorway affected this is the traffic through the usually sleepy hamlet of bean just off the bluewater junction from the a do just stop oil have a justifiable right to cause this mayhem or are their methods alienating people that could help them influence mpsjuststopoil protests traffic m northwestkent kent   \n",
              "4                                                                                                                                                                                                                                                                                                                                                                                                                                                                                                                                                                                                                                                                                                                                                                                                                                                                                                                                                                                                                                                                                                                     given the forthcoming general election in nigeria how much youth participation are you witnessing especially with the lingering emotions from the endsars protestdo you think nigerian youths are ready to make  count nigeria governance protests   \n",
              "...                                                                                                                                                                                                                                                                                                                                                                                                                                                                                                                                                                                                                                                                                                                                                                                                                                                                                                                                                                                                                                                                                                                                                                                                                                                                                                                                                                  ...   \n",
              "16742                                                                                                                                                                                                                                                                                                                                                                                                                                                                                                                                                                                                                                                                                                                                                                                                                                                                                                                                                          le bilan de comptence estil suffisant pour crer un nouveau projet professionnelquelques lments de rponse dans ma video laspect mental et motionnel de lindividu est au cyou are dun changement de carrire russiamandinewellbeing coaching developpementpersonnel transition impactpositif pnl nlp travail healthymindset carrire reconversionprofessionnelle bilandecompetences entreprise motivation job   \n",
              "16743                                                                                                                                                                                                                                                                                                                                                                                                                                                                                                                                                                                                                                                                                                                                                                                                                                                                                                                     monday motivationhealthy food for energy boosting bananas avocados eggs yogurt nuts berries apples oatmeal beanslearn about my health makeover program and schedule a free  minute consultation httpslnkdinemtdmmqdeatcleanbevital putyourselffirst healthcoach healthylifestyle healthyfood healthy wellnesscoach hardworkingwomennutritioncoach lifestylechange nutureyourself holistichealth healthymindset healthyhabits womensempowerment   \n",
              "16744  it is day  of our nd annual can we laugh at cancer comedy challenge rating warning language and concept this is a very atypical joke for us i was asked to write  more intense cancercentric jokes of  posts for people who like more raw humormy story behind the joke this is my most risque joke but it is true my husband does not carenext steps dm your email if you want to be notified of our upcoming comedycures research study and my fall podcast launchplease like and share this comedy post please also consider a donation to the comedycures foundation to support our free live and digital awardwinning therapeutic comedycures programming for patients caregivers and healthcare workerstell everyone to follow comedycures and saranneliveto learn more about my stage iv cancer story comedycures programs or to donate visit wwwcomedycuresorg or click the link in our biocomedycures healthymindset comicrelief humorheals dailyfunny findingthefunny cancerhumor cancercomedian cancercomedy oncology cancersupport cancersurvivor metastaticcancer cancerwarrior breastcancer cancerawareness cancerprogram womenshealthcoach stagecancer womenshealthcare womenshealthmagazine cancersupportcommunity womenwithcancer momswithcancer hahahaha comedycureslaughline psychoneuroimmunology cancerresearch researchstudy healthcarehero   \n",
              "16745                                                                                                                                                                                                                                                                                                                                                                                                                                                                                                                                                                                                                                                                                                                                                                                                                                                                                                                                                                                                                        check your lung capacity in  minfitnessfightfatlossfun getfitathome fitnessathome loseweightathome losingweightathome gethealthy weightlosschallenge fatlosschallenge inchlosschallenge wajanghatao petkamkaro fitraho packabs workoutfromhome intentionalliving healthyyou fatfreelife fitnessmindset healthymindset looseweightgainhealth   \n",
              "16746                                                                                                                                                                                                                                                                                                                                                                                                                                                                                                                                                                                                                                                                                                                                                                                                                                                                                                                                many people find it difficult to start doing workouts tell me your reason behind it  i will tell you how to overcome it fitnessfightfatlossfun getfitathome fitnessathome loseweightathome losingweightathome gethealthy weightlosschallenge fatlosschallenge inchlosschallenge wajanghatao petkamkaro fitraho packabs workoutfromhome intentionalliving healthyyou fatfreelife fitnessmindset healthymindset looseweightgainhealth   \n",
              "\n",
              "                LABEL  \n",
              "0            protests  \n",
              "1            protests  \n",
              "2            protests  \n",
              "3            protests  \n",
              "4            protests  \n",
              "...               ...  \n",
              "16742  healthymindset  \n",
              "16743  healthymindset  \n",
              "16744  healthymindset  \n",
              "16745  healthymindset  \n",
              "16746  healthymindset  \n",
              "\n",
              "[16747 rows x 2 columns]"
            ],
            "text/html": [
              "\n",
              "  <div id=\"df-d2d5a39a-e213-4311-a04d-b1c093d1313f\">\n",
              "    <div class=\"colab-df-container\">\n",
              "      <div>\n",
              "<style scoped>\n",
              "    .dataframe tbody tr th:only-of-type {\n",
              "        vertical-align: middle;\n",
              "    }\n",
              "\n",
              "    .dataframe tbody tr th {\n",
              "        vertical-align: top;\n",
              "    }\n",
              "\n",
              "    .dataframe thead th {\n",
              "        text-align: right;\n",
              "    }\n",
              "</style>\n",
              "<table border=\"1\" class=\"dataframe\">\n",
              "  <thead>\n",
              "    <tr style=\"text-align: right;\">\n",
              "      <th></th>\n",
              "      <th>POSTS</th>\n",
              "      <th>LABEL</th>\n",
              "    </tr>\n",
              "  </thead>\n",
              "  <tbody>\n",
              "    <tr>\n",
              "      <th>0</th>\n",
              "      <td>let our experienced technofunctional teams support your existing applications while you focus on your new initiatives and innovations globally based offshore hybrid or onsite applicationdevelopment technicalsupport apolis nearshore itmanangedservice managedserviceprovider</td>\n",
              "      <td>protests</td>\n",
              "    </tr>\n",
              "    <tr>\n",
              "      <th>1</th>\n",
              "      <td>personally i strongly support activists and i even admire their activities send petitions to the government  parliament or peacefully protest outside westminster however i do not support blocking roads to demand changes as this action does not convince people instead it makes people feel absurd and annoying especially when someone is in emergency and they want to go to hospital for treatment immediately in case they could not get treatment on time their life will be at risk and protesters who blocks roads will have to take responsibility for their actions protests just stop oil what is it and what are its goals</td>\n",
              "      <td>protests</td>\n",
              "    </tr>\n",
              "    <tr>\n",
              "      <th>2</th>\n",
              "      <td>let us not be hoodwinked by just stopoils illconsidered remembrance comment they stopped because they have alienated the very people they need to support them and a grown up in the group has realised thatits a perfect example of not thinking through the consequences of actions  a total lack of risk management or awareness maybe they will think through their approaches in future and make them more targetedwhat do people think would be an effective way for them to protestjuststopoil riskmanagement protests just stop oil m protests to be halted</td>\n",
              "      <td>protests</td>\n",
              "    </tr>\n",
              "    <tr>\n",
              "      <th>3</th>\n",
              "      <td>what is the fallout from another morning of protests on the m massive disruption across north west kent  it is not just the motorway affected this is the traffic through the usually sleepy hamlet of bean just off the bluewater junction from the a do just stop oil have a justifiable right to cause this mayhem or are their methods alienating people that could help them influence mpsjuststopoil protests traffic m northwestkent kent</td>\n",
              "      <td>protests</td>\n",
              "    </tr>\n",
              "    <tr>\n",
              "      <th>4</th>\n",
              "      <td>given the forthcoming general election in nigeria how much youth participation are you witnessing especially with the lingering emotions from the endsars protestdo you think nigerian youths are ready to make  count nigeria governance protests</td>\n",
              "      <td>protests</td>\n",
              "    </tr>\n",
              "    <tr>\n",
              "      <th>...</th>\n",
              "      <td>...</td>\n",
              "      <td>...</td>\n",
              "    </tr>\n",
              "    <tr>\n",
              "      <th>16742</th>\n",
              "      <td>le bilan de comptence estil suffisant pour crer un nouveau projet professionnelquelques lments de rponse dans ma video laspect mental et motionnel de lindividu est au cyou are dun changement de carrire russiamandinewellbeing coaching developpementpersonnel transition impactpositif pnl nlp travail healthymindset carrire reconversionprofessionnelle bilandecompetences entreprise motivation job</td>\n",
              "      <td>healthymindset</td>\n",
              "    </tr>\n",
              "    <tr>\n",
              "      <th>16743</th>\n",
              "      <td>monday motivationhealthy food for energy boosting bananas avocados eggs yogurt nuts berries apples oatmeal beanslearn about my health makeover program and schedule a free  minute consultation httpslnkdinemtdmmqdeatcleanbevital putyourselffirst healthcoach healthylifestyle healthyfood healthy wellnesscoach hardworkingwomennutritioncoach lifestylechange nutureyourself holistichealth healthymindset healthyhabits womensempowerment</td>\n",
              "      <td>healthymindset</td>\n",
              "    </tr>\n",
              "    <tr>\n",
              "      <th>16744</th>\n",
              "      <td>it is day  of our nd annual can we laugh at cancer comedy challenge rating warning language and concept this is a very atypical joke for us i was asked to write  more intense cancercentric jokes of  posts for people who like more raw humormy story behind the joke this is my most risque joke but it is true my husband does not carenext steps dm your email if you want to be notified of our upcoming comedycures research study and my fall podcast launchplease like and share this comedy post please also consider a donation to the comedycures foundation to support our free live and digital awardwinning therapeutic comedycures programming for patients caregivers and healthcare workerstell everyone to follow comedycures and saranneliveto learn more about my stage iv cancer story comedycures programs or to donate visit wwwcomedycuresorg or click the link in our biocomedycures healthymindset comicrelief humorheals dailyfunny findingthefunny cancerhumor cancercomedian cancercomedy oncology cancersupport cancersurvivor metastaticcancer cancerwarrior breastcancer cancerawareness cancerprogram womenshealthcoach stagecancer womenshealthcare womenshealthmagazine cancersupportcommunity womenwithcancer momswithcancer hahahaha comedycureslaughline psychoneuroimmunology cancerresearch researchstudy healthcarehero</td>\n",
              "      <td>healthymindset</td>\n",
              "    </tr>\n",
              "    <tr>\n",
              "      <th>16745</th>\n",
              "      <td>check your lung capacity in  minfitnessfightfatlossfun getfitathome fitnessathome loseweightathome losingweightathome gethealthy weightlosschallenge fatlosschallenge inchlosschallenge wajanghatao petkamkaro fitraho packabs workoutfromhome intentionalliving healthyyou fatfreelife fitnessmindset healthymindset looseweightgainhealth</td>\n",
              "      <td>healthymindset</td>\n",
              "    </tr>\n",
              "    <tr>\n",
              "      <th>16746</th>\n",
              "      <td>many people find it difficult to start doing workouts tell me your reason behind it  i will tell you how to overcome it fitnessfightfatlossfun getfitathome fitnessathome loseweightathome losingweightathome gethealthy weightlosschallenge fatlosschallenge inchlosschallenge wajanghatao petkamkaro fitraho packabs workoutfromhome intentionalliving healthyyou fatfreelife fitnessmindset healthymindset looseweightgainhealth</td>\n",
              "      <td>healthymindset</td>\n",
              "    </tr>\n",
              "  </tbody>\n",
              "</table>\n",
              "<p>16747 rows × 2 columns</p>\n",
              "</div>\n",
              "      <button class=\"colab-df-convert\" onclick=\"convertToInteractive('df-d2d5a39a-e213-4311-a04d-b1c093d1313f')\"\n",
              "              title=\"Convert this dataframe to an interactive table.\"\n",
              "              style=\"display:none;\">\n",
              "        \n",
              "  <svg xmlns=\"http://www.w3.org/2000/svg\" height=\"24px\"viewBox=\"0 0 24 24\"\n",
              "       width=\"24px\">\n",
              "    <path d=\"M0 0h24v24H0V0z\" fill=\"none\"/>\n",
              "    <path d=\"M18.56 5.44l.94 2.06.94-2.06 2.06-.94-2.06-.94-.94-2.06-.94 2.06-2.06.94zm-11 1L8.5 8.5l.94-2.06 2.06-.94-2.06-.94L8.5 2.5l-.94 2.06-2.06.94zm10 10l.94 2.06.94-2.06 2.06-.94-2.06-.94-.94-2.06-.94 2.06-2.06.94z\"/><path d=\"M17.41 7.96l-1.37-1.37c-.4-.4-.92-.59-1.43-.59-.52 0-1.04.2-1.43.59L10.3 9.45l-7.72 7.72c-.78.78-.78 2.05 0 2.83L4 21.41c.39.39.9.59 1.41.59.51 0 1.02-.2 1.41-.59l7.78-7.78 2.81-2.81c.8-.78.8-2.07 0-2.86zM5.41 20L4 18.59l7.72-7.72 1.47 1.35L5.41 20z\"/>\n",
              "  </svg>\n",
              "      </button>\n",
              "      \n",
              "  <style>\n",
              "    .colab-df-container {\n",
              "      display:flex;\n",
              "      flex-wrap:wrap;\n",
              "      gap: 12px;\n",
              "    }\n",
              "\n",
              "    .colab-df-convert {\n",
              "      background-color: #E8F0FE;\n",
              "      border: none;\n",
              "      border-radius: 50%;\n",
              "      cursor: pointer;\n",
              "      display: none;\n",
              "      fill: #1967D2;\n",
              "      height: 32px;\n",
              "      padding: 0 0 0 0;\n",
              "      width: 32px;\n",
              "    }\n",
              "\n",
              "    .colab-df-convert:hover {\n",
              "      background-color: #E2EBFA;\n",
              "      box-shadow: 0px 1px 2px rgba(60, 64, 67, 0.3), 0px 1px 3px 1px rgba(60, 64, 67, 0.15);\n",
              "      fill: #174EA6;\n",
              "    }\n",
              "\n",
              "    [theme=dark] .colab-df-convert {\n",
              "      background-color: #3B4455;\n",
              "      fill: #D2E3FC;\n",
              "    }\n",
              "\n",
              "    [theme=dark] .colab-df-convert:hover {\n",
              "      background-color: #434B5C;\n",
              "      box-shadow: 0px 1px 3px 1px rgba(0, 0, 0, 0.15);\n",
              "      filter: drop-shadow(0px 1px 2px rgba(0, 0, 0, 0.3));\n",
              "      fill: #FFFFFF;\n",
              "    }\n",
              "  </style>\n",
              "\n",
              "      <script>\n",
              "        const buttonEl =\n",
              "          document.querySelector('#df-d2d5a39a-e213-4311-a04d-b1c093d1313f button.colab-df-convert');\n",
              "        buttonEl.style.display =\n",
              "          google.colab.kernel.accessAllowed ? 'block' : 'none';\n",
              "\n",
              "        async function convertToInteractive(key) {\n",
              "          const element = document.querySelector('#df-d2d5a39a-e213-4311-a04d-b1c093d1313f');\n",
              "          const dataTable =\n",
              "            await google.colab.kernel.invokeFunction('convertToInteractive',\n",
              "                                                     [key], {});\n",
              "          if (!dataTable) return;\n",
              "\n",
              "          const docLinkHtml = 'Like what you see? Visit the ' +\n",
              "            '<a target=\"_blank\" href=https://colab.research.google.com/notebooks/data_table.ipynb>data table notebook</a>'\n",
              "            + ' to learn more about interactive tables.';\n",
              "          element.innerHTML = '';\n",
              "          dataTable['output_type'] = 'display_data';\n",
              "          await google.colab.output.renderOutput(dataTable, element);\n",
              "          const docLink = document.createElement('div');\n",
              "          docLink.innerHTML = docLinkHtml;\n",
              "          element.appendChild(docLink);\n",
              "        }\n",
              "      </script>\n",
              "    </div>\n",
              "  </div>\n",
              "  "
            ]
          },
          "metadata": {},
          "execution_count": 15
        }
      ],
      "source": [
        "complete_data"
      ]
    },
    {
      "cell_type": "code",
      "execution_count": null,
      "metadata": {
        "colab": {
          "base_uri": "https://localhost:8080/"
        },
        "id": "8wiZOLcxaFCt",
        "outputId": "91ecc73a-fe92-417b-f305-57a1d7f1b939"
      },
      "outputs": [
        {
          "output_type": "execute_result",
          "data": {
            "text/plain": [
              "32"
            ]
          },
          "metadata": {},
          "execution_count": 16
        }
      ],
      "source": [
        "len(complete_data['LABEL'].unique())"
      ]
    },
    {
      "cell_type": "code",
      "execution_count": null,
      "metadata": {
        "colab": {
          "base_uri": "https://localhost:8080/"
        },
        "id": "RhScGpvGn4bL",
        "outputId": "631fe782-cc27-490b-d3ce-4e1d39c9e7ab"
      },
      "outputs": [
        {
          "output_type": "execute_result",
          "data": {
            "text/plain": [
              "array(['protests', 'racism', 'lmao', 'layoffs', 'excited', 'womensafety',\n",
              "       'depression', 'funny', 'fun', 'sad', 'layoff', 'recession2022',\n",
              "       'anxiety', 'womenequality', 'protest', 'grief', 'referral',\n",
              "       'hiring', 'painpoint', 'lol', 'positivity', 'positivevibes',\n",
              "       'grateful', 'jobsearch', 'unemployment', 'newjob', 'blessed',\n",
              "       'rejection', 'hiringfreeze', 'happy', 'growthmindset',\n",
              "       'healthymindset'], dtype=object)"
            ]
          },
          "metadata": {},
          "execution_count": 17
        }
      ],
      "source": [
        "complete_data['LABEL'].unique()"
      ]
    },
    {
      "cell_type": "markdown",
      "metadata": {
        "id": "mUO4TNa6oHLq"
      },
      "source": [
        "**NEGATIVE**: protests, racism, layoffs, depression, sad, layoff, recession2022,anxiety,  protest, grief, painpoint, unemployment, rejection, hiringfreeze\n",
        "\n",
        "**POSITIVE**: excited, hiring, positivity, positivevibes, grateful, newjob, blessed, happy, lmao, funny, fun, lol\n",
        "\n",
        "womenequality, womensafety, job search\n",
        "\n",
        "**ROBERTA**: NEG= anger+sad\n",
        "         POS= joy+optimism"
      ]
    },
    {
      "cell_type": "code",
      "execution_count": null,
      "metadata": {
        "id": "7AxT5XkooD4W"
      },
      "outputs": [],
      "source": [
        "import numpy as np\n",
        "complete_data['TAGS']=np.where( (complete_data['LABEL']=='healthymindset') | (complete_data['LABEL']=='growthmindset') | (complete_data['LABEL']=='excited') | (complete_data['LABEL']=='hiring') | (complete_data['LABEL']=='positivity') | (complete_data['LABEL']=='positivevibes') | (complete_data['LABEL']=='grateful') | (complete_data['LABEL']=='newjob') | (complete_data['LABEL']=='blessed') | (complete_data['LABEL']=='happy') | (complete_data['LABEL']=='lmao') | (complete_data['LABEL']=='funny') | (complete_data['LABEL']=='fun') | (complete_data['LABEL']=='lol') , 1, -1)"
      ]
    },
    {
      "cell_type": "code",
      "execution_count": null,
      "metadata": {
        "colab": {
          "base_uri": "https://localhost:8080/",
          "height": 406
        },
        "id": "uKAoAbGMbs5z",
        "outputId": "e1ecf39a-5ee3-4c1f-cdb4-61a98ad830cf"
      },
      "outputs": [
        {
          "output_type": "execute_result",
          "data": {
            "text/plain": [
              "                                                                                                                                                                                                                                                                                                                                                                                                                                                                                                                                                                                                                                        POSTS  \\\n",
              "0                                                                                                                                                                                                                                                                                                                                                            let our experienced technofunctional teams support your existing applications while you focus on your new initiatives and innovations globally based offshore hybrid or onsite applicationdevelopment technicalsupport apolis nearshore itmanangedservice managedserviceprovider   \n",
              "1  personally i strongly support activists and i even admire their activities send petitions to the government  parliament or peacefully protest outside westminster however i do not support blocking roads to demand changes as this action does not convince people instead it makes people feel absurd and annoying especially when someone is in emergency and they want to go to hospital for treatment immediately in case they could not get treatment on time their life will be at risk and protesters who blocks roads will have to take responsibility for their actions protests just stop oil what is it and what are its goals   \n",
              "2                                                                         let us not be hoodwinked by just stopoils illconsidered remembrance comment they stopped because they have alienated the very people they need to support them and a grown up in the group has realised thatits a perfect example of not thinking through the consequences of actions  a total lack of risk management or awareness maybe they will think through their approaches in future and make them more targetedwhat do people think would be an effective way for them to protestjuststopoil riskmanagement protests just stop oil m protests to be halted   \n",
              "3                                                                                                                                                                                            what is the fallout from another morning of protests on the m massive disruption across north west kent  it is not just the motorway affected this is the traffic through the usually sleepy hamlet of bean just off the bluewater junction from the a do just stop oil have a justifiable right to cause this mayhem or are their methods alienating people that could help them influence mpsjuststopoil protests traffic m northwestkent kent   \n",
              "4                                                                                                                                                                                                                                                                                                                                                                                          given the forthcoming general election in nigeria how much youth participation are you witnessing especially with the lingering emotions from the endsars protestdo you think nigerian youths are ready to make  count nigeria governance protests   \n",
              "\n",
              "      LABEL  TAGS  \n",
              "0  protests    -1  \n",
              "1  protests    -1  \n",
              "2  protests    -1  \n",
              "3  protests    -1  \n",
              "4  protests    -1  "
            ],
            "text/html": [
              "\n",
              "  <div id=\"df-19df67a3-0d1c-4e3d-bb81-c09f2e0b00cd\">\n",
              "    <div class=\"colab-df-container\">\n",
              "      <div>\n",
              "<style scoped>\n",
              "    .dataframe tbody tr th:only-of-type {\n",
              "        vertical-align: middle;\n",
              "    }\n",
              "\n",
              "    .dataframe tbody tr th {\n",
              "        vertical-align: top;\n",
              "    }\n",
              "\n",
              "    .dataframe thead th {\n",
              "        text-align: right;\n",
              "    }\n",
              "</style>\n",
              "<table border=\"1\" class=\"dataframe\">\n",
              "  <thead>\n",
              "    <tr style=\"text-align: right;\">\n",
              "      <th></th>\n",
              "      <th>POSTS</th>\n",
              "      <th>LABEL</th>\n",
              "      <th>TAGS</th>\n",
              "    </tr>\n",
              "  </thead>\n",
              "  <tbody>\n",
              "    <tr>\n",
              "      <th>0</th>\n",
              "      <td>let our experienced technofunctional teams support your existing applications while you focus on your new initiatives and innovations globally based offshore hybrid or onsite applicationdevelopment technicalsupport apolis nearshore itmanangedservice managedserviceprovider</td>\n",
              "      <td>protests</td>\n",
              "      <td>-1</td>\n",
              "    </tr>\n",
              "    <tr>\n",
              "      <th>1</th>\n",
              "      <td>personally i strongly support activists and i even admire their activities send petitions to the government  parliament or peacefully protest outside westminster however i do not support blocking roads to demand changes as this action does not convince people instead it makes people feel absurd and annoying especially when someone is in emergency and they want to go to hospital for treatment immediately in case they could not get treatment on time their life will be at risk and protesters who blocks roads will have to take responsibility for their actions protests just stop oil what is it and what are its goals</td>\n",
              "      <td>protests</td>\n",
              "      <td>-1</td>\n",
              "    </tr>\n",
              "    <tr>\n",
              "      <th>2</th>\n",
              "      <td>let us not be hoodwinked by just stopoils illconsidered remembrance comment they stopped because they have alienated the very people they need to support them and a grown up in the group has realised thatits a perfect example of not thinking through the consequences of actions  a total lack of risk management or awareness maybe they will think through their approaches in future and make them more targetedwhat do people think would be an effective way for them to protestjuststopoil riskmanagement protests just stop oil m protests to be halted</td>\n",
              "      <td>protests</td>\n",
              "      <td>-1</td>\n",
              "    </tr>\n",
              "    <tr>\n",
              "      <th>3</th>\n",
              "      <td>what is the fallout from another morning of protests on the m massive disruption across north west kent  it is not just the motorway affected this is the traffic through the usually sleepy hamlet of bean just off the bluewater junction from the a do just stop oil have a justifiable right to cause this mayhem or are their methods alienating people that could help them influence mpsjuststopoil protests traffic m northwestkent kent</td>\n",
              "      <td>protests</td>\n",
              "      <td>-1</td>\n",
              "    </tr>\n",
              "    <tr>\n",
              "      <th>4</th>\n",
              "      <td>given the forthcoming general election in nigeria how much youth participation are you witnessing especially with the lingering emotions from the endsars protestdo you think nigerian youths are ready to make  count nigeria governance protests</td>\n",
              "      <td>protests</td>\n",
              "      <td>-1</td>\n",
              "    </tr>\n",
              "  </tbody>\n",
              "</table>\n",
              "</div>\n",
              "      <button class=\"colab-df-convert\" onclick=\"convertToInteractive('df-19df67a3-0d1c-4e3d-bb81-c09f2e0b00cd')\"\n",
              "              title=\"Convert this dataframe to an interactive table.\"\n",
              "              style=\"display:none;\">\n",
              "        \n",
              "  <svg xmlns=\"http://www.w3.org/2000/svg\" height=\"24px\"viewBox=\"0 0 24 24\"\n",
              "       width=\"24px\">\n",
              "    <path d=\"M0 0h24v24H0V0z\" fill=\"none\"/>\n",
              "    <path d=\"M18.56 5.44l.94 2.06.94-2.06 2.06-.94-2.06-.94-.94-2.06-.94 2.06-2.06.94zm-11 1L8.5 8.5l.94-2.06 2.06-.94-2.06-.94L8.5 2.5l-.94 2.06-2.06.94zm10 10l.94 2.06.94-2.06 2.06-.94-2.06-.94-.94-2.06-.94 2.06-2.06.94z\"/><path d=\"M17.41 7.96l-1.37-1.37c-.4-.4-.92-.59-1.43-.59-.52 0-1.04.2-1.43.59L10.3 9.45l-7.72 7.72c-.78.78-.78 2.05 0 2.83L4 21.41c.39.39.9.59 1.41.59.51 0 1.02-.2 1.41-.59l7.78-7.78 2.81-2.81c.8-.78.8-2.07 0-2.86zM5.41 20L4 18.59l7.72-7.72 1.47 1.35L5.41 20z\"/>\n",
              "  </svg>\n",
              "      </button>\n",
              "      \n",
              "  <style>\n",
              "    .colab-df-container {\n",
              "      display:flex;\n",
              "      flex-wrap:wrap;\n",
              "      gap: 12px;\n",
              "    }\n",
              "\n",
              "    .colab-df-convert {\n",
              "      background-color: #E8F0FE;\n",
              "      border: none;\n",
              "      border-radius: 50%;\n",
              "      cursor: pointer;\n",
              "      display: none;\n",
              "      fill: #1967D2;\n",
              "      height: 32px;\n",
              "      padding: 0 0 0 0;\n",
              "      width: 32px;\n",
              "    }\n",
              "\n",
              "    .colab-df-convert:hover {\n",
              "      background-color: #E2EBFA;\n",
              "      box-shadow: 0px 1px 2px rgba(60, 64, 67, 0.3), 0px 1px 3px 1px rgba(60, 64, 67, 0.15);\n",
              "      fill: #174EA6;\n",
              "    }\n",
              "\n",
              "    [theme=dark] .colab-df-convert {\n",
              "      background-color: #3B4455;\n",
              "      fill: #D2E3FC;\n",
              "    }\n",
              "\n",
              "    [theme=dark] .colab-df-convert:hover {\n",
              "      background-color: #434B5C;\n",
              "      box-shadow: 0px 1px 3px 1px rgba(0, 0, 0, 0.15);\n",
              "      filter: drop-shadow(0px 1px 2px rgba(0, 0, 0, 0.3));\n",
              "      fill: #FFFFFF;\n",
              "    }\n",
              "  </style>\n",
              "\n",
              "      <script>\n",
              "        const buttonEl =\n",
              "          document.querySelector('#df-19df67a3-0d1c-4e3d-bb81-c09f2e0b00cd button.colab-df-convert');\n",
              "        buttonEl.style.display =\n",
              "          google.colab.kernel.accessAllowed ? 'block' : 'none';\n",
              "\n",
              "        async function convertToInteractive(key) {\n",
              "          const element = document.querySelector('#df-19df67a3-0d1c-4e3d-bb81-c09f2e0b00cd');\n",
              "          const dataTable =\n",
              "            await google.colab.kernel.invokeFunction('convertToInteractive',\n",
              "                                                     [key], {});\n",
              "          if (!dataTable) return;\n",
              "\n",
              "          const docLinkHtml = 'Like what you see? Visit the ' +\n",
              "            '<a target=\"_blank\" href=https://colab.research.google.com/notebooks/data_table.ipynb>data table notebook</a>'\n",
              "            + ' to learn more about interactive tables.';\n",
              "          element.innerHTML = '';\n",
              "          dataTable['output_type'] = 'display_data';\n",
              "          await google.colab.output.renderOutput(dataTable, element);\n",
              "          const docLink = document.createElement('div');\n",
              "          docLink.innerHTML = docLinkHtml;\n",
              "          element.appendChild(docLink);\n",
              "        }\n",
              "      </script>\n",
              "    </div>\n",
              "  </div>\n",
              "  "
            ]
          },
          "metadata": {},
          "execution_count": 19
        }
      ],
      "source": [
        "complete_data.head()"
      ]
    },
    {
      "cell_type": "code",
      "execution_count": null,
      "metadata": {
        "colab": {
          "base_uri": "https://localhost:8080/",
          "height": 285
        },
        "id": "7NDfMqbkcZaB",
        "outputId": "e8ec2795-e4dd-441e-924e-c0de483f63db"
      },
      "outputs": [
        {
          "output_type": "execute_result",
          "data": {
            "text/plain": [
              "<matplotlib.axes._subplots.AxesSubplot at 0x7fd7372ce490>"
            ]
          },
          "metadata": {},
          "execution_count": 16
        },
        {
          "output_type": "display_data",
          "data": {
            "text/plain": [
              "<Figure size 432x288 with 1 Axes>"
            ],
            "image/png": "[encoded data removed]"
          },
          "metadata": {
            "needs_background": "light"
          }
        }
      ],
      "source": [
        "complete_data['TAGS'].hist()"
      ]
    },
    {
      "cell_type": "code",
      "execution_count": null,
      "metadata": {
        "colab": {
          "base_uri": "https://localhost:8080/"
        },
        "id": "BQxiobO9Dx6U",
        "outputId": "da8b01b2-a4fb-4c43-b09c-e0ac126d3235"
      },
      "outputs": [
        {
          "output_type": "execute_result",
          "data": {
            "text/plain": [
              "-1    9603\n",
              " 1    7144\n",
              "Name: TAGS, dtype: int64"
            ]
          },
          "metadata": {},
          "execution_count": 20
        }
      ],
      "source": [
        "complete_data['TAGS'].value_counts()"
      ]
    },
    {
      "cell_type": "code",
      "execution_count": null,
      "metadata": {
        "colab": {
          "base_uri": "https://localhost:8080/",
          "height": 884
        },
        "id": "fLOBo7lFovEc",
        "outputId": "84d09d5b-e546-4e8f-f318-01a37d832c1b"
      },
      "outputs": [
        {
          "output_type": "execute_result",
          "data": {
            "text/plain": [
              "       index  \\\n",
              "0          0   \n",
              "1          1   \n",
              "2          2   \n",
              "3          3   \n",
              "4          4   \n",
              "...      ...   \n",
              "14395  16742   \n",
              "14396  16743   \n",
              "14397  16744   \n",
              "14398  16745   \n",
              "14399  16746   \n",
              "\n",
              "                                                                                                                                                                                                                                                                                                                                                                                                                                                                                                                                                                                                                                                                                                                                                                                                                                                                                                                                                                                                                                                                                                                                                                                                                                                                                                                                                                   POSTS  \\\n",
              "0                                                                                                                                                                                                                                                                                                                                                                                                                                                                                                                                                                                                                                                                                                                                                                                                                                                                                                                                                                                                                                                                                       let our experienced technofunctional teams support your existing applications while you focus on your new initiatives and innovations globally based offshore hybrid or onsite applicationdevelopment technicalsupport apolis nearshore itmanangedservice managedserviceprovider   \n",
              "1                                                                                                                                                                                                                                                                                                                                                                                                                                                                                                                                                                                                                                                                                                                             personally i strongly support activists and i even admire their activities send petitions to the government  parliament or peacefully protest outside westminster however i do not support blocking roads to demand changes as this action does not convince people instead it makes people feel absurd and annoying especially when someone is in emergency and they want to go to hospital for treatment immediately in case they could not get treatment on time their life will be at risk and protesters who blocks roads will have to take responsibility for their actions protests just stop oil what is it and what are its goals   \n",
              "2                                                                                                                                                                                                                                                                                                                                                                                                                                                                                                                                                                                                                                                                                                                                                                                                    let us not be hoodwinked by just stopoils illconsidered remembrance comment they stopped because they have alienated the very people they need to support them and a grown up in the group has realised thatits a perfect example of not thinking through the consequences of actions  a total lack of risk management or awareness maybe they will think through their approaches in future and make them more targetedwhat do people think would be an effective way for them to protestjuststopoil riskmanagement protests just stop oil m protests to be halted   \n",
              "3                                                                                                                                                                                                                                                                                                                                                                                                                                                                                                                                                                                                                                                                                                                                                                                                                                                                                                                       what is the fallout from another morning of protests on the m massive disruption across north west kent  it is not just the motorway affected this is the traffic through the usually sleepy hamlet of bean just off the bluewater junction from the a do just stop oil have a justifiable right to cause this mayhem or are their methods alienating people that could help them influence mpsjuststopoil protests traffic m northwestkent kent   \n",
              "4                                                                                                                                                                                                                                                                                                                                                                                                                                                                                                                                                                                                                                                                                                                                                                                                                                                                                                                                                                                                                                                                                                                     given the forthcoming general election in nigeria how much youth participation are you witnessing especially with the lingering emotions from the endsars protestdo you think nigerian youths are ready to make  count nigeria governance protests   \n",
              "...                                                                                                                                                                                                                                                                                                                                                                                                                                                                                                                                                                                                                                                                                                                                                                                                                                                                                                                                                                                                                                                                                                                                                                                                                                                                                                                                                                  ...   \n",
              "14395                                                                                                                                                                                                                                                                                                                                                                                                                                                                                                                                                                                                                                                                                                                                                                                                                                                                                                                                                          le bilan de comptence estil suffisant pour crer un nouveau projet professionnelquelques lments de rponse dans ma video laspect mental et motionnel de lindividu est au cyou are dun changement de carrire russiamandinewellbeing coaching developpementpersonnel transition impactpositif pnl nlp travail healthymindset carrire reconversionprofessionnelle bilandecompetences entreprise motivation job   \n",
              "14396                                                                                                                                                                                                                                                                                                                                                                                                                                                                                                                                                                                                                                                                                                                                                                                                                                                                                                                     monday motivationhealthy food for energy boosting bananas avocados eggs yogurt nuts berries apples oatmeal beanslearn about my health makeover program and schedule a free  minute consultation httpslnkdinemtdmmqdeatcleanbevital putyourselffirst healthcoach healthylifestyle healthyfood healthy wellnesscoach hardworkingwomennutritioncoach lifestylechange nutureyourself holistichealth healthymindset healthyhabits womensempowerment   \n",
              "14397  it is day  of our nd annual can we laugh at cancer comedy challenge rating warning language and concept this is a very atypical joke for us i was asked to write  more intense cancercentric jokes of  posts for people who like more raw humormy story behind the joke this is my most risque joke but it is true my husband does not carenext steps dm your email if you want to be notified of our upcoming comedycures research study and my fall podcast launchplease like and share this comedy post please also consider a donation to the comedycures foundation to support our free live and digital awardwinning therapeutic comedycures programming for patients caregivers and healthcare workerstell everyone to follow comedycures and saranneliveto learn more about my stage iv cancer story comedycures programs or to donate visit wwwcomedycuresorg or click the link in our biocomedycures healthymindset comicrelief humorheals dailyfunny findingthefunny cancerhumor cancercomedian cancercomedy oncology cancersupport cancersurvivor metastaticcancer cancerwarrior breastcancer cancerawareness cancerprogram womenshealthcoach stagecancer womenshealthcare womenshealthmagazine cancersupportcommunity womenwithcancer momswithcancer hahahaha comedycureslaughline psychoneuroimmunology cancerresearch researchstudy healthcarehero   \n",
              "14398                                                                                                                                                                                                                                                                                                                                                                                                                                                                                                                                                                                                                                                                                                                                                                                                                                                                                                                                                                                                                        check your lung capacity in  minfitnessfightfatlossfun getfitathome fitnessathome loseweightathome losingweightathome gethealthy weightlosschallenge fatlosschallenge inchlosschallenge wajanghatao petkamkaro fitraho packabs workoutfromhome intentionalliving healthyyou fatfreelife fitnessmindset healthymindset looseweightgainhealth   \n",
              "14399                                                                                                                                                                                                                                                                                                                                                                                                                                                                                                                                                                                                                                                                                                                                                                                                                                                                                                                                many people find it difficult to start doing workouts tell me your reason behind it  i will tell you how to overcome it fitnessfightfatlossfun getfitathome fitnessathome loseweightathome losingweightathome gethealthy weightlosschallenge fatlosschallenge inchlosschallenge wajanghatao petkamkaro fitraho packabs workoutfromhome intentionalliving healthyyou fatfreelife fitnessmindset healthymindset looseweightgainhealth   \n",
              "\n",
              "                LABEL  TAGS  \n",
              "0            protests    -1  \n",
              "1            protests    -1  \n",
              "2            protests    -1  \n",
              "3            protests    -1  \n",
              "4            protests    -1  \n",
              "...               ...   ...  \n",
              "14395  healthymindset     1  \n",
              "14396  healthymindset     1  \n",
              "14397  healthymindset     1  \n",
              "14398  healthymindset     1  \n",
              "14399  healthymindset     1  \n",
              "\n",
              "[14400 rows x 4 columns]"
            ],
            "text/html": [
              "\n",
              "  <div id=\"df-a85c41fe-7f52-4936-a877-be47fc25a4dd\">\n",
              "    <div class=\"colab-df-container\">\n",
              "      <div>\n",
              "<style scoped>\n",
              "    .dataframe tbody tr th:only-of-type {\n",
              "        vertical-align: middle;\n",
              "    }\n",
              "\n",
              "    .dataframe tbody tr th {\n",
              "        vertical-align: top;\n",
              "    }\n",
              "\n",
              "    .dataframe thead th {\n",
              "        text-align: right;\n",
              "    }\n",
              "</style>\n",
              "<table border=\"1\" class=\"dataframe\">\n",
              "  <thead>\n",
              "    <tr style=\"text-align: right;\">\n",
              "      <th></th>\n",
              "      <th>index</th>\n",
              "      <th>POSTS</th>\n",
              "      <th>LABEL</th>\n",
              "      <th>TAGS</th>\n",
              "    </tr>\n",
              "  </thead>\n",
              "  <tbody>\n",
              "    <tr>\n",
              "      <th>0</th>\n",
              "      <td>0</td>\n",
              "      <td>let our experienced technofunctional teams support your existing applications while you focus on your new initiatives and innovations globally based offshore hybrid or onsite applicationdevelopment technicalsupport apolis nearshore itmanangedservice managedserviceprovider</td>\n",
              "      <td>protests</td>\n",
              "      <td>-1</td>\n",
              "    </tr>\n",
              "    <tr>\n",
              "      <th>1</th>\n",
              "      <td>1</td>\n",
              "      <td>personally i strongly support activists and i even admire their activities send petitions to the government  parliament or peacefully protest outside westminster however i do not support blocking roads to demand changes as this action does not convince people instead it makes people feel absurd and annoying especially when someone is in emergency and they want to go to hospital for treatment immediately in case they could not get treatment on time their life will be at risk and protesters who blocks roads will have to take responsibility for their actions protests just stop oil what is it and what are its goals</td>\n",
              "      <td>protests</td>\n",
              "      <td>-1</td>\n",
              "    </tr>\n",
              "    <tr>\n",
              "      <th>2</th>\n",
              "      <td>2</td>\n",
              "      <td>let us not be hoodwinked by just stopoils illconsidered remembrance comment they stopped because they have alienated the very people they need to support them and a grown up in the group has realised thatits a perfect example of not thinking through the consequences of actions  a total lack of risk management or awareness maybe they will think through their approaches in future and make them more targetedwhat do people think would be an effective way for them to protestjuststopoil riskmanagement protests just stop oil m protests to be halted</td>\n",
              "      <td>protests</td>\n",
              "      <td>-1</td>\n",
              "    </tr>\n",
              "    <tr>\n",
              "      <th>3</th>\n",
              "      <td>3</td>\n",
              "      <td>what is the fallout from another morning of protests on the m massive disruption across north west kent  it is not just the motorway affected this is the traffic through the usually sleepy hamlet of bean just off the bluewater junction from the a do just stop oil have a justifiable right to cause this mayhem or are their methods alienating people that could help them influence mpsjuststopoil protests traffic m northwestkent kent</td>\n",
              "      <td>protests</td>\n",
              "      <td>-1</td>\n",
              "    </tr>\n",
              "    <tr>\n",
              "      <th>4</th>\n",
              "      <td>4</td>\n",
              "      <td>given the forthcoming general election in nigeria how much youth participation are you witnessing especially with the lingering emotions from the endsars protestdo you think nigerian youths are ready to make  count nigeria governance protests</td>\n",
              "      <td>protests</td>\n",
              "      <td>-1</td>\n",
              "    </tr>\n",
              "    <tr>\n",
              "      <th>...</th>\n",
              "      <td>...</td>\n",
              "      <td>...</td>\n",
              "      <td>...</td>\n",
              "      <td>...</td>\n",
              "    </tr>\n",
              "    <tr>\n",
              "      <th>14395</th>\n",
              "      <td>16742</td>\n",
              "      <td>le bilan de comptence estil suffisant pour crer un nouveau projet professionnelquelques lments de rponse dans ma video laspect mental et motionnel de lindividu est au cyou are dun changement de carrire russiamandinewellbeing coaching developpementpersonnel transition impactpositif pnl nlp travail healthymindset carrire reconversionprofessionnelle bilandecompetences entreprise motivation job</td>\n",
              "      <td>healthymindset</td>\n",
              "      <td>1</td>\n",
              "    </tr>\n",
              "    <tr>\n",
              "      <th>14396</th>\n",
              "      <td>16743</td>\n",
              "      <td>monday motivationhealthy food for energy boosting bananas avocados eggs yogurt nuts berries apples oatmeal beanslearn about my health makeover program and schedule a free  minute consultation httpslnkdinemtdmmqdeatcleanbevital putyourselffirst healthcoach healthylifestyle healthyfood healthy wellnesscoach hardworkingwomennutritioncoach lifestylechange nutureyourself holistichealth healthymindset healthyhabits womensempowerment</td>\n",
              "      <td>healthymindset</td>\n",
              "      <td>1</td>\n",
              "    </tr>\n",
              "    <tr>\n",
              "      <th>14397</th>\n",
              "      <td>16744</td>\n",
              "      <td>it is day  of our nd annual can we laugh at cancer comedy challenge rating warning language and concept this is a very atypical joke for us i was asked to write  more intense cancercentric jokes of  posts for people who like more raw humormy story behind the joke this is my most risque joke but it is true my husband does not carenext steps dm your email if you want to be notified of our upcoming comedycures research study and my fall podcast launchplease like and share this comedy post please also consider a donation to the comedycures foundation to support our free live and digital awardwinning therapeutic comedycures programming for patients caregivers and healthcare workerstell everyone to follow comedycures and saranneliveto learn more about my stage iv cancer story comedycures programs or to donate visit wwwcomedycuresorg or click the link in our biocomedycures healthymindset comicrelief humorheals dailyfunny findingthefunny cancerhumor cancercomedian cancercomedy oncology cancersupport cancersurvivor metastaticcancer cancerwarrior breastcancer cancerawareness cancerprogram womenshealthcoach stagecancer womenshealthcare womenshealthmagazine cancersupportcommunity womenwithcancer momswithcancer hahahaha comedycureslaughline psychoneuroimmunology cancerresearch researchstudy healthcarehero</td>\n",
              "      <td>healthymindset</td>\n",
              "      <td>1</td>\n",
              "    </tr>\n",
              "    <tr>\n",
              "      <th>14398</th>\n",
              "      <td>16745</td>\n",
              "      <td>check your lung capacity in  minfitnessfightfatlossfun getfitathome fitnessathome loseweightathome losingweightathome gethealthy weightlosschallenge fatlosschallenge inchlosschallenge wajanghatao petkamkaro fitraho packabs workoutfromhome intentionalliving healthyyou fatfreelife fitnessmindset healthymindset looseweightgainhealth</td>\n",
              "      <td>healthymindset</td>\n",
              "      <td>1</td>\n",
              "    </tr>\n",
              "    <tr>\n",
              "      <th>14399</th>\n",
              "      <td>16746</td>\n",
              "      <td>many people find it difficult to start doing workouts tell me your reason behind it  i will tell you how to overcome it fitnessfightfatlossfun getfitathome fitnessathome loseweightathome losingweightathome gethealthy weightlosschallenge fatlosschallenge inchlosschallenge wajanghatao petkamkaro fitraho packabs workoutfromhome intentionalliving healthyyou fatfreelife fitnessmindset healthymindset looseweightgainhealth</td>\n",
              "      <td>healthymindset</td>\n",
              "      <td>1</td>\n",
              "    </tr>\n",
              "  </tbody>\n",
              "</table>\n",
              "<p>14400 rows × 4 columns</p>\n",
              "</div>\n",
              "      <button class=\"colab-df-convert\" onclick=\"convertToInteractive('df-a85c41fe-7f52-4936-a877-be47fc25a4dd')\"\n",
              "              title=\"Convert this dataframe to an interactive table.\"\n",
              "              style=\"display:none;\">\n",
              "        \n",
              "  <svg xmlns=\"http://www.w3.org/2000/svg\" height=\"24px\"viewBox=\"0 0 24 24\"\n",
              "       width=\"24px\">\n",
              "    <path d=\"M0 0h24v24H0V0z\" fill=\"none\"/>\n",
              "    <path d=\"M18.56 5.44l.94 2.06.94-2.06 2.06-.94-2.06-.94-.94-2.06-.94 2.06-2.06.94zm-11 1L8.5 8.5l.94-2.06 2.06-.94-2.06-.94L8.5 2.5l-.94 2.06-2.06.94zm10 10l.94 2.06.94-2.06 2.06-.94-2.06-.94-.94-2.06-.94 2.06-2.06.94z\"/><path d=\"M17.41 7.96l-1.37-1.37c-.4-.4-.92-.59-1.43-.59-.52 0-1.04.2-1.43.59L10.3 9.45l-7.72 7.72c-.78.78-.78 2.05 0 2.83L4 21.41c.39.39.9.59 1.41.59.51 0 1.02-.2 1.41-.59l7.78-7.78 2.81-2.81c.8-.78.8-2.07 0-2.86zM5.41 20L4 18.59l7.72-7.72 1.47 1.35L5.41 20z\"/>\n",
              "  </svg>\n",
              "      </button>\n",
              "      \n",
              "  <style>\n",
              "    .colab-df-container {\n",
              "      display:flex;\n",
              "      flex-wrap:wrap;\n",
              "      gap: 12px;\n",
              "    }\n",
              "\n",
              "    .colab-df-convert {\n",
              "      background-color: #E8F0FE;\n",
              "      border: none;\n",
              "      border-radius: 50%;\n",
              "      cursor: pointer;\n",
              "      display: none;\n",
              "      fill: #1967D2;\n",
              "      height: 32px;\n",
              "      padding: 0 0 0 0;\n",
              "      width: 32px;\n",
              "    }\n",
              "\n",
              "    .colab-df-convert:hover {\n",
              "      background-color: #E2EBFA;\n",
              "      box-shadow: 0px 1px 2px rgba(60, 64, 67, 0.3), 0px 1px 3px 1px rgba(60, 64, 67, 0.15);\n",
              "      fill: #174EA6;\n",
              "    }\n",
              "\n",
              "    [theme=dark] .colab-df-convert {\n",
              "      background-color: #3B4455;\n",
              "      fill: #D2E3FC;\n",
              "    }\n",
              "\n",
              "    [theme=dark] .colab-df-convert:hover {\n",
              "      background-color: #434B5C;\n",
              "      box-shadow: 0px 1px 3px 1px rgba(0, 0, 0, 0.15);\n",
              "      filter: drop-shadow(0px 1px 2px rgba(0, 0, 0, 0.3));\n",
              "      fill: #FFFFFF;\n",
              "    }\n",
              "  </style>\n",
              "\n",
              "      <script>\n",
              "        const buttonEl =\n",
              "          document.querySelector('#df-a85c41fe-7f52-4936-a877-be47fc25a4dd button.colab-df-convert');\n",
              "        buttonEl.style.display =\n",
              "          google.colab.kernel.accessAllowed ? 'block' : 'none';\n",
              "\n",
              "        async function convertToInteractive(key) {\n",
              "          const element = document.querySelector('#df-a85c41fe-7f52-4936-a877-be47fc25a4dd');\n",
              "          const dataTable =\n",
              "            await google.colab.kernel.invokeFunction('convertToInteractive',\n",
              "                                                     [key], {});\n",
              "          if (!dataTable) return;\n",
              "\n",
              "          const docLinkHtml = 'Like what you see? Visit the ' +\n",
              "            '<a target=\"_blank\" href=https://colab.research.google.com/notebooks/data_table.ipynb>data table notebook</a>'\n",
              "            + ' to learn more about interactive tables.';\n",
              "          element.innerHTML = '';\n",
              "          dataTable['output_type'] = 'display_data';\n",
              "          await google.colab.output.renderOutput(dataTable, element);\n",
              "          const docLink = document.createElement('div');\n",
              "          docLink.innerHTML = docLinkHtml;\n",
              "          element.appendChild(docLink);\n",
              "        }\n",
              "      </script>\n",
              "    </div>\n",
              "  </div>\n",
              "  "
            ]
          },
          "metadata": {},
          "execution_count": 21
        }
      ],
      "source": [
        "complete_data=complete_data.drop_duplicates(keep='last').reset_index()\n",
        "complete_data"
      ]
    },
    {
      "cell_type": "code",
      "source": [
        "complete_data['POSTS'].replace('', np.nan, inplace=True)\n",
        "complete_data.dropna(subset=['POSTS'], inplace=True)\n",
        "complete_data"
      ],
      "metadata": {
        "colab": {
          "base_uri": "https://localhost:8080/",
          "height": 884
        },
        "id": "n0oHOeGbkh2j",
        "outputId": "75865bed-80f3-4c13-8ec0-6af41d9837c6"
      },
      "execution_count": null,
      "outputs": [
        {
          "output_type": "execute_result",
          "data": {
            "text/plain": [
              "       index  \\\n",
              "0          0   \n",
              "1          1   \n",
              "2          2   \n",
              "3          3   \n",
              "4          4   \n",
              "...      ...   \n",
              "14395  16742   \n",
              "14396  16743   \n",
              "14397  16744   \n",
              "14398  16745   \n",
              "14399  16746   \n",
              "\n",
              "                                                                                                                                                                                                                                                                                                                                                                                                                                                                                                                                                                                                                                                                                                                                                                                                                                                                                                                                                                                                                                                                                                                                                                                                                                                                                                                                                                   POSTS  \\\n",
              "0                                                                                                                                                                                                                                                                                                                                                                                                                                                                                                                                                                                                                                                                                                                                                                                                                                                                                                                                                                                                                                                                                       let our experienced technofunctional teams support your existing applications while you focus on your new initiatives and innovations globally based offshore hybrid or onsite applicationdevelopment technicalsupport apolis nearshore itmanangedservice managedserviceprovider   \n",
              "1                                                                                                                                                                                                                                                                                                                                                                                                                                                                                                                                                                                                                                                                                                                             personally i strongly support activists and i even admire their activities send petitions to the government  parliament or peacefully protest outside westminster however i do not support blocking roads to demand changes as this action does not convince people instead it makes people feel absurd and annoying especially when someone is in emergency and they want to go to hospital for treatment immediately in case they could not get treatment on time their life will be at risk and protesters who blocks roads will have to take responsibility for their actions protests just stop oil what is it and what are its goals   \n",
              "2                                                                                                                                                                                                                                                                                                                                                                                                                                                                                                                                                                                                                                                                                                                                                                                                    let us not be hoodwinked by just stopoils illconsidered remembrance comment they stopped because they have alienated the very people they need to support them and a grown up in the group has realised thatits a perfect example of not thinking through the consequences of actions  a total lack of risk management or awareness maybe they will think through their approaches in future and make them more targetedwhat do people think would be an effective way for them to protestjuststopoil riskmanagement protests just stop oil m protests to be halted   \n",
              "3                                                                                                                                                                                                                                                                                                                                                                                                                                                                                                                                                                                                                                                                                                                                                                                                                                                                                                                       what is the fallout from another morning of protests on the m massive disruption across north west kent  it is not just the motorway affected this is the traffic through the usually sleepy hamlet of bean just off the bluewater junction from the a do just stop oil have a justifiable right to cause this mayhem or are their methods alienating people that could help them influence mpsjuststopoil protests traffic m northwestkent kent   \n",
              "4                                                                                                                                                                                                                                                                                                                                                                                                                                                                                                                                                                                                                                                                                                                                                                                                                                                                                                                                                                                                                                                                                                                     given the forthcoming general election in nigeria how much youth participation are you witnessing especially with the lingering emotions from the endsars protestdo you think nigerian youths are ready to make  count nigeria governance protests   \n",
              "...                                                                                                                                                                                                                                                                                                                                                                                                                                                                                                                                                                                                                                                                                                                                                                                                                                                                                                                                                                                                                                                                                                                                                                                                                                                                                                                                                                  ...   \n",
              "14395                                                                                                                                                                                                                                                                                                                                                                                                                                                                                                                                                                                                                                                                                                                                                                                                                                                                                                                                                          le bilan de comptence estil suffisant pour crer un nouveau projet professionnelquelques lments de rponse dans ma video laspect mental et motionnel de lindividu est au cyou are dun changement de carrire russiamandinewellbeing coaching developpementpersonnel transition impactpositif pnl nlp travail healthymindset carrire reconversionprofessionnelle bilandecompetences entreprise motivation job   \n",
              "14396                                                                                                                                                                                                                                                                                                                                                                                                                                                                                                                                                                                                                                                                                                                                                                                                                                                                                                                     monday motivationhealthy food for energy boosting bananas avocados eggs yogurt nuts berries apples oatmeal beanslearn about my health makeover program and schedule a free  minute consultation httpslnkdinemtdmmqdeatcleanbevital putyourselffirst healthcoach healthylifestyle healthyfood healthy wellnesscoach hardworkingwomennutritioncoach lifestylechange nutureyourself holistichealth healthymindset healthyhabits womensempowerment   \n",
              "14397  it is day  of our nd annual can we laugh at cancer comedy challenge rating warning language and concept this is a very atypical joke for us i was asked to write  more intense cancercentric jokes of  posts for people who like more raw humormy story behind the joke this is my most risque joke but it is true my husband does not carenext steps dm your email if you want to be notified of our upcoming comedycures research study and my fall podcast launchplease like and share this comedy post please also consider a donation to the comedycures foundation to support our free live and digital awardwinning therapeutic comedycures programming for patients caregivers and healthcare workerstell everyone to follow comedycures and saranneliveto learn more about my stage iv cancer story comedycures programs or to donate visit wwwcomedycuresorg or click the link in our biocomedycures healthymindset comicrelief humorheals dailyfunny findingthefunny cancerhumor cancercomedian cancercomedy oncology cancersupport cancersurvivor metastaticcancer cancerwarrior breastcancer cancerawareness cancerprogram womenshealthcoach stagecancer womenshealthcare womenshealthmagazine cancersupportcommunity womenwithcancer momswithcancer hahahaha comedycureslaughline psychoneuroimmunology cancerresearch researchstudy healthcarehero   \n",
              "14398                                                                                                                                                                                                                                                                                                                                                                                                                                                                                                                                                                                                                                                                                                                                                                                                                                                                                                                                                                                                                        check your lung capacity in  minfitnessfightfatlossfun getfitathome fitnessathome loseweightathome losingweightathome gethealthy weightlosschallenge fatlosschallenge inchlosschallenge wajanghatao petkamkaro fitraho packabs workoutfromhome intentionalliving healthyyou fatfreelife fitnessmindset healthymindset looseweightgainhealth   \n",
              "14399                                                                                                                                                                                                                                                                                                                                                                                                                                                                                                                                                                                                                                                                                                                                                                                                                                                                                                                                many people find it difficult to start doing workouts tell me your reason behind it  i will tell you how to overcome it fitnessfightfatlossfun getfitathome fitnessathome loseweightathome losingweightathome gethealthy weightlosschallenge fatlosschallenge inchlosschallenge wajanghatao petkamkaro fitraho packabs workoutfromhome intentionalliving healthyyou fatfreelife fitnessmindset healthymindset looseweightgainhealth   \n",
              "\n",
              "                LABEL  TAGS  \n",
              "0            protests    -1  \n",
              "1            protests    -1  \n",
              "2            protests    -1  \n",
              "3            protests    -1  \n",
              "4            protests    -1  \n",
              "...               ...   ...  \n",
              "14395  healthymindset     1  \n",
              "14396  healthymindset     1  \n",
              "14397  healthymindset     1  \n",
              "14398  healthymindset     1  \n",
              "14399  healthymindset     1  \n",
              "\n",
              "[14376 rows x 4 columns]"
            ],
            "text/html": [
              "\n",
              "  <div id=\"df-9f64a622-7079-4e66-a962-3ac8428065de\">\n",
              "    <div class=\"colab-df-container\">\n",
              "      <div>\n",
              "<style scoped>\n",
              "    .dataframe tbody tr th:only-of-type {\n",
              "        vertical-align: middle;\n",
              "    }\n",
              "\n",
              "    .dataframe tbody tr th {\n",
              "        vertical-align: top;\n",
              "    }\n",
              "\n",
              "    .dataframe thead th {\n",
              "        text-align: right;\n",
              "    }\n",
              "</style>\n",
              "<table border=\"1\" class=\"dataframe\">\n",
              "  <thead>\n",
              "    <tr style=\"text-align: right;\">\n",
              "      <th></th>\n",
              "      <th>index</th>\n",
              "      <th>POSTS</th>\n",
              "      <th>LABEL</th>\n",
              "      <th>TAGS</th>\n",
              "    </tr>\n",
              "  </thead>\n",
              "  <tbody>\n",
              "    <tr>\n",
              "      <th>0</th>\n",
              "      <td>0</td>\n",
              "      <td>let our experienced technofunctional teams support your existing applications while you focus on your new initiatives and innovations globally based offshore hybrid or onsite applicationdevelopment technicalsupport apolis nearshore itmanangedservice managedserviceprovider</td>\n",
              "      <td>protests</td>\n",
              "      <td>-1</td>\n",
              "    </tr>\n",
              "    <tr>\n",
              "      <th>1</th>\n",
              "      <td>1</td>\n",
              "      <td>personally i strongly support activists and i even admire their activities send petitions to the government  parliament or peacefully protest outside westminster however i do not support blocking roads to demand changes as this action does not convince people instead it makes people feel absurd and annoying especially when someone is in emergency and they want to go to hospital for treatment immediately in case they could not get treatment on time their life will be at risk and protesters who blocks roads will have to take responsibility for their actions protests just stop oil what is it and what are its goals</td>\n",
              "      <td>protests</td>\n",
              "      <td>-1</td>\n",
              "    </tr>\n",
              "    <tr>\n",
              "      <th>2</th>\n",
              "      <td>2</td>\n",
              "      <td>let us not be hoodwinked by just stopoils illconsidered remembrance comment they stopped because they have alienated the very people they need to support them and a grown up in the group has realised thatits a perfect example of not thinking through the consequences of actions  a total lack of risk management or awareness maybe they will think through their approaches in future and make them more targetedwhat do people think would be an effective way for them to protestjuststopoil riskmanagement protests just stop oil m protests to be halted</td>\n",
              "      <td>protests</td>\n",
              "      <td>-1</td>\n",
              "    </tr>\n",
              "    <tr>\n",
              "      <th>3</th>\n",
              "      <td>3</td>\n",
              "      <td>what is the fallout from another morning of protests on the m massive disruption across north west kent  it is not just the motorway affected this is the traffic through the usually sleepy hamlet of bean just off the bluewater junction from the a do just stop oil have a justifiable right to cause this mayhem or are their methods alienating people that could help them influence mpsjuststopoil protests traffic m northwestkent kent</td>\n",
              "      <td>protests</td>\n",
              "      <td>-1</td>\n",
              "    </tr>\n",
              "    <tr>\n",
              "      <th>4</th>\n",
              "      <td>4</td>\n",
              "      <td>given the forthcoming general election in nigeria how much youth participation are you witnessing especially with the lingering emotions from the endsars protestdo you think nigerian youths are ready to make  count nigeria governance protests</td>\n",
              "      <td>protests</td>\n",
              "      <td>-1</td>\n",
              "    </tr>\n",
              "    <tr>\n",
              "      <th>...</th>\n",
              "      <td>...</td>\n",
              "      <td>...</td>\n",
              "      <td>...</td>\n",
              "      <td>...</td>\n",
              "    </tr>\n",
              "    <tr>\n",
              "      <th>14395</th>\n",
              "      <td>16742</td>\n",
              "      <td>le bilan de comptence estil suffisant pour crer un nouveau projet professionnelquelques lments de rponse dans ma video laspect mental et motionnel de lindividu est au cyou are dun changement de carrire russiamandinewellbeing coaching developpementpersonnel transition impactpositif pnl nlp travail healthymindset carrire reconversionprofessionnelle bilandecompetences entreprise motivation job</td>\n",
              "      <td>healthymindset</td>\n",
              "      <td>1</td>\n",
              "    </tr>\n",
              "    <tr>\n",
              "      <th>14396</th>\n",
              "      <td>16743</td>\n",
              "      <td>monday motivationhealthy food for energy boosting bananas avocados eggs yogurt nuts berries apples oatmeal beanslearn about my health makeover program and schedule a free  minute consultation httpslnkdinemtdmmqdeatcleanbevital putyourselffirst healthcoach healthylifestyle healthyfood healthy wellnesscoach hardworkingwomennutritioncoach lifestylechange nutureyourself holistichealth healthymindset healthyhabits womensempowerment</td>\n",
              "      <td>healthymindset</td>\n",
              "      <td>1</td>\n",
              "    </tr>\n",
              "    <tr>\n",
              "      <th>14397</th>\n",
              "      <td>16744</td>\n",
              "      <td>it is day  of our nd annual can we laugh at cancer comedy challenge rating warning language and concept this is a very atypical joke for us i was asked to write  more intense cancercentric jokes of  posts for people who like more raw humormy story behind the joke this is my most risque joke but it is true my husband does not carenext steps dm your email if you want to be notified of our upcoming comedycures research study and my fall podcast launchplease like and share this comedy post please also consider a donation to the comedycures foundation to support our free live and digital awardwinning therapeutic comedycures programming for patients caregivers and healthcare workerstell everyone to follow comedycures and saranneliveto learn more about my stage iv cancer story comedycures programs or to donate visit wwwcomedycuresorg or click the link in our biocomedycures healthymindset comicrelief humorheals dailyfunny findingthefunny cancerhumor cancercomedian cancercomedy oncology cancersupport cancersurvivor metastaticcancer cancerwarrior breastcancer cancerawareness cancerprogram womenshealthcoach stagecancer womenshealthcare womenshealthmagazine cancersupportcommunity womenwithcancer momswithcancer hahahaha comedycureslaughline psychoneuroimmunology cancerresearch researchstudy healthcarehero</td>\n",
              "      <td>healthymindset</td>\n",
              "      <td>1</td>\n",
              "    </tr>\n",
              "    <tr>\n",
              "      <th>14398</th>\n",
              "      <td>16745</td>\n",
              "      <td>check your lung capacity in  minfitnessfightfatlossfun getfitathome fitnessathome loseweightathome losingweightathome gethealthy weightlosschallenge fatlosschallenge inchlosschallenge wajanghatao petkamkaro fitraho packabs workoutfromhome intentionalliving healthyyou fatfreelife fitnessmindset healthymindset looseweightgainhealth</td>\n",
              "      <td>healthymindset</td>\n",
              "      <td>1</td>\n",
              "    </tr>\n",
              "    <tr>\n",
              "      <th>14399</th>\n",
              "      <td>16746</td>\n",
              "      <td>many people find it difficult to start doing workouts tell me your reason behind it  i will tell you how to overcome it fitnessfightfatlossfun getfitathome fitnessathome loseweightathome losingweightathome gethealthy weightlosschallenge fatlosschallenge inchlosschallenge wajanghatao petkamkaro fitraho packabs workoutfromhome intentionalliving healthyyou fatfreelife fitnessmindset healthymindset looseweightgainhealth</td>\n",
              "      <td>healthymindset</td>\n",
              "      <td>1</td>\n",
              "    </tr>\n",
              "  </tbody>\n",
              "</table>\n",
              "<p>14376 rows × 4 columns</p>\n",
              "</div>\n",
              "      <button class=\"colab-df-convert\" onclick=\"convertToInteractive('df-9f64a622-7079-4e66-a962-3ac8428065de')\"\n",
              "              title=\"Convert this dataframe to an interactive table.\"\n",
              "              style=\"display:none;\">\n",
              "        \n",
              "  <svg xmlns=\"http://www.w3.org/2000/svg\" height=\"24px\"viewBox=\"0 0 24 24\"\n",
              "       width=\"24px\">\n",
              "    <path d=\"M0 0h24v24H0V0z\" fill=\"none\"/>\n",
              "    <path d=\"M18.56 5.44l.94 2.06.94-2.06 2.06-.94-2.06-.94-.94-2.06-.94 2.06-2.06.94zm-11 1L8.5 8.5l.94-2.06 2.06-.94-2.06-.94L8.5 2.5l-.94 2.06-2.06.94zm10 10l.94 2.06.94-2.06 2.06-.94-2.06-.94-.94-2.06-.94 2.06-2.06.94z\"/><path d=\"M17.41 7.96l-1.37-1.37c-.4-.4-.92-.59-1.43-.59-.52 0-1.04.2-1.43.59L10.3 9.45l-7.72 7.72c-.78.78-.78 2.05 0 2.83L4 21.41c.39.39.9.59 1.41.59.51 0 1.02-.2 1.41-.59l7.78-7.78 2.81-2.81c.8-.78.8-2.07 0-2.86zM5.41 20L4 18.59l7.72-7.72 1.47 1.35L5.41 20z\"/>\n",
              "  </svg>\n",
              "      </button>\n",
              "      \n",
              "  <style>\n",
              "    .colab-df-container {\n",
              "      display:flex;\n",
              "      flex-wrap:wrap;\n",
              "      gap: 12px;\n",
              "    }\n",
              "\n",
              "    .colab-df-convert {\n",
              "      background-color: #E8F0FE;\n",
              "      border: none;\n",
              "      border-radius: 50%;\n",
              "      cursor: pointer;\n",
              "      display: none;\n",
              "      fill: #1967D2;\n",
              "      height: 32px;\n",
              "      padding: 0 0 0 0;\n",
              "      width: 32px;\n",
              "    }\n",
              "\n",
              "    .colab-df-convert:hover {\n",
              "      background-color: #E2EBFA;\n",
              "      box-shadow: 0px 1px 2px rgba(60, 64, 67, 0.3), 0px 1px 3px 1px rgba(60, 64, 67, 0.15);\n",
              "      fill: #174EA6;\n",
              "    }\n",
              "\n",
              "    [theme=dark] .colab-df-convert {\n",
              "      background-color: #3B4455;\n",
              "      fill: #D2E3FC;\n",
              "    }\n",
              "\n",
              "    [theme=dark] .colab-df-convert:hover {\n",
              "      background-color: #434B5C;\n",
              "      box-shadow: 0px 1px 3px 1px rgba(0, 0, 0, 0.15);\n",
              "      filter: drop-shadow(0px 1px 2px rgba(0, 0, 0, 0.3));\n",
              "      fill: #FFFFFF;\n",
              "    }\n",
              "  </style>\n",
              "\n",
              "      <script>\n",
              "        const buttonEl =\n",
              "          document.querySelector('#df-9f64a622-7079-4e66-a962-3ac8428065de button.colab-df-convert');\n",
              "        buttonEl.style.display =\n",
              "          google.colab.kernel.accessAllowed ? 'block' : 'none';\n",
              "\n",
              "        async function convertToInteractive(key) {\n",
              "          const element = document.querySelector('#df-9f64a622-7079-4e66-a962-3ac8428065de');\n",
              "          const dataTable =\n",
              "            await google.colab.kernel.invokeFunction('convertToInteractive',\n",
              "                                                     [key], {});\n",
              "          if (!dataTable) return;\n",
              "\n",
              "          const docLinkHtml = 'Like what you see? Visit the ' +\n",
              "            '<a target=\"_blank\" href=https://colab.research.google.com/notebooks/data_table.ipynb>data table notebook</a>'\n",
              "            + ' to learn more about interactive tables.';\n",
              "          element.innerHTML = '';\n",
              "          dataTable['output_type'] = 'display_data';\n",
              "          await google.colab.output.renderOutput(dataTable, element);\n",
              "          const docLink = document.createElement('div');\n",
              "          docLink.innerHTML = docLinkHtml;\n",
              "          element.appendChild(docLink);\n",
              "        }\n",
              "      </script>\n",
              "    </div>\n",
              "  </div>\n",
              "  "
            ]
          },
          "metadata": {},
          "execution_count": 22
        }
      ]
    },
    {
      "cell_type": "markdown",
      "metadata": {
        "id": "XlcQKO18nIWi"
      },
      "source": [
        "**FastText Embeddings using pretrained embeddings (Facebook model)**"
      ]
    },
    {
      "cell_type": "code",
      "execution_count": null,
      "metadata": {
        "colab": {
          "base_uri": "https://localhost:8080/"
        },
        "id": "4Xc-wavVnM2a",
        "outputId": "135c2854-6041-4f33-8c6f-36ea245c2457"
      },
      "outputs": [
        {
          "output_type": "stream",
          "name": "stdout",
          "text": [
            "Looking in indexes: https://pypi.org/simple, https://us-python.pkg.dev/colab-wheels/public/simple/\n",
            "Collecting fasttext\n",
            "  Downloading fasttext-0.9.2.tar.gz (68 kB)\n",
            "\u001b[?25l\r\u001b[K     |████▊                           | 10 kB 24.0 MB/s eta 0:00:01\r\u001b[K     |█████████▌                      | 20 kB 25.7 MB/s eta 0:00:01\r\u001b[K     |██████████████▎                 | 30 kB 32.5 MB/s eta 0:00:01\r\u001b[K     |███████████████████             | 40 kB 24.7 MB/s eta 0:00:01\r\u001b[K     |███████████████████████▉        | 51 kB 27.9 MB/s eta 0:00:01\r\u001b[K     |████████████████████████████▋   | 61 kB 31.5 MB/s eta 0:00:01\r\u001b[K     |████████████████████████████████| 68 kB 6.4 MB/s \n",
            "\u001b[?25hCollecting pybind11>=2.2\n",
            "  Using cached pybind11-2.10.1-py3-none-any.whl (216 kB)\n",
            "Requirement already satisfied: setuptools>=0.7.0 in /usr/local/lib/python3.7/dist-packages (from fasttext) (57.4.0)\n",
            "Requirement already satisfied: numpy in /usr/local/lib/python3.7/dist-packages (from fasttext) (1.21.6)\n",
            "Building wheels for collected packages: fasttext\n",
            "  Building wheel for fasttext (setup.py) ... \u001b[?25l\u001b[?25hdone\n",
            "  Created wheel for fasttext: filename=fasttext-0.9.2-cp37-cp37m-linux_x86_64.whl size=3164886 sha256=36c1a5fe88686b60a446df79d1047cb10858dc8ea89016d6c1924dd6e8dc053a\n",
            "  Stored in directory: /root/.cache/pip/wheels/4e/ca/bf/b020d2be95f7641801a6597a29c8f4f19e38f9c02a345bab9b\n",
            "Successfully built fasttext\n",
            "Installing collected packages: pybind11, fasttext\n",
            "Successfully installed fasttext-0.9.2 pybind11-2.10.1\n"
          ]
        }
      ],
      "source": [
        "!pip install fasttext\n",
        "import fasttext\n",
        "import fasttext.util"
      ]
    },
    {
      "cell_type": "code",
      "execution_count": null,
      "metadata": {
        "id": "O8xc94ylnM6F"
      },
      "outputs": [],
      "source": [
        "# fasttext.util.download_model('en', if_exists='ignore')\n",
        "# ft = fasttext.load_model('cc.en.300.bin')"
      ]
    },
    {
      "cell_type": "code",
      "execution_count": null,
      "metadata": {
        "id": "BqXDBjfaYhYG"
      },
      "outputs": [],
      "source": [
        "# ft.save_model('/content/gdrive/MyDrive/Colab Notebooks/cc.en.100.bin')"
      ]
    },
    {
      "cell_type": "code",
      "execution_count": null,
      "metadata": {
        "colab": {
          "base_uri": "https://localhost:8080/"
        },
        "id": "Z90Q1LjInM_Z",
        "outputId": "71dbc122-b1e2-4865-ef83-4a7e3608e60b"
      },
      "outputs": [
        {
          "output_type": "stream",
          "name": "stderr",
          "text": [
            "Warning : `load_model` does not return WordVectorModel or SupervisedModel any more, but a `FastText` object which is very similar.\n"
          ]
        }
      ],
      "source": [
        "model = fasttext.load_model('/content/gdrive/MyDrive/Colab Notebooks/cc.en.100.bin')"
      ]
    },
    {
      "cell_type": "code",
      "execution_count": null,
      "metadata": {
        "colab": {
          "base_uri": "https://localhost:8080/"
        },
        "id": "_oxRTTsmQtks",
        "outputId": "c1cb68c8-ead8-4350-ed31-2ea4a31b062a"
      },
      "outputs": [
        {
          "output_type": "execute_result",
          "data": {
            "text/plain": [
              "300"
            ]
          },
          "metadata": {},
          "execution_count": 25
        }
      ],
      "source": [
        "model.get_dimension()"
      ]
    },
    {
      "cell_type": "code",
      "execution_count": null,
      "metadata": {
        "colab": {
          "base_uri": "https://localhost:8080/"
        },
        "id": "bw7fHvrRmEa9",
        "outputId": "c965de0a-c93b-4e5a-e77f-1c4ab5aba846"
      },
      "outputs": [
        {
          "output_type": "stream",
          "name": "stderr",
          "text": [
            "100%|██████████| 14376/14376 [00:00<00:00, 39579.84it/s]\n"
          ]
        }
      ],
      "source": [
        "post_lst=complete_data['POSTS']\n",
        "from tqdm import tqdm\n",
        "word_tokenizer = nltk.WordPunctTokenizer()\n",
        "word_tokens = [word_tokenizer.tokenize(sent) for sent in tqdm(post_lst)]"
      ]
    },
    {
      "cell_type": "code",
      "execution_count": null,
      "metadata": {
        "id": "RlDMJA81PLZv"
      },
      "outputs": [],
      "source": [
        "from keras.preprocessing.text import Tokenizer\n",
        "from keras_preprocessing.sequence import pad_sequences\n",
        "#max_features = 2000\n",
        "#tokenizer = Tokenizer(num_words = max_features, )\n",
        "tokenizer = Tokenizer()\n",
        "tokenizer.fit_on_texts(complete_data['POSTS'].values)\n",
        "X = tokenizer.texts_to_sequences(complete_data['POSTS'].values)\n",
        "X = pad_sequences(X, padding = 'post' , maxlen=100)\n",
        "Y = pd.get_dummies(complete_data['TAGS']).values\n",
        "#Y= complete_data['TAGS']\n",
        "\n",
        "vocab_size = len(tokenizer.word_index)+1"
      ]
    },
    {
      "cell_type": "code",
      "source": [
        "# from imblearn.under_sampling import RandomUnderSampler\n",
        "# from collections import Counter\n",
        "# rus = RandomUnderSampler(random_state=42, replacement=True)# fit predictor and target variable\n",
        "# x_rus, y_rus = rus.fit_resample(X, Y)\n",
        "\n",
        "# print('original dataset shape:', Counter(Y))\n",
        "# print('Resample dataset shape', Counter(y_rus))"
      ],
      "metadata": {
        "colab": {
          "base_uri": "https://localhost:8080/"
        },
        "id": "CN1iFkyvZmeq",
        "outputId": "3b306540-c6be-4c41-8fa4-fe3c5af94266"
      },
      "execution_count": null,
      "outputs": [
        {
          "output_type": "stream",
          "name": "stdout",
          "text": [
            "original dataset shape: Counter({-1: 8311, 1: 6065})\n",
            "Resample dataset shape Counter({-1: 6065, 1: 6065})\n"
          ]
        }
      ]
    },
    {
      "cell_type": "code",
      "execution_count": null,
      "metadata": {
        "colab": {
          "base_uri": "https://localhost:8080/"
        },
        "id": "cHet92aJPXCw",
        "outputId": "8ac32492-4fb9-4fda-fcc2-bc921ab5d151"
      },
      "outputs": [
        {
          "output_type": "stream",
          "name": "stdout",
          "text": [
            "(10782, 100) (10782, 2)\n",
            "(3594, 100) (3594, 2)\n"
          ]
        }
      ],
      "source": [
        "#Y_rus = pd.get_dummies(y_rus).values\n",
        "from sklearn.model_selection import train_test_split\n",
        "X_train, X_test, Y_train, Y_test = train_test_split(X,Y, test_size = 0.25, random_state = 42)\n",
        "print(X_train.shape,Y_train.shape)\n",
        "print(X_test.shape,Y_test.shape)"
      ]
    },
    {
      "cell_type": "code",
      "execution_count": null,
      "metadata": {
        "colab": {
          "base_uri": "https://localhost:8080/"
        },
        "id": "TI_RHLSTzEBu",
        "outputId": "5d93afdd-e62b-4c48-bc69-03f5b5a00f27"
      },
      "outputs": [
        {
          "output_type": "stream",
          "name": "stderr",
          "text": [
            "100%|██████████| 92516/92516 [00:01<00:00, 63553.72it/s]\n"
          ]
        }
      ],
      "source": [
        "embedding_matrix = np.zeros((vocab_size,300))\n",
        "for word,i in tqdm(tokenizer.word_index.items()):\n",
        "    embedding_value = model.get_word_vector(word)\n",
        "    embedding_matrix[i] = embedding_value"
      ]
    },
    {
      "cell_type": "code",
      "execution_count": null,
      "metadata": {
        "colab": {
          "base_uri": "https://localhost:8080/"
        },
        "id": "zZuPt8MqzNDA",
        "outputId": "d89b5a19-91e5-4b14-c78d-ad15853cd08e"
      },
      "outputs": [
        {
          "output_type": "execute_result",
          "data": {
            "text/plain": [
              "(92517, 27755100)"
            ]
          },
          "metadata": {},
          "execution_count": 30
        }
      ],
      "source": [
        "len(embedding_matrix),embedding_matrix.size"
      ]
    },
    {
      "cell_type": "code",
      "execution_count": null,
      "metadata": {
        "colab": {
          "base_uri": "https://localhost:8080/"
        },
        "id": "vEZXyImZ8A94",
        "outputId": "9e2b9d1a-7b6c-4561-f3e2-df188713588b"
      },
      "outputs": [
        {
          "output_type": "stream",
          "name": "stdout",
          "text": [
            "Model: \"sequential_1\"\n",
            "_________________________________________________________________\n",
            " Layer (type)                Output Shape              Param #   \n",
            "=================================================================\n",
            " embedding_1 (Embedding)     (None, None, 300)         27755100  \n",
            "                                                                 \n",
            " bidirectional_1 (Bidirectio  (None, 256)              439296    \n",
            " nal)                                                            \n",
            "                                                                 \n",
            " dense_3 (Dense)             (None, 128)               32896     \n",
            "                                                                 \n",
            " dropout_1 (Dropout)         (None, 128)               0         \n",
            "                                                                 \n",
            " dense_4 (Dense)             (None, 64)                8256      \n",
            "                                                                 \n",
            " dense_5 (Dense)             (None, 2)                 130       \n",
            "                                                                 \n",
            "=================================================================\n",
            "Total params: 28,235,678\n",
            "Trainable params: 480,578\n",
            "Non-trainable params: 27,755,100\n",
            "_________________________________________________________________\n"
          ]
        }
      ],
      "source": [
        "import tensorflow as tf\n",
        "from tensorflow import keras\n",
        "from tensorflow.keras import layers\n",
        "from tensorflow.keras import losses\n",
        "from tensorflow.keras import preprocessing\n",
        "from tensorflow.keras import utils\n",
        "from tensorflow.keras.layers.experimental.preprocessing import TextVectorization\n",
        "\n",
        "\n",
        "from keras.layers import Dense, Embedding, LSTM, SpatialDropout1D, Bidirectional, Dropout\n",
        "embid_dim = 300\n",
        "lstm_out = 128\n",
        "lstm_model = keras.Sequential()\n",
        "lstm_model.add(Embedding(vocab_size, embid_dim, weights = [embedding_matrix] , trainable = False))\n",
        "lstm_model.add(Bidirectional(LSTM(lstm_out, dropout=0.2)))\n",
        "lstm_model.add(Dense(128, activation = 'relu'))\n",
        "lstm_model.add(Dropout(0.5))\n",
        "lstm_model.add(Dense(64, activation = 'relu'))\n",
        "lstm_model.add(Dense(2, activation = 'softmax'))  #if used pd.get dummies above\n",
        "lstm_model.summary()"
      ]
    },
    {
      "cell_type": "code",
      "execution_count": null,
      "metadata": {
        "colab": {
          "base_uri": "https://localhost:8080/"
        },
        "id": "AfWjN-ux8BDW",
        "outputId": "f2d72363-eb7c-43cb-b7fb-c949453d9c96"
      },
      "outputs": [
        {
          "output_type": "stream",
          "name": "stdout",
          "text": [
            "Epoch 1/50\n",
            "54/54 [==============================] - 88s 2s/step - loss: 0.6250 - accuracy: 0.6491 - val_loss: 0.4887 - val_accuracy: 0.7660\n",
            "Epoch 2/50\n",
            "54/54 [==============================] - 76s 1s/step - loss: 0.4625 - accuracy: 0.7876 - val_loss: 0.4331 - val_accuracy: 0.7927\n",
            "Epoch 3/50\n",
            "54/54 [==============================] - 78s 1s/step - loss: 0.4131 - accuracy: 0.8107 - val_loss: 0.3973 - val_accuracy: 0.8152\n",
            "Epoch 4/50\n",
            "54/54 [==============================] - 78s 1s/step - loss: 0.3796 - accuracy: 0.8254 - val_loss: 0.3931 - val_accuracy: 0.8116\n",
            "Epoch 5/50\n",
            "54/54 [==============================] - 76s 1s/step - loss: 0.3658 - accuracy: 0.8306 - val_loss: 0.3884 - val_accuracy: 0.8297\n",
            "Epoch 6/50\n",
            "54/54 [==============================] - 77s 1s/step - loss: 0.3412 - accuracy: 0.8472 - val_loss: 0.3650 - val_accuracy: 0.8392\n",
            "Epoch 7/50\n",
            "54/54 [==============================] - 78s 1s/step - loss: 0.3347 - accuracy: 0.8479 - val_loss: 0.3651 - val_accuracy: 0.8278\n",
            "Epoch 8/50\n",
            "54/54 [==============================] - 76s 1s/step - loss: 0.3030 - accuracy: 0.8591 - val_loss: 0.3450 - val_accuracy: 0.8434\n",
            "Epoch 9/50\n",
            "54/54 [==============================] - 78s 1s/step - loss: 0.2891 - accuracy: 0.8659 - val_loss: 0.3482 - val_accuracy: 0.8356\n",
            "Epoch 10/50\n",
            "54/54 [==============================] - 79s 1s/step - loss: 0.2837 - accuracy: 0.8694 - val_loss: 0.3477 - val_accuracy: 0.8375\n",
            "Epoch 11/50\n",
            "54/54 [==============================] - 78s 1s/step - loss: 0.2643 - accuracy: 0.8804 - val_loss: 0.3507 - val_accuracy: 0.8225\n",
            "Epoch 12/50\n",
            "54/54 [==============================] - 78s 1s/step - loss: 0.2522 - accuracy: 0.8866 - val_loss: 0.3409 - val_accuracy: 0.8456\n",
            "Epoch 13/50\n",
            "54/54 [==============================] - 77s 1s/step - loss: 0.2462 - accuracy: 0.8856 - val_loss: 0.3388 - val_accuracy: 0.8456\n",
            "Epoch 14/50\n",
            "54/54 [==============================] - 75s 1s/step - loss: 0.2444 - accuracy: 0.8915 - val_loss: 0.3472 - val_accuracy: 0.8383\n",
            "Epoch 15/50\n",
            "54/54 [==============================] - 77s 1s/step - loss: 0.2331 - accuracy: 0.8968 - val_loss: 0.3436 - val_accuracy: 0.8492\n",
            "Epoch 16/50\n",
            "54/54 [==============================] - 76s 1s/step - loss: 0.2149 - accuracy: 0.9023 - val_loss: 0.3283 - val_accuracy: 0.8478\n",
            "Epoch 17/50\n",
            "54/54 [==============================] - 78s 1s/step - loss: 0.2134 - accuracy: 0.9037 - val_loss: 0.3180 - val_accuracy: 0.8567\n",
            "Epoch 18/50\n",
            "54/54 [==============================] - 78s 1s/step - loss: 0.2056 - accuracy: 0.9085 - val_loss: 0.3457 - val_accuracy: 0.8567\n",
            "Epoch 19/50\n",
            "54/54 [==============================] - 75s 1s/step - loss: 0.1950 - accuracy: 0.9121 - val_loss: 0.3350 - val_accuracy: 0.8495\n",
            "Epoch 20/50\n",
            "54/54 [==============================] - 77s 1s/step - loss: 0.1907 - accuracy: 0.9180 - val_loss: 0.3570 - val_accuracy: 0.8589\n",
            "Epoch 21/50\n",
            "54/54 [==============================] - 76s 1s/step - loss: 0.1796 - accuracy: 0.9192 - val_loss: 0.3517 - val_accuracy: 0.8523\n",
            "Epoch 22/50\n",
            "54/54 [==============================] - 77s 1s/step - loss: 0.1806 - accuracy: 0.9202 - val_loss: 0.3867 - val_accuracy: 0.8542\n",
            "Epoch 23/50\n",
            "54/54 [==============================] - 75s 1s/step - loss: 0.1679 - accuracy: 0.9270 - val_loss: 0.3807 - val_accuracy: 0.8584\n",
            "Epoch 24/50\n",
            "54/54 [==============================] - 77s 1s/step - loss: 0.1676 - accuracy: 0.9294 - val_loss: 0.3784 - val_accuracy: 0.8648\n",
            "Epoch 25/50\n",
            "54/54 [==============================] - 77s 1s/step - loss: 0.1627 - accuracy: 0.9316 - val_loss: 0.3475 - val_accuracy: 0.8592\n",
            "Epoch 26/50\n",
            "54/54 [==============================] - 76s 1s/step - loss: 0.1500 - accuracy: 0.9342 - val_loss: 0.3658 - val_accuracy: 0.8575\n",
            "Epoch 27/50\n",
            "54/54 [==============================] - 77s 1s/step - loss: 0.1482 - accuracy: 0.9354 - val_loss: 0.3758 - val_accuracy: 0.8703\n"
          ]
        }
      ],
      "source": [
        "early_stopping_monitor = tf.keras.callbacks.EarlyStopping(\n",
        "    monitor='val_loss',\n",
        "    min_delta=0,\n",
        "    patience=10,\n",
        "    verbose=0,\n",
        "    mode='auto',\n",
        "    baseline=None,\n",
        "    restore_best_weights=True\n",
        ")\n",
        "batch_size = 200\n",
        "lstm_model.compile(loss = 'binary_crossentropy', optimizer='adam',metrics = ['accuracy'])\n",
        "history = lstm_model.fit(X_train, Y_train, epochs = 50, batch_size=batch_size, verbose = 1, callbacks=[early_stopping_monitor], validation_data =(X_test, Y_test))"
      ]
    },
    {
      "cell_type": "code",
      "execution_count": null,
      "metadata": {
        "colab": {
          "base_uri": "https://localhost:8080/"
        },
        "id": "iL4hRyBnFWTk",
        "outputId": "661cfbd8-0e2e-4b65-e10f-2205ae262932"
      },
      "outputs": [
        {
          "output_type": "stream",
          "name": "stderr",
          "text": [
            "WARNING:absl:Found untraced functions such as lstm_cell_4_layer_call_fn, lstm_cell_4_layer_call_and_return_conditional_losses, lstm_cell_5_layer_call_fn, lstm_cell_5_layer_call_and_return_conditional_losses while saving (showing 4 of 4). These functions will not be directly callable after loading.\n"
          ]
        }
      ],
      "source": [
        "lstm_model.save('/content/gdrive/MyDrive/Colab Notebooks/')"
      ]
    },
    {
      "cell_type": "code",
      "source": [
        "lstm_model = tf.keras.models.load_model('/content/gdrive/MyDrive/Colab Notebooks')\n",
        "\n",
        "lstm_model.summary()"
      ],
      "metadata": {
        "colab": {
          "base_uri": "https://localhost:8080/"
        },
        "id": "rih-hFv-5bE-",
        "outputId": "193c2211-ee23-44a5-fc54-d60a6105cbc3"
      },
      "execution_count": null,
      "outputs": [
        {
          "output_type": "stream",
          "name": "stdout",
          "text": [
            "Model: \"sequential\"\n",
            "_________________________________________________________________\n",
            " Layer (type)                Output Shape              Param #   \n",
            "=================================================================\n",
            " embedding (Embedding)       (None, None, 300)         25990200  \n",
            "                                                                 \n",
            " bidirectional (Bidirectiona  (None, 256)              439296    \n",
            " l)                                                              \n",
            "                                                                 \n",
            " dense (Dense)               (None, 128)               32896     \n",
            "                                                                 \n",
            " dropout (Dropout)           (None, 128)               0         \n",
            "                                                                 \n",
            " dense_1 (Dense)             (None, 64)                8256      \n",
            "                                                                 \n",
            " dense_2 (Dense)             (None, 2)                 130       \n",
            "                                                                 \n",
            "=================================================================\n",
            "Total params: 26,470,778\n",
            "Trainable params: 480,578\n",
            "Non-trainable params: 25,990,200\n",
            "_________________________________________________________________\n"
          ]
        }
      ]
    },
    {
      "cell_type": "code",
      "source": [
        "Y_test_new=[]\n",
        "for val in Y_test:\n",
        "  if val[0]==1:\n",
        "    Y_test_new.append(0)\n",
        "  else:\n",
        "    Y_test_new.append(1)"
      ],
      "metadata": {
        "id": "gAk8GD9U6r69"
      },
      "execution_count": null,
      "outputs": []
    },
    {
      "cell_type": "code",
      "source": [
        "from sklearn.metrics import classification_report\n",
        "\n",
        "y_pred = lstm_model.predict(X_test, batch_size=64, verbose=1)\n",
        "y_pred_bool = np.argmax(y_pred, axis=1)\n",
        "\n",
        "print(classification_report(Y_test_new, y_pred_bool))\n"
      ],
      "metadata": {
        "colab": {
          "base_uri": "https://localhost:8080/"
        },
        "id": "sglhcrYLiDFz",
        "outputId": "b601bc13-5b32-469c-d360-d7609e2c86f0"
      },
      "execution_count": null,
      "outputs": [
        {
          "output_type": "stream",
          "name": "stdout",
          "text": [
            "57/57 [==============================] - 20s 334ms/step\n",
            "              precision    recall  f1-score   support\n",
            "\n",
            "           0       0.85      0.91      0.88      2114\n",
            "           1       0.86      0.77      0.82      1480\n",
            "\n",
            "    accuracy                           0.86      3594\n",
            "   macro avg       0.86      0.84      0.85      3594\n",
            "weighted avg       0.86      0.86      0.86      3594\n",
            "\n"
          ]
        }
      ]
    },
    {
      "cell_type": "markdown",
      "source": [
        "**Testing the model on completely new/unseen data**"
      ],
      "metadata": {
        "id": "gvDnGemd7u78"
      }
    },
    {
      "cell_type": "code",
      "source": [
        "path = \"/content/gdrive/MyDrive/Colab Notebooks/Unseen_test_data/\"\n",
        "dir_list = os.listdir(path)\n",
        "pd.set_option('display.max_colwidth', None)"
      ],
      "metadata": {
        "id": "0cu3sDoq71Lv"
      },
      "execution_count": null,
      "outputs": []
    },
    {
      "cell_type": "code",
      "source": [
        "all_lines_list=list()\n",
        "labels_list=list()\n",
        "for filename in dir_list:\n",
        "    file_extension_val=filename.split('.')\n",
        "    file_extension=file_extension_val[1]\n",
        "    if(file_extension=='txt'):\n",
        "        label=filename.split('_')\n",
        "        label=label[2]\n",
        "        label=label.split('.')\n",
        "        label=label[0]\n",
        "        labels_list.append(label)\n",
        "        # with open(\"/content/gdrive/MyDrive/Colab Notebooks/Unseen_test_data/\"+filename, encoding='unicode_escape') as file_ptr:\n",
        "        with open(path + \"/\" + filename, encoding='utf-8') as file_ptr:\n",
        "            lines_temp = list()\n",
        "            for line in file_ptr:\n",
        "                if(line.strip()!=\"-----------------------------\"):\n",
        "                    lines_temp.append(line)\n",
        "            all_lines_list.append(lines_temp)"
      ],
      "metadata": {
        "id": "dtARbkQc8sOP"
      },
      "execution_count": null,
      "outputs": []
    },
    {
      "cell_type": "code",
      "source": [
        "df_posts=pd.DataFrame()\n",
        "labels_global_list=list()\n",
        "label_index=0\n",
        "for lst in all_lines_list:\n",
        "    df_temp = pd.DataFrame(lst)\n",
        "    df_posts=df_posts.append(df_temp,ignore_index=True,)\n",
        "#     label_length=len(lst)\n",
        "    for i in range(len(lst)):\n",
        "        labels_global_list.append(labels_list[label_index])\n",
        "    label_index=label_index+1\n",
        "    \n",
        "df_labels = pd.DataFrame(labels_global_list)"
      ],
      "metadata": {
        "id": "61AVeRAs8sUu"
      },
      "execution_count": null,
      "outputs": []
    },
    {
      "cell_type": "code",
      "source": [
        "unseen_complete_data = pd.concat([df_posts, df_labels], axis=1)\n",
        "unseen_complete_data.columns = ['POSTS', 'LABEL']\n",
        "unseen_complete_data"
      ],
      "metadata": {
        "colab": {
          "base_uri": "https://localhost:8080/",
          "height": 1000
        },
        "id": "D5AphLcD8sbD",
        "outputId": "b8ccea04-b6e4-48db-8d47-15a6cb83f849"
      },
      "execution_count": null,
      "outputs": [
        {
          "output_type": "execute_result",
          "data": {
            "text/plain": [
              "                                                                                                                                                                                                                                                                                                                                                                                                                                                                                                                                                                                                                                                                                                                                                                                                                                                                                                                                                                                                                                                                                                                                                                                                                                                                                                                                                                                                                                                                                                                                                                                                                                                                                                                                                                                                                                                                                                                                                                                                                                                                                                                                                                                                                                                                                                                                                                                                                                                                                                                                                                                                                                                                                                                                                                                                                                                                                                                                  POSTS  \\\n",
              "0                                                                                                                                                                                                                                                                                                                                                                                                                                                                                                                                                                                                                                                                                                                                                                                                                                                                                                                                                                                                                                                                                                                                                                                                                                                                                                                                                                                                                                                                                                                                                                                                                                                                                                                                                                                                                                                                                                                                                                                                                                                                                                                                                                                                                                                                                                                                                                                                                                                                                                                                                                                                                                                                                                                                                                                                                                                  Does Excel run on Mac? You bet. So do Word, PowerPoint, and all the apps you need.\\n   \n",
              "1                                                                                                                                                                                                                                                                                                                                                                                                                                                                                                                                                                                                                                                                                                                                                                                                                                                                                                                                                                                                                                                                                                                                                                                                                                                                                                                                                                                                                                                                                                                                                                                                                                                                                                                                                                                                                                                                                                                                                                                                                                                                                                                                                                                                                                                                                                                                                                                                                                                                                                                                                                                                                                                                                                                                                                                                                                I'm about to start a new role at Capgemini and containing myself is a real issue.Don't ask 😌#excited\\n   \n",
              "2                                                                                                                                                                                                                                                                                                                                                                                                                                                                                                                                                                                                                                                                                                                                                                                                                                                                                                                                                                                                                                                                                                                                                                                                                                                                                                                                                                                                                                                                                                                                                                                                                                                                                                                                                                                                                                                                                                                                                                                                                                                                                                                                                                                                                                                                                                                                                                                                                                                                                                                                                                                                                                                                                                                                                                                                                                                                                                               New chapter. #excited\\n   \n",
              "3                                                                                                                                                                                                                                                                                                                                                                                                                                                                                                                                                                                                                                                                                                                                                                                                                                                                                                                                                                                                                                                   Flying away from the Nest and setting off for new adventures on the other side of the planet 🗺️This day marks a couple of important milestones:-         My first post ever on LinkedIn 🚀 (Is this really a milestone?)-         My last day working at Nestlé-         The beginning of a new and exciting journey 😍I am thrilled to announce that I’ll be moving to New Zealand as of February 2023 (#excited). Driven by the willingness to enrich ourselves as individuals, to go out of our comfort zone, to experience a new professional and personal environment, and to discover new outdoor experiences, my partner and I have decided to take that step. And why not?Since I graduated from ISIPCA in 2014, the past decade at Nestlé (wow, this sounds like a lot) which started with a 2-years internship has been incredibly rich and I feel very lucky for all the projects and experiences I went through. I met inspiring people and worked on innovative projects. From being part of the Nestlé R&D accelerator to the nesQino™️ journey, and plenty of other initiatives, I enjoyed the diversity of projects, activities, and challenges.The journey has also sometimes been punctuated with some doubts and questions, which were essential to go the extra mile. Those who know me know that I am always eager to learn new things. I don’t know yet what will come next, and I am very curious to see what the future will bring… The next two months will be busy organizing the move (and solving admin stuff), enjoying time with family and friends, recharging, and settling in New Zealand. I’ll be available for work as of February 2023 and I can’t wait to discover what New Zealand has to offer. I would love to start discussions about expatriation experiences, tips about New Zealand, potential work opportunities (including remote), …\\n   \n",
              "4                                                                                                                                                                                                                                                                                                                                                                                                                                                                                                                                                                                                                                                                                                                                                                                                                                                                                                                                                                                                                                                                                                                                                                                                                                                                                                                                                                                                                                                                                                                                                                                                                                                                                                                                                                                                                                                                                                                                                                                                                                                                                                                                                                                                                                                                                                                                                                                                                                                                                                                                                                                                                                        #Excited about the great things to come from this partnership.  Gracias to my Omnicom Media Group familia (Geoffrey Calabrese, Kelly Metz, Amy Darwish) and TelevisaUnivision (Daniel Aversano, Richard Bertodatti) for making this happen! #multiculturalmarketing https://lnkd.in/eVpbW7CU\\n   \n",
              "...                                                                                                                                                                                                                                                                                                                                                                                                                                                                                                                                                                                                                                                                                                                                                                                                                                                                                                                                                                                                                                                                                                                                                                                                                                                                                                                                                                                                                                                                                                                                                                                                                                                                                                                                                                                                                                                                                                                                                                                                                                                                                                                                                                                                                                                                                                                                                                                                                                                                                                                                                                                                                                                                                                                                                                                                                                                                                                                                 ...   \n",
              "2579                                                                                                                                                                                                                                                                                                                                                                                                                                                                                                                                                                                                                                                                                                                                                                                                                                                                                                                                                                                                                                                                                                                                                                                                                                                                                                                                                                                                                                                                                                                                                                                                                                                                                                                                                                                                                                                                                                                                                                                                                                                                                                                                                                                                                                                                                                                                                                                                                                                                                                                                                                                                                                                                                                                                                                                                                                                                Automate testing to catch bugs earlier in your development cycle.\\n   \n",
              "2580  Is Twitter about to go bankrupt?https://lnkd.in/gnQtXcnC#layoff #layoffs #laidoff #job #today #linkedin #talent #searchforjobs #techlayoffs #techjobs #technews #careers #jobopening#W2 #contract #c2c #jobopportunities #career #recruiting #openforjobopportunities #Recession #Recession2022 #Recession2023 #jobsearch #ITRecruitment#java #phython #spring #springboot #microservices #hibernate #datajpa #kafka #aws #gcp #azure #javadeveloper #Akka #scala #benchsalesrecruiters#dotnetdeveloper #dotnet #devops #powerbi #uideveloper #networking #scrummaster #data #opportunity #opportunities #fullstackdeveloper #engineering #techcommunity #layoffsandjobreductions #hiring #team #development #grateful #comment #softwareengineering #frontend#dataanalysis #businessintelligence #processimprovement #industrialengineering #newopportunities #analyst #dataengineer #opentowork #openforwork #twitter #stripe #lyft #amazon #apple #microsoft #facebook #tesla #philips #zillow #convey #jpmc #salesforce #nytimes #nypost #wsj #layoff #layoffs #laidoff #job #today#javafullstackdeveloper #javajobs #hiringimmediately #hiring #hiringtalent #marketing #project # #project #Snap #softwareengineer #work#leadership #digitalhealth #medicaldevice #biotechnology #projectAdditionally #career #opportunities #activelylooking #talent #businessintelligenceanalyst #international #students #CPT #OPT #EAD #OPTEAD #Fulltime #H1B #H4EAD #TN #TNVISA #tnjobs #H1BVISA #Citizens #GC #GCEAD #uscitizens #usajobs #usc #usajob #usa2022 #usa #usa2023 #usaitjobs #uscontractjobs #usjobseeker #usjob#dataanalyst #businessanalyst #businessanalysis #analytics #workplace #outsourcedhr #payroll #onboarding#pgmp #productdevelopment #programmanagement #productmanagement #ProjectManagement #productmanager #programmanager #culture #remotework#jobalert #canadajobs #fulltimeposition #candidatesearch #fulltimejobs #jobfair #jobdescription #jobavailable #jobchangers #canada #canadaworkvisa #fulltime #copr #canadastaffing #canadarecruitment #canadacareers #canadajobseeker #canadaitjob #torontocanada #canadaitjobs #jobhiring #jobforyou #jobalerts #canadaprvisa #canadajobseekers#permanentjobs #permanentjob #permanentrecruitment #permanentrole #opentonewopportunities #torontoitjobs #jobseekers #Recruiting#Jobposting #LinkedIn #Openings #Jobvacancy #Jobalert #Jobhunters #activelyhiring #BulkCanadaJobs #informaticajobs #informatica #bigdata #hadoop#tech #help #economy #jobhunt #network#nyc #denver #colorado #losangeles #boston #tampa #florida #michiganjobs #oregoan #sandiego #houston #dallas #itjobs #washington #dallas#chicago #chicagojobs #dfw #plano #dallas #dallasjobs #austin #austinjobs #Cali #CaliJobs #California #Houston #HoustonJobs #atlanta #atlantajobs#nyc #newyork #nycjobs #newyorkjobs #detroit #michigan #mexico #mexicojobs #siliconvalley\\n   \n",
              "2581                                                                                                                                                                                                                                                                                                                                                                                                                                                                                                                                                                                                                                                                                                                                                                                                                                                                                                                                                                                                                                                                                                                                                                                                                                                                                                                                                                                                                                                                                                                                                                                                                                                                                                                                                                                                                                                                                                                                                                                                                                                                                                                                                                                                                                                                                                                                                                             That moment when the cast of #JurassicWorldDominion surprised 350 students with free laptops.Just one of many surprises for these amazing students during an all-expense-paid trip to Universal Studios to launch our Jurassic World-themed STEAM initiative. Learn more about this cross-company program with Universal Pictures, Universal Parks & Resorts, and the Council for Opportunity in Education to help ensure more young people have access to the resources and opportunities they need to succeed in today’s digital world. #ProjectUP\\n   \n",
              "2582                                                                                                                                                                                                                                                                                                                                                                                                                                                                                                                                                                                                                                                                                                                                                                                                                                                                                                                                                                                                                                                                                                                                                                                                                                                                                                                                                                                                                                                                                                                                                                                                                                                                                                                                                                                                                                                                                                                                                                                                                                                                                                                                                                                                                                                                                                                                                                                                                                                                                                                                                                                                                                                                                                                                                                                                      Develop crucial skills and knowledge in Brown’s Online MPH to address the many health challenges affecting the world today.\\n   \n",
              "2583                                                                                                                                                                                                                                                                                                                                                                                                                                                                                                                                                                                                                                                                                                                                                                                                                                                                                                                                                                                                                                                                                                                                                                                                                                                                                                                                                                                                                                                                                                                                                                                                                                                                                                                                                                                                                                                                                                                                                                                                                                                                                                                                                                                                                                                                                                                                                                                                                                                                                                                                                                                                                                                                                                                                                                                      Propel your future forward by taking courses online to earn a graduate certificate or master's degree from Stanford University. Learn more!\\n   \n",
              "\n",
              "              LABEL  \n",
              "0           excited  \n",
              "1           excited  \n",
              "2           excited  \n",
              "3           excited  \n",
              "4           excited  \n",
              "...             ...  \n",
              "2579  recession2022  \n",
              "2580  recession2022  \n",
              "2581  recession2022  \n",
              "2582  recession2022  \n",
              "2583  recession2022  \n",
              "\n",
              "[2584 rows x 2 columns]"
            ],
            "text/html": [
              "\n",
              "  <div id=\"df-bc0befc9-f78a-4596-a887-8f2b4aa03fea\">\n",
              "    <div class=\"colab-df-container\">\n",
              "      <div>\n",
              "<style scoped>\n",
              "    .dataframe tbody tr th:only-of-type {\n",
              "        vertical-align: middle;\n",
              "    }\n",
              "\n",
              "    .dataframe tbody tr th {\n",
              "        vertical-align: top;\n",
              "    }\n",
              "\n",
              "    .dataframe thead th {\n",
              "        text-align: right;\n",
              "    }\n",
              "</style>\n",
              "<table border=\"1\" class=\"dataframe\">\n",
              "  <thead>\n",
              "    <tr style=\"text-align: right;\">\n",
              "      <th></th>\n",
              "      <th>POSTS</th>\n",
              "      <th>LABEL</th>\n",
              "    </tr>\n",
              "  </thead>\n",
              "  <tbody>\n",
              "    <tr>\n",
              "      <th>0</th>\n",
              "      <td>Does Excel run on Mac? You bet. So do Word, PowerPoint, and all the apps you need.\\n</td>\n",
              "      <td>excited</td>\n",
              "    </tr>\n",
              "    <tr>\n",
              "      <th>1</th>\n",
              "      <td>I'm about to start a new role at Capgemini and containing myself is a real issue.Don't ask 😌#excited\\n</td>\n",
              "      <td>excited</td>\n",
              "    </tr>\n",
              "    <tr>\n",
              "      <th>2</th>\n",
              "      <td>New chapter. #excited\\n</td>\n",
              "      <td>excited</td>\n",
              "    </tr>\n",
              "    <tr>\n",
              "      <th>3</th>\n",
              "      <td>Flying away from the Nest and setting off for new adventures on the other side of the planet 🗺️This day marks a couple of important milestones:-         My first post ever on LinkedIn 🚀 (Is this really a milestone?)-         My last day working at Nestlé-         The beginning of a new and exciting journey 😍I am thrilled to announce that I’ll be moving to New Zealand as of February 2023 (#excited). Driven by the willingness to enrich ourselves as individuals, to go out of our comfort zone, to experience a new professional and personal environment, and to discover new outdoor experiences, my partner and I have decided to take that step. And why not?Since I graduated from ISIPCA in 2014, the past decade at Nestlé (wow, this sounds like a lot) which started with a 2-years internship has been incredibly rich and I feel very lucky for all the projects and experiences I went through. I met inspiring people and worked on innovative projects. From being part of the Nestlé R&amp;D accelerator to the nesQino™️ journey, and plenty of other initiatives, I enjoyed the diversity of projects, activities, and challenges.The journey has also sometimes been punctuated with some doubts and questions, which were essential to go the extra mile. Those who know me know that I am always eager to learn new things. I don’t know yet what will come next, and I am very curious to see what the future will bring… The next two months will be busy organizing the move (and solving admin stuff), enjoying time with family and friends, recharging, and settling in New Zealand. I’ll be available for work as of February 2023 and I can’t wait to discover what New Zealand has to offer. I would love to start discussions about expatriation experiences, tips about New Zealand, potential work opportunities (including remote), …\\n</td>\n",
              "      <td>excited</td>\n",
              "    </tr>\n",
              "    <tr>\n",
              "      <th>4</th>\n",
              "      <td>#Excited about the great things to come from this partnership.  Gracias to my Omnicom Media Group familia (Geoffrey Calabrese, Kelly Metz, Amy Darwish) and TelevisaUnivision (Daniel Aversano, Richard Bertodatti) for making this happen! #multiculturalmarketing https://lnkd.in/eVpbW7CU\\n</td>\n",
              "      <td>excited</td>\n",
              "    </tr>\n",
              "    <tr>\n",
              "      <th>...</th>\n",
              "      <td>...</td>\n",
              "      <td>...</td>\n",
              "    </tr>\n",
              "    <tr>\n",
              "      <th>2579</th>\n",
              "      <td>Automate testing to catch bugs earlier in your development cycle.\\n</td>\n",
              "      <td>recession2022</td>\n",
              "    </tr>\n",
              "    <tr>\n",
              "      <th>2580</th>\n",
              "      <td>Is Twitter about to go bankrupt?https://lnkd.in/gnQtXcnC#layoff #layoffs #laidoff #job #today #linkedin #talent #searchforjobs #techlayoffs #techjobs #technews #careers #jobopening#W2 #contract #c2c #jobopportunities #career #recruiting #openforjobopportunities #Recession #Recession2022 #Recession2023 #jobsearch #ITRecruitment#java #phython #spring #springboot #microservices #hibernate #datajpa #kafka #aws #gcp #azure #javadeveloper #Akka #scala #benchsalesrecruiters#dotnetdeveloper #dotnet #devops #powerbi #uideveloper #networking #scrummaster #data #opportunity #opportunities #fullstackdeveloper #engineering #techcommunity #layoffsandjobreductions #hiring #team #development #grateful #comment #softwareengineering #frontend#dataanalysis #businessintelligence #processimprovement #industrialengineering #newopportunities #analyst #dataengineer #opentowork #openforwork #twitter #stripe #lyft #amazon #apple #microsoft #facebook #tesla #philips #zillow #convey #jpmc #salesforce #nytimes #nypost #wsj #layoff #layoffs #laidoff #job #today#javafullstackdeveloper #javajobs #hiringimmediately #hiring #hiringtalent #marketing #project # #project #Snap #softwareengineer #work#leadership #digitalhealth #medicaldevice #biotechnology #projectAdditionally #career #opportunities #activelylooking #talent #businessintelligenceanalyst #international #students #CPT #OPT #EAD #OPTEAD #Fulltime #H1B #H4EAD #TN #TNVISA #tnjobs #H1BVISA #Citizens #GC #GCEAD #uscitizens #usajobs #usc #usajob #usa2022 #usa #usa2023 #usaitjobs #uscontractjobs #usjobseeker #usjob#dataanalyst #businessanalyst #businessanalysis #analytics #workplace #outsourcedhr #payroll #onboarding#pgmp #productdevelopment #programmanagement #productmanagement #ProjectManagement #productmanager #programmanager #culture #remotework#jobalert #canadajobs #fulltimeposition #candidatesearch #fulltimejobs #jobfair #jobdescription #jobavailable #jobchangers #canada #canadaworkvisa #fulltime #copr #canadastaffing #canadarecruitment #canadacareers #canadajobseeker #canadaitjob #torontocanada #canadaitjobs #jobhiring #jobforyou #jobalerts #canadaprvisa #canadajobseekers#permanentjobs #permanentjob #permanentrecruitment #permanentrole #opentonewopportunities #torontoitjobs #jobseekers #Recruiting#Jobposting #LinkedIn #Openings #Jobvacancy #Jobalert #Jobhunters #activelyhiring #BulkCanadaJobs #informaticajobs #informatica #bigdata #hadoop#tech #help #economy #jobhunt #network#nyc #denver #colorado #losangeles #boston #tampa #florida #michiganjobs #oregoan #sandiego #houston #dallas #itjobs #washington #dallas#chicago #chicagojobs #dfw #plano #dallas #dallasjobs #austin #austinjobs #Cali #CaliJobs #California #Houston #HoustonJobs #atlanta #atlantajobs#nyc #newyork #nycjobs #newyorkjobs #detroit #michigan #mexico #mexicojobs #siliconvalley\\n</td>\n",
              "      <td>recession2022</td>\n",
              "    </tr>\n",
              "    <tr>\n",
              "      <th>2581</th>\n",
              "      <td>That moment when the cast of #JurassicWorldDominion surprised 350 students with free laptops.Just one of many surprises for these amazing students during an all-expense-paid trip to Universal Studios to launch our Jurassic World-themed STEAM initiative. Learn more about this cross-company program with Universal Pictures, Universal Parks &amp; Resorts, and the Council for Opportunity in Education to help ensure more young people have access to the resources and opportunities they need to succeed in today’s digital world. #ProjectUP\\n</td>\n",
              "      <td>recession2022</td>\n",
              "    </tr>\n",
              "    <tr>\n",
              "      <th>2582</th>\n",
              "      <td>Develop crucial skills and knowledge in Brown’s Online MPH to address the many health challenges affecting the world today.\\n</td>\n",
              "      <td>recession2022</td>\n",
              "    </tr>\n",
              "    <tr>\n",
              "      <th>2583</th>\n",
              "      <td>Propel your future forward by taking courses online to earn a graduate certificate or master's degree from Stanford University. Learn more!\\n</td>\n",
              "      <td>recession2022</td>\n",
              "    </tr>\n",
              "  </tbody>\n",
              "</table>\n",
              "<p>2584 rows × 2 columns</p>\n",
              "</div>\n",
              "      <button class=\"colab-df-convert\" onclick=\"convertToInteractive('df-bc0befc9-f78a-4596-a887-8f2b4aa03fea')\"\n",
              "              title=\"Convert this dataframe to an interactive table.\"\n",
              "              style=\"display:none;\">\n",
              "        \n",
              "  <svg xmlns=\"http://www.w3.org/2000/svg\" height=\"24px\"viewBox=\"0 0 24 24\"\n",
              "       width=\"24px\">\n",
              "    <path d=\"M0 0h24v24H0V0z\" fill=\"none\"/>\n",
              "    <path d=\"M18.56 5.44l.94 2.06.94-2.06 2.06-.94-2.06-.94-.94-2.06-.94 2.06-2.06.94zm-11 1L8.5 8.5l.94-2.06 2.06-.94-2.06-.94L8.5 2.5l-.94 2.06-2.06.94zm10 10l.94 2.06.94-2.06 2.06-.94-2.06-.94-.94-2.06-.94 2.06-2.06.94z\"/><path d=\"M17.41 7.96l-1.37-1.37c-.4-.4-.92-.59-1.43-.59-.52 0-1.04.2-1.43.59L10.3 9.45l-7.72 7.72c-.78.78-.78 2.05 0 2.83L4 21.41c.39.39.9.59 1.41.59.51 0 1.02-.2 1.41-.59l7.78-7.78 2.81-2.81c.8-.78.8-2.07 0-2.86zM5.41 20L4 18.59l7.72-7.72 1.47 1.35L5.41 20z\"/>\n",
              "  </svg>\n",
              "      </button>\n",
              "      \n",
              "  <style>\n",
              "    .colab-df-container {\n",
              "      display:flex;\n",
              "      flex-wrap:wrap;\n",
              "      gap: 12px;\n",
              "    }\n",
              "\n",
              "    .colab-df-convert {\n",
              "      background-color: #E8F0FE;\n",
              "      border: none;\n",
              "      border-radius: 50%;\n",
              "      cursor: pointer;\n",
              "      display: none;\n",
              "      fill: #1967D2;\n",
              "      height: 32px;\n",
              "      padding: 0 0 0 0;\n",
              "      width: 32px;\n",
              "    }\n",
              "\n",
              "    .colab-df-convert:hover {\n",
              "      background-color: #E2EBFA;\n",
              "      box-shadow: 0px 1px 2px rgba(60, 64, 67, 0.3), 0px 1px 3px 1px rgba(60, 64, 67, 0.15);\n",
              "      fill: #174EA6;\n",
              "    }\n",
              "\n",
              "    [theme=dark] .colab-df-convert {\n",
              "      background-color: #3B4455;\n",
              "      fill: #D2E3FC;\n",
              "    }\n",
              "\n",
              "    [theme=dark] .colab-df-convert:hover {\n",
              "      background-color: #434B5C;\n",
              "      box-shadow: 0px 1px 3px 1px rgba(0, 0, 0, 0.15);\n",
              "      filter: drop-shadow(0px 1px 2px rgba(0, 0, 0, 0.3));\n",
              "      fill: #FFFFFF;\n",
              "    }\n",
              "  </style>\n",
              "\n",
              "      <script>\n",
              "        const buttonEl =\n",
              "          document.querySelector('#df-bc0befc9-f78a-4596-a887-8f2b4aa03fea button.colab-df-convert');\n",
              "        buttonEl.style.display =\n",
              "          google.colab.kernel.accessAllowed ? 'block' : 'none';\n",
              "\n",
              "        async function convertToInteractive(key) {\n",
              "          const element = document.querySelector('#df-bc0befc9-f78a-4596-a887-8f2b4aa03fea');\n",
              "          const dataTable =\n",
              "            await google.colab.kernel.invokeFunction('convertToInteractive',\n",
              "                                                     [key], {});\n",
              "          if (!dataTable) return;\n",
              "\n",
              "          const docLinkHtml = 'Like what you see? Visit the ' +\n",
              "            '<a target=\"_blank\" href=https://colab.research.google.com/notebooks/data_table.ipynb>data table notebook</a>'\n",
              "            + ' to learn more about interactive tables.';\n",
              "          element.innerHTML = '';\n",
              "          dataTable['output_type'] = 'display_data';\n",
              "          await google.colab.output.renderOutput(dataTable, element);\n",
              "          const docLink = document.createElement('div');\n",
              "          docLink.innerHTML = docLinkHtml;\n",
              "          element.appendChild(docLink);\n",
              "        }\n",
              "      </script>\n",
              "    </div>\n",
              "  </div>\n",
              "  "
            ]
          },
          "metadata": {},
          "execution_count": 48
        }
      ]
    },
    {
      "cell_type": "code",
      "execution_count": null,
      "metadata": {
        "id": "qMKTB-YX9PuR"
      },
      "outputs": [],
      "source": [
        "#convert to lowercase\n",
        "unseen_complete_data['POSTS']=unseen_complete_data['POSTS'].str.lower()"
      ]
    },
    {
      "cell_type": "code",
      "execution_count": null,
      "metadata": {
        "id": "LZe1AZ0c9PuR"
      },
      "outputs": [],
      "source": [
        "#remove html content\n",
        "unseen_complete_data['POSTS'] = unseen_complete_data['POSTS'].apply(lambda x: re.split('<[^<>]*>', str(x))[0])"
      ]
    },
    {
      "cell_type": "code",
      "execution_count": null,
      "metadata": {
        "id": "T3K3TI8V9PuS"
      },
      "outputs": [],
      "source": [
        "def contr(post_text):\n",
        "     posts_body_list=[]\n",
        "     for r in post_text:\n",
        "         decontract_posts_body = contractions.fix(r)\n",
        "         r = ''.join(decontract_posts_body)\n",
        "         r = re.sub(\"\\s\\s+\", \" \", r) # remove extra spaces\n",
        "         posts_body_list.append(r)\n",
        "     return posts_body_list"
      ]
    },
    {
      "cell_type": "code",
      "execution_count": null,
      "metadata": {
        "id": "_MtI6lPR9PuS"
      },
      "outputs": [],
      "source": [
        "unseen_complete_data['POSTS']=contr(unseen_complete_data['POSTS'].values)"
      ]
    },
    {
      "cell_type": "code",
      "execution_count": null,
      "metadata": {
        "id": "bkIQbIFu9PuS"
      },
      "outputs": [],
      "source": [
        "#remove non-alphabetical values\n",
        "unseen_complete_data['POSTS'] = unseen_complete_data['POSTS'].replace('[^a-zA-Z ]', '', regex=True)"
      ]
    },
    {
      "cell_type": "code",
      "execution_count": null,
      "metadata": {
        "id": "a6wowEL29jB1"
      },
      "outputs": [],
      "source": [
        "import numpy as np\n",
        "unseen_complete_data['TAGS']=np.where( (unseen_complete_data['LABEL']=='excited') | (unseen_complete_data['LABEL']=='hiring') | (unseen_complete_data['LABEL']=='positivity') | (unseen_complete_data['LABEL']=='positivevibes') | (unseen_complete_data['LABEL']=='grateful') | (unseen_complete_data['LABEL']=='newjob') | (unseen_complete_data['LABEL']=='blessed') | (unseen_complete_data['LABEL']=='happy') | (unseen_complete_data['LABEL']=='lmao') | (unseen_complete_data['LABEL']=='funny') | (unseen_complete_data['LABEL']=='fun') | (unseen_complete_data['LABEL']=='lol') , 1, -1)"
      ]
    },
    {
      "cell_type": "code",
      "source": [
        "unseen_complete_data=unseen_complete_data.drop_duplicates(keep='last').reset_index()"
      ],
      "metadata": {
        "id": "5lvl0qYu-AvH"
      },
      "execution_count": null,
      "outputs": []
    },
    {
      "cell_type": "code",
      "source": [
        "unseen_complete_data['POSTS'].replace('', np.nan, inplace=True)\n",
        "unseen_complete_data.dropna(subset=['POSTS'], inplace=True)\n",
        "unseen_complete_data"
      ],
      "metadata": {
        "colab": {
          "base_uri": "https://localhost:8080/",
          "height": 988
        },
        "id": "lArmabee-IPN",
        "outputId": "8abbd793-4597-4c31-aa1a-823aab2bc613"
      },
      "execution_count": null,
      "outputs": [
        {
          "output_type": "execute_result",
          "data": {
            "text/plain": [
              "      index  \\\n",
              "0         0   \n",
              "1         1   \n",
              "2         2   \n",
              "3         3   \n",
              "4         4   \n",
              "...     ...   \n",
              "2257   2579   \n",
              "2258   2580   \n",
              "2259   2581   \n",
              "2260   2582   \n",
              "2261   2583   \n",
              "\n",
              "                                                                                                                                                                                                                                                                                                                                                                                                                                                                                                                                                                                                                                                                                                                                                                                                                                                                                                                                                                                                                                                                                                                                                                                                                                                                                                                                                                                                                                                                                                                                                                                                                                                                                                                                                                                                                                                                                                                                                                                                                                                                                                                                                                                                                                                                                                                                                                                                                                                                                                                                                                                                                                       POSTS  \\\n",
              "0                                                                                                                                                                                                                                                                                                                                                                                                                                                                                                                                                                                                                                                                                                                                                                                                                                                                                                                                                                                                                                                                                                                                                                                                                                                                                                                                                                                                                                                                                                                                                                                                                                                                                                                                                                                                                                                                                                                                                                                                                                                                                                                                                                                                                                                                                                                                                                                                                                                                                                                                                              does excel run on mac you bet so do word powerpoint and all the apps you need   \n",
              "1                                                                                                                                                                                                                                                                                                                                                                                                                                                                                                                                                                                                                                                                                                                                                                                                                                                                                                                                                                                                                                                                                                                                                                                                                                                                                                                                                                                                                                                                                                                                                                                                                                                                                                                                                                                                                                                                                                                                                                                                                                                                                                                                                                                                                                                                                                                                                                                                                                                                                                                                        i am about to start a new role at capgemini and containing myself is a real issuedo not ask excited   \n",
              "2                                                                                                                                                                                                                                                                                                                                                                                                                                                                                                                                                                                                                                                                                                                                                                                                                                                                                                                                                                                                                                                                                                                                                                                                                                                                                                                                                                                                                                                                                                                                                                                                                                                                                                                                                                                                                                                                                                                                                                                                                                                                                                                                                                                                                                                                                                                                                                                                                                                                                                                                                                                                                        new chapter excited   \n",
              "3                                                                                                                                                                                                                                                                                                                                                                                                                                                                                                                                                                                                                                                                                                                                                                                                                                                  flying away from the nest and setting off for new adventures on the other side of the planet this day marks a couple of important milestones my first post ever on linkedin  is this really a milestone my last day working at nestl the beginning of a new and exciting journey i am thrilled to announce that i will be moving to new zealand as of february  excited driven by the willingness to enrich ourselves as individuals to go out of our comfort zone to experience a new professional and personal environment and to discover new outdoor experiences my partner and i have decided to take that step and why notsince i graduated from isipca in  the past decade at nestl wow this sounds like a lot which started with a years internship has been incredibly rich and i feel very lucky for all the projects and experiences i went through i met inspiring people and worked on innovative projects from being part of the nestl rd accelerator to the nesqino journey and plenty of other initiatives i enjoyed the diversity of projects activities and challengesthe journey has also sometimes been punctuated with some doubts and questions which were essential to go the extra mile those who know me know that i am always eager to learn new things i do not know yet what will come next and i am very curious to see what the future will bring the next two months will be busy organizing the move and solving admin stuff enjoying time with family and friends recharging and settling in new zealand i will be available for work as of february  and i cannot wait to discover what new zealand has to offer i would love to start discussions about expatriation experiences tips about new zealand potential work opportunities including remote    \n",
              "4                                                                                                                                                                                                                                                                                                                                                                                                                                                                                                                                                                                                                                                                                                                                                                                                                                                                                                                                                                                                                                                                                                                                                                                                                                                                                                                                                                                                                                                                                                                                                                                                                                                                                                                                                                                                                                                                                                                                                                                                                                                                                                                                                                                                                                                                                                                                                                 excited about the great things to come from this partnership gracias to my omnicom media group familia geoffrey calabrese kelly metz amy darwish and televisaunivision daniel aversano richard bertodatti for making this happen multiculturalmarketing httpslnkdinevpbwcu   \n",
              "...                                                                                                                                                                                                                                                                                                                                                                                                                                                                                                                                                                                                                                                                                                                                                                                                                                                                                                                                                                                                                                                                                                                                                                                                                                                                                                                                                                                                                                                                                                                                                                                                                                                                                                                                                                                                                                                                                                                                                                                                                                                                                                                                                                                                                                                                                                                                                                                                                                                                                                                                                                                                                                      ...   \n",
              "2257                                                                                                                                                                                                                                                                                                                                                                                                                                                                                                                                                                                                                                                                                                                                                                                                                                                                                                                                                                                                                                                                                                                                                                                                                                                                                                                                                                                                                                                                                                                                                                                                                                                                                                                                                                                                                                                                                                                                                                                                                                                                                                                                                                                                                                                                                                                                                                                                                                                                                                                                                                        automate testing to catch bugs earlier in your development cycle   \n",
              "2258  is twitter about to go bankrupthttpslnkdingnqtxcnclayoff layoffslaidoff job today linkedin talent searchforjobs techlayoffs techjobs technews careers jobopeningw contract cc jobopportunities career recruiting openforjobopportunities recession recession recession jobsearch itrecruitmentjava phython spring springboot microservices hibernate datajpa kafka aws gcp azure javadeveloper akka scala benchsalesrecruitersdotnetdeveloper dotnet devops powerbi uideveloper networking scrummaster data opportunity opportunities fullstackdeveloper engineering techcommunity layoffsandjobreductions hiring team development grateful comment softwareengineering frontenddataanalysis businessintelligence processimprovementindustrialengineering newopportunities analyst dataengineer opentowork openforwork twitter stripe lyft amazon apple microsoft facebook tesla philips zillow convey jpmc salesforce nytimes nypost wsj layoff layoffslaidoff job todayjavafullstackdeveloper javajobs hiringimmediately hiring hiringtalent marketing project  project snap softwareengineer workleadership digitalhealth medicaldevice biotechnology projectadditionally career opportunities activelylooking talent businessintelligenceanalystinternational students cpt opt ead optead fulltimehb head tn tnvisa tnjobs hbvisa citizens gc gcead uscitizens usajobs usc usajob usa usa usa usaitjobs uscontractjobs usjobseeker usjobdataanalyst businessanalystbusinessanalysis analytics workplace outsourcedhr payroll onboardingpgmp productdevelopment programmanagement productmanagement projectmanagement productmanager programmanager culture remoteworkjobalert canadajobs fulltimeposition candidatesearch fulltimejobs jobfair jobdescription jobavailable jobchangers canada canadaworkvisa fulltime copr canadastaffing canadarecruitment canadacareers canadajobseeker canadaitjob torontocanada canadaitjobsjobhiring jobforyou jobalerts canadaprvisa canadajobseekerspermanentjobs permanentjob permanentrecruitment permanentrole opentonewopportunities torontoitjobs jobseekers recruitingjobposting linkedin openings jobvacancy jobalert jobhunters activelyhiring bulkcanadajobs informaticajobs informatica bigdata hadooptech help economy jobhunt networknyc denver colorado losangeles boston tampa florida michiganjobs oregoan sandiego houston dallas itjobs washington dallaschicago chicagojobs dfw plano dallas dallasjobs austin austinjobs cali calijobs california houston houstonjobs atlanta atlantajobsnyc newyork nycjobs newyorkjobs detroit michiganmexico mexicojobs siliconvalley   \n",
              "2259                                                                                                                                                                                                                                                                                                                                                                                                                                                                                                                                                                                                                                                                                                                                                                                                                                                                                                                                                                                                                                                                                                                                                                                                                                                                                                                                                                                                                                                                                                                                                                                                                                                                                                                                                                                                                                                                                                                                                                                                                                                                                                    that moment when the cast of jurassicworlddominion surprised  students with free laptopsjust one of many surprises for these amazing students during an allexpensepaid trip to universal studios to launch our jurassic worldthemed steam initiative learn more about this crosscompany program with universal pictures universal parks  resorts and the council for opportunity in education to help ensure more young people have access to the resources and opportunities they need to succeed in todays digital world projectup   \n",
              "2260                                                                                                                                                                                                                                                                                                                                                                                                                                                                                                                                                                                                                                                                                                                                                                                                                                                                                                                                                                                                                                                                                                                                                                                                                                                                                                                                                                                                                                                                                                                                                                                                                                                                                                                                                                                                                                                                                                                                                                                                                                                                                                                                                                                                                                                                                                                                                                                                                                                                                                               develop crucial skills and knowledge in browns online mph to address the many health challenges affecting the world today   \n",
              "2261                                                                                                                                                                                                                                                                                                                                                                                                                                                                                                                                                                                                                                                                                                                                                                                                                                                                                                                                                                                                                                                                                                                                                                                                                                                                                                                                                                                                                                                                                                                                                                                                                                                                                                                                                                                                                                                                                                                                                                                                                                                                                                                                                                                                                                                                                                                                                                                                                                                                                                propel your future forward by taking courses online to earn a graduate certificate or masters degree from stanford university learn more   \n",
              "\n",
              "              LABEL  TAGS  \n",
              "0           excited     1  \n",
              "1           excited     1  \n",
              "2           excited     1  \n",
              "3           excited     1  \n",
              "4           excited     1  \n",
              "...             ...   ...  \n",
              "2257  recession2022    -1  \n",
              "2258  recession2022    -1  \n",
              "2259  recession2022    -1  \n",
              "2260  recession2022    -1  \n",
              "2261  recession2022    -1  \n",
              "\n",
              "[2255 rows x 4 columns]"
            ],
            "text/html": [
              "\n",
              "  <div id=\"df-71266c49-d3dd-4106-b1f6-969e688958b5\">\n",
              "    <div class=\"colab-df-container\">\n",
              "      <div>\n",
              "<style scoped>\n",
              "    .dataframe tbody tr th:only-of-type {\n",
              "        vertical-align: middle;\n",
              "    }\n",
              "\n",
              "    .dataframe tbody tr th {\n",
              "        vertical-align: top;\n",
              "    }\n",
              "\n",
              "    .dataframe thead th {\n",
              "        text-align: right;\n",
              "    }\n",
              "</style>\n",
              "<table border=\"1\" class=\"dataframe\">\n",
              "  <thead>\n",
              "    <tr style=\"text-align: right;\">\n",
              "      <th></th>\n",
              "      <th>index</th>\n",
              "      <th>POSTS</th>\n",
              "      <th>LABEL</th>\n",
              "      <th>TAGS</th>\n",
              "    </tr>\n",
              "  </thead>\n",
              "  <tbody>\n",
              "    <tr>\n",
              "      <th>0</th>\n",
              "      <td>0</td>\n",
              "      <td>does excel run on mac you bet so do word powerpoint and all the apps you need</td>\n",
              "      <td>excited</td>\n",
              "      <td>1</td>\n",
              "    </tr>\n",
              "    <tr>\n",
              "      <th>1</th>\n",
              "      <td>1</td>\n",
              "      <td>i am about to start a new role at capgemini and containing myself is a real issuedo not ask excited</td>\n",
              "      <td>excited</td>\n",
              "      <td>1</td>\n",
              "    </tr>\n",
              "    <tr>\n",
              "      <th>2</th>\n",
              "      <td>2</td>\n",
              "      <td>new chapter excited</td>\n",
              "      <td>excited</td>\n",
              "      <td>1</td>\n",
              "    </tr>\n",
              "    <tr>\n",
              "      <th>3</th>\n",
              "      <td>3</td>\n",
              "      <td>flying away from the nest and setting off for new adventures on the other side of the planet this day marks a couple of important milestones my first post ever on linkedin  is this really a milestone my last day working at nestl the beginning of a new and exciting journey i am thrilled to announce that i will be moving to new zealand as of february  excited driven by the willingness to enrich ourselves as individuals to go out of our comfort zone to experience a new professional and personal environment and to discover new outdoor experiences my partner and i have decided to take that step and why notsince i graduated from isipca in  the past decade at nestl wow this sounds like a lot which started with a years internship has been incredibly rich and i feel very lucky for all the projects and experiences i went through i met inspiring people and worked on innovative projects from being part of the nestl rd accelerator to the nesqino journey and plenty of other initiatives i enjoyed the diversity of projects activities and challengesthe journey has also sometimes been punctuated with some doubts and questions which were essential to go the extra mile those who know me know that i am always eager to learn new things i do not know yet what will come next and i am very curious to see what the future will bring the next two months will be busy organizing the move and solving admin stuff enjoying time with family and friends recharging and settling in new zealand i will be available for work as of february  and i cannot wait to discover what new zealand has to offer i would love to start discussions about expatriation experiences tips about new zealand potential work opportunities including remote</td>\n",
              "      <td>excited</td>\n",
              "      <td>1</td>\n",
              "    </tr>\n",
              "    <tr>\n",
              "      <th>4</th>\n",
              "      <td>4</td>\n",
              "      <td>excited about the great things to come from this partnership gracias to my omnicom media group familia geoffrey calabrese kelly metz amy darwish and televisaunivision daniel aversano richard bertodatti for making this happen multiculturalmarketing httpslnkdinevpbwcu</td>\n",
              "      <td>excited</td>\n",
              "      <td>1</td>\n",
              "    </tr>\n",
              "    <tr>\n",
              "      <th>...</th>\n",
              "      <td>...</td>\n",
              "      <td>...</td>\n",
              "      <td>...</td>\n",
              "      <td>...</td>\n",
              "    </tr>\n",
              "    <tr>\n",
              "      <th>2257</th>\n",
              "      <td>2579</td>\n",
              "      <td>automate testing to catch bugs earlier in your development cycle</td>\n",
              "      <td>recession2022</td>\n",
              "      <td>-1</td>\n",
              "    </tr>\n",
              "    <tr>\n",
              "      <th>2258</th>\n",
              "      <td>2580</td>\n",
              "      <td>is twitter about to go bankrupthttpslnkdingnqtxcnclayoff layoffslaidoff job today linkedin talent searchforjobs techlayoffs techjobs technews careers jobopeningw contract cc jobopportunities career recruiting openforjobopportunities recession recession recession jobsearch itrecruitmentjava phython spring springboot microservices hibernate datajpa kafka aws gcp azure javadeveloper akka scala benchsalesrecruitersdotnetdeveloper dotnet devops powerbi uideveloper networking scrummaster data opportunity opportunities fullstackdeveloper engineering techcommunity layoffsandjobreductions hiring team development grateful comment softwareengineering frontenddataanalysis businessintelligence processimprovementindustrialengineering newopportunities analyst dataengineer opentowork openforwork twitter stripe lyft amazon apple microsoft facebook tesla philips zillow convey jpmc salesforce nytimes nypost wsj layoff layoffslaidoff job todayjavafullstackdeveloper javajobs hiringimmediately hiring hiringtalent marketing project  project snap softwareengineer workleadership digitalhealth medicaldevice biotechnology projectadditionally career opportunities activelylooking talent businessintelligenceanalystinternational students cpt opt ead optead fulltimehb head tn tnvisa tnjobs hbvisa citizens gc gcead uscitizens usajobs usc usajob usa usa usa usaitjobs uscontractjobs usjobseeker usjobdataanalyst businessanalystbusinessanalysis analytics workplace outsourcedhr payroll onboardingpgmp productdevelopment programmanagement productmanagement projectmanagement productmanager programmanager culture remoteworkjobalert canadajobs fulltimeposition candidatesearch fulltimejobs jobfair jobdescription jobavailable jobchangers canada canadaworkvisa fulltime copr canadastaffing canadarecruitment canadacareers canadajobseeker canadaitjob torontocanada canadaitjobsjobhiring jobforyou jobalerts canadaprvisa canadajobseekerspermanentjobs permanentjob permanentrecruitment permanentrole opentonewopportunities torontoitjobs jobseekers recruitingjobposting linkedin openings jobvacancy jobalert jobhunters activelyhiring bulkcanadajobs informaticajobs informatica bigdata hadooptech help economy jobhunt networknyc denver colorado losangeles boston tampa florida michiganjobs oregoan sandiego houston dallas itjobs washington dallaschicago chicagojobs dfw plano dallas dallasjobs austin austinjobs cali calijobs california houston houstonjobs atlanta atlantajobsnyc newyork nycjobs newyorkjobs detroit michiganmexico mexicojobs siliconvalley</td>\n",
              "      <td>recession2022</td>\n",
              "      <td>-1</td>\n",
              "    </tr>\n",
              "    <tr>\n",
              "      <th>2259</th>\n",
              "      <td>2581</td>\n",
              "      <td>that moment when the cast of jurassicworlddominion surprised  students with free laptopsjust one of many surprises for these amazing students during an allexpensepaid trip to universal studios to launch our jurassic worldthemed steam initiative learn more about this crosscompany program with universal pictures universal parks  resorts and the council for opportunity in education to help ensure more young people have access to the resources and opportunities they need to succeed in todays digital world projectup</td>\n",
              "      <td>recession2022</td>\n",
              "      <td>-1</td>\n",
              "    </tr>\n",
              "    <tr>\n",
              "      <th>2260</th>\n",
              "      <td>2582</td>\n",
              "      <td>develop crucial skills and knowledge in browns online mph to address the many health challenges affecting the world today</td>\n",
              "      <td>recession2022</td>\n",
              "      <td>-1</td>\n",
              "    </tr>\n",
              "    <tr>\n",
              "      <th>2261</th>\n",
              "      <td>2583</td>\n",
              "      <td>propel your future forward by taking courses online to earn a graduate certificate or masters degree from stanford university learn more</td>\n",
              "      <td>recession2022</td>\n",
              "      <td>-1</td>\n",
              "    </tr>\n",
              "  </tbody>\n",
              "</table>\n",
              "<p>2255 rows × 4 columns</p>\n",
              "</div>\n",
              "      <button class=\"colab-df-convert\" onclick=\"convertToInteractive('df-71266c49-d3dd-4106-b1f6-969e688958b5')\"\n",
              "              title=\"Convert this dataframe to an interactive table.\"\n",
              "              style=\"display:none;\">\n",
              "        \n",
              "  <svg xmlns=\"http://www.w3.org/2000/svg\" height=\"24px\"viewBox=\"0 0 24 24\"\n",
              "       width=\"24px\">\n",
              "    <path d=\"M0 0h24v24H0V0z\" fill=\"none\"/>\n",
              "    <path d=\"M18.56 5.44l.94 2.06.94-2.06 2.06-.94-2.06-.94-.94-2.06-.94 2.06-2.06.94zm-11 1L8.5 8.5l.94-2.06 2.06-.94-2.06-.94L8.5 2.5l-.94 2.06-2.06.94zm10 10l.94 2.06.94-2.06 2.06-.94-2.06-.94-.94-2.06-.94 2.06-2.06.94z\"/><path d=\"M17.41 7.96l-1.37-1.37c-.4-.4-.92-.59-1.43-.59-.52 0-1.04.2-1.43.59L10.3 9.45l-7.72 7.72c-.78.78-.78 2.05 0 2.83L4 21.41c.39.39.9.59 1.41.59.51 0 1.02-.2 1.41-.59l7.78-7.78 2.81-2.81c.8-.78.8-2.07 0-2.86zM5.41 20L4 18.59l7.72-7.72 1.47 1.35L5.41 20z\"/>\n",
              "  </svg>\n",
              "      </button>\n",
              "      \n",
              "  <style>\n",
              "    .colab-df-container {\n",
              "      display:flex;\n",
              "      flex-wrap:wrap;\n",
              "      gap: 12px;\n",
              "    }\n",
              "\n",
              "    .colab-df-convert {\n",
              "      background-color: #E8F0FE;\n",
              "      border: none;\n",
              "      border-radius: 50%;\n",
              "      cursor: pointer;\n",
              "      display: none;\n",
              "      fill: #1967D2;\n",
              "      height: 32px;\n",
              "      padding: 0 0 0 0;\n",
              "      width: 32px;\n",
              "    }\n",
              "\n",
              "    .colab-df-convert:hover {\n",
              "      background-color: #E2EBFA;\n",
              "      box-shadow: 0px 1px 2px rgba(60, 64, 67, 0.3), 0px 1px 3px 1px rgba(60, 64, 67, 0.15);\n",
              "      fill: #174EA6;\n",
              "    }\n",
              "\n",
              "    [theme=dark] .colab-df-convert {\n",
              "      background-color: #3B4455;\n",
              "      fill: #D2E3FC;\n",
              "    }\n",
              "\n",
              "    [theme=dark] .colab-df-convert:hover {\n",
              "      background-color: #434B5C;\n",
              "      box-shadow: 0px 1px 3px 1px rgba(0, 0, 0, 0.15);\n",
              "      filter: drop-shadow(0px 1px 2px rgba(0, 0, 0, 0.3));\n",
              "      fill: #FFFFFF;\n",
              "    }\n",
              "  </style>\n",
              "\n",
              "      <script>\n",
              "        const buttonEl =\n",
              "          document.querySelector('#df-71266c49-d3dd-4106-b1f6-969e688958b5 button.colab-df-convert');\n",
              "        buttonEl.style.display =\n",
              "          google.colab.kernel.accessAllowed ? 'block' : 'none';\n",
              "\n",
              "        async function convertToInteractive(key) {\n",
              "          const element = document.querySelector('#df-71266c49-d3dd-4106-b1f6-969e688958b5');\n",
              "          const dataTable =\n",
              "            await google.colab.kernel.invokeFunction('convertToInteractive',\n",
              "                                                     [key], {});\n",
              "          if (!dataTable) return;\n",
              "\n",
              "          const docLinkHtml = 'Like what you see? Visit the ' +\n",
              "            '<a target=\"_blank\" href=https://colab.research.google.com/notebooks/data_table.ipynb>data table notebook</a>'\n",
              "            + ' to learn more about interactive tables.';\n",
              "          element.innerHTML = '';\n",
              "          dataTable['output_type'] = 'display_data';\n",
              "          await google.colab.output.renderOutput(dataTable, element);\n",
              "          const docLink = document.createElement('div');\n",
              "          docLink.innerHTML = docLinkHtml;\n",
              "          element.appendChild(docLink);\n",
              "        }\n",
              "      </script>\n",
              "    </div>\n",
              "  </div>\n",
              "  "
            ]
          },
          "metadata": {},
          "execution_count": 56
        }
      ]
    },
    {
      "cell_type": "code",
      "source": [
        "unseen_complete_data['TAGS'].value_counts()"
      ],
      "metadata": {
        "colab": {
          "base_uri": "https://localhost:8080/"
        },
        "id": "DzzIyGNI9buB",
        "outputId": "7a701fc1-defa-432e-af68-e688a3117d9a"
      },
      "execution_count": null,
      "outputs": [
        {
          "output_type": "execute_result",
          "data": {
            "text/plain": [
              "-1    1200\n",
              " 1    1055\n",
              "Name: TAGS, dtype: int64"
            ]
          },
          "metadata": {},
          "execution_count": 57
        }
      ]
    },
    {
      "cell_type": "code",
      "source": [
        "from keras.preprocessing.text import Tokenizer\n",
        "from keras_preprocessing.sequence import pad_sequences\n",
        "#max_features = 2000\n",
        "#tokenizer = Tokenizer(num_words = max_features, )\n",
        "# tokenizer = Tokenizer()\n",
        "# tokenizer.fit_on_texts(unseen_complete_data['POSTS'].values)\n",
        "X = tokenizer.texts_to_sequences(unseen_complete_data['POSTS'].values)\n",
        "X = pad_sequences(X, padding = 'post' , maxlen=100)\n",
        "Y = pd.get_dummies(unseen_complete_data['TAGS']).values\n",
        "#Y= complete_data['TAGS'].values\n",
        "\n",
        "vocab_size = len(tokenizer.word_index)+1"
      ],
      "metadata": {
        "id": "1jydPzSJ9brK"
      },
      "execution_count": null,
      "outputs": []
    },
    {
      "cell_type": "code",
      "source": [
        "embedding_matrix = np.zeros((vocab_size,300))\n",
        "for word,i in tqdm(tokenizer.word_index.items()):\n",
        "    embedding_value = model.get_word_vector(word)\n",
        "    embedding_matrix[i] = embedding_value"
      ],
      "metadata": {
        "colab": {
          "base_uri": "https://localhost:8080/"
        },
        "id": "XUKDLUUt9bi8",
        "outputId": "5c6fe121-fc64-40de-ab7e-3b490336f00c"
      },
      "execution_count": null,
      "outputs": [
        {
          "output_type": "stream",
          "name": "stderr",
          "text": [
            "100%|██████████| 92516/92516 [00:02<00:00, 44290.06it/s]\n"
          ]
        }
      ]
    },
    {
      "cell_type": "code",
      "source": [
        "Y_test_new_unseen=[]\n",
        "for val in Y:\n",
        "  if val[0]==1:\n",
        "    Y_test_new_unseen.append(0)\n",
        "  else:\n",
        "    Y_test_new_unseen.append(1)"
      ],
      "metadata": {
        "id": "UYh9RK44-mE1"
      },
      "execution_count": null,
      "outputs": []
    },
    {
      "cell_type": "code",
      "source": [
        "from sklearn.metrics import classification_report\n",
        "\n",
        "y_pred_unseen = lstm_model.predict(X, batch_size=10, verbose=1)\n",
        "y_pred_bool_unseen = np.argmax(y_pred_unseen, axis=1)\n",
        "\n",
        "print(classification_report(Y_test_new_unseen, y_pred_bool_unseen))\n"
      ],
      "metadata": {
        "colab": {
          "base_uri": "https://localhost:8080/"
        },
        "id": "oTIZ_ni5-mPP",
        "outputId": "58ea02f0-38f9-489b-c908-4f4f683b4868"
      },
      "execution_count": null,
      "outputs": [
        {
          "output_type": "stream",
          "name": "stdout",
          "text": [
            "226/226 [==============================] - 18s 78ms/step\n",
            "              precision    recall  f1-score   support\n",
            "\n",
            "           0       0.82      0.89      0.85      1200\n",
            "           1       0.86      0.78      0.82      1055\n",
            "\n",
            "    accuracy                           0.84      2255\n",
            "   macro avg       0.84      0.83      0.83      2255\n",
            "weighted avg       0.84      0.84      0.84      2255\n",
            "\n"
          ]
        }
      ]
    },
    {
      "cell_type": "markdown",
      "source": [
        "**Since false positives matter a lot, we focus on the precision values which are decent**"
      ],
      "metadata": {
        "id": "PuFC2QK1BrP0"
      }
    },
    {
      "cell_type": "markdown",
      "source": [
        "**Bidirectional LSTM using Glove embeddings**"
      ],
      "metadata": {
        "id": "75XYU3swDAL7"
      }
    },
    {
      "cell_type": "code",
      "source": [
        "# !wget http://nlp.stanford.edu/data/glove.6B.zip\n",
        "# !unzip -q glove.6B.zip"
      ],
      "metadata": {
        "colab": {
          "base_uri": "https://localhost:8080/"
        },
        "id": "olKO43GQBaXD",
        "outputId": "4bdcde3b-c133-40ed-ae97-e54060f081c4"
      },
      "execution_count": null,
      "outputs": [
        {
          "output_type": "stream",
          "name": "stdout",
          "text": [
            "--2022-11-21 02:40:29--  http://nlp.stanford.edu/data/glove.6B.zip\n",
            "Resolving nlp.stanford.edu (nlp.stanford.edu)... 171.64.67.140\n",
            "Connecting to nlp.stanford.edu (nlp.stanford.edu)|171.64.67.140|:80... connected.\n",
            "HTTP request sent, awaiting response... 302 Found\n",
            "Location: https://nlp.stanford.edu/data/glove.6B.zip [following]\n",
            "--2022-11-21 02:40:30--  https://nlp.stanford.edu/data/glove.6B.zip\n",
            "Connecting to nlp.stanford.edu (nlp.stanford.edu)|171.64.67.140|:443... connected.\n",
            "HTTP request sent, awaiting response... 301 Moved Permanently\n",
            "Location: https://downloads.cs.stanford.edu/nlp/data/glove.6B.zip [following]\n",
            "--2022-11-21 02:40:30--  https://downloads.cs.stanford.edu/nlp/data/glove.6B.zip\n",
            "Resolving downloads.cs.stanford.edu (downloads.cs.stanford.edu)... 171.64.64.22\n",
            "Connecting to downloads.cs.stanford.edu (downloads.cs.stanford.edu)|171.64.64.22|:443... connected.\n",
            "HTTP request sent, awaiting response... 200 OK\n",
            "Length: 862182613 (822M) [application/zip]\n",
            "Saving to: ‘glove.6B.zip’\n",
            "\n",
            "glove.6B.zip        100%[===================>] 822.24M  5.09MB/s    in 2m 39s  \n",
            "\n",
            "2022-11-21 02:43:10 (5.16 MB/s) - ‘glove.6B.zip’ saved [862182613/862182613]\n",
            "\n"
          ]
        }
      ]
    },
    {
      "cell_type": "code",
      "source": [
        "# path_to_glove_file = os.path.join(\n",
        "#     os.path.expanduser(\"~\"), \".keras/datasets/glove.6B.100d.txt\"\n",
        "# )\n",
        "\n",
        "embeddings_index = {}\n",
        "with open(\"/content/gdrive/MyDrive/Colab Notebooks/glove.6B.300d.txt\") as f:\n",
        "    for line in f:\n",
        "        word, coefs = line.split(maxsplit=1)\n",
        "        coefs = np.fromstring(coefs, \"f\", sep=\" \")\n",
        "        embeddings_index[word] = coefs\n",
        "\n",
        "print(\"Found %s word vectors.\" % len(embeddings_index))"
      ],
      "metadata": {
        "colab": {
          "base_uri": "https://localhost:8080/"
        },
        "id": "0tDEnGjpEej6",
        "outputId": "e3567a2b-9b6b-4e13-b23b-cde693de5f1a"
      },
      "execution_count": null,
      "outputs": [
        {
          "output_type": "stream",
          "name": "stdout",
          "text": [
            "Found 400000 word vectors.\n"
          ]
        }
      ]
    },
    {
      "cell_type": "code",
      "source": [
        "glove_embedding_matrix = np.zeros((vocab_size,300))\n",
        "for word,i in tqdm(tokenizer.word_index.items()):\n",
        "    embedding_value = embeddings_index.get(word)\n",
        "    if embedding_value is not None:\n",
        "        glove_embedding_matrix[i] = embedding_value"
      ],
      "metadata": {
        "colab": {
          "base_uri": "https://localhost:8080/"
        },
        "id": "ZRMP49AYE-_h",
        "outputId": "072b6fa6-e34a-4c6e-eb5d-6b4d3493707e"
      },
      "execution_count": null,
      "outputs": [
        {
          "output_type": "stream",
          "name": "stderr",
          "text": [
            "100%|██████████| 92516/92516 [00:00<00:00, 570631.45it/s]\n"
          ]
        }
      ]
    },
    {
      "cell_type": "code",
      "source": [
        "glove_embedding_matrix.shape"
      ],
      "metadata": {
        "colab": {
          "base_uri": "https://localhost:8080/"
        },
        "id": "QeCyh_mfFfjh",
        "outputId": "187732de-48dc-4ffc-e26a-c71ac6ab499e"
      },
      "execution_count": null,
      "outputs": [
        {
          "output_type": "execute_result",
          "data": {
            "text/plain": [
              "(92517, 300)"
            ]
          },
          "metadata": {},
          "execution_count": 57
        }
      ]
    },
    {
      "cell_type": "code",
      "source": [
        "import tensorflow as tf\n",
        "from tensorflow import keras\n",
        "from tensorflow.keras import layers\n",
        "from tensorflow.keras import losses\n",
        "from tensorflow.keras import preprocessing\n",
        "from tensorflow.keras import utils\n",
        "from tensorflow.keras.layers.experimental.preprocessing import TextVectorization\n",
        "\n",
        "\n",
        "from keras.layers import Dense, Embedding, LSTM, SpatialDropout1D, Bidirectional, Dropout\n",
        "embid_dim = 300\n",
        "lstm_out = 128\n",
        "lstm_model = keras.Sequential()\n",
        "lstm_model.add(Embedding(vocab_size, embid_dim, weights = [glove_embedding_matrix] , trainable = False))\n",
        "lstm_model.add(Bidirectional(LSTM(lstm_out, dropout=0.2)))\n",
        "lstm_model.add(Dense(128, activation = 'relu'))\n",
        "lstm_model.add(Dropout(0.5))\n",
        "lstm_model.add(Dense(64, activation = 'relu'))\n",
        "lstm_model.add(Dense(2, activation = 'softmax'))  #if used pd.get dummies above\n",
        "lstm_model.summary()"
      ],
      "metadata": {
        "colab": {
          "base_uri": "https://localhost:8080/"
        },
        "id": "sSQW_9UHFoAH",
        "outputId": "98e954f1-cd86-42a3-dfb5-974cf8037547"
      },
      "execution_count": null,
      "outputs": [
        {
          "output_type": "stream",
          "name": "stdout",
          "text": [
            "Model: \"sequential_6\"\n",
            "_________________________________________________________________\n",
            " Layer (type)                Output Shape              Param #   \n",
            "=================================================================\n",
            " embedding_6 (Embedding)     (None, None, 300)         27755100  \n",
            "                                                                 \n",
            " bidirectional_6 (Bidirectio  (None, 256)              439296    \n",
            " nal)                                                            \n",
            "                                                                 \n",
            " dense_18 (Dense)            (None, 128)               32896     \n",
            "                                                                 \n",
            " dropout_6 (Dropout)         (None, 128)               0         \n",
            "                                                                 \n",
            " dense_19 (Dense)            (None, 64)                8256      \n",
            "                                                                 \n",
            " dense_20 (Dense)            (None, 2)                 130       \n",
            "                                                                 \n",
            "=================================================================\n",
            "Total params: 28,235,678\n",
            "Trainable params: 480,578\n",
            "Non-trainable params: 27,755,100\n",
            "_________________________________________________________________\n"
          ]
        }
      ]
    },
    {
      "cell_type": "code",
      "source": [
        "early_stopping_monitor = tf.keras.callbacks.EarlyStopping(\n",
        "    monitor='val_loss',\n",
        "    min_delta=0,\n",
        "    patience=10,\n",
        "    verbose=0,\n",
        "    mode='auto',\n",
        "    baseline=None,\n",
        "    restore_best_weights=True\n",
        ")\n",
        "batch_size = 200\n",
        "lstm_model.compile(loss = 'binary_crossentropy', optimizer='adam',metrics = ['accuracy'])\n",
        "history = lstm_model.fit(X_train, Y_train, epochs = 50, batch_size=batch_size, verbose = 1, callbacks=[early_stopping_monitor], validation_data =(X_test, Y_test))"
      ],
      "metadata": {
        "colab": {
          "base_uri": "https://localhost:8080/"
        },
        "id": "c-x_hGPpF40d",
        "outputId": "9419e4d6-03a9-45c2-b063-e573420ce5f3"
      },
      "execution_count": null,
      "outputs": [
        {
          "output_type": "stream",
          "name": "stdout",
          "text": [
            "Epoch 1/50\n",
            "54/54 [==============================] - 89s 2s/step - loss: 0.5533 - accuracy: 0.7101 - val_loss: 0.4389 - val_accuracy: 0.7924\n",
            "Epoch 2/50\n",
            "54/54 [==============================] - 78s 1s/step - loss: 0.3839 - accuracy: 0.8187 - val_loss: 0.3546 - val_accuracy: 0.8253\n",
            "Epoch 3/50\n",
            "54/54 [==============================] - 78s 1s/step - loss: 0.3422 - accuracy: 0.8395 - val_loss: 0.3433 - val_accuracy: 0.8344\n",
            "Epoch 4/50\n",
            "54/54 [==============================] - 89s 2s/step - loss: 0.3070 - accuracy: 0.8557 - val_loss: 0.3421 - val_accuracy: 0.8269\n",
            "Epoch 5/50\n",
            "54/54 [==============================] - 82s 2s/step - loss: 0.2820 - accuracy: 0.8702 - val_loss: 0.3172 - val_accuracy: 0.8408\n",
            "Epoch 6/50\n",
            "54/54 [==============================] - 86s 2s/step - loss: 0.2641 - accuracy: 0.8770 - val_loss: 0.3177 - val_accuracy: 0.8489\n",
            "Epoch 7/50\n",
            "54/54 [==============================] - 91s 2s/step - loss: 0.2369 - accuracy: 0.8915 - val_loss: 0.3236 - val_accuracy: 0.8389\n",
            "Epoch 8/50\n",
            "54/54 [==============================] - 96s 2s/step - loss: 0.2344 - accuracy: 0.8944 - val_loss: 0.3497 - val_accuracy: 0.8333\n",
            "Epoch 9/50\n",
            "54/54 [==============================] - 93s 2s/step - loss: 0.2156 - accuracy: 0.9026 - val_loss: 0.3290 - val_accuracy: 0.8511\n",
            "Epoch 10/50\n",
            "54/54 [==============================] - 80s 1s/step - loss: 0.1910 - accuracy: 0.9155 - val_loss: 0.3396 - val_accuracy: 0.8450\n",
            "Epoch 11/50\n",
            "54/54 [==============================] - 79s 1s/step - loss: 0.1767 - accuracy: 0.9227 - val_loss: 0.3549 - val_accuracy: 0.8453\n",
            "Epoch 12/50\n",
            "54/54 [==============================] - 78s 1s/step - loss: 0.1621 - accuracy: 0.9309 - val_loss: 0.3565 - val_accuracy: 0.8553\n",
            "Epoch 13/50\n",
            "54/54 [==============================] - 78s 1s/step - loss: 0.1389 - accuracy: 0.9401 - val_loss: 0.3891 - val_accuracy: 0.8447\n",
            "Epoch 14/50\n",
            "54/54 [==============================] - 78s 1s/step - loss: 0.1222 - accuracy: 0.9506 - val_loss: 0.4247 - val_accuracy: 0.8612\n",
            "Epoch 15/50\n",
            "54/54 [==============================] - 76s 1s/step - loss: 0.1255 - accuracy: 0.9483 - val_loss: 0.4379 - val_accuracy: 0.8548\n"
          ]
        }
      ]
    },
    {
      "cell_type": "code",
      "source": [
        "lstm_model.save('/content/gdrive/MyDrive/Colab Notebooks/Glove')"
      ],
      "metadata": {
        "colab": {
          "base_uri": "https://localhost:8080/"
        },
        "id": "iYjBvCb9qv6i",
        "outputId": "1f39f994-53d4-4baa-f02a-20e3b477b9ea"
      },
      "execution_count": null,
      "outputs": [
        {
          "output_type": "stream",
          "name": "stderr",
          "text": [
            "WARNING:absl:Found untraced functions such as lstm_cell_19_layer_call_fn, lstm_cell_19_layer_call_and_return_conditional_losses, lstm_cell_20_layer_call_fn, lstm_cell_20_layer_call_and_return_conditional_losses while saving (showing 4 of 4). These functions will not be directly callable after loading.\n"
          ]
        }
      ]
    },
    {
      "cell_type": "code",
      "source": [
        "lstm_model = tf.keras.models.load_model('/content/gdrive/MyDrive/Colab Notebooks/Glove')\n",
        "\n",
        "lstm_model.summary()"
      ],
      "metadata": {
        "colab": {
          "base_uri": "https://localhost:8080/"
        },
        "id": "6Va7KvlCrCPe",
        "outputId": "65090e34-aa0a-4cdd-cff7-2f7eeec3cc1b"
      },
      "execution_count": null,
      "outputs": [
        {
          "output_type": "stream",
          "name": "stdout",
          "text": [
            "Model: \"sequential_6\"\n",
            "_________________________________________________________________\n",
            " Layer (type)                Output Shape              Param #   \n",
            "=================================================================\n",
            " embedding_6 (Embedding)     (None, None, 300)         27755100  \n",
            "                                                                 \n",
            " bidirectional_6 (Bidirectio  (None, 256)              439296    \n",
            " nal)                                                            \n",
            "                                                                 \n",
            " dense_18 (Dense)            (None, 128)               32896     \n",
            "                                                                 \n",
            " dropout_6 (Dropout)         (None, 128)               0         \n",
            "                                                                 \n",
            " dense_19 (Dense)            (None, 64)                8256      \n",
            "                                                                 \n",
            " dense_20 (Dense)            (None, 2)                 130       \n",
            "                                                                 \n",
            "=================================================================\n",
            "Total params: 28,235,678\n",
            "Trainable params: 480,578\n",
            "Non-trainable params: 27,755,100\n",
            "_________________________________________________________________\n"
          ]
        }
      ]
    },
    {
      "cell_type": "code",
      "source": [
        "Y_test_new=[]\n",
        "for val in Y_test:\n",
        "  if val[0]==1:\n",
        "    Y_test_new.append(0)\n",
        "  else:\n",
        "    Y_test_new.append(1)"
      ],
      "metadata": {
        "id": "glzGGZjLp_c-"
      },
      "execution_count": null,
      "outputs": []
    },
    {
      "cell_type": "code",
      "source": [
        "from sklearn.metrics import classification_report\n",
        "\n",
        "y_pred = lstm_model.predict(X_test, batch_size=64, verbose=1)\n",
        "y_pred_bool = np.argmax(y_pred, axis=1)\n",
        "\n",
        "print(classification_report(Y_test_new, y_pred_bool))\n"
      ],
      "metadata": {
        "colab": {
          "base_uri": "https://localhost:8080/"
        },
        "id": "4Akanb9WqGli",
        "outputId": "adac97d6-f545-4503-e4fd-55f4ea1e4f0d"
      },
      "execution_count": null,
      "outputs": [
        {
          "output_type": "stream",
          "name": "stdout",
          "text": [
            "57/57 [==============================] - 15s 244ms/step\n",
            "              precision    recall  f1-score   support\n",
            "\n",
            "           0       0.87      0.86      0.86      2114\n",
            "           1       0.80      0.82      0.81      1480\n",
            "\n",
            "    accuracy                           0.84      3594\n",
            "   macro avg       0.84      0.84      0.84      3594\n",
            "weighted avg       0.84      0.84      0.84      3594\n",
            "\n"
          ]
        }
      ]
    },
    {
      "cell_type": "markdown",
      "source": [
        "**Testing GLOVE on unseen test data**"
      ],
      "metadata": {
        "id": "RmAvdjzzrKEW"
      }
    },
    {
      "cell_type": "code",
      "source": [
        "path = \"/content/gdrive/MyDrive/Colab Notebooks/Unseen_test_data/\"\n",
        "dir_list = os.listdir(path)\n",
        "pd.set_option('display.max_colwidth', None)"
      ],
      "metadata": {
        "id": "V2nBEM9DrYG0"
      },
      "execution_count": null,
      "outputs": []
    },
    {
      "cell_type": "code",
      "source": [
        "all_lines_list=list()\n",
        "labels_list=list()\n",
        "for filename in dir_list:\n",
        "    file_extension_val=filename.split('.')\n",
        "    file_extension=file_extension_val[1]\n",
        "    if(file_extension=='txt'):\n",
        "        label=filename.split('_')\n",
        "        label=label[2]\n",
        "        label=label.split('.')\n",
        "        label=label[0]\n",
        "        labels_list.append(label)\n",
        "        # with open(\"/content/gdrive/MyDrive/Colab Notebooks/Unseen_test_data/\"+filename, encoding='unicode_escape') as file_ptr:\n",
        "        with open(path + \"/\" + filename, encoding='utf-8') as file_ptr:\n",
        "            lines_temp = list()\n",
        "            for line in file_ptr:\n",
        "                if(line.strip()!=\"-----------------------------\"):\n",
        "                    lines_temp.append(line)\n",
        "            all_lines_list.append(lines_temp)"
      ],
      "metadata": {
        "id": "WPH45uvrrYG1"
      },
      "execution_count": null,
      "outputs": []
    },
    {
      "cell_type": "code",
      "source": [
        "df_posts=pd.DataFrame()\n",
        "labels_global_list=list()\n",
        "label_index=0\n",
        "for lst in all_lines_list:\n",
        "    df_temp = pd.DataFrame(lst)\n",
        "    df_posts=df_posts.append(df_temp,ignore_index=True,)\n",
        "#     label_length=len(lst)\n",
        "    for i in range(len(lst)):\n",
        "        labels_global_list.append(labels_list[label_index])\n",
        "    label_index=label_index+1\n",
        "    \n",
        "df_labels = pd.DataFrame(labels_global_list)"
      ],
      "metadata": {
        "id": "Ra0VlRN9rYG1"
      },
      "execution_count": null,
      "outputs": []
    },
    {
      "cell_type": "code",
      "source": [
        "unseen_complete_data = pd.concat([df_posts, df_labels], axis=1)\n",
        "unseen_complete_data.columns = ['POSTS', 'LABEL']\n",
        "unseen_complete_data"
      ],
      "metadata": {
        "colab": {
          "base_uri": "https://localhost:8080/",
          "height": 1000
        },
        "id": "0_Qq243crOgG",
        "outputId": "81fbb744-7948-4f31-d6c0-f2858843e622"
      },
      "execution_count": null,
      "outputs": [
        {
          "output_type": "execute_result",
          "data": {
            "text/plain": [
              "                                                                                                                                                                                                                                                                                                                                                                                                                                                                                                                                                                                                                                                                                                                                                                                                                                                                                                                                                                                                                                                                                                                                                                                                                                                                                                                                                                                                                                                                                                                                                                                                                                                                                                                                                                                                                                                                                                                                                                                                                                                                                                                                                                                                                                                                                                                                                                                                                                                                                                                                                                                                                                                                                                                                                                                                                                                                                                                                  POSTS  \\\n",
              "0                                                                                                                                                                                                                                                                                                                                                                                                                                                                                                                                                                                                                                                                                                                                                                                                                                                                                                                                                                                                                                                                                                                                                                                                                                                                                                                                                                                                                                                                                                                                                                                                                                                                                                                                                                                                                                                                                                                                                                                                                                                                                                                                                                                                                                                                                                                                                                                                                                                                                                                                                                                                                                                                                                                                                                                                                                                  Does Excel run on Mac? You bet. So do Word, PowerPoint, and all the apps you need.\\n   \n",
              "1                                                                                                                                                                                                                                                                                                                                                                                                                                                                                                                                                                                                                                                                                                                                                                                                                                                                                                                                                                                                                                                                                                                                                                                                                                                                                                                                                                                                                                                                                                                                                                                                                                                                                                                                                                                                                                                                                                                                                                                                                                                                                                                                                                                                                                                                                                                                                                                                                                                                                                                                                                                                                                                                                                                                                                                                                                I'm about to start a new role at Capgemini and containing myself is a real issue.Don't ask 😌#excited\\n   \n",
              "2                                                                                                                                                                                                                                                                                                                                                                                                                                                                                                                                                                                                                                                                                                                                                                                                                                                                                                                                                                                                                                                                                                                                                                                                                                                                                                                                                                                                                                                                                                                                                                                                                                                                                                                                                                                                                                                                                                                                                                                                                                                                                                                                                                                                                                                                                                                                                                                                                                                                                                                                                                                                                                                                                                                                                                                                                                                                                                               New chapter. #excited\\n   \n",
              "3                                                                                                                                                                                                                                                                                                                                                                                                                                                                                                                                                                                                                                                                                                                                                                                                                                                                                                                                                                                                                                                   Flying away from the Nest and setting off for new adventures on the other side of the planet 🗺️This day marks a couple of important milestones:-         My first post ever on LinkedIn 🚀 (Is this really a milestone?)-         My last day working at Nestlé-         The beginning of a new and exciting journey 😍I am thrilled to announce that I’ll be moving to New Zealand as of February 2023 (#excited). Driven by the willingness to enrich ourselves as individuals, to go out of our comfort zone, to experience a new professional and personal environment, and to discover new outdoor experiences, my partner and I have decided to take that step. And why not?Since I graduated from ISIPCA in 2014, the past decade at Nestlé (wow, this sounds like a lot) which started with a 2-years internship has been incredibly rich and I feel very lucky for all the projects and experiences I went through. I met inspiring people and worked on innovative projects. From being part of the Nestlé R&D accelerator to the nesQino™️ journey, and plenty of other initiatives, I enjoyed the diversity of projects, activities, and challenges.The journey has also sometimes been punctuated with some doubts and questions, which were essential to go the extra mile. Those who know me know that I am always eager to learn new things. I don’t know yet what will come next, and I am very curious to see what the future will bring… The next two months will be busy organizing the move (and solving admin stuff), enjoying time with family and friends, recharging, and settling in New Zealand. I’ll be available for work as of February 2023 and I can’t wait to discover what New Zealand has to offer. I would love to start discussions about expatriation experiences, tips about New Zealand, potential work opportunities (including remote), …\\n   \n",
              "4                                                                                                                                                                                                                                                                                                                                                                                                                                                                                                                                                                                                                                                                                                                                                                                                                                                                                                                                                                                                                                                                                                                                                                                                                                                                                                                                                                                                                                                                                                                                                                                                                                                                                                                                                                                                                                                                                                                                                                                                                                                                                                                                                                                                                                                                                                                                                                                                                                                                                                                                                                                                                                        #Excited about the great things to come from this partnership.  Gracias to my Omnicom Media Group familia (Geoffrey Calabrese, Kelly Metz, Amy Darwish) and TelevisaUnivision (Daniel Aversano, Richard Bertodatti) for making this happen! #multiculturalmarketing https://lnkd.in/eVpbW7CU\\n   \n",
              "...                                                                                                                                                                                                                                                                                                                                                                                                                                                                                                                                                                                                                                                                                                                                                                                                                                                                                                                                                                                                                                                                                                                                                                                                                                                                                                                                                                                                                                                                                                                                                                                                                                                                                                                                                                                                                                                                                                                                                                                                                                                                                                                                                                                                                                                                                                                                                                                                                                                                                                                                                                                                                                                                                                                                                                                                                                                                                                                                 ...   \n",
              "2579                                                                                                                                                                                                                                                                                                                                                                                                                                                                                                                                                                                                                                                                                                                                                                                                                                                                                                                                                                                                                                                                                                                                                                                                                                                                                                                                                                                                                                                                                                                                                                                                                                                                                                                                                                                                                                                                                                                                                                                                                                                                                                                                                                                                                                                                                                                                                                                                                                                                                                                                                                                                                                                                                                                                                                                                                                                                Automate testing to catch bugs earlier in your development cycle.\\n   \n",
              "2580  Is Twitter about to go bankrupt?https://lnkd.in/gnQtXcnC#layoff #layoffs #laidoff #job #today #linkedin #talent #searchforjobs #techlayoffs #techjobs #technews #careers #jobopening#W2 #contract #c2c #jobopportunities #career #recruiting #openforjobopportunities #Recession #Recession2022 #Recession2023 #jobsearch #ITRecruitment#java #phython #spring #springboot #microservices #hibernate #datajpa #kafka #aws #gcp #azure #javadeveloper #Akka #scala #benchsalesrecruiters#dotnetdeveloper #dotnet #devops #powerbi #uideveloper #networking #scrummaster #data #opportunity #opportunities #fullstackdeveloper #engineering #techcommunity #layoffsandjobreductions #hiring #team #development #grateful #comment #softwareengineering #frontend#dataanalysis #businessintelligence #processimprovement #industrialengineering #newopportunities #analyst #dataengineer #opentowork #openforwork #twitter #stripe #lyft #amazon #apple #microsoft #facebook #tesla #philips #zillow #convey #jpmc #salesforce #nytimes #nypost #wsj #layoff #layoffs #laidoff #job #today#javafullstackdeveloper #javajobs #hiringimmediately #hiring #hiringtalent #marketing #project # #project #Snap #softwareengineer #work#leadership #digitalhealth #medicaldevice #biotechnology #projectAdditionally #career #opportunities #activelylooking #talent #businessintelligenceanalyst #international #students #CPT #OPT #EAD #OPTEAD #Fulltime #H1B #H4EAD #TN #TNVISA #tnjobs #H1BVISA #Citizens #GC #GCEAD #uscitizens #usajobs #usc #usajob #usa2022 #usa #usa2023 #usaitjobs #uscontractjobs #usjobseeker #usjob#dataanalyst #businessanalyst #businessanalysis #analytics #workplace #outsourcedhr #payroll #onboarding#pgmp #productdevelopment #programmanagement #productmanagement #ProjectManagement #productmanager #programmanager #culture #remotework#jobalert #canadajobs #fulltimeposition #candidatesearch #fulltimejobs #jobfair #jobdescription #jobavailable #jobchangers #canada #canadaworkvisa #fulltime #copr #canadastaffing #canadarecruitment #canadacareers #canadajobseeker #canadaitjob #torontocanada #canadaitjobs #jobhiring #jobforyou #jobalerts #canadaprvisa #canadajobseekers#permanentjobs #permanentjob #permanentrecruitment #permanentrole #opentonewopportunities #torontoitjobs #jobseekers #Recruiting#Jobposting #LinkedIn #Openings #Jobvacancy #Jobalert #Jobhunters #activelyhiring #BulkCanadaJobs #informaticajobs #informatica #bigdata #hadoop#tech #help #economy #jobhunt #network#nyc #denver #colorado #losangeles #boston #tampa #florida #michiganjobs #oregoan #sandiego #houston #dallas #itjobs #washington #dallas#chicago #chicagojobs #dfw #plano #dallas #dallasjobs #austin #austinjobs #Cali #CaliJobs #California #Houston #HoustonJobs #atlanta #atlantajobs#nyc #newyork #nycjobs #newyorkjobs #detroit #michigan #mexico #mexicojobs #siliconvalley\\n   \n",
              "2581                                                                                                                                                                                                                                                                                                                                                                                                                                                                                                                                                                                                                                                                                                                                                                                                                                                                                                                                                                                                                                                                                                                                                                                                                                                                                                                                                                                                                                                                                                                                                                                                                                                                                                                                                                                                                                                                                                                                                                                                                                                                                                                                                                                                                                                                                                                                                                             That moment when the cast of #JurassicWorldDominion surprised 350 students with free laptops.Just one of many surprises for these amazing students during an all-expense-paid trip to Universal Studios to launch our Jurassic World-themed STEAM initiative. Learn more about this cross-company program with Universal Pictures, Universal Parks & Resorts, and the Council for Opportunity in Education to help ensure more young people have access to the resources and opportunities they need to succeed in today’s digital world. #ProjectUP\\n   \n",
              "2582                                                                                                                                                                                                                                                                                                                                                                                                                                                                                                                                                                                                                                                                                                                                                                                                                                                                                                                                                                                                                                                                                                                                                                                                                                                                                                                                                                                                                                                                                                                                                                                                                                                                                                                                                                                                                                                                                                                                                                                                                                                                                                                                                                                                                                                                                                                                                                                                                                                                                                                                                                                                                                                                                                                                                                                                      Develop crucial skills and knowledge in Brown’s Online MPH to address the many health challenges affecting the world today.\\n   \n",
              "2583                                                                                                                                                                                                                                                                                                                                                                                                                                                                                                                                                                                                                                                                                                                                                                                                                                                                                                                                                                                                                                                                                                                                                                                                                                                                                                                                                                                                                                                                                                                                                                                                                                                                                                                                                                                                                                                                                                                                                                                                                                                                                                                                                                                                                                                                                                                                                                                                                                                                                                                                                                                                                                                                                                                                                                                      Propel your future forward by taking courses online to earn a graduate certificate or master's degree from Stanford University. Learn more!\\n   \n",
              "\n",
              "              LABEL  \n",
              "0           excited  \n",
              "1           excited  \n",
              "2           excited  \n",
              "3           excited  \n",
              "4           excited  \n",
              "...             ...  \n",
              "2579  recession2022  \n",
              "2580  recession2022  \n",
              "2581  recession2022  \n",
              "2582  recession2022  \n",
              "2583  recession2022  \n",
              "\n",
              "[2584 rows x 2 columns]"
            ],
            "text/html": [
              "\n",
              "  <div id=\"df-34cb9605-f2ba-47d0-9e0a-04a59621ffec\">\n",
              "    <div class=\"colab-df-container\">\n",
              "      <div>\n",
              "<style scoped>\n",
              "    .dataframe tbody tr th:only-of-type {\n",
              "        vertical-align: middle;\n",
              "    }\n",
              "\n",
              "    .dataframe tbody tr th {\n",
              "        vertical-align: top;\n",
              "    }\n",
              "\n",
              "    .dataframe thead th {\n",
              "        text-align: right;\n",
              "    }\n",
              "</style>\n",
              "<table border=\"1\" class=\"dataframe\">\n",
              "  <thead>\n",
              "    <tr style=\"text-align: right;\">\n",
              "      <th></th>\n",
              "      <th>POSTS</th>\n",
              "      <th>LABEL</th>\n",
              "    </tr>\n",
              "  </thead>\n",
              "  <tbody>\n",
              "    <tr>\n",
              "      <th>0</th>\n",
              "      <td>Does Excel run on Mac? You bet. So do Word, PowerPoint, and all the apps you need.\\n</td>\n",
              "      <td>excited</td>\n",
              "    </tr>\n",
              "    <tr>\n",
              "      <th>1</th>\n",
              "      <td>I'm about to start a new role at Capgemini and containing myself is a real issue.Don't ask 😌#excited\\n</td>\n",
              "      <td>excited</td>\n",
              "    </tr>\n",
              "    <tr>\n",
              "      <th>2</th>\n",
              "      <td>New chapter. #excited\\n</td>\n",
              "      <td>excited</td>\n",
              "    </tr>\n",
              "    <tr>\n",
              "      <th>3</th>\n",
              "      <td>Flying away from the Nest and setting off for new adventures on the other side of the planet 🗺️This day marks a couple of important milestones:-         My first post ever on LinkedIn 🚀 (Is this really a milestone?)-         My last day working at Nestlé-         The beginning of a new and exciting journey 😍I am thrilled to announce that I’ll be moving to New Zealand as of February 2023 (#excited). Driven by the willingness to enrich ourselves as individuals, to go out of our comfort zone, to experience a new professional and personal environment, and to discover new outdoor experiences, my partner and I have decided to take that step. And why not?Since I graduated from ISIPCA in 2014, the past decade at Nestlé (wow, this sounds like a lot) which started with a 2-years internship has been incredibly rich and I feel very lucky for all the projects and experiences I went through. I met inspiring people and worked on innovative projects. From being part of the Nestlé R&amp;D accelerator to the nesQino™️ journey, and plenty of other initiatives, I enjoyed the diversity of projects, activities, and challenges.The journey has also sometimes been punctuated with some doubts and questions, which were essential to go the extra mile. Those who know me know that I am always eager to learn new things. I don’t know yet what will come next, and I am very curious to see what the future will bring… The next two months will be busy organizing the move (and solving admin stuff), enjoying time with family and friends, recharging, and settling in New Zealand. I’ll be available for work as of February 2023 and I can’t wait to discover what New Zealand has to offer. I would love to start discussions about expatriation experiences, tips about New Zealand, potential work opportunities (including remote), …\\n</td>\n",
              "      <td>excited</td>\n",
              "    </tr>\n",
              "    <tr>\n",
              "      <th>4</th>\n",
              "      <td>#Excited about the great things to come from this partnership.  Gracias to my Omnicom Media Group familia (Geoffrey Calabrese, Kelly Metz, Amy Darwish) and TelevisaUnivision (Daniel Aversano, Richard Bertodatti) for making this happen! #multiculturalmarketing https://lnkd.in/eVpbW7CU\\n</td>\n",
              "      <td>excited</td>\n",
              "    </tr>\n",
              "    <tr>\n",
              "      <th>...</th>\n",
              "      <td>...</td>\n",
              "      <td>...</td>\n",
              "    </tr>\n",
              "    <tr>\n",
              "      <th>2579</th>\n",
              "      <td>Automate testing to catch bugs earlier in your development cycle.\\n</td>\n",
              "      <td>recession2022</td>\n",
              "    </tr>\n",
              "    <tr>\n",
              "      <th>2580</th>\n",
              "      <td>Is Twitter about to go bankrupt?https://lnkd.in/gnQtXcnC#layoff #layoffs #laidoff #job #today #linkedin #talent #searchforjobs #techlayoffs #techjobs #technews #careers #jobopening#W2 #contract #c2c #jobopportunities #career #recruiting #openforjobopportunities #Recession #Recession2022 #Recession2023 #jobsearch #ITRecruitment#java #phython #spring #springboot #microservices #hibernate #datajpa #kafka #aws #gcp #azure #javadeveloper #Akka #scala #benchsalesrecruiters#dotnetdeveloper #dotnet #devops #powerbi #uideveloper #networking #scrummaster #data #opportunity #opportunities #fullstackdeveloper #engineering #techcommunity #layoffsandjobreductions #hiring #team #development #grateful #comment #softwareengineering #frontend#dataanalysis #businessintelligence #processimprovement #industrialengineering #newopportunities #analyst #dataengineer #opentowork #openforwork #twitter #stripe #lyft #amazon #apple #microsoft #facebook #tesla #philips #zillow #convey #jpmc #salesforce #nytimes #nypost #wsj #layoff #layoffs #laidoff #job #today#javafullstackdeveloper #javajobs #hiringimmediately #hiring #hiringtalent #marketing #project # #project #Snap #softwareengineer #work#leadership #digitalhealth #medicaldevice #biotechnology #projectAdditionally #career #opportunities #activelylooking #talent #businessintelligenceanalyst #international #students #CPT #OPT #EAD #OPTEAD #Fulltime #H1B #H4EAD #TN #TNVISA #tnjobs #H1BVISA #Citizens #GC #GCEAD #uscitizens #usajobs #usc #usajob #usa2022 #usa #usa2023 #usaitjobs #uscontractjobs #usjobseeker #usjob#dataanalyst #businessanalyst #businessanalysis #analytics #workplace #outsourcedhr #payroll #onboarding#pgmp #productdevelopment #programmanagement #productmanagement #ProjectManagement #productmanager #programmanager #culture #remotework#jobalert #canadajobs #fulltimeposition #candidatesearch #fulltimejobs #jobfair #jobdescription #jobavailable #jobchangers #canada #canadaworkvisa #fulltime #copr #canadastaffing #canadarecruitment #canadacareers #canadajobseeker #canadaitjob #torontocanada #canadaitjobs #jobhiring #jobforyou #jobalerts #canadaprvisa #canadajobseekers#permanentjobs #permanentjob #permanentrecruitment #permanentrole #opentonewopportunities #torontoitjobs #jobseekers #Recruiting#Jobposting #LinkedIn #Openings #Jobvacancy #Jobalert #Jobhunters #activelyhiring #BulkCanadaJobs #informaticajobs #informatica #bigdata #hadoop#tech #help #economy #jobhunt #network#nyc #denver #colorado #losangeles #boston #tampa #florida #michiganjobs #oregoan #sandiego #houston #dallas #itjobs #washington #dallas#chicago #chicagojobs #dfw #plano #dallas #dallasjobs #austin #austinjobs #Cali #CaliJobs #California #Houston #HoustonJobs #atlanta #atlantajobs#nyc #newyork #nycjobs #newyorkjobs #detroit #michigan #mexico #mexicojobs #siliconvalley\\n</td>\n",
              "      <td>recession2022</td>\n",
              "    </tr>\n",
              "    <tr>\n",
              "      <th>2581</th>\n",
              "      <td>That moment when the cast of #JurassicWorldDominion surprised 350 students with free laptops.Just one of many surprises for these amazing students during an all-expense-paid trip to Universal Studios to launch our Jurassic World-themed STEAM initiative. Learn more about this cross-company program with Universal Pictures, Universal Parks &amp; Resorts, and the Council for Opportunity in Education to help ensure more young people have access to the resources and opportunities they need to succeed in today’s digital world. #ProjectUP\\n</td>\n",
              "      <td>recession2022</td>\n",
              "    </tr>\n",
              "    <tr>\n",
              "      <th>2582</th>\n",
              "      <td>Develop crucial skills and knowledge in Brown’s Online MPH to address the many health challenges affecting the world today.\\n</td>\n",
              "      <td>recession2022</td>\n",
              "    </tr>\n",
              "    <tr>\n",
              "      <th>2583</th>\n",
              "      <td>Propel your future forward by taking courses online to earn a graduate certificate or master's degree from Stanford University. Learn more!\\n</td>\n",
              "      <td>recession2022</td>\n",
              "    </tr>\n",
              "  </tbody>\n",
              "</table>\n",
              "<p>2584 rows × 2 columns</p>\n",
              "</div>\n",
              "      <button class=\"colab-df-convert\" onclick=\"convertToInteractive('df-34cb9605-f2ba-47d0-9e0a-04a59621ffec')\"\n",
              "              title=\"Convert this dataframe to an interactive table.\"\n",
              "              style=\"display:none;\">\n",
              "        \n",
              "  <svg xmlns=\"http://www.w3.org/2000/svg\" height=\"24px\"viewBox=\"0 0 24 24\"\n",
              "       width=\"24px\">\n",
              "    <path d=\"M0 0h24v24H0V0z\" fill=\"none\"/>\n",
              "    <path d=\"M18.56 5.44l.94 2.06.94-2.06 2.06-.94-2.06-.94-.94-2.06-.94 2.06-2.06.94zm-11 1L8.5 8.5l.94-2.06 2.06-.94-2.06-.94L8.5 2.5l-.94 2.06-2.06.94zm10 10l.94 2.06.94-2.06 2.06-.94-2.06-.94-.94-2.06-.94 2.06-2.06.94z\"/><path d=\"M17.41 7.96l-1.37-1.37c-.4-.4-.92-.59-1.43-.59-.52 0-1.04.2-1.43.59L10.3 9.45l-7.72 7.72c-.78.78-.78 2.05 0 2.83L4 21.41c.39.39.9.59 1.41.59.51 0 1.02-.2 1.41-.59l7.78-7.78 2.81-2.81c.8-.78.8-2.07 0-2.86zM5.41 20L4 18.59l7.72-7.72 1.47 1.35L5.41 20z\"/>\n",
              "  </svg>\n",
              "      </button>\n",
              "      \n",
              "  <style>\n",
              "    .colab-df-container {\n",
              "      display:flex;\n",
              "      flex-wrap:wrap;\n",
              "      gap: 12px;\n",
              "    }\n",
              "\n",
              "    .colab-df-convert {\n",
              "      background-color: #E8F0FE;\n",
              "      border: none;\n",
              "      border-radius: 50%;\n",
              "      cursor: pointer;\n",
              "      display: none;\n",
              "      fill: #1967D2;\n",
              "      height: 32px;\n",
              "      padding: 0 0 0 0;\n",
              "      width: 32px;\n",
              "    }\n",
              "\n",
              "    .colab-df-convert:hover {\n",
              "      background-color: #E2EBFA;\n",
              "      box-shadow: 0px 1px 2px rgba(60, 64, 67, 0.3), 0px 1px 3px 1px rgba(60, 64, 67, 0.15);\n",
              "      fill: #174EA6;\n",
              "    }\n",
              "\n",
              "    [theme=dark] .colab-df-convert {\n",
              "      background-color: #3B4455;\n",
              "      fill: #D2E3FC;\n",
              "    }\n",
              "\n",
              "    [theme=dark] .colab-df-convert:hover {\n",
              "      background-color: #434B5C;\n",
              "      box-shadow: 0px 1px 3px 1px rgba(0, 0, 0, 0.15);\n",
              "      filter: drop-shadow(0px 1px 2px rgba(0, 0, 0, 0.3));\n",
              "      fill: #FFFFFF;\n",
              "    }\n",
              "  </style>\n",
              "\n",
              "      <script>\n",
              "        const buttonEl =\n",
              "          document.querySelector('#df-34cb9605-f2ba-47d0-9e0a-04a59621ffec button.colab-df-convert');\n",
              "        buttonEl.style.display =\n",
              "          google.colab.kernel.accessAllowed ? 'block' : 'none';\n",
              "\n",
              "        async function convertToInteractive(key) {\n",
              "          const element = document.querySelector('#df-34cb9605-f2ba-47d0-9e0a-04a59621ffec');\n",
              "          const dataTable =\n",
              "            await google.colab.kernel.invokeFunction('convertToInteractive',\n",
              "                                                     [key], {});\n",
              "          if (!dataTable) return;\n",
              "\n",
              "          const docLinkHtml = 'Like what you see? Visit the ' +\n",
              "            '<a target=\"_blank\" href=https://colab.research.google.com/notebooks/data_table.ipynb>data table notebook</a>'\n",
              "            + ' to learn more about interactive tables.';\n",
              "          element.innerHTML = '';\n",
              "          dataTable['output_type'] = 'display_data';\n",
              "          await google.colab.output.renderOutput(dataTable, element);\n",
              "          const docLink = document.createElement('div');\n",
              "          docLink.innerHTML = docLinkHtml;\n",
              "          element.appendChild(docLink);\n",
              "        }\n",
              "      </script>\n",
              "    </div>\n",
              "  </div>\n",
              "  "
            ]
          },
          "metadata": {},
          "execution_count": 92
        }
      ]
    },
    {
      "cell_type": "code",
      "execution_count": null,
      "metadata": {
        "id": "5da3LE5ErnXA"
      },
      "outputs": [],
      "source": [
        "#convert to lowercase\n",
        "unseen_complete_data['POSTS']=unseen_complete_data['POSTS'].str.lower()"
      ]
    },
    {
      "cell_type": "code",
      "execution_count": null,
      "metadata": {
        "id": "TtUV76h1rnXB"
      },
      "outputs": [],
      "source": [
        "#remove html content\n",
        "unseen_complete_data['POSTS'] = unseen_complete_data['POSTS'].apply(lambda x: re.split('<[^<>]*>', str(x))[0])"
      ]
    },
    {
      "cell_type": "code",
      "execution_count": null,
      "metadata": {
        "id": "fYWbbBxmrnXC"
      },
      "outputs": [],
      "source": [
        "def contr(post_text):\n",
        "     posts_body_list=[]\n",
        "     for r in post_text:\n",
        "         decontract_posts_body = contractions.fix(r)\n",
        "         r = ''.join(decontract_posts_body)\n",
        "         r = re.sub(\"\\s\\s+\", \" \", r) # remove extra spaces\n",
        "         posts_body_list.append(r)\n",
        "     return posts_body_list"
      ]
    },
    {
      "cell_type": "code",
      "execution_count": null,
      "metadata": {
        "id": "HPHrCrxfrnXD"
      },
      "outputs": [],
      "source": [
        "unseen_complete_data['POSTS']=contr(unseen_complete_data['POSTS'].values)"
      ]
    },
    {
      "cell_type": "code",
      "execution_count": null,
      "metadata": {
        "id": "JavxSOslrnXD"
      },
      "outputs": [],
      "source": [
        "#remove non-alphabetical values\n",
        "unseen_complete_data['POSTS'] = unseen_complete_data['POSTS'].replace('[^a-zA-Z ]', '', regex=True)"
      ]
    },
    {
      "cell_type": "code",
      "execution_count": null,
      "metadata": {
        "id": "JsnJrk-rrnXE"
      },
      "outputs": [],
      "source": [
        "import numpy as np\n",
        "unseen_complete_data['TAGS']=np.where( (unseen_complete_data['LABEL']=='excited') | (unseen_complete_data['LABEL']=='hiring') | (unseen_complete_data['LABEL']=='positivity') | (unseen_complete_data['LABEL']=='positivevibes') | (unseen_complete_data['LABEL']=='grateful') | (unseen_complete_data['LABEL']=='newjob') | (unseen_complete_data['LABEL']=='blessed') | (unseen_complete_data['LABEL']=='happy') | (unseen_complete_data['LABEL']=='lmao') | (unseen_complete_data['LABEL']=='funny') | (unseen_complete_data['LABEL']=='fun') | (unseen_complete_data['LABEL']=='lol') , 1, -1)"
      ]
    },
    {
      "cell_type": "code",
      "source": [
        "unseen_complete_data=unseen_complete_data.drop_duplicates(keep='last').reset_index()"
      ],
      "metadata": {
        "id": "UP1dg_4VrnXF"
      },
      "execution_count": null,
      "outputs": []
    },
    {
      "cell_type": "code",
      "source": [
        "unseen_complete_data['POSTS'].replace('', np.nan, inplace=True)\n",
        "unseen_complete_data.dropna(subset=['POSTS'], inplace=True)\n",
        "unseen_complete_data"
      ],
      "metadata": {
        "colab": {
          "base_uri": "https://localhost:8080/",
          "height": 988
        },
        "id": "GXQtwogUrOp-",
        "outputId": "7b0ca5c5-3609-4e5f-fa06-79c8e6a6cbe1"
      },
      "execution_count": null,
      "outputs": [
        {
          "output_type": "execute_result",
          "data": {
            "text/plain": [
              "      index  \\\n",
              "0         0   \n",
              "1         1   \n",
              "2         2   \n",
              "3         3   \n",
              "4         4   \n",
              "...     ...   \n",
              "2257   2579   \n",
              "2258   2580   \n",
              "2259   2581   \n",
              "2260   2582   \n",
              "2261   2583   \n",
              "\n",
              "                                                                                                                                                                                                                                                                                                                                                                                                                                                                                                                                                                                                                                                                                                                                                                                                                                                                                                                                                                                                                                                                                                                                                                                                                                                                                                                                                                                                                                                                                                                                                                                                                                                                                                                                                                                                                                                                                                                                                                                                                                                                                                                                                                                                                                                                                                                                                                                                                                                                                                                                                                                                                                       POSTS  \\\n",
              "0                                                                                                                                                                                                                                                                                                                                                                                                                                                                                                                                                                                                                                                                                                                                                                                                                                                                                                                                                                                                                                                                                                                                                                                                                                                                                                                                                                                                                                                                                                                                                                                                                                                                                                                                                                                                                                                                                                                                                                                                                                                                                                                                                                                                                                                                                                                                                                                                                                                                                                                                                              does excel run on mac you bet so do word powerpoint and all the apps you need   \n",
              "1                                                                                                                                                                                                                                                                                                                                                                                                                                                                                                                                                                                                                                                                                                                                                                                                                                                                                                                                                                                                                                                                                                                                                                                                                                                                                                                                                                                                                                                                                                                                                                                                                                                                                                                                                                                                                                                                                                                                                                                                                                                                                                                                                                                                                                                                                                                                                                                                                                                                                                                                        i am about to start a new role at capgemini and containing myself is a real issuedo not ask excited   \n",
              "2                                                                                                                                                                                                                                                                                                                                                                                                                                                                                                                                                                                                                                                                                                                                                                                                                                                                                                                                                                                                                                                                                                                                                                                                                                                                                                                                                                                                                                                                                                                                                                                                                                                                                                                                                                                                                                                                                                                                                                                                                                                                                                                                                                                                                                                                                                                                                                                                                                                                                                                                                                                                                        new chapter excited   \n",
              "3                                                                                                                                                                                                                                                                                                                                                                                                                                                                                                                                                                                                                                                                                                                                                                                                                                                  flying away from the nest and setting off for new adventures on the other side of the planet this day marks a couple of important milestones my first post ever on linkedin  is this really a milestone my last day working at nestl the beginning of a new and exciting journey i am thrilled to announce that i will be moving to new zealand as of february  excited driven by the willingness to enrich ourselves as individuals to go out of our comfort zone to experience a new professional and personal environment and to discover new outdoor experiences my partner and i have decided to take that step and why notsince i graduated from isipca in  the past decade at nestl wow this sounds like a lot which started with a years internship has been incredibly rich and i feel very lucky for all the projects and experiences i went through i met inspiring people and worked on innovative projects from being part of the nestl rd accelerator to the nesqino journey and plenty of other initiatives i enjoyed the diversity of projects activities and challengesthe journey has also sometimes been punctuated with some doubts and questions which were essential to go the extra mile those who know me know that i am always eager to learn new things i do not know yet what will come next and i am very curious to see what the future will bring the next two months will be busy organizing the move and solving admin stuff enjoying time with family and friends recharging and settling in new zealand i will be available for work as of february  and i cannot wait to discover what new zealand has to offer i would love to start discussions about expatriation experiences tips about new zealand potential work opportunities including remote    \n",
              "4                                                                                                                                                                                                                                                                                                                                                                                                                                                                                                                                                                                                                                                                                                                                                                                                                                                                                                                                                                                                                                                                                                                                                                                                                                                                                                                                                                                                                                                                                                                                                                                                                                                                                                                                                                                                                                                                                                                                                                                                                                                                                                                                                                                                                                                                                                                                                                 excited about the great things to come from this partnership gracias to my omnicom media group familia geoffrey calabrese kelly metz amy darwish and televisaunivision daniel aversano richard bertodatti for making this happen multiculturalmarketing httpslnkdinevpbwcu   \n",
              "...                                                                                                                                                                                                                                                                                                                                                                                                                                                                                                                                                                                                                                                                                                                                                                                                                                                                                                                                                                                                                                                                                                                                                                                                                                                                                                                                                                                                                                                                                                                                                                                                                                                                                                                                                                                                                                                                                                                                                                                                                                                                                                                                                                                                                                                                                                                                                                                                                                                                                                                                                                                                                                      ...   \n",
              "2257                                                                                                                                                                                                                                                                                                                                                                                                                                                                                                                                                                                                                                                                                                                                                                                                                                                                                                                                                                                                                                                                                                                                                                                                                                                                                                                                                                                                                                                                                                                                                                                                                                                                                                                                                                                                                                                                                                                                                                                                                                                                                                                                                                                                                                                                                                                                                                                                                                                                                                                                                                        automate testing to catch bugs earlier in your development cycle   \n",
              "2258  is twitter about to go bankrupthttpslnkdingnqtxcnclayoff layoffslaidoff job today linkedin talent searchforjobs techlayoffs techjobs technews careers jobopeningw contract cc jobopportunities career recruiting openforjobopportunities recession recession recession jobsearch itrecruitmentjava phython spring springboot microservices hibernate datajpa kafka aws gcp azure javadeveloper akka scala benchsalesrecruitersdotnetdeveloper dotnet devops powerbi uideveloper networking scrummaster data opportunity opportunities fullstackdeveloper engineering techcommunity layoffsandjobreductions hiring team development grateful comment softwareengineering frontenddataanalysis businessintelligence processimprovementindustrialengineering newopportunities analyst dataengineer opentowork openforwork twitter stripe lyft amazon apple microsoft facebook tesla philips zillow convey jpmc salesforce nytimes nypost wsj layoff layoffslaidoff job todayjavafullstackdeveloper javajobs hiringimmediately hiring hiringtalent marketing project  project snap softwareengineer workleadership digitalhealth medicaldevice biotechnology projectadditionally career opportunities activelylooking talent businessintelligenceanalystinternational students cpt opt ead optead fulltimehb head tn tnvisa tnjobs hbvisa citizens gc gcead uscitizens usajobs usc usajob usa usa usa usaitjobs uscontractjobs usjobseeker usjobdataanalyst businessanalystbusinessanalysis analytics workplace outsourcedhr payroll onboardingpgmp productdevelopment programmanagement productmanagement projectmanagement productmanager programmanager culture remoteworkjobalert canadajobs fulltimeposition candidatesearch fulltimejobs jobfair jobdescription jobavailable jobchangers canada canadaworkvisa fulltime copr canadastaffing canadarecruitment canadacareers canadajobseeker canadaitjob torontocanada canadaitjobsjobhiring jobforyou jobalerts canadaprvisa canadajobseekerspermanentjobs permanentjob permanentrecruitment permanentrole opentonewopportunities torontoitjobs jobseekers recruitingjobposting linkedin openings jobvacancy jobalert jobhunters activelyhiring bulkcanadajobs informaticajobs informatica bigdata hadooptech help economy jobhunt networknyc denver colorado losangeles boston tampa florida michiganjobs oregoan sandiego houston dallas itjobs washington dallaschicago chicagojobs dfw plano dallas dallasjobs austin austinjobs cali calijobs california houston houstonjobs atlanta atlantajobsnyc newyork nycjobs newyorkjobs detroit michiganmexico mexicojobs siliconvalley   \n",
              "2259                                                                                                                                                                                                                                                                                                                                                                                                                                                                                                                                                                                                                                                                                                                                                                                                                                                                                                                                                                                                                                                                                                                                                                                                                                                                                                                                                                                                                                                                                                                                                                                                                                                                                                                                                                                                                                                                                                                                                                                                                                                                                                    that moment when the cast of jurassicworlddominion surprised  students with free laptopsjust one of many surprises for these amazing students during an allexpensepaid trip to universal studios to launch our jurassic worldthemed steam initiative learn more about this crosscompany program with universal pictures universal parks  resorts and the council for opportunity in education to help ensure more young people have access to the resources and opportunities they need to succeed in todays digital world projectup   \n",
              "2260                                                                                                                                                                                                                                                                                                                                                                                                                                                                                                                                                                                                                                                                                                                                                                                                                                                                                                                                                                                                                                                                                                                                                                                                                                                                                                                                                                                                                                                                                                                                                                                                                                                                                                                                                                                                                                                                                                                                                                                                                                                                                                                                                                                                                                                                                                                                                                                                                                                                                                               develop crucial skills and knowledge in browns online mph to address the many health challenges affecting the world today   \n",
              "2261                                                                                                                                                                                                                                                                                                                                                                                                                                                                                                                                                                                                                                                                                                                                                                                                                                                                                                                                                                                                                                                                                                                                                                                                                                                                                                                                                                                                                                                                                                                                                                                                                                                                                                                                                                                                                                                                                                                                                                                                                                                                                                                                                                                                                                                                                                                                                                                                                                                                                                propel your future forward by taking courses online to earn a graduate certificate or masters degree from stanford university learn more   \n",
              "\n",
              "              LABEL  TAGS  \n",
              "0           excited     1  \n",
              "1           excited     1  \n",
              "2           excited     1  \n",
              "3           excited     1  \n",
              "4           excited     1  \n",
              "...             ...   ...  \n",
              "2257  recession2022    -1  \n",
              "2258  recession2022    -1  \n",
              "2259  recession2022    -1  \n",
              "2260  recession2022    -1  \n",
              "2261  recession2022    -1  \n",
              "\n",
              "[2255 rows x 4 columns]"
            ],
            "text/html": [
              "\n",
              "  <div id=\"df-99895573-0642-4e4c-aceb-e9e6f9129bd6\">\n",
              "    <div class=\"colab-df-container\">\n",
              "      <div>\n",
              "<style scoped>\n",
              "    .dataframe tbody tr th:only-of-type {\n",
              "        vertical-align: middle;\n",
              "    }\n",
              "\n",
              "    .dataframe tbody tr th {\n",
              "        vertical-align: top;\n",
              "    }\n",
              "\n",
              "    .dataframe thead th {\n",
              "        text-align: right;\n",
              "    }\n",
              "</style>\n",
              "<table border=\"1\" class=\"dataframe\">\n",
              "  <thead>\n",
              "    <tr style=\"text-align: right;\">\n",
              "      <th></th>\n",
              "      <th>index</th>\n",
              "      <th>POSTS</th>\n",
              "      <th>LABEL</th>\n",
              "      <th>TAGS</th>\n",
              "    </tr>\n",
              "  </thead>\n",
              "  <tbody>\n",
              "    <tr>\n",
              "      <th>0</th>\n",
              "      <td>0</td>\n",
              "      <td>does excel run on mac you bet so do word powerpoint and all the apps you need</td>\n",
              "      <td>excited</td>\n",
              "      <td>1</td>\n",
              "    </tr>\n",
              "    <tr>\n",
              "      <th>1</th>\n",
              "      <td>1</td>\n",
              "      <td>i am about to start a new role at capgemini and containing myself is a real issuedo not ask excited</td>\n",
              "      <td>excited</td>\n",
              "      <td>1</td>\n",
              "    </tr>\n",
              "    <tr>\n",
              "      <th>2</th>\n",
              "      <td>2</td>\n",
              "      <td>new chapter excited</td>\n",
              "      <td>excited</td>\n",
              "      <td>1</td>\n",
              "    </tr>\n",
              "    <tr>\n",
              "      <th>3</th>\n",
              "      <td>3</td>\n",
              "      <td>flying away from the nest and setting off for new adventures on the other side of the planet this day marks a couple of important milestones my first post ever on linkedin  is this really a milestone my last day working at nestl the beginning of a new and exciting journey i am thrilled to announce that i will be moving to new zealand as of february  excited driven by the willingness to enrich ourselves as individuals to go out of our comfort zone to experience a new professional and personal environment and to discover new outdoor experiences my partner and i have decided to take that step and why notsince i graduated from isipca in  the past decade at nestl wow this sounds like a lot which started with a years internship has been incredibly rich and i feel very lucky for all the projects and experiences i went through i met inspiring people and worked on innovative projects from being part of the nestl rd accelerator to the nesqino journey and plenty of other initiatives i enjoyed the diversity of projects activities and challengesthe journey has also sometimes been punctuated with some doubts and questions which were essential to go the extra mile those who know me know that i am always eager to learn new things i do not know yet what will come next and i am very curious to see what the future will bring the next two months will be busy organizing the move and solving admin stuff enjoying time with family and friends recharging and settling in new zealand i will be available for work as of february  and i cannot wait to discover what new zealand has to offer i would love to start discussions about expatriation experiences tips about new zealand potential work opportunities including remote</td>\n",
              "      <td>excited</td>\n",
              "      <td>1</td>\n",
              "    </tr>\n",
              "    <tr>\n",
              "      <th>4</th>\n",
              "      <td>4</td>\n",
              "      <td>excited about the great things to come from this partnership gracias to my omnicom media group familia geoffrey calabrese kelly metz amy darwish and televisaunivision daniel aversano richard bertodatti for making this happen multiculturalmarketing httpslnkdinevpbwcu</td>\n",
              "      <td>excited</td>\n",
              "      <td>1</td>\n",
              "    </tr>\n",
              "    <tr>\n",
              "      <th>...</th>\n",
              "      <td>...</td>\n",
              "      <td>...</td>\n",
              "      <td>...</td>\n",
              "      <td>...</td>\n",
              "    </tr>\n",
              "    <tr>\n",
              "      <th>2257</th>\n",
              "      <td>2579</td>\n",
              "      <td>automate testing to catch bugs earlier in your development cycle</td>\n",
              "      <td>recession2022</td>\n",
              "      <td>-1</td>\n",
              "    </tr>\n",
              "    <tr>\n",
              "      <th>2258</th>\n",
              "      <td>2580</td>\n",
              "      <td>is twitter about to go bankrupthttpslnkdingnqtxcnclayoff layoffslaidoff job today linkedin talent searchforjobs techlayoffs techjobs technews careers jobopeningw contract cc jobopportunities career recruiting openforjobopportunities recession recession recession jobsearch itrecruitmentjava phython spring springboot microservices hibernate datajpa kafka aws gcp azure javadeveloper akka scala benchsalesrecruitersdotnetdeveloper dotnet devops powerbi uideveloper networking scrummaster data opportunity opportunities fullstackdeveloper engineering techcommunity layoffsandjobreductions hiring team development grateful comment softwareengineering frontenddataanalysis businessintelligence processimprovementindustrialengineering newopportunities analyst dataengineer opentowork openforwork twitter stripe lyft amazon apple microsoft facebook tesla philips zillow convey jpmc salesforce nytimes nypost wsj layoff layoffslaidoff job todayjavafullstackdeveloper javajobs hiringimmediately hiring hiringtalent marketing project  project snap softwareengineer workleadership digitalhealth medicaldevice biotechnology projectadditionally career opportunities activelylooking talent businessintelligenceanalystinternational students cpt opt ead optead fulltimehb head tn tnvisa tnjobs hbvisa citizens gc gcead uscitizens usajobs usc usajob usa usa usa usaitjobs uscontractjobs usjobseeker usjobdataanalyst businessanalystbusinessanalysis analytics workplace outsourcedhr payroll onboardingpgmp productdevelopment programmanagement productmanagement projectmanagement productmanager programmanager culture remoteworkjobalert canadajobs fulltimeposition candidatesearch fulltimejobs jobfair jobdescription jobavailable jobchangers canada canadaworkvisa fulltime copr canadastaffing canadarecruitment canadacareers canadajobseeker canadaitjob torontocanada canadaitjobsjobhiring jobforyou jobalerts canadaprvisa canadajobseekerspermanentjobs permanentjob permanentrecruitment permanentrole opentonewopportunities torontoitjobs jobseekers recruitingjobposting linkedin openings jobvacancy jobalert jobhunters activelyhiring bulkcanadajobs informaticajobs informatica bigdata hadooptech help economy jobhunt networknyc denver colorado losangeles boston tampa florida michiganjobs oregoan sandiego houston dallas itjobs washington dallaschicago chicagojobs dfw plano dallas dallasjobs austin austinjobs cali calijobs california houston houstonjobs atlanta atlantajobsnyc newyork nycjobs newyorkjobs detroit michiganmexico mexicojobs siliconvalley</td>\n",
              "      <td>recession2022</td>\n",
              "      <td>-1</td>\n",
              "    </tr>\n",
              "    <tr>\n",
              "      <th>2259</th>\n",
              "      <td>2581</td>\n",
              "      <td>that moment when the cast of jurassicworlddominion surprised  students with free laptopsjust one of many surprises for these amazing students during an allexpensepaid trip to universal studios to launch our jurassic worldthemed steam initiative learn more about this crosscompany program with universal pictures universal parks  resorts and the council for opportunity in education to help ensure more young people have access to the resources and opportunities they need to succeed in todays digital world projectup</td>\n",
              "      <td>recession2022</td>\n",
              "      <td>-1</td>\n",
              "    </tr>\n",
              "    <tr>\n",
              "      <th>2260</th>\n",
              "      <td>2582</td>\n",
              "      <td>develop crucial skills and knowledge in browns online mph to address the many health challenges affecting the world today</td>\n",
              "      <td>recession2022</td>\n",
              "      <td>-1</td>\n",
              "    </tr>\n",
              "    <tr>\n",
              "      <th>2261</th>\n",
              "      <td>2583</td>\n",
              "      <td>propel your future forward by taking courses online to earn a graduate certificate or masters degree from stanford university learn more</td>\n",
              "      <td>recession2022</td>\n",
              "      <td>-1</td>\n",
              "    </tr>\n",
              "  </tbody>\n",
              "</table>\n",
              "<p>2255 rows × 4 columns</p>\n",
              "</div>\n",
              "      <button class=\"colab-df-convert\" onclick=\"convertToInteractive('df-99895573-0642-4e4c-aceb-e9e6f9129bd6')\"\n",
              "              title=\"Convert this dataframe to an interactive table.\"\n",
              "              style=\"display:none;\">\n",
              "        \n",
              "  <svg xmlns=\"http://www.w3.org/2000/svg\" height=\"24px\"viewBox=\"0 0 24 24\"\n",
              "       width=\"24px\">\n",
              "    <path d=\"M0 0h24v24H0V0z\" fill=\"none\"/>\n",
              "    <path d=\"M18.56 5.44l.94 2.06.94-2.06 2.06-.94-2.06-.94-.94-2.06-.94 2.06-2.06.94zm-11 1L8.5 8.5l.94-2.06 2.06-.94-2.06-.94L8.5 2.5l-.94 2.06-2.06.94zm10 10l.94 2.06.94-2.06 2.06-.94-2.06-.94-.94-2.06-.94 2.06-2.06.94z\"/><path d=\"M17.41 7.96l-1.37-1.37c-.4-.4-.92-.59-1.43-.59-.52 0-1.04.2-1.43.59L10.3 9.45l-7.72 7.72c-.78.78-.78 2.05 0 2.83L4 21.41c.39.39.9.59 1.41.59.51 0 1.02-.2 1.41-.59l7.78-7.78 2.81-2.81c.8-.78.8-2.07 0-2.86zM5.41 20L4 18.59l7.72-7.72 1.47 1.35L5.41 20z\"/>\n",
              "  </svg>\n",
              "      </button>\n",
              "      \n",
              "  <style>\n",
              "    .colab-df-container {\n",
              "      display:flex;\n",
              "      flex-wrap:wrap;\n",
              "      gap: 12px;\n",
              "    }\n",
              "\n",
              "    .colab-df-convert {\n",
              "      background-color: #E8F0FE;\n",
              "      border: none;\n",
              "      border-radius: 50%;\n",
              "      cursor: pointer;\n",
              "      display: none;\n",
              "      fill: #1967D2;\n",
              "      height: 32px;\n",
              "      padding: 0 0 0 0;\n",
              "      width: 32px;\n",
              "    }\n",
              "\n",
              "    .colab-df-convert:hover {\n",
              "      background-color: #E2EBFA;\n",
              "      box-shadow: 0px 1px 2px rgba(60, 64, 67, 0.3), 0px 1px 3px 1px rgba(60, 64, 67, 0.15);\n",
              "      fill: #174EA6;\n",
              "    }\n",
              "\n",
              "    [theme=dark] .colab-df-convert {\n",
              "      background-color: #3B4455;\n",
              "      fill: #D2E3FC;\n",
              "    }\n",
              "\n",
              "    [theme=dark] .colab-df-convert:hover {\n",
              "      background-color: #434B5C;\n",
              "      box-shadow: 0px 1px 3px 1px rgba(0, 0, 0, 0.15);\n",
              "      filter: drop-shadow(0px 1px 2px rgba(0, 0, 0, 0.3));\n",
              "      fill: #FFFFFF;\n",
              "    }\n",
              "  </style>\n",
              "\n",
              "      <script>\n",
              "        const buttonEl =\n",
              "          document.querySelector('#df-99895573-0642-4e4c-aceb-e9e6f9129bd6 button.colab-df-convert');\n",
              "        buttonEl.style.display =\n",
              "          google.colab.kernel.accessAllowed ? 'block' : 'none';\n",
              "\n",
              "        async function convertToInteractive(key) {\n",
              "          const element = document.querySelector('#df-99895573-0642-4e4c-aceb-e9e6f9129bd6');\n",
              "          const dataTable =\n",
              "            await google.colab.kernel.invokeFunction('convertToInteractive',\n",
              "                                                     [key], {});\n",
              "          if (!dataTable) return;\n",
              "\n",
              "          const docLinkHtml = 'Like what you see? Visit the ' +\n",
              "            '<a target=\"_blank\" href=https://colab.research.google.com/notebooks/data_table.ipynb>data table notebook</a>'\n",
              "            + ' to learn more about interactive tables.';\n",
              "          element.innerHTML = '';\n",
              "          dataTable['output_type'] = 'display_data';\n",
              "          await google.colab.output.renderOutput(dataTable, element);\n",
              "          const docLink = document.createElement('div');\n",
              "          docLink.innerHTML = docLinkHtml;\n",
              "          element.appendChild(docLink);\n",
              "        }\n",
              "      </script>\n",
              "    </div>\n",
              "  </div>\n",
              "  "
            ]
          },
          "metadata": {},
          "execution_count": 100
        }
      ]
    },
    {
      "cell_type": "code",
      "source": [
        "from keras.preprocessing.text import Tokenizer\n",
        "from keras_preprocessing.sequence import pad_sequences\n",
        "#max_features = 2000\n",
        "#tokenizer = Tokenizer(num_words = max_features, )\n",
        "# tokenizer = Tokenizer()\n",
        "# tokenizer.fit_on_texts(unseen_complete_data['POSTS'].values)\n",
        "X = tokenizer.texts_to_sequences(unseen_complete_data['POSTS'].values)\n",
        "X = pad_sequences(X, padding = 'post' , maxlen=100)\n",
        "Y = pd.get_dummies(unseen_complete_data['TAGS']).values\n",
        "#Y= complete_data['TAGS'].values\n",
        "\n",
        "vocab_size = len(tokenizer.word_index)+1"
      ],
      "metadata": {
        "id": "9gxEKv5zr1L0"
      },
      "execution_count": null,
      "outputs": []
    },
    {
      "cell_type": "code",
      "source": [
        "Y_test_new_unseen=[]\n",
        "for val in Y:\n",
        "  if val[0]==1:\n",
        "    Y_test_new_unseen.append(0)\n",
        "  else:\n",
        "    Y_test_new_unseen.append(1)"
      ],
      "metadata": {
        "id": "d6CNfYsQr1L2"
      },
      "execution_count": null,
      "outputs": []
    },
    {
      "cell_type": "code",
      "source": [
        "from sklearn.metrics import classification_report\n",
        "\n",
        "y_pred_unseen = lstm_model.predict(X, batch_size=10, verbose=1)\n",
        "y_pred_bool_unseen = np.argmax(y_pred_unseen, axis=1)\n",
        "\n",
        "print(classification_report(Y_test_new_unseen, y_pred_bool_unseen))\n"
      ],
      "metadata": {
        "colab": {
          "base_uri": "https://localhost:8080/"
        },
        "outputId": "15f219ea-cca3-4b8d-ce92-7f3484dbabe1",
        "id": "457TUncor1L2"
      },
      "execution_count": null,
      "outputs": [
        {
          "output_type": "stream",
          "name": "stdout",
          "text": [
            "226/226 [==============================] - 15s 66ms/step\n",
            "              precision    recall  f1-score   support\n",
            "\n",
            "           0       0.85      0.88      0.86      1200\n",
            "           1       0.85      0.83      0.84      1055\n",
            "\n",
            "    accuracy                           0.85      2255\n",
            "   macro avg       0.85      0.85      0.85      2255\n",
            "weighted avg       0.85      0.85      0.85      2255\n",
            "\n"
          ]
        }
      ]
    },
    {
      "cell_type": "markdown",
      "source": [
        "**LSTM with FastText Embeddings**"
      ],
      "metadata": {
        "id": "bDTW6MonWRZW"
      }
    },
    {
      "cell_type": "code",
      "source": [
        "embedding_matrix = np.zeros((vocab_size,300))\n",
        "for word,i in tqdm(tokenizer.word_index.items()):\n",
        "    embedding_value = model.get_word_vector(word)\n",
        "    embedding_matrix[i] = embedding_value"
      ],
      "metadata": {
        "colab": {
          "base_uri": "https://localhost:8080/"
        },
        "id": "_jLfx2HuWWwW",
        "outputId": "adf98f0a-0a43-40bc-a50b-4c186e0b71e5"
      },
      "execution_count": null,
      "outputs": [
        {
          "output_type": "stream",
          "name": "stderr",
          "text": [
            "100%|██████████| 92516/92516 [00:05<00:00, 15501.59it/s]\n"
          ]
        }
      ]
    },
    {
      "cell_type": "code",
      "source": [
        "len(embedding_matrix),embedding_matrix.size"
      ],
      "metadata": {
        "colab": {
          "base_uri": "https://localhost:8080/"
        },
        "id": "OHPYHdEVWWyy",
        "outputId": "24bdfbd3-85bf-4bf5-ed19-7af08b92e0e3"
      },
      "execution_count": null,
      "outputs": [
        {
          "output_type": "execute_result",
          "data": {
            "text/plain": [
              "(92517, 27755100)"
            ]
          },
          "metadata": {},
          "execution_count": 30
        }
      ]
    },
    {
      "cell_type": "code",
      "source": [
        "import tensorflow as tf\n",
        "from tensorflow import keras\n",
        "from tensorflow.keras import layers\n",
        "from tensorflow.keras import losses\n",
        "from tensorflow.keras import preprocessing\n",
        "from tensorflow.keras import utils\n",
        "from tensorflow.keras.layers.experimental.preprocessing import TextVectorization\n",
        "\n",
        "\n",
        "from keras.layers import Dense, Embedding, LSTM, SpatialDropout1D, Bidirectional, Dropout\n",
        "embid_dim = 300\n",
        "lstm_out = 128\n",
        "vanilla_lstm_model = keras.Sequential()\n",
        "vanilla_lstm_model.add(Embedding(vocab_size, embid_dim, weights = [embedding_matrix] , trainable = False))\n",
        "vanilla_lstm_model.add(LSTM(lstm_out, dropout=0.2))\n",
        "vanilla_lstm_model.add(Dense(128, activation = 'relu'))\n",
        "vanilla_lstm_model.add(Dropout(0.5))\n",
        "vanilla_lstm_model.add(Dense(64, activation = 'relu'))\n",
        "vanilla_lstm_model.add(Dense(2, activation = 'softmax'))  #if used pd.get dummies above\n",
        "vanilla_lstm_model.summary()"
      ],
      "metadata": {
        "colab": {
          "base_uri": "https://localhost:8080/"
        },
        "id": "1DZ0wiOiWW1q",
        "outputId": "77311565-3134-4175-a3b9-100c57e8f23a"
      },
      "execution_count": null,
      "outputs": [
        {
          "output_type": "stream",
          "name": "stdout",
          "text": [
            "Model: \"sequential_9\"\n",
            "_________________________________________________________________\n",
            " Layer (type)                Output Shape              Param #   \n",
            "=================================================================\n",
            " embedding_9 (Embedding)     (None, None, 300)         27755100  \n",
            "                                                                 \n",
            " lstm_12 (LSTM)              (None, 128)               219648    \n",
            "                                                                 \n",
            " dense_22 (Dense)            (None, 128)               16512     \n",
            "                                                                 \n",
            " dropout_6 (Dropout)         (None, 128)               0         \n",
            "                                                                 \n",
            " dense_23 (Dense)            (None, 64)                8256      \n",
            "                                                                 \n",
            " dense_24 (Dense)            (None, 2)                 130       \n",
            "                                                                 \n",
            "=================================================================\n",
            "Total params: 27,999,646\n",
            "Trainable params: 244,546\n",
            "Non-trainable params: 27,755,100\n",
            "_________________________________________________________________\n"
          ]
        }
      ]
    },
    {
      "cell_type": "code",
      "source": [
        "early_stopping_monitor = tf.keras.callbacks.EarlyStopping(\n",
        "    monitor='val_loss',\n",
        "    min_delta=0,\n",
        "    patience=10,\n",
        "    verbose=0,\n",
        "    mode='auto',\n",
        "    baseline=None,\n",
        "    restore_best_weights=True\n",
        ")\n",
        "batch_size = 200\n",
        "vanilla_lstm_model.compile(loss = 'binary_crossentropy', optimizer='adam',metrics = ['accuracy'])\n",
        "history = vanilla_lstm_model.fit(X_train, Y_train, epochs = 50, batch_size=batch_size, verbose = 1, callbacks=[early_stopping_monitor], validation_data =(X_test, Y_test))"
      ],
      "metadata": {
        "colab": {
          "base_uri": "https://localhost:8080/"
        },
        "id": "Bw64AMscY2Eb",
        "outputId": "101bc59d-cecd-4ea5-e6ff-c8ac4f07011c"
      },
      "execution_count": null,
      "outputs": [
        {
          "output_type": "stream",
          "name": "stdout",
          "text": [
            "Epoch 1/50\n",
            "54/54 [==============================] - 41s 718ms/step - loss: 0.6597 - accuracy: 0.5914 - val_loss: 0.5854 - val_accuracy: 0.6981\n",
            "Epoch 2/50\n",
            "54/54 [==============================] - 42s 784ms/step - loss: 0.4752 - accuracy: 0.7781 - val_loss: 0.4445 - val_accuracy: 0.8077\n",
            "Epoch 3/50\n",
            "54/54 [==============================] - 39s 716ms/step - loss: 0.4136 - accuracy: 0.8110 - val_loss: 0.4001 - val_accuracy: 0.8264\n",
            "Epoch 4/50\n",
            "54/54 [==============================] - 39s 722ms/step - loss: 0.3901 - accuracy: 0.8266 - val_loss: 0.3810 - val_accuracy: 0.8230\n",
            "Epoch 5/50\n",
            "54/54 [==============================] - 38s 703ms/step - loss: 0.3709 - accuracy: 0.8305 - val_loss: 0.3689 - val_accuracy: 0.8300\n",
            "Epoch 6/50\n",
            "54/54 [==============================] - 38s 704ms/step - loss: 0.3567 - accuracy: 0.8371 - val_loss: 0.3543 - val_accuracy: 0.8350\n",
            "Epoch 7/50\n",
            "54/54 [==============================] - 38s 702ms/step - loss: 0.3450 - accuracy: 0.8412 - val_loss: 0.3798 - val_accuracy: 0.8342\n",
            "Epoch 8/50\n",
            "54/54 [==============================] - 42s 786ms/step - loss: 0.3431 - accuracy: 0.8447 - val_loss: 0.3389 - val_accuracy: 0.8378\n",
            "Epoch 9/50\n",
            "54/54 [==============================] - 38s 704ms/step - loss: 0.3095 - accuracy: 0.8564 - val_loss: 0.3555 - val_accuracy: 0.8311\n",
            "Epoch 10/50\n",
            "54/54 [==============================] - 38s 700ms/step - loss: 0.2917 - accuracy: 0.8635 - val_loss: 0.3487 - val_accuracy: 0.8228\n",
            "Epoch 11/50\n",
            "54/54 [==============================] - 38s 705ms/step - loss: 0.3058 - accuracy: 0.8578 - val_loss: 0.3102 - val_accuracy: 0.8525\n",
            "Epoch 12/50\n",
            "54/54 [==============================] - 38s 705ms/step - loss: 0.2810 - accuracy: 0.8689 - val_loss: 0.3058 - val_accuracy: 0.8478\n",
            "Epoch 13/50\n",
            "54/54 [==============================] - 42s 789ms/step - loss: 0.2615 - accuracy: 0.8793 - val_loss: 0.2964 - val_accuracy: 0.8578\n",
            "Epoch 14/50\n",
            "54/54 [==============================] - 38s 708ms/step - loss: 0.2515 - accuracy: 0.8848 - val_loss: 0.3097 - val_accuracy: 0.8556\n",
            "Epoch 15/50\n",
            "54/54 [==============================] - 38s 710ms/step - loss: 0.2521 - accuracy: 0.8878 - val_loss: 0.3122 - val_accuracy: 0.8414\n",
            "Epoch 16/50\n",
            "54/54 [==============================] - 39s 716ms/step - loss: 0.2480 - accuracy: 0.8847 - val_loss: 0.3311 - val_accuracy: 0.8589\n",
            "Epoch 17/50\n",
            "54/54 [==============================] - 38s 707ms/step - loss: 0.2389 - accuracy: 0.8925 - val_loss: 0.2989 - val_accuracy: 0.8667\n",
            "Epoch 18/50\n",
            "54/54 [==============================] - 38s 702ms/step - loss: 0.2330 - accuracy: 0.8949 - val_loss: 0.3066 - val_accuracy: 0.8417\n",
            "Epoch 19/50\n",
            "54/54 [==============================] - 42s 778ms/step - loss: 0.2230 - accuracy: 0.8983 - val_loss: 0.3252 - val_accuracy: 0.8553\n",
            "Epoch 20/50\n",
            "54/54 [==============================] - 38s 701ms/step - loss: 0.2212 - accuracy: 0.8959 - val_loss: 0.3293 - val_accuracy: 0.8587\n",
            "Epoch 21/50\n",
            "54/54 [==============================] - 38s 707ms/step - loss: 0.2110 - accuracy: 0.9047 - val_loss: 0.3270 - val_accuracy: 0.8689\n",
            "Epoch 22/50\n",
            "54/54 [==============================] - 38s 710ms/step - loss: 0.2179 - accuracy: 0.9032 - val_loss: 0.2892 - val_accuracy: 0.8648\n",
            "Epoch 23/50\n",
            "54/54 [==============================] - 38s 707ms/step - loss: 0.1997 - accuracy: 0.9098 - val_loss: 0.3370 - val_accuracy: 0.8628\n",
            "Epoch 24/50\n",
            "54/54 [==============================] - 40s 738ms/step - loss: 0.2070 - accuracy: 0.9091 - val_loss: 0.3028 - val_accuracy: 0.8637\n",
            "Epoch 25/50\n",
            "54/54 [==============================] - 40s 732ms/step - loss: 0.1877 - accuracy: 0.9157 - val_loss: 0.3197 - val_accuracy: 0.8595\n",
            "Epoch 26/50\n",
            "54/54 [==============================] - 38s 700ms/step - loss: 0.1875 - accuracy: 0.9157 - val_loss: 0.2980 - val_accuracy: 0.8620\n",
            "Epoch 27/50\n",
            "54/54 [==============================] - 38s 703ms/step - loss: 0.1871 - accuracy: 0.9150 - val_loss: 0.3334 - val_accuracy: 0.8651\n",
            "Epoch 28/50\n",
            "54/54 [==============================] - 38s 702ms/step - loss: 0.1865 - accuracy: 0.9171 - val_loss: 0.3020 - val_accuracy: 0.8592\n",
            "Epoch 29/50\n",
            "54/54 [==============================] - 38s 711ms/step - loss: 0.1954 - accuracy: 0.9139 - val_loss: 0.3192 - val_accuracy: 0.8645\n",
            "Epoch 30/50\n",
            "54/54 [==============================] - 42s 783ms/step - loss: 0.1771 - accuracy: 0.9192 - val_loss: 0.3509 - val_accuracy: 0.8659\n",
            "Epoch 31/50\n",
            "54/54 [==============================] - 38s 708ms/step - loss: 0.1796 - accuracy: 0.9232 - val_loss: 0.3459 - val_accuracy: 0.8695\n",
            "Epoch 32/50\n",
            "54/54 [==============================] - 38s 706ms/step - loss: 0.1658 - accuracy: 0.9260 - val_loss: 0.3114 - val_accuracy: 0.8720\n"
          ]
        }
      ]
    },
    {
      "cell_type": "code",
      "source": [
        "vanilla_lstm_model.save('/content/gdrive/MyDrive/Colab Notebooks/')"
      ],
      "metadata": {
        "colab": {
          "base_uri": "https://localhost:8080/"
        },
        "id": "o-EK_biCZ4N8",
        "outputId": "d677ed3b-9e58-430a-bb62-246f32bf5027"
      },
      "execution_count": null,
      "outputs": [
        {
          "output_type": "stream",
          "name": "stderr",
          "text": [
            "WARNING:absl:Found untraced functions such as lstm_cell_14_layer_call_fn, lstm_cell_14_layer_call_and_return_conditional_losses while saving (showing 2 of 2). These functions will not be directly callable after loading.\n"
          ]
        }
      ]
    },
    {
      "cell_type": "code",
      "source": [
        "Y_test_new=[]\n",
        "for val in Y_test:\n",
        "  if val[0]==1:\n",
        "    Y_test_new.append(0)\n",
        "  else:\n",
        "    Y_test_new.append(1)"
      ],
      "metadata": {
        "id": "TzB3DiqCaPXX"
      },
      "execution_count": null,
      "outputs": []
    },
    {
      "cell_type": "code",
      "source": [
        "from sklearn.metrics import classification_report\n",
        "\n",
        "y_pred = vanilla_lstm_model.predict(X_test, batch_size=64, verbose=1)\n",
        "y_pred_bool = np.argmax(y_pred, axis=1)\n",
        "\n",
        "print(classification_report(Y_test_new, y_pred_bool))\n"
      ],
      "metadata": {
        "colab": {
          "base_uri": "https://localhost:8080/"
        },
        "outputId": "f35b74bb-e0e0-4902-e6fa-3e602fa7508b",
        "id": "4uYDLoUAaPXZ"
      },
      "execution_count": null,
      "outputs": [
        {
          "output_type": "stream",
          "name": "stdout",
          "text": [
            "57/57 [==============================] - 7s 110ms/step\n",
            "              precision    recall  f1-score   support\n",
            "\n",
            "           0       0.85      0.94      0.89      2114\n",
            "           1       0.90      0.75      0.82      1480\n",
            "\n",
            "    accuracy                           0.86      3594\n",
            "   macro avg       0.87      0.85      0.86      3594\n",
            "weighted avg       0.87      0.86      0.86      3594\n",
            "\n"
          ]
        }
      ]
    },
    {
      "cell_type": "markdown",
      "source": [
        "**Vanilla LSTM model on completely unseen data with FastText Embeddings**"
      ],
      "metadata": {
        "id": "bCgr8L4panAU"
      }
    },
    {
      "cell_type": "code",
      "source": [
        "path = \"/content/gdrive/MyDrive/Colab Notebooks/Unseen_test_data/\"\n",
        "dir_list = os.listdir(path)\n",
        "pd.set_option('display.max_colwidth', None)"
      ],
      "metadata": {
        "id": "-X6HGZauakWm"
      },
      "execution_count": null,
      "outputs": []
    },
    {
      "cell_type": "code",
      "source": [
        "all_lines_list=list()\n",
        "labels_list=list()\n",
        "for filename in dir_list:\n",
        "    file_extension_val=filename.split('.')\n",
        "    file_extension=file_extension_val[1]\n",
        "    if(file_extension=='txt'):\n",
        "        label=filename.split('_')\n",
        "        label=label[2]\n",
        "        label=label.split('.')\n",
        "        label=label[0]\n",
        "        labels_list.append(label)\n",
        "        # with open(\"/content/gdrive/MyDrive/Colab Notebooks/Unseen_test_data/\"+filename, encoding='unicode_escape') as file_ptr:\n",
        "        with open(path + \"/\" + filename, encoding='utf-8') as file_ptr:\n",
        "            lines_temp = list()\n",
        "            for line in file_ptr:\n",
        "                if(line.strip()!=\"-----------------------------\"):\n",
        "                    lines_temp.append(line)\n",
        "            all_lines_list.append(lines_temp)"
      ],
      "metadata": {
        "id": "TYGfBOyzakWn"
      },
      "execution_count": null,
      "outputs": []
    },
    {
      "cell_type": "code",
      "source": [
        "df_posts=pd.DataFrame()\n",
        "labels_global_list=list()\n",
        "label_index=0\n",
        "for lst in all_lines_list:\n",
        "    df_temp = pd.DataFrame(lst)\n",
        "    df_posts=df_posts.append(df_temp,ignore_index=True,)\n",
        "#     label_length=len(lst)\n",
        "    for i in range(len(lst)):\n",
        "        labels_global_list.append(labels_list[label_index])\n",
        "    label_index=label_index+1\n",
        "    \n",
        "df_labels = pd.DataFrame(labels_global_list)"
      ],
      "metadata": {
        "id": "OmMqEHX9akWo"
      },
      "execution_count": null,
      "outputs": []
    },
    {
      "cell_type": "code",
      "source": [
        "unseen_complete_data = pd.concat([df_posts, df_labels], axis=1)\n",
        "unseen_complete_data.columns = ['POSTS', 'LABEL']\n",
        "unseen_complete_data"
      ],
      "metadata": {
        "colab": {
          "base_uri": "https://localhost:8080/",
          "height": 919
        },
        "outputId": "6bfec3bd-dea3-4833-f0d1-f92b3200fc66",
        "id": "UFwUCguJakWo"
      },
      "execution_count": null,
      "outputs": [
        {
          "output_type": "execute_result",
          "data": {
            "text/plain": [
              "                                                                                                                                                                                                                                                                                                                                                                                                                                                                                                                                                                                                                                                                                                                                                                                                                                                                                                                                                                                                                                                                                                                                                                                                                                                                                                                                                                                                                                                                                                                                                                                                                                                                                                                                                                                                                                                                                                                                                                                                                                                                                                                                                                                                                                                                                                                                                                                                                                                                                                                                                                                                                                                                                                                                                                                                                                                                                                                                  POSTS  \\\n",
              "0                                                                                                                                                                                                                                                                                                                                                                                                                                                                                                                                                                                                                                                                                                                                                                                                                                                                                                                                                                                                                                                                                                                                                                                                                                                                                                                                                                                                                                                                                                                                                                                                                                                                                                                                                                                                                                                                                                                                                                                                                                                                                                                                                                                                                                                                                                                                                                                                                                                                                                                                                                                                                                                                                                                                                                                                                                                  Does Excel run on Mac? You bet. So do Word, PowerPoint, and all the apps you need.\\n   \n",
              "1                                                                                                                                                                                                                                                                                                                                                                                                                                                                                                                                                                                                                                                                                                                                                                                                                                                                                                                                                                                                                                                                                                                                                                                                                                                                                                                                                                                                                                                                                                                                                                                                                                                                                                                                                                                                                                                                                                                                                                                                                                                                                                                                                                                                                                                                                                                                                                                                                                                                                                                                                                                                                                                                                                                                                                                                                                I'm about to start a new role at Capgemini and containing myself is a real issue.Don't ask 😌#excited\\n   \n",
              "2                                                                                                                                                                                                                                                                                                                                                                                                                                                                                                                                                                                                                                                                                                                                                                                                                                                                                                                                                                                                                                                                                                                                                                                                                                                                                                                                                                                                                                                                                                                                                                                                                                                                                                                                                                                                                                                                                                                                                                                                                                                                                                                                                                                                                                                                                                                                                                                                                                                                                                                                                                                                                                                                                                                                                                                                                                                                                                               New chapter. #excited\\n   \n",
              "3                                                                                                                                                                                                                                                                                                                                                                                                                                                                                                                                                                                                                                                                                                                                                                                                                                                                                                                                                                                                                                                   Flying away from the Nest and setting off for new adventures on the other side of the planet 🗺️This day marks a couple of important milestones:-         My first post ever on LinkedIn 🚀 (Is this really a milestone?)-         My last day working at Nestlé-         The beginning of a new and exciting journey 😍I am thrilled to announce that I’ll be moving to New Zealand as of February 2023 (#excited). Driven by the willingness to enrich ourselves as individuals, to go out of our comfort zone, to experience a new professional and personal environment, and to discover new outdoor experiences, my partner and I have decided to take that step. And why not?Since I graduated from ISIPCA in 2014, the past decade at Nestlé (wow, this sounds like a lot) which started with a 2-years internship has been incredibly rich and I feel very lucky for all the projects and experiences I went through. I met inspiring people and worked on innovative projects. From being part of the Nestlé R&D accelerator to the nesQino™️ journey, and plenty of other initiatives, I enjoyed the diversity of projects, activities, and challenges.The journey has also sometimes been punctuated with some doubts and questions, which were essential to go the extra mile. Those who know me know that I am always eager to learn new things. I don’t know yet what will come next, and I am very curious to see what the future will bring… The next two months will be busy organizing the move (and solving admin stuff), enjoying time with family and friends, recharging, and settling in New Zealand. I’ll be available for work as of February 2023 and I can’t wait to discover what New Zealand has to offer. I would love to start discussions about expatriation experiences, tips about New Zealand, potential work opportunities (including remote), …\\n   \n",
              "4                                                                                                                                                                                                                                                                                                                                                                                                                                                                                                                                                                                                                                                                                                                                                                                                                                                                                                                                                                                                                                                                                                                                                                                                                                                                                                                                                                                                                                                                                                                                                                                                                                                                                                                                                                                                                                                                                                                                                                                                                                                                                                                                                                                                                                                                                                                                                                                                                                                                                                                                                                                                                                        #Excited about the great things to come from this partnership.  Gracias to my Omnicom Media Group familia (Geoffrey Calabrese, Kelly Metz, Amy Darwish) and TelevisaUnivision (Daniel Aversano, Richard Bertodatti) for making this happen! #multiculturalmarketing https://lnkd.in/eVpbW7CU\\n   \n",
              "...                                                                                                                                                                                                                                                                                                                                                                                                                                                                                                                                                                                                                                                                                                                                                                                                                                                                                                                                                                                                                                                                                                                                                                                                                                                                                                                                                                                                                                                                                                                                                                                                                                                                                                                                                                                                                                                                                                                                                                                                                                                                                                                                                                                                                                                                                                                                                                                                                                                                                                                                                                                                                                                                                                                                                                                                                                                                                                                                 ...   \n",
              "2579                                                                                                                                                                                                                                                                                                                                                                                                                                                                                                                                                                                                                                                                                                                                                                                                                                                                                                                                                                                                                                                                                                                                                                                                                                                                                                                                                                                                                                                                                                                                                                                                                                                                                                                                                                                                                                                                                                                                                                                                                                                                                                                                                                                                                                                                                                                                                                                                                                                                                                                                                                                                                                                                                                                                                                                                                                                                Automate testing to catch bugs earlier in your development cycle.\\n   \n",
              "2580  Is Twitter about to go bankrupt?https://lnkd.in/gnQtXcnC#layoff #layoffs #laidoff #job #today #linkedin #talent #searchforjobs #techlayoffs #techjobs #technews #careers #jobopening#W2 #contract #c2c #jobopportunities #career #recruiting #openforjobopportunities #Recession #Recession2022 #Recession2023 #jobsearch #ITRecruitment#java #phython #spring #springboot #microservices #hibernate #datajpa #kafka #aws #gcp #azure #javadeveloper #Akka #scala #benchsalesrecruiters#dotnetdeveloper #dotnet #devops #powerbi #uideveloper #networking #scrummaster #data #opportunity #opportunities #fullstackdeveloper #engineering #techcommunity #layoffsandjobreductions #hiring #team #development #grateful #comment #softwareengineering #frontend#dataanalysis #businessintelligence #processimprovement #industrialengineering #newopportunities #analyst #dataengineer #opentowork #openforwork #twitter #stripe #lyft #amazon #apple #microsoft #facebook #tesla #philips #zillow #convey #jpmc #salesforce #nytimes #nypost #wsj #layoff #layoffs #laidoff #job #today#javafullstackdeveloper #javajobs #hiringimmediately #hiring #hiringtalent #marketing #project # #project #Snap #softwareengineer #work#leadership #digitalhealth #medicaldevice #biotechnology #projectAdditionally #career #opportunities #activelylooking #talent #businessintelligenceanalyst #international #students #CPT #OPT #EAD #OPTEAD #Fulltime #H1B #H4EAD #TN #TNVISA #tnjobs #H1BVISA #Citizens #GC #GCEAD #uscitizens #usajobs #usc #usajob #usa2022 #usa #usa2023 #usaitjobs #uscontractjobs #usjobseeker #usjob#dataanalyst #businessanalyst #businessanalysis #analytics #workplace #outsourcedhr #payroll #onboarding#pgmp #productdevelopment #programmanagement #productmanagement #ProjectManagement #productmanager #programmanager #culture #remotework#jobalert #canadajobs #fulltimeposition #candidatesearch #fulltimejobs #jobfair #jobdescription #jobavailable #jobchangers #canada #canadaworkvisa #fulltime #copr #canadastaffing #canadarecruitment #canadacareers #canadajobseeker #canadaitjob #torontocanada #canadaitjobs #jobhiring #jobforyou #jobalerts #canadaprvisa #canadajobseekers#permanentjobs #permanentjob #permanentrecruitment #permanentrole #opentonewopportunities #torontoitjobs #jobseekers #Recruiting#Jobposting #LinkedIn #Openings #Jobvacancy #Jobalert #Jobhunters #activelyhiring #BulkCanadaJobs #informaticajobs #informatica #bigdata #hadoop#tech #help #economy #jobhunt #network#nyc #denver #colorado #losangeles #boston #tampa #florida #michiganjobs #oregoan #sandiego #houston #dallas #itjobs #washington #dallas#chicago #chicagojobs #dfw #plano #dallas #dallasjobs #austin #austinjobs #Cali #CaliJobs #California #Houston #HoustonJobs #atlanta #atlantajobs#nyc #newyork #nycjobs #newyorkjobs #detroit #michigan #mexico #mexicojobs #siliconvalley\\n   \n",
              "2581                                                                                                                                                                                                                                                                                                                                                                                                                                                                                                                                                                                                                                                                                                                                                                                                                                                                                                                                                                                                                                                                                                                                                                                                                                                                                                                                                                                                                                                                                                                                                                                                                                                                                                                                                                                                                                                                                                                                                                                                                                                                                                                                                                                                                                                                                                                                                                             That moment when the cast of #JurassicWorldDominion surprised 350 students with free laptops.Just one of many surprises for these amazing students during an all-expense-paid trip to Universal Studios to launch our Jurassic World-themed STEAM initiative. Learn more about this cross-company program with Universal Pictures, Universal Parks & Resorts, and the Council for Opportunity in Education to help ensure more young people have access to the resources and opportunities they need to succeed in today’s digital world. #ProjectUP\\n   \n",
              "2582                                                                                                                                                                                                                                                                                                                                                                                                                                                                                                                                                                                                                                                                                                                                                                                                                                                                                                                                                                                                                                                                                                                                                                                                                                                                                                                                                                                                                                                                                                                                                                                                                                                                                                                                                                                                                                                                                                                                                                                                                                                                                                                                                                                                                                                                                                                                                                                                                                                                                                                                                                                                                                                                                                                                                                                                      Develop crucial skills and knowledge in Brown’s Online MPH to address the many health challenges affecting the world today.\\n   \n",
              "2583                                                                                                                                                                                                                                                                                                                                                                                                                                                                                                                                                                                                                                                                                                                                                                                                                                                                                                                                                                                                                                                                                                                                                                                                                                                                                                                                                                                                                                                                                                                                                                                                                                                                                                                                                                                                                                                                                                                                                                                                                                                                                                                                                                                                                                                                                                                                                                                                                                                                                                                                                                                                                                                                                                                                                                                      Propel your future forward by taking courses online to earn a graduate certificate or master's degree from Stanford University. Learn more!\\n   \n",
              "\n",
              "              LABEL  \n",
              "0           excited  \n",
              "1           excited  \n",
              "2           excited  \n",
              "3           excited  \n",
              "4           excited  \n",
              "...             ...  \n",
              "2579  recession2022  \n",
              "2580  recession2022  \n",
              "2581  recession2022  \n",
              "2582  recession2022  \n",
              "2583  recession2022  \n",
              "\n",
              "[2584 rows x 2 columns]"
            ],
            "text/html": [
              "\n",
              "  <div id=\"df-2abb3b77-8cda-4401-b2ef-d3a99021824e\">\n",
              "    <div class=\"colab-df-container\">\n",
              "      <div>\n",
              "<style scoped>\n",
              "    .dataframe tbody tr th:only-of-type {\n",
              "        vertical-align: middle;\n",
              "    }\n",
              "\n",
              "    .dataframe tbody tr th {\n",
              "        vertical-align: top;\n",
              "    }\n",
              "\n",
              "    .dataframe thead th {\n",
              "        text-align: right;\n",
              "    }\n",
              "</style>\n",
              "<table border=\"1\" class=\"dataframe\">\n",
              "  <thead>\n",
              "    <tr style=\"text-align: right;\">\n",
              "      <th></th>\n",
              "      <th>POSTS</th>\n",
              "      <th>LABEL</th>\n",
              "    </tr>\n",
              "  </thead>\n",
              "  <tbody>\n",
              "    <tr>\n",
              "      <th>0</th>\n",
              "      <td>Does Excel run on Mac? You bet. So do Word, PowerPoint, and all the apps you need.\\n</td>\n",
              "      <td>excited</td>\n",
              "    </tr>\n",
              "    <tr>\n",
              "      <th>1</th>\n",
              "      <td>I'm about to start a new role at Capgemini and containing myself is a real issue.Don't ask 😌#excited\\n</td>\n",
              "      <td>excited</td>\n",
              "    </tr>\n",
              "    <tr>\n",
              "      <th>2</th>\n",
              "      <td>New chapter. #excited\\n</td>\n",
              "      <td>excited</td>\n",
              "    </tr>\n",
              "    <tr>\n",
              "      <th>3</th>\n",
              "      <td>Flying away from the Nest and setting off for new adventures on the other side of the planet 🗺️This day marks a couple of important milestones:-         My first post ever on LinkedIn 🚀 (Is this really a milestone?)-         My last day working at Nestlé-         The beginning of a new and exciting journey 😍I am thrilled to announce that I’ll be moving to New Zealand as of February 2023 (#excited). Driven by the willingness to enrich ourselves as individuals, to go out of our comfort zone, to experience a new professional and personal environment, and to discover new outdoor experiences, my partner and I have decided to take that step. And why not?Since I graduated from ISIPCA in 2014, the past decade at Nestlé (wow, this sounds like a lot) which started with a 2-years internship has been incredibly rich and I feel very lucky for all the projects and experiences I went through. I met inspiring people and worked on innovative projects. From being part of the Nestlé R&amp;D accelerator to the nesQino™️ journey, and plenty of other initiatives, I enjoyed the diversity of projects, activities, and challenges.The journey has also sometimes been punctuated with some doubts and questions, which were essential to go the extra mile. Those who know me know that I am always eager to learn new things. I don’t know yet what will come next, and I am very curious to see what the future will bring… The next two months will be busy organizing the move (and solving admin stuff), enjoying time with family and friends, recharging, and settling in New Zealand. I’ll be available for work as of February 2023 and I can’t wait to discover what New Zealand has to offer. I would love to start discussions about expatriation experiences, tips about New Zealand, potential work opportunities (including remote), …\\n</td>\n",
              "      <td>excited</td>\n",
              "    </tr>\n",
              "    <tr>\n",
              "      <th>4</th>\n",
              "      <td>#Excited about the great things to come from this partnership.  Gracias to my Omnicom Media Group familia (Geoffrey Calabrese, Kelly Metz, Amy Darwish) and TelevisaUnivision (Daniel Aversano, Richard Bertodatti) for making this happen! #multiculturalmarketing https://lnkd.in/eVpbW7CU\\n</td>\n",
              "      <td>excited</td>\n",
              "    </tr>\n",
              "    <tr>\n",
              "      <th>...</th>\n",
              "      <td>...</td>\n",
              "      <td>...</td>\n",
              "    </tr>\n",
              "    <tr>\n",
              "      <th>2579</th>\n",
              "      <td>Automate testing to catch bugs earlier in your development cycle.\\n</td>\n",
              "      <td>recession2022</td>\n",
              "    </tr>\n",
              "    <tr>\n",
              "      <th>2580</th>\n",
              "      <td>Is Twitter about to go bankrupt?https://lnkd.in/gnQtXcnC#layoff #layoffs #laidoff #job #today #linkedin #talent #searchforjobs #techlayoffs #techjobs #technews #careers #jobopening#W2 #contract #c2c #jobopportunities #career #recruiting #openforjobopportunities #Recession #Recession2022 #Recession2023 #jobsearch #ITRecruitment#java #phython #spring #springboot #microservices #hibernate #datajpa #kafka #aws #gcp #azure #javadeveloper #Akka #scala #benchsalesrecruiters#dotnetdeveloper #dotnet #devops #powerbi #uideveloper #networking #scrummaster #data #opportunity #opportunities #fullstackdeveloper #engineering #techcommunity #layoffsandjobreductions #hiring #team #development #grateful #comment #softwareengineering #frontend#dataanalysis #businessintelligence #processimprovement #industrialengineering #newopportunities #analyst #dataengineer #opentowork #openforwork #twitter #stripe #lyft #amazon #apple #microsoft #facebook #tesla #philips #zillow #convey #jpmc #salesforce #nytimes #nypost #wsj #layoff #layoffs #laidoff #job #today#javafullstackdeveloper #javajobs #hiringimmediately #hiring #hiringtalent #marketing #project # #project #Snap #softwareengineer #work#leadership #digitalhealth #medicaldevice #biotechnology #projectAdditionally #career #opportunities #activelylooking #talent #businessintelligenceanalyst #international #students #CPT #OPT #EAD #OPTEAD #Fulltime #H1B #H4EAD #TN #TNVISA #tnjobs #H1BVISA #Citizens #GC #GCEAD #uscitizens #usajobs #usc #usajob #usa2022 #usa #usa2023 #usaitjobs #uscontractjobs #usjobseeker #usjob#dataanalyst #businessanalyst #businessanalysis #analytics #workplace #outsourcedhr #payroll #onboarding#pgmp #productdevelopment #programmanagement #productmanagement #ProjectManagement #productmanager #programmanager #culture #remotework#jobalert #canadajobs #fulltimeposition #candidatesearch #fulltimejobs #jobfair #jobdescription #jobavailable #jobchangers #canada #canadaworkvisa #fulltime #copr #canadastaffing #canadarecruitment #canadacareers #canadajobseeker #canadaitjob #torontocanada #canadaitjobs #jobhiring #jobforyou #jobalerts #canadaprvisa #canadajobseekers#permanentjobs #permanentjob #permanentrecruitment #permanentrole #opentonewopportunities #torontoitjobs #jobseekers #Recruiting#Jobposting #LinkedIn #Openings #Jobvacancy #Jobalert #Jobhunters #activelyhiring #BulkCanadaJobs #informaticajobs #informatica #bigdata #hadoop#tech #help #economy #jobhunt #network#nyc #denver #colorado #losangeles #boston #tampa #florida #michiganjobs #oregoan #sandiego #houston #dallas #itjobs #washington #dallas#chicago #chicagojobs #dfw #plano #dallas #dallasjobs #austin #austinjobs #Cali #CaliJobs #California #Houston #HoustonJobs #atlanta #atlantajobs#nyc #newyork #nycjobs #newyorkjobs #detroit #michigan #mexico #mexicojobs #siliconvalley\\n</td>\n",
              "      <td>recession2022</td>\n",
              "    </tr>\n",
              "    <tr>\n",
              "      <th>2581</th>\n",
              "      <td>That moment when the cast of #JurassicWorldDominion surprised 350 students with free laptops.Just one of many surprises for these amazing students during an all-expense-paid trip to Universal Studios to launch our Jurassic World-themed STEAM initiative. Learn more about this cross-company program with Universal Pictures, Universal Parks &amp; Resorts, and the Council for Opportunity in Education to help ensure more young people have access to the resources and opportunities they need to succeed in today’s digital world. #ProjectUP\\n</td>\n",
              "      <td>recession2022</td>\n",
              "    </tr>\n",
              "    <tr>\n",
              "      <th>2582</th>\n",
              "      <td>Develop crucial skills and knowledge in Brown’s Online MPH to address the many health challenges affecting the world today.\\n</td>\n",
              "      <td>recession2022</td>\n",
              "    </tr>\n",
              "    <tr>\n",
              "      <th>2583</th>\n",
              "      <td>Propel your future forward by taking courses online to earn a graduate certificate or master's degree from Stanford University. Learn more!\\n</td>\n",
              "      <td>recession2022</td>\n",
              "    </tr>\n",
              "  </tbody>\n",
              "</table>\n",
              "<p>2584 rows × 2 columns</p>\n",
              "</div>\n",
              "      <button class=\"colab-df-convert\" onclick=\"convertToInteractive('df-2abb3b77-8cda-4401-b2ef-d3a99021824e')\"\n",
              "              title=\"Convert this dataframe to an interactive table.\"\n",
              "              style=\"display:none;\">\n",
              "        \n",
              "  <svg xmlns=\"http://www.w3.org/2000/svg\" height=\"24px\"viewBox=\"0 0 24 24\"\n",
              "       width=\"24px\">\n",
              "    <path d=\"M0 0h24v24H0V0z\" fill=\"none\"/>\n",
              "    <path d=\"M18.56 5.44l.94 2.06.94-2.06 2.06-.94-2.06-.94-.94-2.06-.94 2.06-2.06.94zm-11 1L8.5 8.5l.94-2.06 2.06-.94-2.06-.94L8.5 2.5l-.94 2.06-2.06.94zm10 10l.94 2.06.94-2.06 2.06-.94-2.06-.94-.94-2.06-.94 2.06-2.06.94z\"/><path d=\"M17.41 7.96l-1.37-1.37c-.4-.4-.92-.59-1.43-.59-.52 0-1.04.2-1.43.59L10.3 9.45l-7.72 7.72c-.78.78-.78 2.05 0 2.83L4 21.41c.39.39.9.59 1.41.59.51 0 1.02-.2 1.41-.59l7.78-7.78 2.81-2.81c.8-.78.8-2.07 0-2.86zM5.41 20L4 18.59l7.72-7.72 1.47 1.35L5.41 20z\"/>\n",
              "  </svg>\n",
              "      </button>\n",
              "      \n",
              "  <style>\n",
              "    .colab-df-container {\n",
              "      display:flex;\n",
              "      flex-wrap:wrap;\n",
              "      gap: 12px;\n",
              "    }\n",
              "\n",
              "    .colab-df-convert {\n",
              "      background-color: #E8F0FE;\n",
              "      border: none;\n",
              "      border-radius: 50%;\n",
              "      cursor: pointer;\n",
              "      display: none;\n",
              "      fill: #1967D2;\n",
              "      height: 32px;\n",
              "      padding: 0 0 0 0;\n",
              "      width: 32px;\n",
              "    }\n",
              "\n",
              "    .colab-df-convert:hover {\n",
              "      background-color: #E2EBFA;\n",
              "      box-shadow: 0px 1px 2px rgba(60, 64, 67, 0.3), 0px 1px 3px 1px rgba(60, 64, 67, 0.15);\n",
              "      fill: #174EA6;\n",
              "    }\n",
              "\n",
              "    [theme=dark] .colab-df-convert {\n",
              "      background-color: #3B4455;\n",
              "      fill: #D2E3FC;\n",
              "    }\n",
              "\n",
              "    [theme=dark] .colab-df-convert:hover {\n",
              "      background-color: #434B5C;\n",
              "      box-shadow: 0px 1px 3px 1px rgba(0, 0, 0, 0.15);\n",
              "      filter: drop-shadow(0px 1px 2px rgba(0, 0, 0, 0.3));\n",
              "      fill: #FFFFFF;\n",
              "    }\n",
              "  </style>\n",
              "\n",
              "      <script>\n",
              "        const buttonEl =\n",
              "          document.querySelector('#df-2abb3b77-8cda-4401-b2ef-d3a99021824e button.colab-df-convert');\n",
              "        buttonEl.style.display =\n",
              "          google.colab.kernel.accessAllowed ? 'block' : 'none';\n",
              "\n",
              "        async function convertToInteractive(key) {\n",
              "          const element = document.querySelector('#df-2abb3b77-8cda-4401-b2ef-d3a99021824e');\n",
              "          const dataTable =\n",
              "            await google.colab.kernel.invokeFunction('convertToInteractive',\n",
              "                                                     [key], {});\n",
              "          if (!dataTable) return;\n",
              "\n",
              "          const docLinkHtml = 'Like what you see? Visit the ' +\n",
              "            '<a target=\"_blank\" href=https://colab.research.google.com/notebooks/data_table.ipynb>data table notebook</a>'\n",
              "            + ' to learn more about interactive tables.';\n",
              "          element.innerHTML = '';\n",
              "          dataTable['output_type'] = 'display_data';\n",
              "          await google.colab.output.renderOutput(dataTable, element);\n",
              "          const docLink = document.createElement('div');\n",
              "          docLink.innerHTML = docLinkHtml;\n",
              "          element.appendChild(docLink);\n",
              "        }\n",
              "      </script>\n",
              "    </div>\n",
              "  </div>\n",
              "  "
            ]
          },
          "metadata": {},
          "execution_count": 36
        }
      ]
    },
    {
      "cell_type": "code",
      "execution_count": null,
      "metadata": {
        "id": "0LcBRMpEakWp"
      },
      "outputs": [],
      "source": [
        "#convert to lowercase\n",
        "unseen_complete_data['POSTS']=unseen_complete_data['POSTS'].str.lower()"
      ]
    },
    {
      "cell_type": "code",
      "execution_count": null,
      "metadata": {
        "id": "ZOawhCucakWp"
      },
      "outputs": [],
      "source": [
        "#remove html content\n",
        "unseen_complete_data['POSTS'] = unseen_complete_data['POSTS'].apply(lambda x: re.split('<[^<>]*>', str(x))[0])"
      ]
    },
    {
      "cell_type": "code",
      "execution_count": null,
      "metadata": {
        "id": "66F9AL5IakWp"
      },
      "outputs": [],
      "source": [
        "def contr(post_text):\n",
        "     posts_body_list=[]\n",
        "     for r in post_text:\n",
        "         decontract_posts_body = contractions.fix(r)\n",
        "         r = ''.join(decontract_posts_body)\n",
        "         r = re.sub(\"\\s\\s+\", \" \", r) # remove extra spaces\n",
        "         posts_body_list.append(r)\n",
        "     return posts_body_list"
      ]
    },
    {
      "cell_type": "code",
      "execution_count": null,
      "metadata": {
        "id": "BiA08nd2akWq"
      },
      "outputs": [],
      "source": [
        "unseen_complete_data['POSTS']=contr(unseen_complete_data['POSTS'].values)"
      ]
    },
    {
      "cell_type": "code",
      "execution_count": null,
      "metadata": {
        "id": "DGAdn4QzakWr"
      },
      "outputs": [],
      "source": [
        "#remove non-alphabetical values\n",
        "unseen_complete_data['POSTS'] = unseen_complete_data['POSTS'].replace('[^a-zA-Z ]', '', regex=True)"
      ]
    },
    {
      "cell_type": "code",
      "execution_count": null,
      "metadata": {
        "id": "1YzgBZ6gakWr"
      },
      "outputs": [],
      "source": [
        "import numpy as np\n",
        "unseen_complete_data['TAGS']=np.where( (unseen_complete_data['LABEL']=='excited') | (unseen_complete_data['LABEL']=='hiring') | (unseen_complete_data['LABEL']=='positivity') | (unseen_complete_data['LABEL']=='positivevibes') | (unseen_complete_data['LABEL']=='grateful') | (unseen_complete_data['LABEL']=='newjob') | (unseen_complete_data['LABEL']=='blessed') | (unseen_complete_data['LABEL']=='happy') | (unseen_complete_data['LABEL']=='lmao') | (unseen_complete_data['LABEL']=='funny') | (unseen_complete_data['LABEL']=='fun') | (unseen_complete_data['LABEL']=='lol') , 1, -1)"
      ]
    },
    {
      "cell_type": "code",
      "source": [
        "unseen_complete_data=unseen_complete_data.drop_duplicates(keep='last').reset_index()"
      ],
      "metadata": {
        "id": "vsL5vdfpakWr"
      },
      "execution_count": null,
      "outputs": []
    },
    {
      "cell_type": "code",
      "source": [
        "unseen_complete_data['POSTS'].replace('', np.nan, inplace=True)\n",
        "unseen_complete_data.dropna(subset=['POSTS'], inplace=True)\n",
        "unseen_complete_data"
      ],
      "metadata": {
        "id": "9R2DGo0ZakWs"
      },
      "execution_count": null,
      "outputs": []
    },
    {
      "cell_type": "code",
      "source": [
        "unseen_complete_data['TAGS'].value_counts()"
      ],
      "metadata": {
        "id": "q05rkhMpakWt"
      },
      "execution_count": null,
      "outputs": []
    },
    {
      "cell_type": "code",
      "source": [
        "from keras.preprocessing.text import Tokenizer\n",
        "from keras_preprocessing.sequence import pad_sequences\n",
        "#max_features = 2000\n",
        "#tokenizer = Tokenizer(num_words = max_features, )\n",
        "# tokenizer = Tokenizer()\n",
        "# tokenizer.fit_on_texts(unseen_complete_data['POSTS'].values)\n",
        "X = tokenizer.texts_to_sequences(unseen_complete_data['POSTS'].values)\n",
        "X = pad_sequences(X, padding = 'post' , maxlen=100)\n",
        "Y = pd.get_dummies(unseen_complete_data['TAGS']).values\n",
        "#Y= complete_data['TAGS'].values\n",
        "\n",
        "vocab_size = len(tokenizer.word_index)+1"
      ],
      "metadata": {
        "id": "B2dlaosbakWt"
      },
      "execution_count": null,
      "outputs": []
    },
    {
      "cell_type": "code",
      "source": [
        "embedding_matrix = np.zeros((vocab_size,300))\n",
        "for word,i in tqdm(tokenizer.word_index.items()):\n",
        "    embedding_value = model.get_word_vector(word)\n",
        "    embedding_matrix[i] = embedding_value"
      ],
      "metadata": {
        "colab": {
          "base_uri": "https://localhost:8080/"
        },
        "outputId": "b1ed377c-1a54-4385-a314-475045ac2f7a",
        "id": "2FBSn--aakWu"
      },
      "execution_count": null,
      "outputs": [
        {
          "output_type": "stream",
          "name": "stderr",
          "text": [
            "100%|██████████| 92516/92516 [00:02<00:00, 33315.13it/s]\n"
          ]
        }
      ]
    },
    {
      "cell_type": "code",
      "source": [
        "Y_test_new_unseen=[]\n",
        "for val in Y:\n",
        "  if val[0]==1:\n",
        "    Y_test_new_unseen.append(0)\n",
        "  else:\n",
        "    Y_test_new_unseen.append(1)"
      ],
      "metadata": {
        "id": "IH92y-KfakWu"
      },
      "execution_count": null,
      "outputs": []
    },
    {
      "cell_type": "code",
      "source": [
        "from sklearn.metrics import classification_report\n",
        "\n",
        "y_pred_unseen = vanilla_lstm_model.predict(X, batch_size=10, verbose=1)\n",
        "y_pred_bool_unseen = np.argmax(y_pred_unseen, axis=1)\n",
        "\n",
        "print(classification_report(Y_test_new_unseen, y_pred_bool_unseen))\n"
      ],
      "metadata": {
        "colab": {
          "base_uri": "https://localhost:8080/"
        },
        "outputId": "260552f1-9da9-46dc-a989-93648fc1426c",
        "id": "rphMhzwqakWv"
      },
      "execution_count": null,
      "outputs": [
        {
          "output_type": "stream",
          "name": "stdout",
          "text": [
            "226/226 [==============================] - 13s 57ms/step\n",
            "              precision    recall  f1-score   support\n",
            "\n",
            "           0       0.81      0.92      0.86      1200\n",
            "           1       0.90      0.75      0.82      1055\n",
            "\n",
            "    accuracy                           0.84      2255\n",
            "   macro avg       0.85      0.84      0.84      2255\n",
            "weighted avg       0.85      0.84      0.84      2255\n",
            "\n"
          ]
        }
      ]
    },
    {
      "cell_type": "markdown",
      "source": [
        "**Vanilla LSTM model with Glove Embeddings**"
      ],
      "metadata": {
        "id": "60ywTOmFa05b"
      }
    },
    {
      "cell_type": "code",
      "source": [
        "import tensorflow as tf\n",
        "from tensorflow import keras\n",
        "from tensorflow.keras import layers\n",
        "from tensorflow.keras import losses\n",
        "from tensorflow.keras import preprocessing\n",
        "from tensorflow.keras import utils\n",
        "from tensorflow.keras.layers.experimental.preprocessing import TextVectorization\n",
        "\n",
        "\n",
        "from keras.layers import Dense, Embedding, LSTM, SpatialDropout1D, Bidirectional, Dropout\n",
        "embid_dim = 300\n",
        "lstm_out = 128\n",
        "glove_vanialla_lstm_model = keras.Sequential()\n",
        "glove_vanialla_lstm_model.add(Embedding(vocab_size, embid_dim, weights = [glove_embedding_matrix] , trainable = False))\n",
        "glove_vanialla_lstm_model.add(LSTM(lstm_out, dropout=0.2))\n",
        "glove_vanialla_lstm_model.add(Dense(128, activation = 'relu'))\n",
        "glove_vanialla_lstm_model.add(Dropout(0.5))\n",
        "glove_vanialla_lstm_model.add(Dense(64, activation = 'relu'))\n",
        "glove_vanialla_lstm_model.add(Dense(2, activation = 'softmax'))  #if used pd.get dummies above\n",
        "glove_vanialla_lstm_model.summary()"
      ],
      "metadata": {
        "colab": {
          "base_uri": "https://localhost:8080/"
        },
        "outputId": "99461721-49c4-43aa-94e6-dacd0fd11a36",
        "id": "OU8nrx6Z5UsI"
      },
      "execution_count": null,
      "outputs": [
        {
          "output_type": "stream",
          "name": "stdout",
          "text": [
            "Model: \"sequential_11\"\n",
            "_________________________________________________________________\n",
            " Layer (type)                Output Shape              Param #   \n",
            "=================================================================\n",
            " embedding_11 (Embedding)    (None, None, 300)         27755100  \n",
            "                                                                 \n",
            " lstm_14 (LSTM)              (None, 128)               219648    \n",
            "                                                                 \n",
            " dense_28 (Dense)            (None, 128)               16512     \n",
            "                                                                 \n",
            " dropout_8 (Dropout)         (None, 128)               0         \n",
            "                                                                 \n",
            " dense_29 (Dense)            (None, 64)                8256      \n",
            "                                                                 \n",
            " dense_30 (Dense)            (None, 2)                 130       \n",
            "                                                                 \n",
            "=================================================================\n",
            "Total params: 27,999,646\n",
            "Trainable params: 244,546\n",
            "Non-trainable params: 27,755,100\n",
            "_________________________________________________________________\n"
          ]
        }
      ]
    },
    {
      "cell_type": "code",
      "source": [
        "early_stopping_monitor = tf.keras.callbacks.EarlyStopping(\n",
        "    monitor='val_loss',\n",
        "    min_delta=0,\n",
        "    patience=10,\n",
        "    verbose=0,\n",
        "    mode='auto',\n",
        "    baseline=None,\n",
        "    restore_best_weights=True\n",
        ")\n",
        "batch_size = 200\n",
        "glove_vanialla_lstm_model.compile(loss = 'binary_crossentropy', optimizer='adam',metrics = ['accuracy'])\n",
        "history = glove_vanialla_lstm_model.fit(X_train, Y_train, epochs = 50, batch_size=batch_size, verbose = 1, callbacks=[early_stopping_monitor], validation_data =(X_test, Y_test))"
      ],
      "metadata": {
        "colab": {
          "base_uri": "https://localhost:8080/"
        },
        "outputId": "43396400-f4a9-4cf4-d1fe-417b2643d960",
        "id": "uN1HEmXQ5UsO"
      },
      "execution_count": null,
      "outputs": [
        {
          "output_type": "stream",
          "name": "stdout",
          "text": [
            "Epoch 1/50\n",
            "54/54 [==============================] - 49s 854ms/step - loss: 0.5955 - accuracy: 0.6646 - val_loss: 0.4536 - val_accuracy: 0.7902\n",
            "Epoch 2/50\n",
            "54/54 [==============================] - 41s 748ms/step - loss: 0.4195 - accuracy: 0.7996 - val_loss: 0.3922 - val_accuracy: 0.8175\n",
            "Epoch 3/50\n",
            "54/54 [==============================] - 38s 713ms/step - loss: 0.4299 - accuracy: 0.7865 - val_loss: 0.4367 - val_accuracy: 0.7938\n",
            "Epoch 4/50\n",
            "54/54 [==============================] - 38s 703ms/step - loss: 0.3640 - accuracy: 0.8218 - val_loss: 0.3625 - val_accuracy: 0.8086\n",
            "Epoch 5/50\n",
            "54/54 [==============================] - 39s 720ms/step - loss: 0.3281 - accuracy: 0.8340 - val_loss: 0.3501 - val_accuracy: 0.8395\n",
            "Epoch 6/50\n",
            "54/54 [==============================] - 39s 718ms/step - loss: 0.3067 - accuracy: 0.8527 - val_loss: 0.3762 - val_accuracy: 0.8097\n",
            "Epoch 7/50\n",
            "54/54 [==============================] - 42s 789ms/step - loss: 0.3020 - accuracy: 0.8506 - val_loss: 0.3471 - val_accuracy: 0.8514\n",
            "Epoch 8/50\n",
            "54/54 [==============================] - 39s 718ms/step - loss: 0.2853 - accuracy: 0.8588 - val_loss: 0.3394 - val_accuracy: 0.8442\n",
            "Epoch 9/50\n",
            "54/54 [==============================] - 38s 705ms/step - loss: 0.2683 - accuracy: 0.8734 - val_loss: 0.3337 - val_accuracy: 0.8470\n",
            "Epoch 10/50\n",
            "54/54 [==============================] - 38s 712ms/step - loss: 0.2550 - accuracy: 0.8785 - val_loss: 0.3159 - val_accuracy: 0.8475\n",
            "Epoch 11/50\n",
            "54/54 [==============================] - 38s 712ms/step - loss: 0.2405 - accuracy: 0.8873 - val_loss: 0.3130 - val_accuracy: 0.8573\n",
            "Epoch 12/50\n",
            "54/54 [==============================] - 42s 778ms/step - loss: 0.2251 - accuracy: 0.9006 - val_loss: 0.3445 - val_accuracy: 0.8559\n",
            "Epoch 13/50\n",
            "54/54 [==============================] - 38s 702ms/step - loss: 0.2115 - accuracy: 0.9026 - val_loss: 0.3326 - val_accuracy: 0.8545\n",
            "Epoch 14/50\n",
            "54/54 [==============================] - 38s 701ms/step - loss: 0.2037 - accuracy: 0.9057 - val_loss: 0.3198 - val_accuracy: 0.8561\n",
            "Epoch 15/50\n",
            "54/54 [==============================] - 38s 698ms/step - loss: 0.2094 - accuracy: 0.9059 - val_loss: 0.3141 - val_accuracy: 0.8536\n",
            "Epoch 16/50\n",
            "54/54 [==============================] - 42s 776ms/step - loss: 0.1978 - accuracy: 0.9123 - val_loss: 0.3447 - val_accuracy: 0.8659\n",
            "Epoch 17/50\n",
            "54/54 [==============================] - 38s 702ms/step - loss: 0.1888 - accuracy: 0.9175 - val_loss: 0.3489 - val_accuracy: 0.8592\n",
            "Epoch 18/50\n",
            "54/54 [==============================] - 38s 711ms/step - loss: 0.1680 - accuracy: 0.9286 - val_loss: 0.3783 - val_accuracy: 0.8548\n",
            "Epoch 19/50\n",
            "54/54 [==============================] - 40s 752ms/step - loss: 0.1582 - accuracy: 0.9369 - val_loss: 0.3935 - val_accuracy: 0.8595\n",
            "Epoch 20/50\n",
            "54/54 [==============================] - 39s 714ms/step - loss: 0.1581 - accuracy: 0.9318 - val_loss: 0.4798 - val_accuracy: 0.8614\n",
            "Epoch 21/50\n",
            "54/54 [==============================] - 38s 701ms/step - loss: 0.1522 - accuracy: 0.9418 - val_loss: 0.3348 - val_accuracy: 0.8553\n"
          ]
        }
      ]
    },
    {
      "cell_type": "code",
      "source": [
        "glove_vanialla_lstm_model.save('/content/gdrive/MyDrive/Colab Notebooks/Glove')"
      ],
      "metadata": {
        "colab": {
          "base_uri": "https://localhost:8080/"
        },
        "outputId": "fd9035f5-a06e-4e5d-df27-26b922b18978",
        "id": "JSd6_eLI5UsO"
      },
      "execution_count": null,
      "outputs": [
        {
          "output_type": "stream",
          "name": "stderr",
          "text": [
            "WARNING:absl:Found untraced functions such as lstm_cell_16_layer_call_fn, lstm_cell_16_layer_call_and_return_conditional_losses while saving (showing 2 of 2). These functions will not be directly callable after loading.\n"
          ]
        }
      ]
    },
    {
      "cell_type": "code",
      "source": [
        "glove_vanialla_lstm_model = tf.keras.models.load_model('/content/gdrive/MyDrive/Colab Notebooks/Glove')\n",
        "\n",
        "glove_vanialla_lstm_model.summary()"
      ],
      "metadata": {
        "colab": {
          "base_uri": "https://localhost:8080/"
        },
        "outputId": "b115440b-0075-438f-f447-17cb82a239bf",
        "id": "-uOU3ecH5UsO"
      },
      "execution_count": null,
      "outputs": [
        {
          "output_type": "stream",
          "name": "stdout",
          "text": [
            "Model: \"sequential_11\"\n",
            "_________________________________________________________________\n",
            " Layer (type)                Output Shape              Param #   \n",
            "=================================================================\n",
            " embedding_11 (Embedding)    (None, None, 300)         27755100  \n",
            "                                                                 \n",
            " lstm_14 (LSTM)              (None, 128)               219648    \n",
            "                                                                 \n",
            " dense_28 (Dense)            (None, 128)               16512     \n",
            "                                                                 \n",
            " dropout_8 (Dropout)         (None, 128)               0         \n",
            "                                                                 \n",
            " dense_29 (Dense)            (None, 64)                8256      \n",
            "                                                                 \n",
            " dense_30 (Dense)            (None, 2)                 130       \n",
            "                                                                 \n",
            "=================================================================\n",
            "Total params: 27,999,646\n",
            "Trainable params: 244,546\n",
            "Non-trainable params: 27,755,100\n",
            "_________________________________________________________________\n"
          ]
        }
      ]
    },
    {
      "cell_type": "code",
      "source": [
        "Y_test_new=[]\n",
        "for val in Y_test:\n",
        "  if val[0]==1:\n",
        "    Y_test_new.append(0)\n",
        "  else:\n",
        "    Y_test_new.append(1)"
      ],
      "metadata": {
        "id": "auYeSmeD5UsO"
      },
      "execution_count": null,
      "outputs": []
    },
    {
      "cell_type": "code",
      "source": [
        "from sklearn.metrics import classification_report\n",
        "\n",
        "y_pred = glove_vanialla_lstm_model.predict(X_test, batch_size=64, verbose=1)\n",
        "y_pred_bool = np.argmax(y_pred, axis=1)\n",
        "\n",
        "print(classification_report(Y_test_new, y_pred_bool))\n"
      ],
      "metadata": {
        "colab": {
          "base_uri": "https://localhost:8080/"
        },
        "outputId": "9a0678bc-fbb8-4bf3-8f16-d3812601f57d",
        "id": "33DrBOjQ5UsO"
      },
      "execution_count": null,
      "outputs": [
        {
          "output_type": "stream",
          "name": "stdout",
          "text": [
            "57/57 [==============================] - 7s 109ms/step\n",
            "              precision    recall  f1-score   support\n",
            "\n",
            "           0       0.86      0.91      0.88      2114\n",
            "           1       0.86      0.78      0.82      1480\n",
            "\n",
            "    accuracy                           0.86      3594\n",
            "   macro avg       0.86      0.85      0.85      3594\n",
            "weighted avg       0.86      0.86      0.86      3594\n",
            "\n"
          ]
        }
      ]
    },
    {
      "cell_type": "markdown",
      "source": [
        "**Vaniall LSTM with Glove Embeddings on Unseen Test Data**"
      ],
      "metadata": {
        "id": "ZKugNt3d9fWw"
      }
    },
    {
      "cell_type": "code",
      "execution_count": null,
      "metadata": {
        "id": "KfnFDWJQ9wP-"
      },
      "outputs": [],
      "source": [
        "#convert to lowercase\n",
        "unseen_complete_data['POSTS']=unseen_complete_data['POSTS'].str.lower()"
      ]
    },
    {
      "cell_type": "code",
      "execution_count": null,
      "metadata": {
        "id": "pdcb9ZjA9wP_"
      },
      "outputs": [],
      "source": [
        "#remove html content\n",
        "unseen_complete_data['POSTS'] = unseen_complete_data['POSTS'].apply(lambda x: re.split('<[^<>]*>', str(x))[0])"
      ]
    },
    {
      "cell_type": "code",
      "execution_count": null,
      "metadata": {
        "id": "ICMc39wL9wP_"
      },
      "outputs": [],
      "source": [
        "def contr(post_text):\n",
        "     posts_body_list=[]\n",
        "     for r in post_text:\n",
        "         decontract_posts_body = contractions.fix(r)\n",
        "         r = ''.join(decontract_posts_body)\n",
        "         r = re.sub(\"\\s\\s+\", \" \", r) # remove extra spaces\n",
        "         posts_body_list.append(r)\n",
        "     return posts_body_list"
      ]
    },
    {
      "cell_type": "code",
      "execution_count": null,
      "metadata": {
        "id": "lz_CfoaS9wP_"
      },
      "outputs": [],
      "source": [
        "unseen_complete_data['POSTS']=contr(unseen_complete_data['POSTS'].values)"
      ]
    },
    {
      "cell_type": "code",
      "execution_count": null,
      "metadata": {
        "id": "chMANCVt9wP_"
      },
      "outputs": [],
      "source": [
        "#remove non-alphabetical values\n",
        "unseen_complete_data['POSTS'] = unseen_complete_data['POSTS'].replace('[^a-zA-Z ]', '', regex=True)"
      ]
    },
    {
      "cell_type": "code",
      "execution_count": null,
      "metadata": {
        "id": "TCTXVOUB9wQA"
      },
      "outputs": [],
      "source": [
        "import numpy as np\n",
        "unseen_complete_data['TAGS']=np.where( (unseen_complete_data['LABEL']=='excited') | (unseen_complete_data['LABEL']=='hiring') | (unseen_complete_data['LABEL']=='positivity') | (unseen_complete_data['LABEL']=='positivevibes') | (unseen_complete_data['LABEL']=='grateful') | (unseen_complete_data['LABEL']=='newjob') | (unseen_complete_data['LABEL']=='blessed') | (unseen_complete_data['LABEL']=='happy') | (unseen_complete_data['LABEL']=='lmao') | (unseen_complete_data['LABEL']=='funny') | (unseen_complete_data['LABEL']=='fun') | (unseen_complete_data['LABEL']=='lol') , 1, -1)"
      ]
    },
    {
      "cell_type": "code",
      "source": [
        "unseen_complete_data=unseen_complete_data.drop_duplicates(keep='last').reset_index()"
      ],
      "metadata": {
        "id": "Uan0hhHo9wQA"
      },
      "execution_count": null,
      "outputs": []
    },
    {
      "cell_type": "code",
      "source": [
        "unseen_complete_data['POSTS'].replace('', np.nan, inplace=True)\n",
        "unseen_complete_data.dropna(subset=['POSTS'], inplace=True)\n",
        "unseen_complete_data"
      ],
      "metadata": {
        "colab": {
          "base_uri": "https://localhost:8080/",
          "height": 936
        },
        "outputId": "305b1921-1489-4ead-828e-a8c50e35e59e",
        "id": "6jo-d0LO9wQA"
      },
      "execution_count": null,
      "outputs": [
        {
          "output_type": "execute_result",
          "data": {
            "text/plain": [
              "      level_0  index  \\\n",
              "0           0      0   \n",
              "1           1      1   \n",
              "2           2      2   \n",
              "3           3      3   \n",
              "4           4      4   \n",
              "...       ...    ...   \n",
              "2250     2257   2579   \n",
              "2251     2258   2580   \n",
              "2252     2259   2581   \n",
              "2253     2260   2582   \n",
              "2254     2261   2583   \n",
              "\n",
              "                                                                                                                                                                                                                                                                                                                                                                                                                                                                                                                                                                                                                                                                                                                                                                                                                                                                                                                                                                                                                                                                                                                                                                                                                                                                                                                                                                                                                                                                                                                                                                                                                                                                                                                                                                                                                                                                                                                                                                                                                                                                                                                                                                                                                                                                                                                                                                                                                                                                                                                                                                                                                                      POSTS  \\\n",
              "0                                                                                                                                                                                                                                                                                                                                                                                                                                                                                                                                                                                                                                                                                                                                                                                                                                                                                                                                                                                                                                                                                                                                                                                                                                                                                                                                                                                                                                                                                                                                                                                                                                                                                                                                                                                                                                                                                                                                                                                                                                                                                                                                                                                                                                                                                                                                                                                                                                                                                                                                                             does excel run on mac you bet so do word powerpoint and all the apps you need   \n",
              "1                                                                                                                                                                                                                                                                                                                                                                                                                                                                                                                                                                                                                                                                                                                                                                                                                                                                                                                                                                                                                                                                                                                                                                                                                                                                                                                                                                                                                                                                                                                                                                                                                                                                                                                                                                                                                                                                                                                                                                                                                                                                                                                                                                                                                                                                                                                                                                                                                                                                                                                                       i am about to start a new role at capgemini and containing myself is a real issuedo not ask excited   \n",
              "2                                                                                                                                                                                                                                                                                                                                                                                                                                                                                                                                                                                                                                                                                                                                                                                                                                                                                                                                                                                                                                                                                                                                                                                                                                                                                                                                                                                                                                                                                                                                                                                                                                                                                                                                                                                                                                                                                                                                                                                                                                                                                                                                                                                                                                                                                                                                                                                                                                                                                                                                                                                                                       new chapter excited   \n",
              "3                                                                                                                                                                                                                                                                                                                                                                                                                                                                                                                                                                                                                                                                                                                                                                                                                                                     flying away from the nest and setting off for new adventures on the other side of the planet this day marks a couple of important milestones my first post ever on linkedin is this really a milestone my last day working at nestl the beginning of a new and exciting journey i am thrilled to announce that i will be moving to new zealand as of february excited driven by the willingness to enrich ourselves as individuals to go out of our comfort zone to experience a new professional and personal environment and to discover new outdoor experiences my partner and i have decided to take that step and why notsince i graduated from isipca in the past decade at nestl wow this sounds like a lot which started with a years internship has been incredibly rich and i feel very lucky for all the projects and experiences i went through i met inspiring people and worked on innovative projects from being part of the nestl rd accelerator to the nesqino journey and plenty of other initiatives i enjoyed the diversity of projects activities and challengesthe journey has also sometimes been punctuated with some doubts and questions which were essential to go the extra mile those who know me know that i am always eager to learn new things i do not know yet what will come next and i am very curious to see what the future will bring the next two months will be busy organizing the move and solving admin stuff enjoying time with family and friends recharging and settling in new zealand i will be available for work as of february and i cannot wait to discover what new zealand has to offer i would love to start discussions about expatriation experiences tips about new zealand potential work opportunities including remote    \n",
              "4                                                                                                                                                                                                                                                                                                                                                                                                                                                                                                                                                                                                                                                                                                                                                                                                                                                                                                                                                                                                                                                                                                                                                                                                                                                                                                                                                                                                                                                                                                                                                                                                                                                                                                                                                                                                                                                                                                                                                                                                                                                                                                                                                                                                                                                                                                                                                                excited about the great things to come from this partnership gracias to my omnicom media group familia geoffrey calabrese kelly metz amy darwish and televisaunivision daniel aversano richard bertodatti for making this happen multiculturalmarketing httpslnkdinevpbwcu   \n",
              "...                                                                                                                                                                                                                                                                                                                                                                                                                                                                                                                                                                                                                                                                                                                                                                                                                                                                                                                                                                                                                                                                                                                                                                                                                                                                                                                                                                                                                                                                                                                                                                                                                                                                                                                                                                                                                                                                                                                                                                                                                                                                                                                                                                                                                                                                                                                                                                                                                                                                                                                                                                                                                                     ...   \n",
              "2250                                                                                                                                                                                                                                                                                                                                                                                                                                                                                                                                                                                                                                                                                                                                                                                                                                                                                                                                                                                                                                                                                                                                                                                                                                                                                                                                                                                                                                                                                                                                                                                                                                                                                                                                                                                                                                                                                                                                                                                                                                                                                                                                                                                                                                                                                                                                                                                                                                                                                                                                                                       automate testing to catch bugs earlier in your development cycle   \n",
              "2251  is twitter about to go bankrupthttpslnkdingnqtxcnclayoff layoffslaidoff job today linkedin talent searchforjobs techlayoffs techjobs technews careers jobopeningw contract cc jobopportunities career recruiting openforjobopportunities recession recession recession jobsearch itrecruitmentjava phython spring springboot microservices hibernate datajpa kafka aws gcp azure javadeveloper akka scala benchsalesrecruitersdotnetdeveloper dotnet devops powerbi uideveloper networking scrummaster data opportunity opportunities fullstackdeveloper engineering techcommunity layoffsandjobreductions hiring team development grateful comment softwareengineering frontenddataanalysis businessintelligence processimprovementindustrialengineering newopportunities analyst dataengineer opentowork openforwork twitter stripe lyft amazon apple microsoft facebook tesla philips zillow convey jpmc salesforce nytimes nypost wsj layoff layoffslaidoff job todayjavafullstackdeveloper javajobs hiringimmediately hiring hiringtalent marketing project project snap softwareengineer workleadership digitalhealth medicaldevice biotechnology projectadditionally career opportunities activelylooking talent businessintelligenceanalystinternational students cpt opt ead optead fulltimehb head tn tnvisa tnjobs hbvisa citizens gc gcead uscitizens usajobs usc usajob usa usa usa usaitjobs uscontractjobs usjobseeker usjobdataanalyst businessanalystbusinessanalysis analytics workplace outsourcedhr payroll onboardingpgmp productdevelopment programmanagement productmanagement projectmanagement productmanager programmanager culture remoteworkjobalert canadajobs fulltimeposition candidatesearch fulltimejobs jobfair jobdescription jobavailable jobchangers canada canadaworkvisa fulltime copr canadastaffing canadarecruitment canadacareers canadajobseeker canadaitjob torontocanada canadaitjobsjobhiring jobforyou jobalerts canadaprvisa canadajobseekerspermanentjobs permanentjob permanentrecruitment permanentrole opentonewopportunities torontoitjobs jobseekers recruitingjobposting linkedin openings jobvacancy jobalert jobhunters activelyhiring bulkcanadajobs informaticajobs informatica bigdata hadooptech help economy jobhunt networknyc denver colorado losangeles boston tampa florida michiganjobs oregoan sandiego houston dallas itjobs washington dallaschicago chicagojobs dfw plano dallas dallasjobs austin austinjobs cali calijobs california houston houstonjobs atlanta atlantajobsnyc newyork nycjobs newyorkjobs detroit michiganmexico mexicojobs siliconvalley   \n",
              "2252                                                                                                                                                                                                                                                                                                                                                                                                                                                                                                                                                                                                                                                                                                                                                                                                                                                                                                                                                                                                                                                                                                                                                                                                                                                                                                                                                                                                                                                                                                                                                                                                                                                                                                                                                                                                                                                                                                                                                                                                                                                                                                     that moment when the cast of jurassicworlddominion surprised students with free laptopsjust one of many surprises for these amazing students during an allexpensepaid trip to universal studios to launch our jurassic worldthemed steam initiative learn more about this crosscompany program with universal pictures universal parks resorts and the council for opportunity in education to help ensure more young people have access to the resources and opportunities they need to succeed in todays digital world projectup   \n",
              "2253                                                                                                                                                                                                                                                                                                                                                                                                                                                                                                                                                                                                                                                                                                                                                                                                                                                                                                                                                                                                                                                                                                                                                                                                                                                                                                                                                                                                                                                                                                                                                                                                                                                                                                                                                                                                                                                                                                                                                                                                                                                                                                                                                                                                                                                                                                                                                                                                                                                                                                              develop crucial skills and knowledge in browns online mph to address the many health challenges affecting the world today   \n",
              "2254                                                                                                                                                                                                                                                                                                                                                                                                                                                                                                                                                                                                                                                                                                                                                                                                                                                                                                                                                                                                                                                                                                                                                                                                                                                                                                                                                                                                                                                                                                                                                                                                                                                                                                                                                                                                                                                                                                                                                                                                                                                                                                                                                                                                                                                                                                                                                                                                                                                                                               propel your future forward by taking courses online to earn a graduate certificate or masters degree from stanford university learn more   \n",
              "\n",
              "              LABEL  TAGS  \n",
              "0           excited     1  \n",
              "1           excited     1  \n",
              "2           excited     1  \n",
              "3           excited     1  \n",
              "4           excited     1  \n",
              "...             ...   ...  \n",
              "2250  recession2022    -1  \n",
              "2251  recession2022    -1  \n",
              "2252  recession2022    -1  \n",
              "2253  recession2022    -1  \n",
              "2254  recession2022    -1  \n",
              "\n",
              "[2255 rows x 5 columns]"
            ],
            "text/html": [
              "\n",
              "  <div id=\"df-ff83dbb6-96e5-4ad4-b75a-756f2be6e104\">\n",
              "    <div class=\"colab-df-container\">\n",
              "      <div>\n",
              "<style scoped>\n",
              "    .dataframe tbody tr th:only-of-type {\n",
              "        vertical-align: middle;\n",
              "    }\n",
              "\n",
              "    .dataframe tbody tr th {\n",
              "        vertical-align: top;\n",
              "    }\n",
              "\n",
              "    .dataframe thead th {\n",
              "        text-align: right;\n",
              "    }\n",
              "</style>\n",
              "<table border=\"1\" class=\"dataframe\">\n",
              "  <thead>\n",
              "    <tr style=\"text-align: right;\">\n",
              "      <th></th>\n",
              "      <th>level_0</th>\n",
              "      <th>index</th>\n",
              "      <th>POSTS</th>\n",
              "      <th>LABEL</th>\n",
              "      <th>TAGS</th>\n",
              "    </tr>\n",
              "  </thead>\n",
              "  <tbody>\n",
              "    <tr>\n",
              "      <th>0</th>\n",
              "      <td>0</td>\n",
              "      <td>0</td>\n",
              "      <td>does excel run on mac you bet so do word powerpoint and all the apps you need</td>\n",
              "      <td>excited</td>\n",
              "      <td>1</td>\n",
              "    </tr>\n",
              "    <tr>\n",
              "      <th>1</th>\n",
              "      <td>1</td>\n",
              "      <td>1</td>\n",
              "      <td>i am about to start a new role at capgemini and containing myself is a real issuedo not ask excited</td>\n",
              "      <td>excited</td>\n",
              "      <td>1</td>\n",
              "    </tr>\n",
              "    <tr>\n",
              "      <th>2</th>\n",
              "      <td>2</td>\n",
              "      <td>2</td>\n",
              "      <td>new chapter excited</td>\n",
              "      <td>excited</td>\n",
              "      <td>1</td>\n",
              "    </tr>\n",
              "    <tr>\n",
              "      <th>3</th>\n",
              "      <td>3</td>\n",
              "      <td>3</td>\n",
              "      <td>flying away from the nest and setting off for new adventures on the other side of the planet this day marks a couple of important milestones my first post ever on linkedin is this really a milestone my last day working at nestl the beginning of a new and exciting journey i am thrilled to announce that i will be moving to new zealand as of february excited driven by the willingness to enrich ourselves as individuals to go out of our comfort zone to experience a new professional and personal environment and to discover new outdoor experiences my partner and i have decided to take that step and why notsince i graduated from isipca in the past decade at nestl wow this sounds like a lot which started with a years internship has been incredibly rich and i feel very lucky for all the projects and experiences i went through i met inspiring people and worked on innovative projects from being part of the nestl rd accelerator to the nesqino journey and plenty of other initiatives i enjoyed the diversity of projects activities and challengesthe journey has also sometimes been punctuated with some doubts and questions which were essential to go the extra mile those who know me know that i am always eager to learn new things i do not know yet what will come next and i am very curious to see what the future will bring the next two months will be busy organizing the move and solving admin stuff enjoying time with family and friends recharging and settling in new zealand i will be available for work as of february and i cannot wait to discover what new zealand has to offer i would love to start discussions about expatriation experiences tips about new zealand potential work opportunities including remote</td>\n",
              "      <td>excited</td>\n",
              "      <td>1</td>\n",
              "    </tr>\n",
              "    <tr>\n",
              "      <th>4</th>\n",
              "      <td>4</td>\n",
              "      <td>4</td>\n",
              "      <td>excited about the great things to come from this partnership gracias to my omnicom media group familia geoffrey calabrese kelly metz amy darwish and televisaunivision daniel aversano richard bertodatti for making this happen multiculturalmarketing httpslnkdinevpbwcu</td>\n",
              "      <td>excited</td>\n",
              "      <td>1</td>\n",
              "    </tr>\n",
              "    <tr>\n",
              "      <th>...</th>\n",
              "      <td>...</td>\n",
              "      <td>...</td>\n",
              "      <td>...</td>\n",
              "      <td>...</td>\n",
              "      <td>...</td>\n",
              "    </tr>\n",
              "    <tr>\n",
              "      <th>2250</th>\n",
              "      <td>2257</td>\n",
              "      <td>2579</td>\n",
              "      <td>automate testing to catch bugs earlier in your development cycle</td>\n",
              "      <td>recession2022</td>\n",
              "      <td>-1</td>\n",
              "    </tr>\n",
              "    <tr>\n",
              "      <th>2251</th>\n",
              "      <td>2258</td>\n",
              "      <td>2580</td>\n",
              "      <td>is twitter about to go bankrupthttpslnkdingnqtxcnclayoff layoffslaidoff job today linkedin talent searchforjobs techlayoffs techjobs technews careers jobopeningw contract cc jobopportunities career recruiting openforjobopportunities recession recession recession jobsearch itrecruitmentjava phython spring springboot microservices hibernate datajpa kafka aws gcp azure javadeveloper akka scala benchsalesrecruitersdotnetdeveloper dotnet devops powerbi uideveloper networking scrummaster data opportunity opportunities fullstackdeveloper engineering techcommunity layoffsandjobreductions hiring team development grateful comment softwareengineering frontenddataanalysis businessintelligence processimprovementindustrialengineering newopportunities analyst dataengineer opentowork openforwork twitter stripe lyft amazon apple microsoft facebook tesla philips zillow convey jpmc salesforce nytimes nypost wsj layoff layoffslaidoff job todayjavafullstackdeveloper javajobs hiringimmediately hiring hiringtalent marketing project project snap softwareengineer workleadership digitalhealth medicaldevice biotechnology projectadditionally career opportunities activelylooking talent businessintelligenceanalystinternational students cpt opt ead optead fulltimehb head tn tnvisa tnjobs hbvisa citizens gc gcead uscitizens usajobs usc usajob usa usa usa usaitjobs uscontractjobs usjobseeker usjobdataanalyst businessanalystbusinessanalysis analytics workplace outsourcedhr payroll onboardingpgmp productdevelopment programmanagement productmanagement projectmanagement productmanager programmanager culture remoteworkjobalert canadajobs fulltimeposition candidatesearch fulltimejobs jobfair jobdescription jobavailable jobchangers canada canadaworkvisa fulltime copr canadastaffing canadarecruitment canadacareers canadajobseeker canadaitjob torontocanada canadaitjobsjobhiring jobforyou jobalerts canadaprvisa canadajobseekerspermanentjobs permanentjob permanentrecruitment permanentrole opentonewopportunities torontoitjobs jobseekers recruitingjobposting linkedin openings jobvacancy jobalert jobhunters activelyhiring bulkcanadajobs informaticajobs informatica bigdata hadooptech help economy jobhunt networknyc denver colorado losangeles boston tampa florida michiganjobs oregoan sandiego houston dallas itjobs washington dallaschicago chicagojobs dfw plano dallas dallasjobs austin austinjobs cali calijobs california houston houstonjobs atlanta atlantajobsnyc newyork nycjobs newyorkjobs detroit michiganmexico mexicojobs siliconvalley</td>\n",
              "      <td>recession2022</td>\n",
              "      <td>-1</td>\n",
              "    </tr>\n",
              "    <tr>\n",
              "      <th>2252</th>\n",
              "      <td>2259</td>\n",
              "      <td>2581</td>\n",
              "      <td>that moment when the cast of jurassicworlddominion surprised students with free laptopsjust one of many surprises for these amazing students during an allexpensepaid trip to universal studios to launch our jurassic worldthemed steam initiative learn more about this crosscompany program with universal pictures universal parks resorts and the council for opportunity in education to help ensure more young people have access to the resources and opportunities they need to succeed in todays digital world projectup</td>\n",
              "      <td>recession2022</td>\n",
              "      <td>-1</td>\n",
              "    </tr>\n",
              "    <tr>\n",
              "      <th>2253</th>\n",
              "      <td>2260</td>\n",
              "      <td>2582</td>\n",
              "      <td>develop crucial skills and knowledge in browns online mph to address the many health challenges affecting the world today</td>\n",
              "      <td>recession2022</td>\n",
              "      <td>-1</td>\n",
              "    </tr>\n",
              "    <tr>\n",
              "      <th>2254</th>\n",
              "      <td>2261</td>\n",
              "      <td>2583</td>\n",
              "      <td>propel your future forward by taking courses online to earn a graduate certificate or masters degree from stanford university learn more</td>\n",
              "      <td>recession2022</td>\n",
              "      <td>-1</td>\n",
              "    </tr>\n",
              "  </tbody>\n",
              "</table>\n",
              "<p>2255 rows × 5 columns</p>\n",
              "</div>\n",
              "      <button class=\"colab-df-convert\" onclick=\"convertToInteractive('df-ff83dbb6-96e5-4ad4-b75a-756f2be6e104')\"\n",
              "              title=\"Convert this dataframe to an interactive table.\"\n",
              "              style=\"display:none;\">\n",
              "        \n",
              "  <svg xmlns=\"http://www.w3.org/2000/svg\" height=\"24px\"viewBox=\"0 0 24 24\"\n",
              "       width=\"24px\">\n",
              "    <path d=\"M0 0h24v24H0V0z\" fill=\"none\"/>\n",
              "    <path d=\"M18.56 5.44l.94 2.06.94-2.06 2.06-.94-2.06-.94-.94-2.06-.94 2.06-2.06.94zm-11 1L8.5 8.5l.94-2.06 2.06-.94-2.06-.94L8.5 2.5l-.94 2.06-2.06.94zm10 10l.94 2.06.94-2.06 2.06-.94-2.06-.94-.94-2.06-.94 2.06-2.06.94z\"/><path d=\"M17.41 7.96l-1.37-1.37c-.4-.4-.92-.59-1.43-.59-.52 0-1.04.2-1.43.59L10.3 9.45l-7.72 7.72c-.78.78-.78 2.05 0 2.83L4 21.41c.39.39.9.59 1.41.59.51 0 1.02-.2 1.41-.59l7.78-7.78 2.81-2.81c.8-.78.8-2.07 0-2.86zM5.41 20L4 18.59l7.72-7.72 1.47 1.35L5.41 20z\"/>\n",
              "  </svg>\n",
              "      </button>\n",
              "      \n",
              "  <style>\n",
              "    .colab-df-container {\n",
              "      display:flex;\n",
              "      flex-wrap:wrap;\n",
              "      gap: 12px;\n",
              "    }\n",
              "\n",
              "    .colab-df-convert {\n",
              "      background-color: #E8F0FE;\n",
              "      border: none;\n",
              "      border-radius: 50%;\n",
              "      cursor: pointer;\n",
              "      display: none;\n",
              "      fill: #1967D2;\n",
              "      height: 32px;\n",
              "      padding: 0 0 0 0;\n",
              "      width: 32px;\n",
              "    }\n",
              "\n",
              "    .colab-df-convert:hover {\n",
              "      background-color: #E2EBFA;\n",
              "      box-shadow: 0px 1px 2px rgba(60, 64, 67, 0.3), 0px 1px 3px 1px rgba(60, 64, 67, 0.15);\n",
              "      fill: #174EA6;\n",
              "    }\n",
              "\n",
              "    [theme=dark] .colab-df-convert {\n",
              "      background-color: #3B4455;\n",
              "      fill: #D2E3FC;\n",
              "    }\n",
              "\n",
              "    [theme=dark] .colab-df-convert:hover {\n",
              "      background-color: #434B5C;\n",
              "      box-shadow: 0px 1px 3px 1px rgba(0, 0, 0, 0.15);\n",
              "      filter: drop-shadow(0px 1px 2px rgba(0, 0, 0, 0.3));\n",
              "      fill: #FFFFFF;\n",
              "    }\n",
              "  </style>\n",
              "\n",
              "      <script>\n",
              "        const buttonEl =\n",
              "          document.querySelector('#df-ff83dbb6-96e5-4ad4-b75a-756f2be6e104 button.colab-df-convert');\n",
              "        buttonEl.style.display =\n",
              "          google.colab.kernel.accessAllowed ? 'block' : 'none';\n",
              "\n",
              "        async function convertToInteractive(key) {\n",
              "          const element = document.querySelector('#df-ff83dbb6-96e5-4ad4-b75a-756f2be6e104');\n",
              "          const dataTable =\n",
              "            await google.colab.kernel.invokeFunction('convertToInteractive',\n",
              "                                                     [key], {});\n",
              "          if (!dataTable) return;\n",
              "\n",
              "          const docLinkHtml = 'Like what you see? Visit the ' +\n",
              "            '<a target=\"_blank\" href=https://colab.research.google.com/notebooks/data_table.ipynb>data table notebook</a>'\n",
              "            + ' to learn more about interactive tables.';\n",
              "          element.innerHTML = '';\n",
              "          dataTable['output_type'] = 'display_data';\n",
              "          await google.colab.output.renderOutput(dataTable, element);\n",
              "          const docLink = document.createElement('div');\n",
              "          docLink.innerHTML = docLinkHtml;\n",
              "          element.appendChild(docLink);\n",
              "        }\n",
              "      </script>\n",
              "    </div>\n",
              "  </div>\n",
              "  "
            ]
          },
          "metadata": {},
          "execution_count": 126
        }
      ]
    },
    {
      "cell_type": "code",
      "source": [
        "from keras.preprocessing.text import Tokenizer\n",
        "from keras_preprocessing.sequence import pad_sequences\n",
        "#max_features = 2000\n",
        "#tokenizer = Tokenizer(num_words = max_features, )\n",
        "# tokenizer = Tokenizer()\n",
        "# tokenizer.fit_on_texts(unseen_complete_data['POSTS'].values)\n",
        "X = tokenizer.texts_to_sequences(unseen_complete_data['POSTS'].values)\n",
        "X = pad_sequences(X, padding = 'post' , maxlen=100)\n",
        "Y = pd.get_dummies(unseen_complete_data['TAGS']).values\n",
        "#Y= complete_data['TAGS'].values\n",
        "\n",
        "vocab_size = len(tokenizer.word_index)+1"
      ],
      "metadata": {
        "id": "39vs35go9wQA"
      },
      "execution_count": null,
      "outputs": []
    },
    {
      "cell_type": "code",
      "source": [
        "Y_test_new_unseen=[]\n",
        "for val in Y:\n",
        "  if val[0]==1:\n",
        "    Y_test_new_unseen.append(0)\n",
        "  else:\n",
        "    Y_test_new_unseen.append(1)"
      ],
      "metadata": {
        "id": "CyaEc5Wh9wQB"
      },
      "execution_count": null,
      "outputs": []
    },
    {
      "cell_type": "code",
      "source": [
        "from sklearn.metrics import classification_report\n",
        "\n",
        "y_pred_unseen = glove_vanialla_lstm_model.predict(X, batch_size=10, verbose=1)\n",
        "y_pred_bool_unseen = np.argmax(y_pred_unseen, axis=1)\n",
        "\n",
        "print(classification_report(Y_test_new_unseen, y_pred_bool_unseen))\n"
      ],
      "metadata": {
        "colab": {
          "base_uri": "https://localhost:8080/"
        },
        "outputId": "92540c68-c80f-4c63-a7ff-5c2cbdc35a6d",
        "id": "JfvmHxmY9wQB"
      },
      "execution_count": null,
      "outputs": [
        {
          "output_type": "stream",
          "name": "stdout",
          "text": [
            "226/226 [==============================] - 9s 39ms/step\n",
            "              precision    recall  f1-score   support\n",
            "\n",
            "           0       0.83      0.91      0.87      1200\n",
            "           1       0.88      0.79      0.83      1055\n",
            "\n",
            "    accuracy                           0.85      2255\n",
            "   macro avg       0.86      0.85      0.85      2255\n",
            "weighted avg       0.85      0.85      0.85      2255\n",
            "\n"
          ]
        }
      ]
    },
    {
      "cell_type": "markdown",
      "source": [
        "**Stacked GRU (More complex models) with FastText Embeddings**"
      ],
      "metadata": {
        "id": "1KJ_cKC4-EwO"
      }
    },
    {
      "cell_type": "code",
      "source": [
        "import tensorflow as tf\n",
        "from tensorflow import keras\n",
        "\n",
        "from keras.layers import Dense, Embedding, LSTM, SpatialDropout1D, Bidirectional, Dropout, GRU\n",
        "embedd_dim = 300\n",
        "stacked_gru = 128\n",
        "stacked_gru = keras.Sequential()\n",
        "stacked_gru.add(Embedding(vocab_size, embedd_dim, weights = [embedding_matrix] , trainable = False))\n",
        "stacked_gru.add(Bidirectional(GRU(128, dropout=0.2, return_sequences = True)))\n",
        "stacked_gru.add(Bidirectional(GRU(64, dropout=0.2)))\n",
        "stacked_gru.add(Dense(128, activation = 'relu'))\n",
        "stacked_gru.add(Dropout(0.5))\n",
        "stacked_gru.add(Dense(64, activation = 'relu'))\n",
        "stacked_gru.add(Dropout(0.5))\n",
        "stacked_gru.add(Dense(2, activation = 'softmax'))  #if used pd.get dummies above\n",
        "stacked_gru.summary()\n"
      ],
      "metadata": {
        "colab": {
          "base_uri": "https://localhost:8080/"
        },
        "id": "iJR6pf9N-K1l",
        "outputId": "4ae26d25-c389-4d9e-ec60-c54f3a530443"
      },
      "execution_count": null,
      "outputs": [
        {
          "output_type": "stream",
          "name": "stdout",
          "text": [
            "Model: \"sequential\"\n",
            "_________________________________________________________________\n",
            " Layer (type)                Output Shape              Param #   \n",
            "=================================================================\n",
            " embedding (Embedding)       (None, None, 300)         27755100  \n",
            "                                                                 \n",
            " bidirectional (Bidirectiona  (None, None, 256)        330240    \n",
            " l)                                                              \n",
            "                                                                 \n",
            " bidirectional_1 (Bidirectio  (None, 128)              123648    \n",
            " nal)                                                            \n",
            "                                                                 \n",
            " dense (Dense)               (None, 128)               16512     \n",
            "                                                                 \n",
            " dropout (Dropout)           (None, 128)               0         \n",
            "                                                                 \n",
            " dense_1 (Dense)             (None, 64)                8256      \n",
            "                                                                 \n",
            " dropout_1 (Dropout)         (None, 64)                0         \n",
            "                                                                 \n",
            " dense_2 (Dense)             (None, 2)                 130       \n",
            "                                                                 \n",
            "=================================================================\n",
            "Total params: 28,233,886\n",
            "Trainable params: 478,786\n",
            "Non-trainable params: 27,755,100\n",
            "_________________________________________________________________\n"
          ]
        }
      ]
    },
    {
      "cell_type": "code",
      "source": [
        "early_stopping_monitor = tf.keras.callbacks.EarlyStopping(\n",
        "    monitor='val_loss',\n",
        "    min_delta=0,\n",
        "    patience=10,\n",
        "    verbose=0,\n",
        "    mode='auto',\n",
        "    baseline=None,\n",
        "    restore_best_weights=True\n",
        ")\n",
        "batch_size = 200\n",
        "stacked_gru.compile(loss = 'binary_crossentropy', optimizer='adam',metrics = ['accuracy'])\n",
        "history = stacked_gru.fit(X_train, Y_train, epochs = 50, batch_size=batch_size, verbose = 1, callbacks=[early_stopping_monitor], validation_data =(X_test, Y_test))"
      ],
      "metadata": {
        "colab": {
          "base_uri": "https://localhost:8080/"
        },
        "id": "q4IV2GoQ-LAr",
        "outputId": "e42a1805-ef52-406c-a6d2-d6e96585ee44"
      },
      "execution_count": null,
      "outputs": [
        {
          "output_type": "stream",
          "name": "stdout",
          "text": [
            "Epoch 1/50\n",
            "54/54 [==============================] - 103s 2s/step - loss: 0.6624 - accuracy: 0.5970 - val_loss: 0.5587 - val_accuracy: 0.7204\n",
            "Epoch 2/50\n",
            "54/54 [==============================] - 94s 2s/step - loss: 0.5038 - accuracy: 0.7634 - val_loss: 0.4335 - val_accuracy: 0.8011\n",
            "Epoch 3/50\n",
            "54/54 [==============================] - 93s 2s/step - loss: 0.4287 - accuracy: 0.8101 - val_loss: 0.4062 - val_accuracy: 0.8114\n",
            "Epoch 4/50\n",
            "54/54 [==============================] - 91s 2s/step - loss: 0.3970 - accuracy: 0.8225 - val_loss: 0.4054 - val_accuracy: 0.8024\n",
            "Epoch 5/50\n",
            "54/54 [==============================] - 93s 2s/step - loss: 0.3637 - accuracy: 0.8348 - val_loss: 0.3555 - val_accuracy: 0.8347\n",
            "Epoch 6/50\n",
            "54/54 [==============================] - 93s 2s/step - loss: 0.3319 - accuracy: 0.8460 - val_loss: 0.3525 - val_accuracy: 0.8347\n",
            "Epoch 7/50\n",
            "54/54 [==============================] - 91s 2s/step - loss: 0.3328 - accuracy: 0.8472 - val_loss: 0.3706 - val_accuracy: 0.8097\n",
            "Epoch 8/50\n",
            "54/54 [==============================] - 93s 2s/step - loss: 0.3128 - accuracy: 0.8577 - val_loss: 0.3243 - val_accuracy: 0.8428\n",
            "Epoch 9/50\n",
            "54/54 [==============================] - 93s 2s/step - loss: 0.2878 - accuracy: 0.8638 - val_loss: 0.3064 - val_accuracy: 0.8539\n",
            "Epoch 10/50\n",
            "54/54 [==============================] - 91s 2s/step - loss: 0.2826 - accuracy: 0.8669 - val_loss: 0.3082 - val_accuracy: 0.8553\n",
            "Epoch 11/50\n",
            "54/54 [==============================] - 93s 2s/step - loss: 0.2571 - accuracy: 0.8844 - val_loss: 0.3015 - val_accuracy: 0.8575\n",
            "Epoch 12/50\n",
            "54/54 [==============================] - 93s 2s/step - loss: 0.2490 - accuracy: 0.8864 - val_loss: 0.2913 - val_accuracy: 0.8606\n",
            "Epoch 13/50\n",
            "54/54 [==============================] - 91s 2s/step - loss: 0.2409 - accuracy: 0.8920 - val_loss: 0.2875 - val_accuracy: 0.8659\n",
            "Epoch 14/50\n",
            "54/54 [==============================] - 93s 2s/step - loss: 0.2214 - accuracy: 0.8984 - val_loss: 0.3106 - val_accuracy: 0.8687\n",
            "Epoch 15/50\n",
            "54/54 [==============================] - 93s 2s/step - loss: 0.2089 - accuracy: 0.9027 - val_loss: 0.3051 - val_accuracy: 0.8659\n",
            "Epoch 16/50\n",
            "54/54 [==============================] - 91s 2s/step - loss: 0.2008 - accuracy: 0.9086 - val_loss: 0.2933 - val_accuracy: 0.8712\n",
            "Epoch 17/50\n",
            "54/54 [==============================] - 93s 2s/step - loss: 0.1943 - accuracy: 0.9098 - val_loss: 0.2890 - val_accuracy: 0.8695\n",
            "Epoch 18/50\n",
            "54/54 [==============================] - 93s 2s/step - loss: 0.1863 - accuracy: 0.9163 - val_loss: 0.2958 - val_accuracy: 0.8742\n",
            "Epoch 19/50\n",
            "54/54 [==============================] - 92s 2s/step - loss: 0.1835 - accuracy: 0.9148 - val_loss: 0.2940 - val_accuracy: 0.8703\n",
            "Epoch 20/50\n",
            "54/54 [==============================] - 93s 2s/step - loss: 0.1756 - accuracy: 0.9182 - val_loss: 0.3392 - val_accuracy: 0.8514\n",
            "Epoch 21/50\n",
            "54/54 [==============================] - 93s 2s/step - loss: 0.1712 - accuracy: 0.9225 - val_loss: 0.2861 - val_accuracy: 0.8723\n",
            "Epoch 22/50\n",
            "54/54 [==============================] - 91s 2s/step - loss: 0.1645 - accuracy: 0.9251 - val_loss: 0.3068 - val_accuracy: 0.8792\n",
            "Epoch 23/50\n",
            "54/54 [==============================] - 93s 2s/step - loss: 0.1578 - accuracy: 0.9277 - val_loss: 0.3657 - val_accuracy: 0.8648\n",
            "Epoch 24/50\n",
            "54/54 [==============================] - 92s 2s/step - loss: 0.1632 - accuracy: 0.9270 - val_loss: 0.2927 - val_accuracy: 0.8753\n",
            "Epoch 25/50\n",
            "54/54 [==============================] - 91s 2s/step - loss: 0.1495 - accuracy: 0.9341 - val_loss: 0.3154 - val_accuracy: 0.8837\n",
            "Epoch 26/50\n",
            "54/54 [==============================] - 93s 2s/step - loss: 0.1456 - accuracy: 0.9345 - val_loss: 0.3243 - val_accuracy: 0.8776\n",
            "Epoch 27/50\n",
            "54/54 [==============================] - 93s 2s/step - loss: 0.1409 - accuracy: 0.9361 - val_loss: 0.2970 - val_accuracy: 0.8804\n",
            "Epoch 28/50\n",
            "54/54 [==============================] - 91s 2s/step - loss: 0.1345 - accuracy: 0.9382 - val_loss: 0.3204 - val_accuracy: 0.8781\n",
            "Epoch 29/50\n",
            "54/54 [==============================] - 92s 2s/step - loss: 0.1377 - accuracy: 0.9390 - val_loss: 0.2974 - val_accuracy: 0.8826\n",
            "Epoch 30/50\n",
            "54/54 [==============================] - 92s 2s/step - loss: 0.1320 - accuracy: 0.9405 - val_loss: 0.3382 - val_accuracy: 0.8829\n",
            "Epoch 31/50\n",
            "54/54 [==============================] - 91s 2s/step - loss: 0.1214 - accuracy: 0.9438 - val_loss: 0.3866 - val_accuracy: 0.8712\n"
          ]
        }
      ]
    },
    {
      "cell_type": "code",
      "source": [
        "stacked_gru.save('/content/gdrive/MyDrive/Colab Notebooks/StackedGRU')"
      ],
      "metadata": {
        "colab": {
          "base_uri": "https://localhost:8080/"
        },
        "id": "1Xg2cDvZ-LIk",
        "outputId": "47e2fa00-79cc-454e-ce26-72690fdbb93e"
      },
      "execution_count": null,
      "outputs": [
        {
          "output_type": "stream",
          "name": "stderr",
          "text": [
            "WARNING:absl:Found untraced functions such as gru_cell_1_layer_call_fn, gru_cell_1_layer_call_and_return_conditional_losses, gru_cell_2_layer_call_fn, gru_cell_2_layer_call_and_return_conditional_losses, gru_cell_4_layer_call_fn while saving (showing 5 of 8). These functions will not be directly callable after loading.\n"
          ]
        }
      ]
    },
    {
      "cell_type": "code",
      "source": [
        "Y_test_new=[]\n",
        "for val in Y_test:\n",
        "  if val[0]==1:\n",
        "    Y_test_new.append(0)\n",
        "  else:\n",
        "    Y_test_new.append(1)"
      ],
      "metadata": {
        "id": "squnNhlDKcvq"
      },
      "execution_count": null,
      "outputs": []
    },
    {
      "cell_type": "code",
      "source": [
        "from sklearn.metrics import classification_report\n",
        "\n",
        "y_pred = stacked_gru.predict(X_test, batch_size=64, verbose=1)\n",
        "y_pred_bool = np.argmax(y_pred, axis=1)\n",
        "\n",
        "print(classification_report(Y_test_new, y_pred_bool))\n"
      ],
      "metadata": {
        "colab": {
          "base_uri": "https://localhost:8080/"
        },
        "outputId": "1f30d727-4d14-463e-9f20-54804ced1554",
        "id": "AKcVHwyeKcvr"
      },
      "execution_count": null,
      "outputs": [
        {
          "output_type": "stream",
          "name": "stdout",
          "text": [
            "57/57 [==============================] - 14s 222ms/step\n",
            "              precision    recall  f1-score   support\n",
            "\n",
            "           0       0.88      0.91      0.89      2114\n",
            "           1       0.87      0.81      0.84      1480\n",
            "\n",
            "    accuracy                           0.87      3594\n",
            "   macro avg       0.87      0.86      0.87      3594\n",
            "weighted avg       0.87      0.87      0.87      3594\n",
            "\n"
          ]
        }
      ]
    },
    {
      "cell_type": "markdown",
      "source": [
        "**Stacked GRU with FastText Embeddings on unseen data**"
      ],
      "metadata": {
        "id": "ZLNeSd9eKpaH"
      }
    },
    {
      "cell_type": "code",
      "source": [
        "from sklearn.metrics import classification_report\n",
        "\n",
        "y_pred_unseen = stacked_gru.predict(X, batch_size=10, verbose=1)\n",
        "y_pred_bool_unseen = np.argmax(y_pred_unseen, axis=1)\n",
        "\n",
        "print(classification_report(Y_test_new_unseen, y_pred_bool_unseen))"
      ],
      "metadata": {
        "colab": {
          "base_uri": "https://localhost:8080/"
        },
        "id": "rmz3bgFUKYI-",
        "outputId": "f799bc3e-469b-4a48-cb54-4c89ae636321"
      },
      "execution_count": null,
      "outputs": [
        {
          "output_type": "stream",
          "name": "stdout",
          "text": [
            "226/226 [==============================] - 13s 59ms/step\n",
            "              precision    recall  f1-score   support\n",
            "\n",
            "           0       0.84      0.90      0.87      1200\n",
            "           1       0.87      0.81      0.84      1055\n",
            "\n",
            "    accuracy                           0.86      2255\n",
            "   macro avg       0.86      0.85      0.86      2255\n",
            "weighted avg       0.86      0.86      0.86      2255\n",
            "\n"
          ]
        }
      ]
    },
    {
      "cell_type": "markdown",
      "source": [
        "**Stacked GRU with Glove Embeddings**"
      ],
      "metadata": {
        "id": "7PnXtz9LLjeA"
      }
    },
    {
      "cell_type": "code",
      "source": [
        "import tensorflow as tf\n",
        "from tensorflow import keras\n",
        "\n",
        "from keras.layers import Dense, Embedding, LSTM, SpatialDropout1D, Bidirectional, Dropout, GRU\n",
        "embedd_dim = 300\n",
        "stacked_gru_glove = 128\n",
        "stacked_gru_glove = keras.Sequential()\n",
        "stacked_gru_glove.add(Embedding(vocab_size, embedd_dim, weights = [glove_embedding_matrix] , trainable = False))\n",
        "stacked_gru_glove.add(Bidirectional(GRU(128, dropout=0.2, return_sequences = True)))\n",
        "stacked_gru_glove.add(Bidirectional(GRU(64, dropout=0.2)))\n",
        "stacked_gru_glove.add(Dense(128, activation = 'relu'))\n",
        "stacked_gru_glove.add(Dropout(0.5))\n",
        "stacked_gru_glove.add(Dense(64, activation = 'relu'))\n",
        "stacked_gru_glove.add(Dropout(0.5))\n",
        "stacked_gru_glove.add(Dense(2, activation = 'softmax'))  #if used pd.get dummies above\n",
        "stacked_gru_glove.summary()\n"
      ],
      "metadata": {
        "colab": {
          "base_uri": "https://localhost:8080/"
        },
        "id": "0qj4K-T6KYLt",
        "outputId": "6bf1228f-7b8c-45fe-cac3-b03fdc04c4cb"
      },
      "execution_count": null,
      "outputs": [
        {
          "output_type": "stream",
          "name": "stdout",
          "text": [
            "Model: \"sequential_1\"\n",
            "_________________________________________________________________\n",
            " Layer (type)                Output Shape              Param #   \n",
            "=================================================================\n",
            " embedding_1 (Embedding)     (None, None, 300)         27755100  \n",
            "                                                                 \n",
            " bidirectional_2 (Bidirectio  (None, None, 256)        330240    \n",
            " nal)                                                            \n",
            "                                                                 \n",
            " bidirectional_3 (Bidirectio  (None, 128)              123648    \n",
            " nal)                                                            \n",
            "                                                                 \n",
            " dense_3 (Dense)             (None, 128)               16512     \n",
            "                                                                 \n",
            " dropout_2 (Dropout)         (None, 128)               0         \n",
            "                                                                 \n",
            " dense_4 (Dense)             (None, 64)                8256      \n",
            "                                                                 \n",
            " dropout_3 (Dropout)         (None, 64)                0         \n",
            "                                                                 \n",
            " dense_5 (Dense)             (None, 2)                 130       \n",
            "                                                                 \n",
            "=================================================================\n",
            "Total params: 28,233,886\n",
            "Trainable params: 478,786\n",
            "Non-trainable params: 27,755,100\n",
            "_________________________________________________________________\n"
          ]
        }
      ]
    },
    {
      "cell_type": "code",
      "source": [
        "early_stopping_monitor = tf.keras.callbacks.EarlyStopping(\n",
        "    monitor='val_loss',\n",
        "    min_delta=0,\n",
        "    patience=10,\n",
        "    verbose=0,\n",
        "    mode='auto',\n",
        "    baseline=None,\n",
        "    restore_best_weights=True\n",
        ")\n",
        "batch_size = 200\n",
        "stacked_gru_glove.compile(loss = 'binary_crossentropy', optimizer='adam',metrics = ['accuracy'])\n",
        "history = stacked_gru_glove.fit(X_train, Y_train, epochs = 50, batch_size=batch_size, verbose = 1, callbacks=[early_stopping_monitor], validation_data =(X_test, Y_test))"
      ],
      "metadata": {
        "colab": {
          "base_uri": "https://localhost:8080/"
        },
        "id": "ZIIPOSVsMQiX",
        "outputId": "c379ec77-0366-4772-e709-c09ec49c2afb"
      },
      "execution_count": null,
      "outputs": [
        {
          "output_type": "stream",
          "name": "stdout",
          "text": [
            "Epoch 1/50\n",
            "54/54 [==============================] - 107s 2s/step - loss: 0.6175 - accuracy: 0.6539 - val_loss: 0.4915 - val_accuracy: 0.7571\n",
            "Epoch 2/50\n",
            "54/54 [==============================] - 94s 2s/step - loss: 0.4426 - accuracy: 0.7986 - val_loss: 0.3679 - val_accuracy: 0.8152\n",
            "Epoch 3/50\n",
            "54/54 [==============================] - 95s 2s/step - loss: 0.3384 - accuracy: 0.8383 - val_loss: 0.3381 - val_accuracy: 0.8358\n",
            "Epoch 4/50\n",
            "54/54 [==============================] - 97s 2s/step - loss: 0.3005 - accuracy: 0.8593 - val_loss: 0.3227 - val_accuracy: 0.8331\n",
            "Epoch 5/50\n",
            "54/54 [==============================] - 93s 2s/step - loss: 0.2709 - accuracy: 0.8702 - val_loss: 0.3172 - val_accuracy: 0.8453\n",
            "Epoch 6/50\n",
            "54/54 [==============================] - 93s 2s/step - loss: 0.2515 - accuracy: 0.8842 - val_loss: 0.3021 - val_accuracy: 0.8528\n",
            "Epoch 7/50\n",
            "54/54 [==============================] - 95s 2s/step - loss: 0.2321 - accuracy: 0.8968 - val_loss: 0.3402 - val_accuracy: 0.8453\n",
            "Epoch 8/50\n",
            "54/54 [==============================] - 93s 2s/step - loss: 0.2256 - accuracy: 0.8958 - val_loss: 0.3172 - val_accuracy: 0.8478\n",
            "Epoch 9/50\n",
            "54/54 [==============================] - 93s 2s/step - loss: 0.2000 - accuracy: 0.9096 - val_loss: 0.3515 - val_accuracy: 0.8542\n",
            "Epoch 10/50\n",
            "54/54 [==============================] - 93s 2s/step - loss: 0.1924 - accuracy: 0.9118 - val_loss: 0.3382 - val_accuracy: 0.8553\n",
            "Epoch 11/50\n",
            "54/54 [==============================] - 93s 2s/step - loss: 0.1737 - accuracy: 0.9187 - val_loss: 0.3431 - val_accuracy: 0.8536\n",
            "Epoch 12/50\n",
            "54/54 [==============================] - 95s 2s/step - loss: 0.1617 - accuracy: 0.9280 - val_loss: 0.3662 - val_accuracy: 0.8453\n",
            "Epoch 13/50\n",
            "54/54 [==============================] - 93s 2s/step - loss: 0.1453 - accuracy: 0.9319 - val_loss: 0.3884 - val_accuracy: 0.8564\n",
            "Epoch 14/50\n",
            "54/54 [==============================] - 99s 2s/step - loss: 0.1401 - accuracy: 0.9402 - val_loss: 0.3655 - val_accuracy: 0.8559\n",
            "Epoch 15/50\n",
            "54/54 [==============================] - 94s 2s/step - loss: 0.1283 - accuracy: 0.9449 - val_loss: 0.4313 - val_accuracy: 0.8570\n",
            "Epoch 16/50\n",
            "54/54 [==============================] - 92s 2s/step - loss: 0.1174 - accuracy: 0.9531 - val_loss: 0.4096 - val_accuracy: 0.8634\n"
          ]
        }
      ]
    },
    {
      "cell_type": "code",
      "source": [
        "from sklearn.metrics import classification_report\n",
        "\n",
        "y_pred = stacked_gru_glove.predict(X_test, batch_size=64, verbose=1)\n",
        "y_pred_bool = np.argmax(y_pred, axis=1)\n",
        "\n",
        "print(classification_report(Y_test_new, y_pred_bool))"
      ],
      "metadata": {
        "colab": {
          "base_uri": "https://localhost:8080/"
        },
        "id": "TB4ehX2wTha0",
        "outputId": "d9d158da-d873-467f-87aa-9246f62375ff"
      },
      "execution_count": null,
      "outputs": [
        {
          "output_type": "stream",
          "name": "stdout",
          "text": [
            "57/57 [==============================] - 13s 233ms/step\n",
            "              precision    recall  f1-score   support\n",
            "\n",
            "           0       0.86      0.90      0.88      2114\n",
            "           1       0.84      0.79      0.82      1480\n",
            "\n",
            "    accuracy                           0.85      3594\n",
            "   macro avg       0.85      0.84      0.85      3594\n",
            "weighted avg       0.85      0.85      0.85      3594\n",
            "\n"
          ]
        }
      ]
    },
    {
      "cell_type": "markdown",
      "source": [
        "**Stacked Glove on unseen data**"
      ],
      "metadata": {
        "id": "cUf8QmgcTUo-"
      }
    },
    {
      "cell_type": "code",
      "source": [
        "from sklearn.metrics import classification_report\n",
        "\n",
        "y_pred_unseen = stacked_gru_glove.predict(X, batch_size=10, verbose=1)\n",
        "y_pred_bool_unseen = np.argmax(y_pred_unseen, axis=1)\n",
        "\n",
        "print(classification_report(Y_test_new_unseen, y_pred_bool_unseen))"
      ],
      "metadata": {
        "colab": {
          "base_uri": "https://localhost:8080/"
        },
        "id": "l-30s5F8MQoW",
        "outputId": "a749202b-23f0-4580-f578-3f31713983c7"
      },
      "execution_count": null,
      "outputs": [
        {
          "output_type": "stream",
          "name": "stdout",
          "text": [
            "226/226 [==============================] - 13s 58ms/step\n",
            "              precision    recall  f1-score   support\n",
            "\n",
            "           0       0.84      0.91      0.87      1200\n",
            "           1       0.89      0.80      0.84      1055\n",
            "\n",
            "    accuracy                           0.86      2255\n",
            "   macro avg       0.86      0.85      0.86      2255\n",
            "weighted avg       0.86      0.86      0.86      2255\n",
            "\n"
          ]
        }
      ]
    },
    {
      "cell_type": "markdown",
      "source": [
        "**Stacked GRU-LSTM with more complex architecture**"
      ],
      "metadata": {
        "id": "ZrwmNFQCT1Lk"
      }
    },
    {
      "cell_type": "code",
      "source": [
        "embedd_dim = 300\n",
        "stacked_gru_lstm = 128\n",
        "stacked_gru_lstm = keras.Sequential()\n",
        "stacked_gru_lstm.add(Embedding(vocab_size, embedd_dim, weights = [glove_embedding_matrix] , trainable = False))\n",
        "stacked_gru_lstm.add(Bidirectional(GRU(256, dropout=0.2, return_sequences = True)))\n",
        "stacked_gru_lstm.add(Bidirectional(GRU(128, dropout=0.2, return_sequences = True)))\n",
        "stacked_gru_lstm.add(Bidirectional(LSTM(64, dropout=0.2, return_sequences = True)))\n",
        "stacked_gru_lstm.add(Bidirectional(GRU(32, dropout=0.2)))\n",
        "stacked_gru_lstm.add(Dense(128, activation = 'relu'))\n",
        "stacked_gru_lstm.add(Dropout(0.2))\n",
        "stacked_gru_lstm.add(Dense(64, activation = 'relu'))\n",
        "stacked_gru_lstm.add(Dropout(0.2))\n",
        "stacked_gru_lstm.add(Dense(2, activation = 'softmax'))  #if used pd.get dummies above\n",
        "stacked_gru_lstm.summary()"
      ],
      "metadata": {
        "colab": {
          "base_uri": "https://localhost:8080/"
        },
        "id": "mWUNrvRlT0RV",
        "outputId": "55f9d5fe-d629-4551-a0e2-157279041dc4"
      },
      "execution_count": null,
      "outputs": [
        {
          "output_type": "stream",
          "name": "stdout",
          "text": [
            "Model: \"sequential_2\"\n",
            "_________________________________________________________________\n",
            " Layer (type)                Output Shape              Param #   \n",
            "=================================================================\n",
            " embedding_2 (Embedding)     (None, None, 300)         27755100  \n",
            "                                                                 \n",
            " bidirectional_4 (Bidirectio  (None, None, 512)        857088    \n",
            " nal)                                                            \n",
            "                                                                 \n",
            " bidirectional_5 (Bidirectio  (None, None, 256)        493056    \n",
            " nal)                                                            \n",
            "                                                                 \n",
            " bidirectional_6 (Bidirectio  (None, None, 128)        164352    \n",
            " nal)                                                            \n",
            "                                                                 \n",
            " bidirectional_7 (Bidirectio  (None, 64)               31104     \n",
            " nal)                                                            \n",
            "                                                                 \n",
            " dense_6 (Dense)             (None, 128)               8320      \n",
            "                                                                 \n",
            " dropout_4 (Dropout)         (None, 128)               0         \n",
            "                                                                 \n",
            " dense_7 (Dense)             (None, 64)                8256      \n",
            "                                                                 \n",
            " dropout_5 (Dropout)         (None, 64)                0         \n",
            "                                                                 \n",
            " dense_8 (Dense)             (None, 2)                 130       \n",
            "                                                                 \n",
            "=================================================================\n",
            "Total params: 29,317,406\n",
            "Trainable params: 1,562,306\n",
            "Non-trainable params: 27,755,100\n",
            "_________________________________________________________________\n"
          ]
        }
      ]
    },
    {
      "cell_type": "code",
      "source": [
        "early_stopping_monitor = tf.keras.callbacks.EarlyStopping(\n",
        "    monitor='val_loss',\n",
        "    min_delta=0,\n",
        "    patience=15,\n",
        "    verbose=0,\n",
        "    mode='auto',\n",
        "    baseline=None,\n",
        "    restore_best_weights=True\n",
        ")\n",
        "batch_size = 200\n",
        "stacked_gru_lstm.compile(loss = 'binary_crossentropy', optimizer='adam',metrics = ['accuracy'])\n",
        "history = stacked_gru_lstm.fit(X_train, Y_train, epochs = 50, batch_size=batch_size, verbose = 1, callbacks=[early_stopping_monitor], validation_data =(X_test, Y_test))"
      ],
      "metadata": {
        "colab": {
          "base_uri": "https://localhost:8080/"
        },
        "id": "avAR4-ADT0rU",
        "outputId": "5fabe0f0-5161-4666-cab9-ce110488b77d"
      },
      "execution_count": null,
      "outputs": [
        {
          "output_type": "stream",
          "name": "stdout",
          "text": [
            "Epoch 1/50\n",
            "54/54 [==============================] - 299s 5s/step - loss: 0.5294 - accuracy: 0.7260 - val_loss: 0.4232 - val_accuracy: 0.8011\n",
            "Epoch 2/50\n",
            "54/54 [==============================] - 272s 5s/step - loss: 0.3632 - accuracy: 0.8309 - val_loss: 0.3742 - val_accuracy: 0.8203\n",
            "Epoch 3/50\n",
            "54/54 [==============================] - 272s 5s/step - loss: 0.3108 - accuracy: 0.8506 - val_loss: 0.3188 - val_accuracy: 0.8383\n",
            "Epoch 4/50\n",
            "54/54 [==============================] - 272s 5s/step - loss: 0.2839 - accuracy: 0.8660 - val_loss: 0.3132 - val_accuracy: 0.8434\n",
            "Epoch 5/50\n",
            "54/54 [==============================] - 272s 5s/step - loss: 0.2616 - accuracy: 0.8744 - val_loss: 0.3027 - val_accuracy: 0.8548\n",
            "Epoch 6/50\n",
            "54/54 [==============================] - 272s 5s/step - loss: 0.2457 - accuracy: 0.8831 - val_loss: 0.3148 - val_accuracy: 0.8497\n",
            "Epoch 7/50\n",
            "54/54 [==============================] - 271s 5s/step - loss: 0.2291 - accuracy: 0.8892 - val_loss: 0.3132 - val_accuracy: 0.8495\n",
            "Epoch 8/50\n",
            "54/54 [==============================] - 272s 5s/step - loss: 0.2097 - accuracy: 0.9004 - val_loss: 0.3137 - val_accuracy: 0.8445\n",
            "Epoch 9/50\n",
            "54/54 [==============================] - 272s 5s/step - loss: 0.1991 - accuracy: 0.9084 - val_loss: 0.3280 - val_accuracy: 0.8592\n",
            "Epoch 10/50\n",
            "54/54 [==============================] - 271s 5s/step - loss: 0.1779 - accuracy: 0.9194 - val_loss: 0.3385 - val_accuracy: 0.8561\n",
            "Epoch 11/50\n",
            "54/54 [==============================] - 272s 5s/step - loss: 0.1605 - accuracy: 0.9293 - val_loss: 0.3309 - val_accuracy: 0.8581\n",
            "Epoch 12/50\n",
            "54/54 [==============================] - 271s 5s/step - loss: 0.1450 - accuracy: 0.9361 - val_loss: 0.3438 - val_accuracy: 0.8606\n",
            "Epoch 13/50\n",
            "54/54 [==============================] - 270s 5s/step - loss: 0.1401 - accuracy: 0.9381 - val_loss: 0.3752 - val_accuracy: 0.8545\n",
            "Epoch 14/50\n",
            "54/54 [==============================] - 271s 5s/step - loss: 0.1230 - accuracy: 0.9479 - val_loss: 0.4171 - val_accuracy: 0.8651\n",
            "Epoch 15/50\n",
            "54/54 [==============================] - 271s 5s/step - loss: 0.1148 - accuracy: 0.9509 - val_loss: 0.4594 - val_accuracy: 0.8684\n",
            "Epoch 16/50\n",
            "54/54 [==============================] - 271s 5s/step - loss: 0.1030 - accuracy: 0.9563 - val_loss: 0.3979 - val_accuracy: 0.8628\n",
            "Epoch 17/50\n",
            "54/54 [==============================] - 273s 5s/step - loss: 0.0959 - accuracy: 0.9619 - val_loss: 0.4426 - val_accuracy: 0.8631\n",
            "Epoch 18/50\n",
            "54/54 [==============================] - 274s 5s/step - loss: 0.0900 - accuracy: 0.9633 - val_loss: 0.4670 - val_accuracy: 0.8609\n",
            "Epoch 19/50\n",
            "54/54 [==============================] - 273s 5s/step - loss: 0.0880 - accuracy: 0.9640 - val_loss: 0.4756 - val_accuracy: 0.8656\n",
            "Epoch 20/50\n",
            "54/54 [==============================] - 272s 5s/step - loss: 0.0806 - accuracy: 0.9674 - val_loss: 0.4628 - val_accuracy: 0.8595\n"
          ]
        }
      ]
    },
    {
      "cell_type": "code",
      "source": [
        "from sklearn.metrics import classification_report\n",
        "\n",
        "y_pred = stacked_gru_lstm.predict(X_test, batch_size=64, verbose=1)\n",
        "y_pred_bool = np.argmax(y_pred, axis=1)\n",
        "\n",
        "print(classification_report(Y_test_new, y_pred_bool))"
      ],
      "metadata": {
        "colab": {
          "base_uri": "https://localhost:8080/"
        },
        "id": "wqJT337aT0uO",
        "outputId": "9ac51988-4987-4028-a9ef-2c5e581949e4"
      },
      "execution_count": null,
      "outputs": [
        {
          "output_type": "stream",
          "name": "stdout",
          "text": [
            "57/57 [==============================] - 37s 581ms/step\n",
            "              precision    recall  f1-score   support\n",
            "\n",
            "           0       0.83      0.95      0.88      2114\n",
            "           1       0.91      0.72      0.80      1480\n",
            "\n",
            "    accuracy                           0.85      3594\n",
            "   macro avg       0.87      0.83      0.84      3594\n",
            "weighted avg       0.86      0.85      0.85      3594\n",
            "\n"
          ]
        }
      ]
    },
    {
      "cell_type": "markdown",
      "source": [
        "**Deep Bidirectional LSTM with glove on unseen data**"
      ],
      "metadata": {
        "id": "bW_csYVktWtD"
      }
    },
    {
      "cell_type": "code",
      "source": [
        "from sklearn.metrics import classification_report\n",
        "\n",
        "y_pred_unseen = stacked_gru_lstm.predict(X, batch_size=10, verbose=1)\n",
        "y_pred_bool_unseen = np.argmax(y_pred_unseen, axis=1)\n",
        "\n",
        "print(classification_report(Y_test_new_unseen, y_pred_bool_unseen))"
      ],
      "metadata": {
        "colab": {
          "base_uri": "https://localhost:8080/"
        },
        "id": "JUCY4s3vT0zQ",
        "outputId": "b7f64a1a-6b14-46ac-cd81-b6936ea45b71"
      },
      "execution_count": null,
      "outputs": [
        {
          "output_type": "stream",
          "name": "stdout",
          "text": [
            "226/226 [==============================] - 37s 164ms/step\n",
            "              precision    recall  f1-score   support\n",
            "\n",
            "           0       0.80      0.96      0.87      1200\n",
            "           1       0.94      0.72      0.81      1055\n",
            "\n",
            "    accuracy                           0.85      2255\n",
            "   macro avg       0.87      0.84      0.84      2255\n",
            "weighted avg       0.86      0.85      0.84      2255\n",
            "\n"
          ]
        }
      ]
    },
    {
      "cell_type": "markdown",
      "source": [
        "**Deep Bidirectional LSTM with fast text**"
      ],
      "metadata": {
        "id": "lOTGyYvEtv7C"
      }
    },
    {
      "cell_type": "code",
      "source": [
        "import tensorflow as tf\n",
        "from tensorflow import keras\n",
        "from keras.layers import Dense, Embedding, LSTM, SpatialDropout1D, Bidirectional, Dropout, GRU\n",
        "embedd_dim = 300\n",
        "stacked_gru_lstm_fast = 128\n",
        "stacked_gru_lstm_fast = keras.Sequential()\n",
        "stacked_gru_lstm_fast.add(Embedding(vocab_size, embedd_dim, weights = [embedding_matrix] , trainable = False))\n",
        "stacked_gru_lstm_fast.add(Bidirectional(GRU(256, dropout=0.2, return_sequences = True)))\n",
        "stacked_gru_lstm_fast.add(Bidirectional(GRU(128, dropout=0.2, return_sequences = True)))\n",
        "stacked_gru_lstm_fast.add(Bidirectional(LSTM(64, dropout=0.2, return_sequences = True)))\n",
        "stacked_gru_lstm_fast.add(Bidirectional(GRU(32, dropout=0.2)))\n",
        "stacked_gru_lstm_fast.add(Dense(128, activation = 'relu'))\n",
        "stacked_gru_lstm_fast.add(Dropout(0.2))\n",
        "stacked_gru_lstm_fast.add(Dense(64, activation = 'relu'))\n",
        "stacked_gru_lstm_fast.add(Dropout(0.2))\n",
        "stacked_gru_lstm_fast.add(Dense(2, activation = 'softmax'))  #if used pd.get dummies above\n",
        "stacked_gru_lstm_fast.summary()"
      ],
      "metadata": {
        "colab": {
          "base_uri": "https://localhost:8080/"
        },
        "id": "DmFBU9VPt0-x",
        "outputId": "4165b70e-b4c4-4dee-a1aa-9f45b481c5a7"
      },
      "execution_count": null,
      "outputs": [
        {
          "output_type": "stream",
          "name": "stdout",
          "text": [
            "Model: \"sequential\"\n",
            "_________________________________________________________________\n",
            " Layer (type)                Output Shape              Param #   \n",
            "=================================================================\n",
            " embedding (Embedding)       (None, None, 300)         27755100  \n",
            "                                                                 \n",
            " bidirectional (Bidirectiona  (None, None, 512)        857088    \n",
            " l)                                                              \n",
            "                                                                 \n",
            " bidirectional_1 (Bidirectio  (None, None, 256)        493056    \n",
            " nal)                                                            \n",
            "                                                                 \n",
            " bidirectional_2 (Bidirectio  (None, None, 128)        164352    \n",
            " nal)                                                            \n",
            "                                                                 \n",
            " bidirectional_3 (Bidirectio  (None, 64)               31104     \n",
            " nal)                                                            \n",
            "                                                                 \n",
            " dense (Dense)               (None, 128)               8320      \n",
            "                                                                 \n",
            " dropout (Dropout)           (None, 128)               0         \n",
            "                                                                 \n",
            " dense_1 (Dense)             (None, 64)                8256      \n",
            "                                                                 \n",
            " dropout_1 (Dropout)         (None, 64)                0         \n",
            "                                                                 \n",
            " dense_2 (Dense)             (None, 2)                 130       \n",
            "                                                                 \n",
            "=================================================================\n",
            "Total params: 29,317,406\n",
            "Trainable params: 1,562,306\n",
            "Non-trainable params: 27,755,100\n",
            "_________________________________________________________________\n"
          ]
        }
      ]
    },
    {
      "cell_type": "code",
      "source": [
        "early_stopping_monitor = tf.keras.callbacks.EarlyStopping(\n",
        "    monitor='val_loss',\n",
        "    min_delta=0,\n",
        "    patience=15,\n",
        "    verbose=0,\n",
        "    mode='auto',\n",
        "    baseline=None,\n",
        "    restore_best_weights=True\n",
        ")\n",
        "batch_size = 200\n",
        "stacked_gru_lstm_fast.compile(loss = 'binary_crossentropy', optimizer='adam',metrics = ['accuracy'])\n",
        "history = stacked_gru_lstm_fast.fit(X_train, Y_train, epochs = 30, batch_size=batch_size, verbose = 1, callbacks=[early_stopping_monitor], validation_data =(X_test, Y_test))"
      ],
      "metadata": {
        "colab": {
          "base_uri": "https://localhost:8080/"
        },
        "id": "bHoPbncTt1CI",
        "outputId": "12152773-5bce-4963-8237-89a0b15bd50a"
      },
      "execution_count": null,
      "outputs": [
        {
          "output_type": "stream",
          "name": "stdout",
          "text": [
            "Epoch 1/30\n",
            "54/54 [==============================] - 294s 5s/step - loss: 0.5777 - accuracy: 0.6912 - val_loss: 0.4840 - val_accuracy: 0.7821\n",
            "Epoch 2/30\n",
            "54/54 [==============================] - 271s 5s/step - loss: 0.4574 - accuracy: 0.7922 - val_loss: 0.4024 - val_accuracy: 0.8125\n",
            "Epoch 3/30\n",
            "54/54 [==============================] - 270s 5s/step - loss: 0.3769 - accuracy: 0.8267 - val_loss: 0.3478 - val_accuracy: 0.8403\n",
            "Epoch 4/30\n",
            "54/54 [==============================] - 269s 5s/step - loss: 0.3261 - accuracy: 0.8424 - val_loss: 0.3109 - val_accuracy: 0.8581\n",
            "Epoch 5/30\n",
            "54/54 [==============================] - 265s 5s/step - loss: 0.2868 - accuracy: 0.8625 - val_loss: 0.3193 - val_accuracy: 0.8328\n",
            "Epoch 6/30\n",
            "54/54 [==============================] - 268s 5s/step - loss: 0.2670 - accuracy: 0.8717 - val_loss: 0.2781 - val_accuracy: 0.8701\n",
            "Epoch 7/30\n",
            "54/54 [==============================] - 267s 5s/step - loss: 0.2466 - accuracy: 0.8827 - val_loss: 0.2687 - val_accuracy: 0.8715\n",
            "Epoch 8/30\n",
            "54/54 [==============================] - 267s 5s/step - loss: 0.2353 - accuracy: 0.8886 - val_loss: 0.2692 - val_accuracy: 0.8748\n",
            "Epoch 9/30\n",
            "54/54 [==============================] - 265s 5s/step - loss: 0.2162 - accuracy: 0.8996 - val_loss: 0.2536 - val_accuracy: 0.8792\n",
            "Epoch 10/30\n",
            "54/54 [==============================] - 267s 5s/step - loss: 0.2026 - accuracy: 0.9038 - val_loss: 0.2588 - val_accuracy: 0.8826\n",
            "Epoch 11/30\n",
            "54/54 [==============================] - 267s 5s/step - loss: 0.2046 - accuracy: 0.9035 - val_loss: 0.2608 - val_accuracy: 0.8753\n",
            "Epoch 12/30\n",
            "54/54 [==============================] - 267s 5s/step - loss: 0.1944 - accuracy: 0.9096 - val_loss: 0.2567 - val_accuracy: 0.8681\n",
            "Epoch 13/30\n",
            "54/54 [==============================] - 265s 5s/step - loss: 0.1837 - accuracy: 0.9160 - val_loss: 0.2486 - val_accuracy: 0.8851\n",
            "Epoch 14/30\n",
            "54/54 [==============================] - 267s 5s/step - loss: 0.1785 - accuracy: 0.9156 - val_loss: 0.2626 - val_accuracy: 0.8809\n",
            "Epoch 15/30\n",
            "54/54 [==============================] - 266s 5s/step - loss: 0.1665 - accuracy: 0.9231 - val_loss: 0.2640 - val_accuracy: 0.8806\n",
            "Epoch 16/30\n",
            "54/54 [==============================] - 264s 5s/step - loss: 0.1620 - accuracy: 0.9251 - val_loss: 0.2544 - val_accuracy: 0.8890\n",
            "Epoch 17/30\n",
            "54/54 [==============================] - 265s 5s/step - loss: 0.1528 - accuracy: 0.9304 - val_loss: 0.2729 - val_accuracy: 0.8762\n",
            "Epoch 18/30\n",
            "54/54 [==============================] - 265s 5s/step - loss: 0.1526 - accuracy: 0.9322 - val_loss: 0.2641 - val_accuracy: 0.8856\n",
            "Epoch 19/30\n",
            "54/54 [==============================] - 265s 5s/step - loss: 0.1438 - accuracy: 0.9346 - val_loss: 0.2653 - val_accuracy: 0.8881\n",
            "Epoch 20/30\n",
            "54/54 [==============================] - 263s 5s/step - loss: 0.1508 - accuracy: 0.9302 - val_loss: 0.2560 - val_accuracy: 0.8890\n",
            "Epoch 21/30\n",
            "54/54 [==============================] - 261s 5s/step - loss: 0.1382 - accuracy: 0.9386 - val_loss: 0.2929 - val_accuracy: 0.8826\n",
            "Epoch 22/30\n",
            "54/54 [==============================] - 262s 5s/step - loss: 0.1335 - accuracy: 0.9403 - val_loss: 0.3099 - val_accuracy: 0.8862\n",
            "Epoch 23/30\n",
            "54/54 [==============================] - 259s 5s/step - loss: 0.1296 - accuracy: 0.9438 - val_loss: 0.2753 - val_accuracy: 0.8904\n",
            "Epoch 24/30\n",
            "54/54 [==============================] - 261s 5s/step - loss: 0.1187 - accuracy: 0.9479 - val_loss: 0.3060 - val_accuracy: 0.8848\n",
            "Epoch 25/30\n",
            "54/54 [==============================] - 259s 5s/step - loss: 0.1166 - accuracy: 0.9480 - val_loss: 0.2945 - val_accuracy: 0.8904\n",
            "Epoch 26/30\n",
            "54/54 [==============================] - 261s 5s/step - loss: 0.1133 - accuracy: 0.9490 - val_loss: 0.2977 - val_accuracy: 0.8840\n",
            "Epoch 27/30\n",
            "54/54 [==============================] - 261s 5s/step - loss: 0.1029 - accuracy: 0.9534 - val_loss: 0.2959 - val_accuracy: 0.8909\n",
            "Epoch 28/30\n",
            "54/54 [==============================] - 261s 5s/step - loss: 0.1104 - accuracy: 0.9508 - val_loss: 0.2934 - val_accuracy: 0.8873\n"
          ]
        }
      ]
    },
    {
      "cell_type": "code",
      "source": [
        "stacked_gru_lstm_fast.save('/content/gdrive/MyDrive/Colab Notebooks/')"
      ],
      "metadata": {
        "colab": {
          "base_uri": "https://localhost:8080/"
        },
        "id": "Ilo8DjZmc8kG",
        "outputId": "9bd6f7d8-47d0-45d0-ee6c-967ca6f5efa4"
      },
      "execution_count": null,
      "outputs": [
        {
          "output_type": "stream",
          "name": "stderr",
          "text": [
            "WARNING:absl:Found untraced functions such as gru_cell_1_layer_call_fn, gru_cell_1_layer_call_and_return_conditional_losses, gru_cell_2_layer_call_fn, gru_cell_2_layer_call_and_return_conditional_losses, gru_cell_4_layer_call_fn while saving (showing 5 of 16). These functions will not be directly callable after loading.\n"
          ]
        }
      ]
    },
    {
      "cell_type": "code",
      "source": [
        "from sklearn.metrics import classification_report\n",
        "\n",
        "y_pred = stacked_gru_lstm_fast.predict(X_test, batch_size=64, verbose=1)\n",
        "y_pred_bool = np.argmax(y_pred, axis=1)\n",
        "\n",
        "print(classification_report(Y_test_new, y_pred_bool))"
      ],
      "metadata": {
        "id": "diBQa04tt1II",
        "colab": {
          "base_uri": "https://localhost:8080/"
        },
        "outputId": "17d69469-d5c6-49d4-c061-40c26fec4d3f"
      },
      "execution_count": null,
      "outputs": [
        {
          "output_type": "stream",
          "name": "stdout",
          "text": [
            "57/57 [==============================] - 33s 573ms/step\n",
            "              precision    recall  f1-score   support\n",
            "\n",
            "           0       0.86      0.96      0.91      2114\n",
            "           1       0.93      0.78      0.85      1480\n",
            "\n",
            "    accuracy                           0.89      3594\n",
            "   macro avg       0.90      0.87      0.88      3594\n",
            "weighted avg       0.89      0.89      0.88      3594\n",
            "\n"
          ]
        }
      ]
    },
    {
      "cell_type": "markdown",
      "source": [
        "**Deep bidirectional LSTM on unseen data with fast text**"
      ],
      "metadata": {
        "id": "1saxRh-txTP_"
      }
    },
    {
      "cell_type": "code",
      "source": [
        "from sklearn.metrics import classification_report\n",
        "\n",
        "y_pred_unseen = stacked_gru_lstm_fast.predict(X, batch_size=10, verbose=1)\n",
        "y_pred_bool_unseen = np.argmax(y_pred_unseen, axis=1)\n",
        "\n",
        "print(classification_report(Y_test_new_unseen, y_pred_bool_unseen))"
      ],
      "metadata": {
        "id": "Sjv08cYRt1LO",
        "colab": {
          "base_uri": "https://localhost:8080/"
        },
        "outputId": "55c4530d-d9c6-4752-db81-eda2ab8db48f"
      },
      "execution_count": null,
      "outputs": [
        {
          "output_type": "stream",
          "name": "stdout",
          "text": [
            "226/226 [==============================] - 36s 160ms/step\n",
            "              precision    recall  f1-score   support\n",
            "\n",
            "           0       0.83      0.96      0.89      1200\n",
            "           1       0.94      0.78      0.85      1055\n",
            "\n",
            "    accuracy                           0.88      2255\n",
            "   macro avg       0.89      0.87      0.87      2255\n",
            "weighted avg       0.88      0.88      0.87      2255\n",
            "\n"
          ]
        }
      ]
    }
  ],
  "metadata": {
    "colab": {
      "provenance": []
    },
    "kernelspec": {
      "display_name": "Python 3",
      "name": "python3"
    },
    "language_info": {
      "name": "python"
    }
  },
  "nbformat": 4,
  "nbformat_minor": 0
}